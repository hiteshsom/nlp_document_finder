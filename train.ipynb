{
 "cells": [
  {
   "cell_type": "markdown",
   "metadata": {},
   "source": [
    "# NLP Document Locator"
   ]
  },
  {
   "cell_type": "markdown",
   "metadata": {},
   "source": [
    "## Import statements"
   ]
  },
  {
   "cell_type": "code",
   "execution_count": 1,
   "metadata": {},
   "outputs": [
    {
     "name": "stderr",
     "output_type": "stream",
     "text": [
      "[nltk_data] Downloading package punkt to C:\\Users\\Hitesh\n",
      "[nltk_data]     Somani\\AppData\\Roaming\\nltk_data...\n",
      "[nltk_data]   Package punkt is already up-to-date!\n",
      "[nltk_data] Downloading package stopwords to C:\\Users\\Hitesh\n",
      "[nltk_data]     Somani\\AppData\\Roaming\\nltk_data...\n",
      "[nltk_data]   Package stopwords is already up-to-date!\n"
     ]
    }
   ],
   "source": [
    "import os\n",
    "import nltk\n",
    "nltk.download('punkt')\n",
    "nltk.download('stopwords')\n",
    "from nltk.stem.snowball import SnowballStemmer\n",
    "stemmer = SnowballStemmer(\"english\")\n",
    "\n",
    "import pandas as pd\n",
    "import numpy as np\n",
    "import random\n",
    "from datetime import datetime"
   ]
  },
  {
   "cell_type": "markdown",
   "metadata": {},
   "source": [
    "## Load data"
   ]
  },
  {
   "cell_type": "code",
   "execution_count": 2,
   "metadata": {},
   "outputs": [],
   "source": [
    "import json\n",
    "with open(os.path.join(os.getcwd(), 'data', 'train2.json')) as file:\n",
    "    data = json.load(file)"
   ]
  },
  {
   "cell_type": "markdown",
   "metadata": {},
   "source": [
    "## Preprocessing"
   ]
  },
  {
   "cell_type": "code",
   "execution_count": 3,
   "metadata": {},
   "outputs": [],
   "source": [
    "# words = []\n",
    "# labels = []\n",
    "# docs_x = []\n",
    "# docs_y = []\n",
    "\n",
    "# # ------------------- TOKENIZE ----------------- #\n",
    "# for intent in data['intents']:\n",
    "#     for pattern in intent['patterns']:\n",
    "#         wrds = nltk.word_tokenize(pattern)\n",
    "#         words.extend(wrds)\n",
    "#         docs_x.append(wrds)\n",
    "#         docs_y.append(intent[\"tag\"])\n",
    "        \n",
    "#     if intent['tag'] not in labels:\n",
    "#         labels.append(intent['tag'])\n",
    "       "
   ]
  },
  {
   "cell_type": "code",
   "execution_count": 4,
   "metadata": {},
   "outputs": [],
   "source": [
    "# # --------------------STOP WORD REMOVAL ----------#\n",
    "# from nltk.corpus import stopwords\n",
    "# stop_words = list(set(stopwords.words('english'))) \n",
    "\n",
    "# for word in words:\n",
    "#     if word in stop_words:\n",
    "#         words.remove(word)\n",
    "\n",
    "# for wrd in docs_x:\n",
    "#     for word in wrd:\n",
    "#         if word in stop_words:\n",
    "#             wrd.remove(word)"
   ]
  },
  {
   "cell_type": "code",
   "execution_count": 5,
   "metadata": {},
   "outputs": [],
   "source": [
    "# # ------------------ REMOVE PUNCTUATION ----------- #\n",
    "# import string\n",
    "# for word in words:\n",
    "#     word = word.translate(str.maketrans('', '', string.punctuation))\n",
    "#     word = word.strip()\n",
    "\n",
    "\n",
    "# for wrd in docs_x:\n",
    "#     for word in wrd:\n",
    "#         word = word.translate(str.maketrans('', '', string.punctuation))\n",
    "#         word = word.strip()"
   ]
  },
  {
   "cell_type": "code",
   "execution_count": 6,
   "metadata": {},
   "outputs": [],
   "source": [
    "# # ---------------- STEMMING ------------------ #\n",
    "# words = [stemmer.stem(w.lower()) for w in words if w != \"?\"]\n",
    "# words = sorted(list(set(words)))\n",
    "\n",
    "# labels = sorted(labels)"
   ]
  },
  {
   "cell_type": "code",
   "execution_count": 7,
   "metadata": {},
   "outputs": [],
   "source": [
    "rows = []\n",
    "labels = []\n",
    "for intent in data['intents']:\n",
    "    rows.extend(intent['train_data'])\n",
    "    label = []\n",
    "    label.append(intent['label'])\n",
    "    labels.extend(label*len(intent['train_data']))"
   ]
  },
  {
   "cell_type": "markdown",
   "metadata": {},
   "source": [
    "### Date Recognition"
   ]
  },
  {
   "cell_type": "code",
   "execution_count": 8,
   "metadata": {},
   "outputs": [],
   "source": [
    "from datetime import datetime\n",
    "\n",
    "def decode_date(tokens):\n",
    "\n",
    "    months_fullform = ['january', 'february', 'march', 'april', 'may', 'june', 'july', 'august', 'september', 'october', 'november', 'decemeber']\n",
    "    months_shortform = ['jan', 'feb', 'mar', 'apr', 'may', 'jun', 'jul', 'aug', 'sep', 'oct', 'nov', 'dec']\n",
    "    month = 0\n",
    "    for token in tokens:\n",
    "        try:\n",
    "            int(token)\n",
    "        except:\n",
    "            if token.lower() in months_fullform:\n",
    "                month = months_fullform.index(token.lower()) + 1\n",
    "            elif token.lower() in months_shortform:\n",
    "                month = months_shortform.index(token.lower()) + 1\n",
    "            tokens.remove(token)\n",
    "        \n",
    "    if len(tokens) > 2:\n",
    "        if month:\n",
    "            day = int(tokens[0])\n",
    "            year = int(tokens[2])\n",
    "        else:\n",
    "            day = int(tokens[0])\n",
    "            month = int(tokens[1])\n",
    "            year = int(tokens[2])\n",
    "    elif len(tokens) > 1:\n",
    "        if month:\n",
    "            day = int(tokens[0])\n",
    "            year = 2020\n",
    "        else:\n",
    "            day = int(tokens[0])\n",
    "            month = int(tokens[1])\n",
    "            year = 2020\n",
    "    elif len(tokens)==1:\n",
    "        day = int(tokens[0])\n",
    "        year = 2020\n",
    "    return (day, month, year)"
   ]
  },
  {
   "cell_type": "code",
   "execution_count": 9,
   "metadata": {},
   "outputs": [],
   "source": [
    "# !python3 -m spacy download en_core_web_lg\n",
    "import spacy\n",
    "sp_lg = spacy.load('en_core_web_lg')\n",
    "import nltk\n",
    "import re\n",
    "\n",
    "query_date = {}\n",
    "for idx, row in enumerate(rows):\n",
    "    date_occurences = [(ent.text.strip(), ent.label_) for ent in sp_lg(row).ents if ent.label_ == 'DATE']\n",
    "    query_date[row] = []\n",
    "    \n",
    "    for date in date_occurences:\n",
    "        try:\n",
    "            date_token = re.split('\\s+|/|-|:',date[0])\n",
    "            day, month, year = decode_date(date_token)\n",
    "            query_date[row].append((f'{year}-{month}-{day}'))\n",
    "            row = row.replace(date[0], \"\", 1)\n",
    "            rows[idx] = row\n",
    "        except:\n",
    "            pass"
   ]
  },
  {
   "cell_type": "markdown",
   "metadata": {},
   "source": [
    "### Universal Sentence Encoder"
   ]
  },
  {
   "cell_type": "code",
   "execution_count": 10,
   "metadata": {},
   "outputs": [],
   "source": [
    "import tensorflow_hub as hub\n",
    "embed = hub.load(\"https://tfhub.dev/google/universal-sentence-encoder/4\")"
   ]
  },
  {
   "cell_type": "code",
   "execution_count": 11,
   "metadata": {},
   "outputs": [],
   "source": [
    "embedding = embed(rows)\n",
    "\n",
    "X = pd.DataFrame(data=embedding.numpy())\n",
    "X['label'] = labels"
   ]
  },
  {
   "cell_type": "code",
   "execution_count": 12,
   "metadata": {},
   "outputs": [
    {
     "data": {
      "text/html": [
       "<div>\n",
       "<style scoped>\n",
       "    .dataframe tbody tr th:only-of-type {\n",
       "        vertical-align: middle;\n",
       "    }\n",
       "\n",
       "    .dataframe tbody tr th {\n",
       "        vertical-align: top;\n",
       "    }\n",
       "\n",
       "    .dataframe thead th {\n",
       "        text-align: right;\n",
       "    }\n",
       "</style>\n",
       "<table border=\"1\" class=\"dataframe\">\n",
       "  <thead>\n",
       "    <tr style=\"text-align: right;\">\n",
       "      <th></th>\n",
       "      <th>0</th>\n",
       "      <th>1</th>\n",
       "      <th>2</th>\n",
       "      <th>3</th>\n",
       "      <th>4</th>\n",
       "      <th>5</th>\n",
       "      <th>6</th>\n",
       "      <th>7</th>\n",
       "      <th>8</th>\n",
       "      <th>9</th>\n",
       "      <th>...</th>\n",
       "      <th>503</th>\n",
       "      <th>504</th>\n",
       "      <th>505</th>\n",
       "      <th>506</th>\n",
       "      <th>507</th>\n",
       "      <th>508</th>\n",
       "      <th>509</th>\n",
       "      <th>510</th>\n",
       "      <th>511</th>\n",
       "      <th>label</th>\n",
       "    </tr>\n",
       "  </thead>\n",
       "  <tbody>\n",
       "    <tr>\n",
       "      <th>0</th>\n",
       "      <td>-0.004851</td>\n",
       "      <td>-0.041964</td>\n",
       "      <td>-0.051808</td>\n",
       "      <td>0.019784</td>\n",
       "      <td>0.021853</td>\n",
       "      <td>0.021047</td>\n",
       "      <td>0.043125</td>\n",
       "      <td>-0.001204</td>\n",
       "      <td>0.022696</td>\n",
       "      <td>-0.077722</td>\n",
       "      <td>...</td>\n",
       "      <td>0.039908</td>\n",
       "      <td>0.052083</td>\n",
       "      <td>0.001058</td>\n",
       "      <td>0.065795</td>\n",
       "      <td>0.020701</td>\n",
       "      <td>-0.016375</td>\n",
       "      <td>-0.004406</td>\n",
       "      <td>-0.080554</td>\n",
       "      <td>-0.008480</td>\n",
       "      <td>marketing_google-home</td>\n",
       "    </tr>\n",
       "    <tr>\n",
       "      <th>1</th>\n",
       "      <td>0.010735</td>\n",
       "      <td>0.001598</td>\n",
       "      <td>-0.069327</td>\n",
       "      <td>0.045384</td>\n",
       "      <td>0.010653</td>\n",
       "      <td>0.049769</td>\n",
       "      <td>0.043490</td>\n",
       "      <td>0.014172</td>\n",
       "      <td>0.046780</td>\n",
       "      <td>-0.072827</td>\n",
       "      <td>...</td>\n",
       "      <td>-0.025100</td>\n",
       "      <td>0.028380</td>\n",
       "      <td>-0.019510</td>\n",
       "      <td>0.065093</td>\n",
       "      <td>0.041348</td>\n",
       "      <td>-0.048325</td>\n",
       "      <td>0.043596</td>\n",
       "      <td>-0.082165</td>\n",
       "      <td>0.022102</td>\n",
       "      <td>marketing_google-home</td>\n",
       "    </tr>\n",
       "    <tr>\n",
       "      <th>2</th>\n",
       "      <td>0.008150</td>\n",
       "      <td>-0.025516</td>\n",
       "      <td>-0.051825</td>\n",
       "      <td>0.018839</td>\n",
       "      <td>-0.011497</td>\n",
       "      <td>0.000663</td>\n",
       "      <td>0.038303</td>\n",
       "      <td>0.017663</td>\n",
       "      <td>0.018018</td>\n",
       "      <td>-0.060026</td>\n",
       "      <td>...</td>\n",
       "      <td>0.040483</td>\n",
       "      <td>0.025089</td>\n",
       "      <td>-0.002037</td>\n",
       "      <td>0.066990</td>\n",
       "      <td>0.038984</td>\n",
       "      <td>-0.020493</td>\n",
       "      <td>0.034859</td>\n",
       "      <td>-0.082567</td>\n",
       "      <td>-0.016747</td>\n",
       "      <td>marketing_google-home</td>\n",
       "    </tr>\n",
       "    <tr>\n",
       "      <th>3</th>\n",
       "      <td>-0.002875</td>\n",
       "      <td>0.017606</td>\n",
       "      <td>-0.065296</td>\n",
       "      <td>0.043215</td>\n",
       "      <td>-0.054827</td>\n",
       "      <td>0.022873</td>\n",
       "      <td>-0.023303</td>\n",
       "      <td>0.021275</td>\n",
       "      <td>0.003382</td>\n",
       "      <td>-0.069676</td>\n",
       "      <td>...</td>\n",
       "      <td>-0.022157</td>\n",
       "      <td>0.063531</td>\n",
       "      <td>0.023405</td>\n",
       "      <td>0.070117</td>\n",
       "      <td>0.007039</td>\n",
       "      <td>-0.045061</td>\n",
       "      <td>0.043073</td>\n",
       "      <td>-0.077875</td>\n",
       "      <td>0.045327</td>\n",
       "      <td>marketing_google-home</td>\n",
       "    </tr>\n",
       "    <tr>\n",
       "      <th>4</th>\n",
       "      <td>0.001530</td>\n",
       "      <td>-0.010831</td>\n",
       "      <td>-0.072277</td>\n",
       "      <td>0.053805</td>\n",
       "      <td>-0.000521</td>\n",
       "      <td>0.038126</td>\n",
       "      <td>0.050321</td>\n",
       "      <td>0.012032</td>\n",
       "      <td>0.036074</td>\n",
       "      <td>-0.065149</td>\n",
       "      <td>...</td>\n",
       "      <td>0.040641</td>\n",
       "      <td>0.056175</td>\n",
       "      <td>-0.001573</td>\n",
       "      <td>0.071447</td>\n",
       "      <td>0.020559</td>\n",
       "      <td>-0.032644</td>\n",
       "      <td>0.016579</td>\n",
       "      <td>-0.086796</td>\n",
       "      <td>0.013866</td>\n",
       "      <td>marketing_google-home</td>\n",
       "    </tr>\n",
       "  </tbody>\n",
       "</table>\n",
       "<p>5 rows × 513 columns</p>\n",
       "</div>"
      ],
      "text/plain": [
       "          0         1         2         3         4         5         6  \\\n",
       "0 -0.004851 -0.041964 -0.051808  0.019784  0.021853  0.021047  0.043125   \n",
       "1  0.010735  0.001598 -0.069327  0.045384  0.010653  0.049769  0.043490   \n",
       "2  0.008150 -0.025516 -0.051825  0.018839 -0.011497  0.000663  0.038303   \n",
       "3 -0.002875  0.017606 -0.065296  0.043215 -0.054827  0.022873 -0.023303   \n",
       "4  0.001530 -0.010831 -0.072277  0.053805 -0.000521  0.038126  0.050321   \n",
       "\n",
       "          7         8         9  ...       503       504       505       506  \\\n",
       "0 -0.001204  0.022696 -0.077722  ...  0.039908  0.052083  0.001058  0.065795   \n",
       "1  0.014172  0.046780 -0.072827  ... -0.025100  0.028380 -0.019510  0.065093   \n",
       "2  0.017663  0.018018 -0.060026  ...  0.040483  0.025089 -0.002037  0.066990   \n",
       "3  0.021275  0.003382 -0.069676  ... -0.022157  0.063531  0.023405  0.070117   \n",
       "4  0.012032  0.036074 -0.065149  ...  0.040641  0.056175 -0.001573  0.071447   \n",
       "\n",
       "        507       508       509       510       511                  label  \n",
       "0  0.020701 -0.016375 -0.004406 -0.080554 -0.008480  marketing_google-home  \n",
       "1  0.041348 -0.048325  0.043596 -0.082165  0.022102  marketing_google-home  \n",
       "2  0.038984 -0.020493  0.034859 -0.082567 -0.016747  marketing_google-home  \n",
       "3  0.007039 -0.045061  0.043073 -0.077875  0.045327  marketing_google-home  \n",
       "4  0.020559 -0.032644  0.016579 -0.086796  0.013866  marketing_google-home  \n",
       "\n",
       "[5 rows x 513 columns]"
      ]
     },
     "execution_count": 12,
     "metadata": {},
     "output_type": "execute_result"
    }
   ],
   "source": [
    "X.head()"
   ]
  },
  {
   "cell_type": "code",
   "execution_count": 13,
   "metadata": {},
   "outputs": [],
   "source": [
    "import seaborn as sns\n",
    "import matplotlib.pyplot as plt\n",
    "\n",
    "def plot_similarity(labels, features, rotation):\n",
    "    corr = np.inner(features, features)\n",
    "    sns.set(font_scale=1)\n",
    "    fig, ax = plt.subplots(figsize=(18, 18))\n",
    "    g = sns.heatmap(\n",
    "      corr,\n",
    "      xticklabels=labels,\n",
    "      yticklabels=labels,\n",
    "      vmin=0,\n",
    "      vmax=1,\n",
    "      cmap=\"YlOrRd\", \n",
    "      ax=ax)\n",
    "    g.set_xticklabels(labels, rotation=rotation)\n",
    "    g.set_title(\"Semantic Textual Similarity\")\n",
    "\n",
    "def run_and_plot(messages_):\n",
    "    message_embeddings_ = embed(messages_)\n",
    "    plot_similarity(messages_, message_embeddings_, 90)\n",
    "\n",
    "\n",
    "messages = rows\n",
    "\n",
    "# run_and_plot(messages)\n",
    "               "
   ]
  },
  {
   "cell_type": "markdown",
   "metadata": {},
   "source": [
    "### t-SNE"
   ]
  },
  {
   "cell_type": "code",
   "execution_count": 14,
   "metadata": {},
   "outputs": [
    {
     "name": "stdout",
     "output_type": "stream",
     "text": [
      "[t-SNE] Computing 31 nearest neighbors...\n",
      "[t-SNE] Indexed 210 samples in 0.021s...\n",
      "[t-SNE] Computed neighbors for 210 samples in 0.085s...\n",
      "[t-SNE] Computed conditional probabilities for sample 210 / 210\n",
      "[t-SNE] Mean sigma: 0.317312\n",
      "[t-SNE] KL divergence after 250 iterations with early exaggeration: 59.849529\n",
      "[t-SNE] KL divergence after 300 iterations: 0.512018\n",
      "t-SNE done! Time elapsed: 0.5449728965759277 seconds\n"
     ]
    }
   ],
   "source": [
    "from sklearn.manifold import TSNE\n",
    "import time\n",
    "\n",
    "time_start = time.time()\n",
    "tsne = TSNE(n_components=2, verbose=1, perplexity=10, n_iter=300)\n",
    "tsne_results = tsne.fit_transform(X.drop(columns=['label']))\n",
    "print('t-SNE done! Time elapsed: {} seconds'.format(time.time()-time_start))"
   ]
  },
  {
   "cell_type": "code",
   "execution_count": 15,
   "metadata": {},
   "outputs": [],
   "source": [
    "# tsne_results"
   ]
  },
  {
   "cell_type": "code",
   "execution_count": 16,
   "metadata": {},
   "outputs": [
    {
     "data": {
      "text/plain": [
       "array([-4.4998074, -4.999609 , -4.691812 , -7.9915156, -4.4400625,\n",
       "       -5.7924824, -6.1607137, -5.9472117, -7.4384813], dtype=float32)"
      ]
     },
     "execution_count": 16,
     "metadata": {},
     "output_type": "execute_result"
    }
   ],
   "source": [
    "tsne_results[0:9, 0]"
   ]
  },
  {
   "cell_type": "code",
   "execution_count": 17,
   "metadata": {},
   "outputs": [],
   "source": [
    "import matplotlib.pyplot as plt\n",
    "import seaborn as sns\n",
    "\n",
    "# fig, ax = plt.subplots(figsize=(12,9))\n",
    "# ax.scatter(tsne_results[0:18, 0], tsne_results[0:18, 1])\n",
    "# plt.show()\n",
    "\n",
    "df_subset = pd.DataFrame()\n",
    "df_subset['tsne-2d-one'] = tsne_results[:,0]\n",
    "df_subset['tsne-2d-two'] = tsne_results[:,1]\n",
    "df_subset['label'] = X['label']"
   ]
  },
  {
   "cell_type": "code",
   "execution_count": 18,
   "metadata": {},
   "outputs": [
    {
     "data": {
      "text/plain": [
       "pandas.core.frame.DataFrame"
      ]
     },
     "execution_count": 18,
     "metadata": {},
     "output_type": "execute_result"
    }
   ],
   "source": [
    "type(df_subset)"
   ]
  },
  {
   "cell_type": "code",
   "execution_count": 20,
   "metadata": {},
   "outputs": [
    {
     "ename": "ValueError",
     "evalue": "zero-size array to reduction operation minimum which has no identity",
     "output_type": "error",
     "traceback": [
      "\u001b[1;31m---------------------------------------------------------------------------\u001b[0m",
      "\u001b[1;31mValueError\u001b[0m                                Traceback (most recent call last)",
      "\u001b[1;32mc:\\users\\hitesh somani\\documents\\hobby_projects\\nlp_document_finder\\nlp_doc_finder_venv\\lib\\site-packages\\IPython\\core\\formatters.py\u001b[0m in \u001b[0;36m__call__\u001b[1;34m(self, obj)\u001b[0m\n\u001b[0;32m    339\u001b[0m                 \u001b[1;32mpass\u001b[0m\u001b[1;33m\u001b[0m\u001b[1;33m\u001b[0m\u001b[0m\n\u001b[0;32m    340\u001b[0m             \u001b[1;32melse\u001b[0m\u001b[1;33m:\u001b[0m\u001b[1;33m\u001b[0m\u001b[1;33m\u001b[0m\u001b[0m\n\u001b[1;32m--> 341\u001b[1;33m                 \u001b[1;32mreturn\u001b[0m \u001b[0mprinter\u001b[0m\u001b[1;33m(\u001b[0m\u001b[0mobj\u001b[0m\u001b[1;33m)\u001b[0m\u001b[1;33m\u001b[0m\u001b[1;33m\u001b[0m\u001b[0m\n\u001b[0m\u001b[0;32m    342\u001b[0m             \u001b[1;31m# Finally look for special method names\u001b[0m\u001b[1;33m\u001b[0m\u001b[1;33m\u001b[0m\u001b[1;33m\u001b[0m\u001b[0m\n\u001b[0;32m    343\u001b[0m             \u001b[0mmethod\u001b[0m \u001b[1;33m=\u001b[0m \u001b[0mget_real_method\u001b[0m\u001b[1;33m(\u001b[0m\u001b[0mobj\u001b[0m\u001b[1;33m,\u001b[0m \u001b[0mself\u001b[0m\u001b[1;33m.\u001b[0m\u001b[0mprint_method\u001b[0m\u001b[1;33m)\u001b[0m\u001b[1;33m\u001b[0m\u001b[1;33m\u001b[0m\u001b[0m\n",
      "\u001b[1;32mc:\\users\\hitesh somani\\documents\\hobby_projects\\nlp_document_finder\\nlp_doc_finder_venv\\lib\\site-packages\\IPython\\core\\pylabtools.py\u001b[0m in \u001b[0;36m<lambda>\u001b[1;34m(fig)\u001b[0m\n\u001b[0;32m    246\u001b[0m \u001b[1;33m\u001b[0m\u001b[0m\n\u001b[0;32m    247\u001b[0m     \u001b[1;32mif\u001b[0m \u001b[1;34m'png'\u001b[0m \u001b[1;32min\u001b[0m \u001b[0mformats\u001b[0m\u001b[1;33m:\u001b[0m\u001b[1;33m\u001b[0m\u001b[1;33m\u001b[0m\u001b[0m\n\u001b[1;32m--> 248\u001b[1;33m         \u001b[0mpng_formatter\u001b[0m\u001b[1;33m.\u001b[0m\u001b[0mfor_type\u001b[0m\u001b[1;33m(\u001b[0m\u001b[0mFigure\u001b[0m\u001b[1;33m,\u001b[0m \u001b[1;32mlambda\u001b[0m \u001b[0mfig\u001b[0m\u001b[1;33m:\u001b[0m \u001b[0mprint_figure\u001b[0m\u001b[1;33m(\u001b[0m\u001b[0mfig\u001b[0m\u001b[1;33m,\u001b[0m \u001b[1;34m'png'\u001b[0m\u001b[1;33m,\u001b[0m \u001b[1;33m**\u001b[0m\u001b[0mkwargs\u001b[0m\u001b[1;33m)\u001b[0m\u001b[1;33m)\u001b[0m\u001b[1;33m\u001b[0m\u001b[1;33m\u001b[0m\u001b[0m\n\u001b[0m\u001b[0;32m    249\u001b[0m     \u001b[1;32mif\u001b[0m \u001b[1;34m'retina'\u001b[0m \u001b[1;32min\u001b[0m \u001b[0mformats\u001b[0m \u001b[1;32mor\u001b[0m \u001b[1;34m'png2x'\u001b[0m \u001b[1;32min\u001b[0m \u001b[0mformats\u001b[0m\u001b[1;33m:\u001b[0m\u001b[1;33m\u001b[0m\u001b[1;33m\u001b[0m\u001b[0m\n\u001b[0;32m    250\u001b[0m         \u001b[0mpng_formatter\u001b[0m\u001b[1;33m.\u001b[0m\u001b[0mfor_type\u001b[0m\u001b[1;33m(\u001b[0m\u001b[0mFigure\u001b[0m\u001b[1;33m,\u001b[0m \u001b[1;32mlambda\u001b[0m \u001b[0mfig\u001b[0m\u001b[1;33m:\u001b[0m \u001b[0mretina_figure\u001b[0m\u001b[1;33m(\u001b[0m\u001b[0mfig\u001b[0m\u001b[1;33m,\u001b[0m \u001b[1;33m**\u001b[0m\u001b[0mkwargs\u001b[0m\u001b[1;33m)\u001b[0m\u001b[1;33m)\u001b[0m\u001b[1;33m\u001b[0m\u001b[1;33m\u001b[0m\u001b[0m\n",
      "\u001b[1;32mc:\\users\\hitesh somani\\documents\\hobby_projects\\nlp_document_finder\\nlp_doc_finder_venv\\lib\\site-packages\\IPython\\core\\pylabtools.py\u001b[0m in \u001b[0;36mprint_figure\u001b[1;34m(fig, fmt, bbox_inches, **kwargs)\u001b[0m\n\u001b[0;32m    130\u001b[0m         \u001b[0mFigureCanvasBase\u001b[0m\u001b[1;33m(\u001b[0m\u001b[0mfig\u001b[0m\u001b[1;33m)\u001b[0m\u001b[1;33m\u001b[0m\u001b[1;33m\u001b[0m\u001b[0m\n\u001b[0;32m    131\u001b[0m \u001b[1;33m\u001b[0m\u001b[0m\n\u001b[1;32m--> 132\u001b[1;33m     \u001b[0mfig\u001b[0m\u001b[1;33m.\u001b[0m\u001b[0mcanvas\u001b[0m\u001b[1;33m.\u001b[0m\u001b[0mprint_figure\u001b[0m\u001b[1;33m(\u001b[0m\u001b[0mbytes_io\u001b[0m\u001b[1;33m,\u001b[0m \u001b[1;33m**\u001b[0m\u001b[0mkw\u001b[0m\u001b[1;33m)\u001b[0m\u001b[1;33m\u001b[0m\u001b[1;33m\u001b[0m\u001b[0m\n\u001b[0m\u001b[0;32m    133\u001b[0m     \u001b[0mdata\u001b[0m \u001b[1;33m=\u001b[0m \u001b[0mbytes_io\u001b[0m\u001b[1;33m.\u001b[0m\u001b[0mgetvalue\u001b[0m\u001b[1;33m(\u001b[0m\u001b[1;33m)\u001b[0m\u001b[1;33m\u001b[0m\u001b[1;33m\u001b[0m\u001b[0m\n\u001b[0;32m    134\u001b[0m     \u001b[1;32mif\u001b[0m \u001b[0mfmt\u001b[0m \u001b[1;33m==\u001b[0m \u001b[1;34m'svg'\u001b[0m\u001b[1;33m:\u001b[0m\u001b[1;33m\u001b[0m\u001b[1;33m\u001b[0m\u001b[0m\n",
      "\u001b[1;32mc:\\users\\hitesh somani\\documents\\hobby_projects\\nlp_document_finder\\nlp_doc_finder_venv\\lib\\site-packages\\matplotlib\\backend_bases.py\u001b[0m in \u001b[0;36mprint_figure\u001b[1;34m(self, filename, dpi, facecolor, edgecolor, orientation, format, bbox_inches, pad_inches, bbox_extra_artists, backend, **kwargs)\u001b[0m\n\u001b[0;32m   2191\u001b[0m                            else suppress())\n\u001b[0;32m   2192\u001b[0m                     \u001b[1;32mwith\u001b[0m \u001b[0mctx\u001b[0m\u001b[1;33m:\u001b[0m\u001b[1;33m\u001b[0m\u001b[1;33m\u001b[0m\u001b[0m\n\u001b[1;32m-> 2193\u001b[1;33m                         \u001b[0mself\u001b[0m\u001b[1;33m.\u001b[0m\u001b[0mfigure\u001b[0m\u001b[1;33m.\u001b[0m\u001b[0mdraw\u001b[0m\u001b[1;33m(\u001b[0m\u001b[0mrenderer\u001b[0m\u001b[1;33m)\u001b[0m\u001b[1;33m\u001b[0m\u001b[1;33m\u001b[0m\u001b[0m\n\u001b[0m\u001b[0;32m   2194\u001b[0m \u001b[1;33m\u001b[0m\u001b[0m\n\u001b[0;32m   2195\u001b[0m                     bbox_inches = self.figure.get_tightbbox(\n",
      "\u001b[1;32mc:\\users\\hitesh somani\\documents\\hobby_projects\\nlp_document_finder\\nlp_doc_finder_venv\\lib\\site-packages\\matplotlib\\artist.py\u001b[0m in \u001b[0;36mdraw_wrapper\u001b[1;34m(artist, renderer, *args, **kwargs)\u001b[0m\n\u001b[0;32m     39\u001b[0m                 \u001b[0mrenderer\u001b[0m\u001b[1;33m.\u001b[0m\u001b[0mstart_filter\u001b[0m\u001b[1;33m(\u001b[0m\u001b[1;33m)\u001b[0m\u001b[1;33m\u001b[0m\u001b[1;33m\u001b[0m\u001b[0m\n\u001b[0;32m     40\u001b[0m \u001b[1;33m\u001b[0m\u001b[0m\n\u001b[1;32m---> 41\u001b[1;33m             \u001b[1;32mreturn\u001b[0m \u001b[0mdraw\u001b[0m\u001b[1;33m(\u001b[0m\u001b[0martist\u001b[0m\u001b[1;33m,\u001b[0m \u001b[0mrenderer\u001b[0m\u001b[1;33m,\u001b[0m \u001b[1;33m*\u001b[0m\u001b[0margs\u001b[0m\u001b[1;33m,\u001b[0m \u001b[1;33m**\u001b[0m\u001b[0mkwargs\u001b[0m\u001b[1;33m)\u001b[0m\u001b[1;33m\u001b[0m\u001b[1;33m\u001b[0m\u001b[0m\n\u001b[0m\u001b[0;32m     42\u001b[0m         \u001b[1;32mfinally\u001b[0m\u001b[1;33m:\u001b[0m\u001b[1;33m\u001b[0m\u001b[1;33m\u001b[0m\u001b[0m\n\u001b[0;32m     43\u001b[0m             \u001b[1;32mif\u001b[0m \u001b[0martist\u001b[0m\u001b[1;33m.\u001b[0m\u001b[0mget_agg_filter\u001b[0m\u001b[1;33m(\u001b[0m\u001b[1;33m)\u001b[0m \u001b[1;32mis\u001b[0m \u001b[1;32mnot\u001b[0m \u001b[1;32mNone\u001b[0m\u001b[1;33m:\u001b[0m\u001b[1;33m\u001b[0m\u001b[1;33m\u001b[0m\u001b[0m\n",
      "\u001b[1;32mc:\\users\\hitesh somani\\documents\\hobby_projects\\nlp_document_finder\\nlp_doc_finder_venv\\lib\\site-packages\\matplotlib\\figure.py\u001b[0m in \u001b[0;36mdraw\u001b[1;34m(self, renderer)\u001b[0m\n\u001b[0;32m   1861\u001b[0m \u001b[1;33m\u001b[0m\u001b[0m\n\u001b[0;32m   1862\u001b[0m             \u001b[0mself\u001b[0m\u001b[1;33m.\u001b[0m\u001b[0mpatch\u001b[0m\u001b[1;33m.\u001b[0m\u001b[0mdraw\u001b[0m\u001b[1;33m(\u001b[0m\u001b[0mrenderer\u001b[0m\u001b[1;33m)\u001b[0m\u001b[1;33m\u001b[0m\u001b[1;33m\u001b[0m\u001b[0m\n\u001b[1;32m-> 1863\u001b[1;33m             mimage._draw_list_compositing_images(\n\u001b[0m\u001b[0;32m   1864\u001b[0m                 renderer, self, artists, self.suppressComposite)\n\u001b[0;32m   1865\u001b[0m \u001b[1;33m\u001b[0m\u001b[0m\n",
      "\u001b[1;32mc:\\users\\hitesh somani\\documents\\hobby_projects\\nlp_document_finder\\nlp_doc_finder_venv\\lib\\site-packages\\matplotlib\\image.py\u001b[0m in \u001b[0;36m_draw_list_compositing_images\u001b[1;34m(renderer, parent, artists, suppress_composite)\u001b[0m\n\u001b[0;32m    129\u001b[0m     \u001b[1;32mif\u001b[0m \u001b[0mnot_composite\u001b[0m \u001b[1;32mor\u001b[0m \u001b[1;32mnot\u001b[0m \u001b[0mhas_images\u001b[0m\u001b[1;33m:\u001b[0m\u001b[1;33m\u001b[0m\u001b[1;33m\u001b[0m\u001b[0m\n\u001b[0;32m    130\u001b[0m         \u001b[1;32mfor\u001b[0m \u001b[0ma\u001b[0m \u001b[1;32min\u001b[0m \u001b[0martists\u001b[0m\u001b[1;33m:\u001b[0m\u001b[1;33m\u001b[0m\u001b[1;33m\u001b[0m\u001b[0m\n\u001b[1;32m--> 131\u001b[1;33m             \u001b[0ma\u001b[0m\u001b[1;33m.\u001b[0m\u001b[0mdraw\u001b[0m\u001b[1;33m(\u001b[0m\u001b[0mrenderer\u001b[0m\u001b[1;33m)\u001b[0m\u001b[1;33m\u001b[0m\u001b[1;33m\u001b[0m\u001b[0m\n\u001b[0m\u001b[0;32m    132\u001b[0m     \u001b[1;32melse\u001b[0m\u001b[1;33m:\u001b[0m\u001b[1;33m\u001b[0m\u001b[1;33m\u001b[0m\u001b[0m\n\u001b[0;32m    133\u001b[0m         \u001b[1;31m# Composite any adjacent images together\u001b[0m\u001b[1;33m\u001b[0m\u001b[1;33m\u001b[0m\u001b[1;33m\u001b[0m\u001b[0m\n",
      "\u001b[1;32mc:\\users\\hitesh somani\\documents\\hobby_projects\\nlp_document_finder\\nlp_doc_finder_venv\\lib\\site-packages\\matplotlib\\artist.py\u001b[0m in \u001b[0;36mdraw_wrapper\u001b[1;34m(artist, renderer, *args, **kwargs)\u001b[0m\n\u001b[0;32m     39\u001b[0m                 \u001b[0mrenderer\u001b[0m\u001b[1;33m.\u001b[0m\u001b[0mstart_filter\u001b[0m\u001b[1;33m(\u001b[0m\u001b[1;33m)\u001b[0m\u001b[1;33m\u001b[0m\u001b[1;33m\u001b[0m\u001b[0m\n\u001b[0;32m     40\u001b[0m \u001b[1;33m\u001b[0m\u001b[0m\n\u001b[1;32m---> 41\u001b[1;33m             \u001b[1;32mreturn\u001b[0m \u001b[0mdraw\u001b[0m\u001b[1;33m(\u001b[0m\u001b[0martist\u001b[0m\u001b[1;33m,\u001b[0m \u001b[0mrenderer\u001b[0m\u001b[1;33m,\u001b[0m \u001b[1;33m*\u001b[0m\u001b[0margs\u001b[0m\u001b[1;33m,\u001b[0m \u001b[1;33m**\u001b[0m\u001b[0mkwargs\u001b[0m\u001b[1;33m)\u001b[0m\u001b[1;33m\u001b[0m\u001b[1;33m\u001b[0m\u001b[0m\n\u001b[0m\u001b[0;32m     42\u001b[0m         \u001b[1;32mfinally\u001b[0m\u001b[1;33m:\u001b[0m\u001b[1;33m\u001b[0m\u001b[1;33m\u001b[0m\u001b[0m\n\u001b[0;32m     43\u001b[0m             \u001b[1;32mif\u001b[0m \u001b[0martist\u001b[0m\u001b[1;33m.\u001b[0m\u001b[0mget_agg_filter\u001b[0m\u001b[1;33m(\u001b[0m\u001b[1;33m)\u001b[0m \u001b[1;32mis\u001b[0m \u001b[1;32mnot\u001b[0m \u001b[1;32mNone\u001b[0m\u001b[1;33m:\u001b[0m\u001b[1;33m\u001b[0m\u001b[1;33m\u001b[0m\u001b[0m\n",
      "\u001b[1;32mc:\\users\\hitesh somani\\documents\\hobby_projects\\nlp_document_finder\\nlp_doc_finder_venv\\lib\\site-packages\\matplotlib\\cbook\\deprecation.py\u001b[0m in \u001b[0;36mwrapper\u001b[1;34m(*inner_args, **inner_kwargs)\u001b[0m\n\u001b[0;32m    409\u001b[0m                          \u001b[1;32melse\u001b[0m \u001b[0mdeprecation_addendum\u001b[0m\u001b[1;33m,\u001b[0m\u001b[1;33m\u001b[0m\u001b[1;33m\u001b[0m\u001b[0m\n\u001b[0;32m    410\u001b[0m                 **kwargs)\n\u001b[1;32m--> 411\u001b[1;33m         \u001b[1;32mreturn\u001b[0m \u001b[0mfunc\u001b[0m\u001b[1;33m(\u001b[0m\u001b[1;33m*\u001b[0m\u001b[0minner_args\u001b[0m\u001b[1;33m,\u001b[0m \u001b[1;33m**\u001b[0m\u001b[0minner_kwargs\u001b[0m\u001b[1;33m)\u001b[0m\u001b[1;33m\u001b[0m\u001b[1;33m\u001b[0m\u001b[0m\n\u001b[0m\u001b[0;32m    412\u001b[0m \u001b[1;33m\u001b[0m\u001b[0m\n\u001b[0;32m    413\u001b[0m     \u001b[1;32mreturn\u001b[0m \u001b[0mwrapper\u001b[0m\u001b[1;33m\u001b[0m\u001b[1;33m\u001b[0m\u001b[0m\n",
      "\u001b[1;32mc:\\users\\hitesh somani\\documents\\hobby_projects\\nlp_document_finder\\nlp_doc_finder_venv\\lib\\site-packages\\matplotlib\\axes\\_base.py\u001b[0m in \u001b[0;36mdraw\u001b[1;34m(self, renderer, inframe)\u001b[0m\n\u001b[0;32m   2746\u001b[0m             \u001b[0mrenderer\u001b[0m\u001b[1;33m.\u001b[0m\u001b[0mstop_rasterizing\u001b[0m\u001b[1;33m(\u001b[0m\u001b[1;33m)\u001b[0m\u001b[1;33m\u001b[0m\u001b[1;33m\u001b[0m\u001b[0m\n\u001b[0;32m   2747\u001b[0m \u001b[1;33m\u001b[0m\u001b[0m\n\u001b[1;32m-> 2748\u001b[1;33m         \u001b[0mmimage\u001b[0m\u001b[1;33m.\u001b[0m\u001b[0m_draw_list_compositing_images\u001b[0m\u001b[1;33m(\u001b[0m\u001b[0mrenderer\u001b[0m\u001b[1;33m,\u001b[0m \u001b[0mself\u001b[0m\u001b[1;33m,\u001b[0m \u001b[0martists\u001b[0m\u001b[1;33m)\u001b[0m\u001b[1;33m\u001b[0m\u001b[1;33m\u001b[0m\u001b[0m\n\u001b[0m\u001b[0;32m   2749\u001b[0m \u001b[1;33m\u001b[0m\u001b[0m\n\u001b[0;32m   2750\u001b[0m         \u001b[0mrenderer\u001b[0m\u001b[1;33m.\u001b[0m\u001b[0mclose_group\u001b[0m\u001b[1;33m(\u001b[0m\u001b[1;34m'axes'\u001b[0m\u001b[1;33m)\u001b[0m\u001b[1;33m\u001b[0m\u001b[1;33m\u001b[0m\u001b[0m\n",
      "\u001b[1;32mc:\\users\\hitesh somani\\documents\\hobby_projects\\nlp_document_finder\\nlp_doc_finder_venv\\lib\\site-packages\\matplotlib\\image.py\u001b[0m in \u001b[0;36m_draw_list_compositing_images\u001b[1;34m(renderer, parent, artists, suppress_composite)\u001b[0m\n\u001b[0;32m    129\u001b[0m     \u001b[1;32mif\u001b[0m \u001b[0mnot_composite\u001b[0m \u001b[1;32mor\u001b[0m \u001b[1;32mnot\u001b[0m \u001b[0mhas_images\u001b[0m\u001b[1;33m:\u001b[0m\u001b[1;33m\u001b[0m\u001b[1;33m\u001b[0m\u001b[0m\n\u001b[0;32m    130\u001b[0m         \u001b[1;32mfor\u001b[0m \u001b[0ma\u001b[0m \u001b[1;32min\u001b[0m \u001b[0martists\u001b[0m\u001b[1;33m:\u001b[0m\u001b[1;33m\u001b[0m\u001b[1;33m\u001b[0m\u001b[0m\n\u001b[1;32m--> 131\u001b[1;33m             \u001b[0ma\u001b[0m\u001b[1;33m.\u001b[0m\u001b[0mdraw\u001b[0m\u001b[1;33m(\u001b[0m\u001b[0mrenderer\u001b[0m\u001b[1;33m)\u001b[0m\u001b[1;33m\u001b[0m\u001b[1;33m\u001b[0m\u001b[0m\n\u001b[0m\u001b[0;32m    132\u001b[0m     \u001b[1;32melse\u001b[0m\u001b[1;33m:\u001b[0m\u001b[1;33m\u001b[0m\u001b[1;33m\u001b[0m\u001b[0m\n\u001b[0;32m    133\u001b[0m         \u001b[1;31m# Composite any adjacent images together\u001b[0m\u001b[1;33m\u001b[0m\u001b[1;33m\u001b[0m\u001b[1;33m\u001b[0m\u001b[0m\n",
      "\u001b[1;32mc:\\users\\hitesh somani\\documents\\hobby_projects\\nlp_document_finder\\nlp_doc_finder_venv\\lib\\site-packages\\matplotlib\\artist.py\u001b[0m in \u001b[0;36mdraw_wrapper\u001b[1;34m(artist, renderer, *args, **kwargs)\u001b[0m\n\u001b[0;32m     39\u001b[0m                 \u001b[0mrenderer\u001b[0m\u001b[1;33m.\u001b[0m\u001b[0mstart_filter\u001b[0m\u001b[1;33m(\u001b[0m\u001b[1;33m)\u001b[0m\u001b[1;33m\u001b[0m\u001b[1;33m\u001b[0m\u001b[0m\n\u001b[0;32m     40\u001b[0m \u001b[1;33m\u001b[0m\u001b[0m\n\u001b[1;32m---> 41\u001b[1;33m             \u001b[1;32mreturn\u001b[0m \u001b[0mdraw\u001b[0m\u001b[1;33m(\u001b[0m\u001b[0martist\u001b[0m\u001b[1;33m,\u001b[0m \u001b[0mrenderer\u001b[0m\u001b[1;33m,\u001b[0m \u001b[1;33m*\u001b[0m\u001b[0margs\u001b[0m\u001b[1;33m,\u001b[0m \u001b[1;33m**\u001b[0m\u001b[0mkwargs\u001b[0m\u001b[1;33m)\u001b[0m\u001b[1;33m\u001b[0m\u001b[1;33m\u001b[0m\u001b[0m\n\u001b[0m\u001b[0;32m     42\u001b[0m         \u001b[1;32mfinally\u001b[0m\u001b[1;33m:\u001b[0m\u001b[1;33m\u001b[0m\u001b[1;33m\u001b[0m\u001b[0m\n\u001b[0;32m     43\u001b[0m             \u001b[1;32mif\u001b[0m \u001b[0martist\u001b[0m\u001b[1;33m.\u001b[0m\u001b[0mget_agg_filter\u001b[0m\u001b[1;33m(\u001b[0m\u001b[1;33m)\u001b[0m \u001b[1;32mis\u001b[0m \u001b[1;32mnot\u001b[0m \u001b[1;32mNone\u001b[0m\u001b[1;33m:\u001b[0m\u001b[1;33m\u001b[0m\u001b[1;33m\u001b[0m\u001b[0m\n",
      "\u001b[1;32mc:\\users\\hitesh somani\\documents\\hobby_projects\\nlp_document_finder\\nlp_doc_finder_venv\\lib\\site-packages\\matplotlib\\collections.py\u001b[0m in \u001b[0;36mdraw\u001b[1;34m(self, renderer)\u001b[0m\n\u001b[0;32m    929\u001b[0m     \u001b[1;32mdef\u001b[0m \u001b[0mdraw\u001b[0m\u001b[1;33m(\u001b[0m\u001b[0mself\u001b[0m\u001b[1;33m,\u001b[0m \u001b[0mrenderer\u001b[0m\u001b[1;33m)\u001b[0m\u001b[1;33m:\u001b[0m\u001b[1;33m\u001b[0m\u001b[1;33m\u001b[0m\u001b[0m\n\u001b[0;32m    930\u001b[0m         \u001b[0mself\u001b[0m\u001b[1;33m.\u001b[0m\u001b[0mset_sizes\u001b[0m\u001b[1;33m(\u001b[0m\u001b[0mself\u001b[0m\u001b[1;33m.\u001b[0m\u001b[0m_sizes\u001b[0m\u001b[1;33m,\u001b[0m \u001b[0mself\u001b[0m\u001b[1;33m.\u001b[0m\u001b[0mfigure\u001b[0m\u001b[1;33m.\u001b[0m\u001b[0mdpi\u001b[0m\u001b[1;33m)\u001b[0m\u001b[1;33m\u001b[0m\u001b[1;33m\u001b[0m\u001b[0m\n\u001b[1;32m--> 931\u001b[1;33m         \u001b[0mCollection\u001b[0m\u001b[1;33m.\u001b[0m\u001b[0mdraw\u001b[0m\u001b[1;33m(\u001b[0m\u001b[0mself\u001b[0m\u001b[1;33m,\u001b[0m \u001b[0mrenderer\u001b[0m\u001b[1;33m)\u001b[0m\u001b[1;33m\u001b[0m\u001b[1;33m\u001b[0m\u001b[0m\n\u001b[0m\u001b[0;32m    932\u001b[0m \u001b[1;33m\u001b[0m\u001b[0m\n\u001b[0;32m    933\u001b[0m \u001b[1;33m\u001b[0m\u001b[0m\n",
      "\u001b[1;32mc:\\users\\hitesh somani\\documents\\hobby_projects\\nlp_document_finder\\nlp_doc_finder_venv\\lib\\site-packages\\matplotlib\\artist.py\u001b[0m in \u001b[0;36mdraw_wrapper\u001b[1;34m(artist, renderer, *args, **kwargs)\u001b[0m\n\u001b[0;32m     39\u001b[0m                 \u001b[0mrenderer\u001b[0m\u001b[1;33m.\u001b[0m\u001b[0mstart_filter\u001b[0m\u001b[1;33m(\u001b[0m\u001b[1;33m)\u001b[0m\u001b[1;33m\u001b[0m\u001b[1;33m\u001b[0m\u001b[0m\n\u001b[0;32m     40\u001b[0m \u001b[1;33m\u001b[0m\u001b[0m\n\u001b[1;32m---> 41\u001b[1;33m             \u001b[1;32mreturn\u001b[0m \u001b[0mdraw\u001b[0m\u001b[1;33m(\u001b[0m\u001b[0martist\u001b[0m\u001b[1;33m,\u001b[0m \u001b[0mrenderer\u001b[0m\u001b[1;33m,\u001b[0m \u001b[1;33m*\u001b[0m\u001b[0margs\u001b[0m\u001b[1;33m,\u001b[0m \u001b[1;33m**\u001b[0m\u001b[0mkwargs\u001b[0m\u001b[1;33m)\u001b[0m\u001b[1;33m\u001b[0m\u001b[1;33m\u001b[0m\u001b[0m\n\u001b[0m\u001b[0;32m     42\u001b[0m         \u001b[1;32mfinally\u001b[0m\u001b[1;33m:\u001b[0m\u001b[1;33m\u001b[0m\u001b[1;33m\u001b[0m\u001b[0m\n\u001b[0;32m     43\u001b[0m             \u001b[1;32mif\u001b[0m \u001b[0martist\u001b[0m\u001b[1;33m.\u001b[0m\u001b[0mget_agg_filter\u001b[0m\u001b[1;33m(\u001b[0m\u001b[1;33m)\u001b[0m \u001b[1;32mis\u001b[0m \u001b[1;32mnot\u001b[0m \u001b[1;32mNone\u001b[0m\u001b[1;33m:\u001b[0m\u001b[1;33m\u001b[0m\u001b[1;33m\u001b[0m\u001b[0m\n",
      "\u001b[1;32mc:\\users\\hitesh somani\\documents\\hobby_projects\\nlp_document_finder\\nlp_doc_finder_venv\\lib\\site-packages\\matplotlib\\collections.py\u001b[0m in \u001b[0;36mdraw\u001b[1;34m(self, renderer)\u001b[0m\n\u001b[0;32m    383\u001b[0m             \u001b[1;32melse\u001b[0m\u001b[1;33m:\u001b[0m\u001b[1;33m\u001b[0m\u001b[1;33m\u001b[0m\u001b[0m\n\u001b[0;32m    384\u001b[0m                 \u001b[0mcombined_transform\u001b[0m \u001b[1;33m=\u001b[0m \u001b[0mtransform\u001b[0m\u001b[1;33m\u001b[0m\u001b[1;33m\u001b[0m\u001b[0m\n\u001b[1;32m--> 385\u001b[1;33m             \u001b[0mextents\u001b[0m \u001b[1;33m=\u001b[0m \u001b[0mpaths\u001b[0m\u001b[1;33m[\u001b[0m\u001b[1;36m0\u001b[0m\u001b[1;33m]\u001b[0m\u001b[1;33m.\u001b[0m\u001b[0mget_extents\u001b[0m\u001b[1;33m(\u001b[0m\u001b[0mcombined_transform\u001b[0m\u001b[1;33m)\u001b[0m\u001b[1;33m\u001b[0m\u001b[1;33m\u001b[0m\u001b[0m\n\u001b[0m\u001b[0;32m    386\u001b[0m             if (extents.width < self.figure.bbox.width\n\u001b[0;32m    387\u001b[0m                     and extents.height < self.figure.bbox.height):\n",
      "\u001b[1;32mc:\\users\\hitesh somani\\documents\\hobby_projects\\nlp_document_finder\\nlp_doc_finder_venv\\lib\\site-packages\\matplotlib\\path.py\u001b[0m in \u001b[0;36mget_extents\u001b[1;34m(self, transform, **kwargs)\u001b[0m\n\u001b[0;32m    601\u001b[0m                 \u001b[0mxys\u001b[0m\u001b[1;33m.\u001b[0m\u001b[0mappend\u001b[0m\u001b[1;33m(\u001b[0m\u001b[0mcurve\u001b[0m\u001b[1;33m(\u001b[0m\u001b[1;33m[\u001b[0m\u001b[1;36m0\u001b[0m\u001b[1;33m,\u001b[0m \u001b[1;33m*\u001b[0m\u001b[0mdzeros\u001b[0m\u001b[1;33m,\u001b[0m \u001b[1;36m1\u001b[0m\u001b[1;33m]\u001b[0m\u001b[1;33m)\u001b[0m\u001b[1;33m)\u001b[0m\u001b[1;33m\u001b[0m\u001b[1;33m\u001b[0m\u001b[0m\n\u001b[0;32m    602\u001b[0m             \u001b[0mxys\u001b[0m \u001b[1;33m=\u001b[0m \u001b[0mnp\u001b[0m\u001b[1;33m.\u001b[0m\u001b[0mconcatenate\u001b[0m\u001b[1;33m(\u001b[0m\u001b[0mxys\u001b[0m\u001b[1;33m)\u001b[0m\u001b[1;33m\u001b[0m\u001b[1;33m\u001b[0m\u001b[0m\n\u001b[1;32m--> 603\u001b[1;33m         \u001b[1;32mreturn\u001b[0m \u001b[0mBbox\u001b[0m\u001b[1;33m(\u001b[0m\u001b[1;33m[\u001b[0m\u001b[0mxys\u001b[0m\u001b[1;33m.\u001b[0m\u001b[0mmin\u001b[0m\u001b[1;33m(\u001b[0m\u001b[0maxis\u001b[0m\u001b[1;33m=\u001b[0m\u001b[1;36m0\u001b[0m\u001b[1;33m)\u001b[0m\u001b[1;33m,\u001b[0m \u001b[0mxys\u001b[0m\u001b[1;33m.\u001b[0m\u001b[0mmax\u001b[0m\u001b[1;33m(\u001b[0m\u001b[0maxis\u001b[0m\u001b[1;33m=\u001b[0m\u001b[1;36m0\u001b[0m\u001b[1;33m)\u001b[0m\u001b[1;33m]\u001b[0m\u001b[1;33m)\u001b[0m\u001b[1;33m\u001b[0m\u001b[1;33m\u001b[0m\u001b[0m\n\u001b[0m\u001b[0;32m    604\u001b[0m \u001b[1;33m\u001b[0m\u001b[0m\n\u001b[0;32m    605\u001b[0m     \u001b[1;32mdef\u001b[0m \u001b[0mintersects_path\u001b[0m\u001b[1;33m(\u001b[0m\u001b[0mself\u001b[0m\u001b[1;33m,\u001b[0m \u001b[0mother\u001b[0m\u001b[1;33m,\u001b[0m \u001b[0mfilled\u001b[0m\u001b[1;33m=\u001b[0m\u001b[1;32mTrue\u001b[0m\u001b[1;33m)\u001b[0m\u001b[1;33m:\u001b[0m\u001b[1;33m\u001b[0m\u001b[1;33m\u001b[0m\u001b[0m\n",
      "\u001b[1;32mc:\\users\\hitesh somani\\documents\\hobby_projects\\nlp_document_finder\\nlp_doc_finder_venv\\lib\\site-packages\\numpy\\core\\_methods.py\u001b[0m in \u001b[0;36m_amin\u001b[1;34m(a, axis, out, keepdims, initial, where)\u001b[0m\n\u001b[0;32m     32\u001b[0m def _amin(a, axis=None, out=None, keepdims=False,\n\u001b[0;32m     33\u001b[0m           initial=_NoValue, where=True):\n\u001b[1;32m---> 34\u001b[1;33m     \u001b[1;32mreturn\u001b[0m \u001b[0mumr_minimum\u001b[0m\u001b[1;33m(\u001b[0m\u001b[0ma\u001b[0m\u001b[1;33m,\u001b[0m \u001b[0maxis\u001b[0m\u001b[1;33m,\u001b[0m \u001b[1;32mNone\u001b[0m\u001b[1;33m,\u001b[0m \u001b[0mout\u001b[0m\u001b[1;33m,\u001b[0m \u001b[0mkeepdims\u001b[0m\u001b[1;33m,\u001b[0m \u001b[0minitial\u001b[0m\u001b[1;33m,\u001b[0m \u001b[0mwhere\u001b[0m\u001b[1;33m)\u001b[0m\u001b[1;33m\u001b[0m\u001b[1;33m\u001b[0m\u001b[0m\n\u001b[0m\u001b[0;32m     35\u001b[0m \u001b[1;33m\u001b[0m\u001b[0m\n\u001b[0;32m     36\u001b[0m def _sum(a, axis=None, dtype=None, out=None, keepdims=False,\n",
      "\u001b[1;31mValueError\u001b[0m: zero-size array to reduction operation minimum which has no identity"
     ]
    },
    {
     "data": {
      "text/plain": [
       "<Figure size 1872x1152 with 1 Axes>"
      ]
     },
     "metadata": {
      "needs_background": "light"
     },
     "output_type": "display_data"
    }
   ],
   "source": [
    "plt.figure(figsize=(26,16))\n",
    "sns.scatterplot(\n",
    "    x=\"tsne-2d-one\", \n",
    "    y=\"tsne-2d-two\",\n",
    "    hue=\"label\",\n",
    "    palette=sns.color_palette(\"hls\", 14),\n",
    "    data=df_subset,\n",
    "    legend=\"full\",\n",
    "    alpha=1,\n",
    "    s=100\n",
    ")"
   ]
  },
  {
   "cell_type": "markdown",
   "metadata": {},
   "source": [
    "## Modelling"
   ]
  },
  {
   "cell_type": "code",
   "execution_count": 24,
   "metadata": {},
   "outputs": [],
   "source": [
    "# Data Prepraration\n",
    "from sklearn.model_selection import train_test_split\n",
    "from sklearn.preprocessing import LabelEncoder\n",
    "\n",
    "y = X['label']\n",
    "X = X.drop(columns=['label'], axis=1)\n",
    "\n",
    "X_train, X_test, y_train, y_test = train_test_split(X, y, test_size = 0.2, random_state=10)\n",
    "le = LabelEncoder()\n",
    "y_train = le.fit_transform(y_train)\n",
    "y_test = le.transform(y_test)"
   ]
  },
  {
   "cell_type": "code",
   "execution_count": 25,
   "metadata": {},
   "outputs": [
    {
     "data": {
      "text/plain": [
       "set()"
      ]
     },
     "execution_count": 25,
     "metadata": {},
     "output_type": "execute_result"
    }
   ],
   "source": [
    "set(X_train.index).intersection(set(X_test.index))"
   ]
  },
  {
   "cell_type": "markdown",
   "metadata": {},
   "source": [
    "So an empty intersection set of both sets proves that there is no observation common in train and test data"
   ]
  },
  {
   "cell_type": "code",
   "execution_count": 26,
   "metadata": {},
   "outputs": [],
   "source": [
    "# Load the TensorBoard notebook extension\n",
    "%load_ext tensorboard"
   ]
  },
  {
   "cell_type": "code",
   "execution_count": 27,
   "metadata": {},
   "outputs": [],
   "source": [
    "# Clear any logs from previous runs\n",
    "!rm -rf ./logs/ "
   ]
  },
  {
   "cell_type": "code",
   "execution_count": 28,
   "metadata": {},
   "outputs": [],
   "source": [
    "# Building Neural network\n",
    "import tensorflow as tf\n",
    "\n",
    "from tensorflow.keras.models import Sequential\n",
    "from tensorflow.keras.layers import Dense, Dropout, Activation, Flatten, Conv2D, MaxPooling2D\n",
    "import datetime\n",
    "\n",
    "log_dir = \"logs/fit/\" + datetime.datetime.now().strftime(\"%Y%m%d-%H%M%S\")\n",
    "tensorboard_callback = tf.keras.callbacks.TensorBoard(log_dir=log_dir, histogram_freq=1)\n",
    "\n",
    "model = Sequential()\n",
    "model.add(Dense(64, input_shape=(512,)))\n",
    "model.add(Dense(100))\n",
    "model.add(Dense(1000))\n",
    "model.add(Dense(100))\n",
    "model.add(Dense(len(set(y_train))))\n",
    "model.add(Activation('softmax'))"
   ]
  },
  {
   "cell_type": "code",
   "execution_count": 29,
   "metadata": {},
   "outputs": [
    {
     "name": "stdout",
     "output_type": "stream",
     "text": [
      "Model: \"sequential\"\n",
      "_________________________________________________________________\n",
      "Layer (type)                 Output Shape              Param #   \n",
      "=================================================================\n",
      "dense (Dense)                (None, 64)                32832     \n",
      "_________________________________________________________________\n",
      "dense_1 (Dense)              (None, 100)               6500      \n",
      "_________________________________________________________________\n",
      "dense_2 (Dense)              (None, 1000)              101000    \n",
      "_________________________________________________________________\n",
      "dense_3 (Dense)              (None, 100)               100100    \n",
      "_________________________________________________________________\n",
      "dense_4 (Dense)              (None, 14)                1414      \n",
      "_________________________________________________________________\n",
      "activation (Activation)      (None, 14)                0         \n",
      "=================================================================\n",
      "Total params: 241,846\n",
      "Trainable params: 241,846\n",
      "Non-trainable params: 0\n",
      "_________________________________________________________________\n"
     ]
    }
   ],
   "source": [
    "model.summary()"
   ]
  },
  {
   "cell_type": "code",
   "execution_count": 30,
   "metadata": {},
   "outputs": [],
   "source": [
    "model.compile(loss=\"sparse_categorical_crossentropy\", optimizer='adam', metrics=[tf.keras.metrics.SparseCategoricalAccuracy()])"
   ]
  },
  {
   "cell_type": "code",
   "execution_count": 31,
   "metadata": {},
   "outputs": [
    {
     "name": "stdout",
     "output_type": "stream",
     "text": [
      "('Failed to import pydot. You must `pip install pydot` and install graphviz (https://graphviz.gitlab.io/download/), ', 'for `pydotprint` to work.')\n"
     ]
    }
   ],
   "source": [
    "from tensorflow import keras\n",
    "keras.utils.plot_model(model)"
   ]
  },
  {
   "cell_type": "code",
   "execution_count": 32,
   "metadata": {},
   "outputs": [
    {
     "name": "stdout",
     "output_type": "stream",
     "text": [
      "Epoch 1/10\n",
      "6/6 [==============================] - 0s 80ms/step - loss: 2.4879 - sparse_categorical_accuracy: 0.3631 - val_loss: 2.2029 - val_sparse_categorical_accuracy: 0.4286\n",
      "Epoch 2/10\n",
      "6/6 [==============================] - 0s 11ms/step - loss: 1.7586 - sparse_categorical_accuracy: 0.6071 - val_loss: 1.4365 - val_sparse_categorical_accuracy: 0.6190\n",
      "Epoch 3/10\n",
      "6/6 [==============================] - 0s 10ms/step - loss: 0.9833 - sparse_categorical_accuracy: 0.7976 - val_loss: 0.6816 - val_sparse_categorical_accuracy: 0.9048\n",
      "Epoch 4/10\n",
      "6/6 [==============================] - 0s 9ms/step - loss: 0.4925 - sparse_categorical_accuracy: 0.8690 - val_loss: 0.3647 - val_sparse_categorical_accuracy: 0.9286\n",
      "Epoch 5/10\n",
      "6/6 [==============================] - 0s 8ms/step - loss: 0.3000 - sparse_categorical_accuracy: 0.9048 - val_loss: 0.1650 - val_sparse_categorical_accuracy: 0.9762\n",
      "Epoch 6/10\n",
      "6/6 [==============================] - 0s 7ms/step - loss: 0.3175 - sparse_categorical_accuracy: 0.9167 - val_loss: 0.1231 - val_sparse_categorical_accuracy: 0.9762\n",
      "Epoch 7/10\n",
      "6/6 [==============================] - 0s 9ms/step - loss: 0.2750 - sparse_categorical_accuracy: 0.8869 - val_loss: 0.0984 - val_sparse_categorical_accuracy: 0.9524\n",
      "Epoch 8/10\n",
      "6/6 [==============================] - 0s 8ms/step - loss: 0.1828 - sparse_categorical_accuracy: 0.8929 - val_loss: 0.0807 - val_sparse_categorical_accuracy: 0.9762\n",
      "Epoch 9/10\n",
      "6/6 [==============================] - 0s 7ms/step - loss: 0.1430 - sparse_categorical_accuracy: 0.9226 - val_loss: 0.0647 - val_sparse_categorical_accuracy: 0.9762\n",
      "Epoch 10/10\n",
      "6/6 [==============================] - ETA: 0s - loss: 0.2116 - sparse_categorical_accuracy: 0.875 - 0s 10ms/step - loss: 0.1721 - sparse_categorical_accuracy: 0.9167 - val_loss: 0.0558 - val_sparse_categorical_accuracy: 0.9762\n"
     ]
    }
   ],
   "source": [
    "history = model.fit(X_train, y_train, epochs=10,\n",
    "                    validation_data=(X_test, y_test))"
   ]
  },
  {
   "cell_type": "code",
   "execution_count": 33,
   "metadata": {},
   "outputs": [],
   "source": [
    "#%tensorboard --logdir logs/fit"
   ]
  },
  {
   "cell_type": "code",
   "execution_count": 34,
   "metadata": {},
   "outputs": [],
   "source": [
    "# gcloud compute ssh python-nlp-document-finder --project nlp-document-finder --zone us-west1-b -- -L 2222:localhost:6007 "
   ]
  },
  {
   "cell_type": "markdown",
   "metadata": {},
   "source": [
    "### Prediction "
   ]
  },
  {
   "cell_type": "code",
   "execution_count": 35,
   "metadata": {},
   "outputs": [],
   "source": [
    "y_proba = model.predict(X_test)"
   ]
  },
  {
   "cell_type": "code",
   "execution_count": 36,
   "metadata": {},
   "outputs": [],
   "source": [
    "y_pred = y_proba.argmax(axis=1)"
   ]
  },
  {
   "cell_type": "code",
   "execution_count": 37,
   "metadata": {},
   "outputs": [
    {
     "data": {
      "text/plain": [
       "array([[4.98759234e-03, 9.84964430e-01, 6.71407724e-06, 9.13460273e-03,\n",
       "        1.36495655e-05, 3.03940160e-05, 5.27804689e-10, 6.82358863e-04,\n",
       "        2.37962086e-05, 1.55866059e-04, 3.52326992e-07, 9.56514086e-08,\n",
       "        2.50314230e-07, 5.66184291e-08],\n",
       "       [7.22175141e-12, 1.84563864e-10, 6.42649475e-11, 1.14629970e-07,\n",
       "        5.15991520e-11, 1.84587501e-02, 9.81525898e-01, 1.29534383e-09,\n",
       "        2.53956280e-13, 1.52937996e-09, 2.01009520e-08, 1.52097018e-05,\n",
       "        4.28962217e-08, 1.53987188e-11],\n",
       "       [6.48479230e-12, 2.05469378e-10, 2.28300382e-11, 6.25889811e-08,\n",
       "        1.74424086e-11, 5.40341530e-03, 9.94575977e-01, 9.24524513e-10,\n",
       "        4.95492482e-13, 1.39711565e-09, 7.58649144e-09, 2.04415246e-05,\n",
       "        7.49209192e-08, 3.69173372e-11],\n",
       "       [8.36413892e-06, 3.61919660e-07, 1.33705202e-09, 4.02204013e-13,\n",
       "        6.59873156e-10, 3.73988153e-14, 3.39111683e-10, 8.63878413e-10,\n",
       "        4.05685417e-03, 1.16059193e-04, 9.95816171e-01, 9.99893426e-15,\n",
       "        3.27480439e-11, 2.07849939e-06],\n",
       "       [3.03418783e-05, 2.61564609e-02, 1.02393399e-03, 9.26395416e-01,\n",
       "        2.52447580e-03, 3.49149480e-02, 7.14007129e-08, 8.93654674e-03,\n",
       "        3.39706457e-06, 7.06331775e-06, 2.40265967e-06, 2.81381153e-06,\n",
       "        2.05777474e-06, 5.17781054e-08],\n",
       "       [5.44470349e-05, 1.60102631e-04, 3.71596605e-01, 9.95301176e-04,\n",
       "        6.26682818e-01, 1.76665562e-05, 3.31646177e-09, 1.64351062e-04,\n",
       "        2.68297794e-04, 1.12692087e-05, 1.21649964e-05, 7.55032374e-07,\n",
       "        9.29359601e-07, 3.52884090e-05],\n",
       "       [7.90297461e-04, 5.61834931e-05, 4.12534575e-08, 9.27606342e-12,\n",
       "        3.49915936e-08, 4.64984454e-16, 4.94526600e-14, 3.03918735e-09,\n",
       "        9.98581529e-01, 3.76311189e-04, 7.23582125e-05, 4.92119671e-14,\n",
       "        1.39792330e-10, 1.23238628e-04],\n",
       "       [8.42438452e-03, 1.47869182e-03, 5.97781451e-08, 2.13896943e-04,\n",
       "        8.13406800e-08, 6.60305432e-07, 8.98744707e-12, 9.68072772e-01,\n",
       "        1.33725553e-06, 2.70195366e-10, 1.70409606e-08, 7.35962757e-08,\n",
       "        2.18075551e-02, 4.25738506e-07],\n",
       "       [3.20689352e-12, 5.67035342e-11, 7.17012777e-12, 3.29782956e-08,\n",
       "        5.27843654e-12, 7.04972027e-03, 9.92924929e-01, 4.46170351e-10,\n",
       "        6.44595190e-14, 2.85066859e-10, 1.66896441e-09, 2.51870606e-05,\n",
       "        8.03564859e-08, 1.19818287e-11],\n",
       "       [2.69601442e-04, 5.99475752e-04, 7.37886552e-08, 1.90516736e-03,\n",
       "        1.17812768e-07, 1.19174119e-05, 1.29862007e-11, 9.90207374e-01,\n",
       "        4.70044803e-08, 4.69845066e-11, 1.13134546e-09, 2.35555092e-07,\n",
       "        7.00601609e-03, 1.82455189e-08],\n",
       "       [1.30492681e-05, 8.82484112e-03, 8.51678720e-04, 8.80198061e-01,\n",
       "        2.16037570e-03, 1.04324289e-01, 1.00069379e-07, 3.61963268e-03,\n",
       "        4.09922649e-07, 2.30823866e-06, 6.92805827e-07, 3.42451108e-06,\n",
       "        1.11164877e-06, 1.40423619e-08],\n",
       "       [1.30253669e-03, 5.07608493e-05, 1.68653607e-08, 5.40264101e-12,\n",
       "        1.18902790e-08, 1.38290569e-15, 1.38515176e-12, 2.76448686e-09,\n",
       "        9.96597946e-01, 1.30832207e-03, 5.82905603e-04, 9.26978356e-14,\n",
       "        2.66188793e-10, 1.57667746e-04],\n",
       "       [1.03612383e-05, 2.16203146e-02, 2.42462847e-04, 9.56941664e-01,\n",
       "        6.68793917e-04, 1.55191999e-02, 2.76941758e-09, 4.99430997e-03,\n",
       "        2.81500235e-07, 8.07592698e-07, 3.39155228e-08, 1.28151999e-06,\n",
       "        7.08495747e-07, 4.15180157e-09],\n",
       "       [7.97800723e-08, 1.14289496e-05, 1.13382737e-06, 3.40931094e-03,\n",
       "        1.28810473e-06, 9.48257685e-01, 4.70636562e-02, 4.87473590e-05,\n",
       "        4.02379952e-09, 5.98286704e-07, 1.00353873e-06, 1.17250334e-03,\n",
       "        3.26840745e-05, 1.89289473e-08],\n",
       "       [9.48637826e-05, 9.67209644e-07, 3.26989547e-11, 1.34477588e-07,\n",
       "        2.18084318e-11, 8.80214390e-09, 4.17623003e-09, 1.29888870e-03,\n",
       "        2.99237648e-08, 1.25597926e-11, 3.47021231e-11, 6.11664727e-05,\n",
       "        9.98521626e-01, 2.23469724e-05],\n",
       "       [1.25296705e-03, 1.95807574e-04, 2.08306492e-08, 6.44511951e-04,\n",
       "        3.29103962e-08, 3.73783541e-06, 3.28225034e-12, 9.76937175e-01,\n",
       "        1.83745357e-08, 8.44889957e-12, 3.43973294e-10, 1.80902788e-07,\n",
       "        2.09654402e-02, 2.42171758e-08],\n",
       "       [3.37306112e-08, 4.23580837e-10, 1.06443988e-12, 1.01349884e-09,\n",
       "        3.90814009e-13, 8.57286437e-08, 5.88828581e-04, 3.04937936e-10,\n",
       "        6.93955050e-12, 1.62980900e-08, 4.57958324e-13, 9.99249399e-01,\n",
       "        1.58619572e-04, 2.97768997e-06],\n",
       "       [5.73058614e-08, 1.44154619e-05, 7.48671027e-07, 2.96738092e-03,\n",
       "        9.31421710e-07, 9.32702720e-01, 6.37559518e-02, 3.28697752e-05,\n",
       "        4.97281949e-09, 8.49609592e-07, 1.31720685e-06, 5.08822559e-04,\n",
       "        1.37764400e-05, 1.23245245e-08],\n",
       "       [6.45973778e-05, 6.55031428e-02, 2.64336501e-04, 9.17872369e-01,\n",
       "        6.81957463e-04, 8.51246901e-03, 5.17398790e-09, 7.09013036e-03,\n",
       "        1.93387154e-06, 2.27226042e-06, 4.47319159e-08, 3.42364342e-06,\n",
       "        3.32212471e-06, 4.01854017e-08],\n",
       "       [6.57345052e-04, 1.52020330e-05, 5.27019894e-09, 6.07018559e-13,\n",
       "        3.77261022e-09, 6.25966083e-17, 8.77269652e-14, 6.48739951e-10,\n",
       "        9.98690069e-01, 2.83007859e-04, 2.15778971e-04, 7.85512605e-15,\n",
       "        8.50578774e-11, 1.38664022e-04],\n",
       "       [1.13009359e-03, 2.03276031e-05, 3.17654099e-08, 4.22679036e-12,\n",
       "        2.54409649e-08, 4.40102120e-16, 2.03254663e-13, 1.42066070e-09,\n",
       "        9.97990608e-01, 3.90305242e-04, 1.54730631e-04, 5.70827023e-14,\n",
       "        2.04731163e-10, 3.13859637e-04],\n",
       "       [9.77591276e-01, 2.22142637e-02, 1.90190104e-08, 6.79307561e-07,\n",
       "        2.66826738e-08, 7.26611049e-10, 2.53211102e-12, 2.38796656e-05,\n",
       "        9.46876025e-05, 7.40584510e-05, 7.33567845e-07, 2.68640832e-10,\n",
       "        1.01422387e-07, 3.58046748e-07],\n",
       "       [3.83877836e-04, 9.97716665e-01, 5.31435376e-07, 1.56725768e-03,\n",
       "        1.23842017e-06, 5.08324410e-06, 1.28355243e-10, 5.50116674e-05,\n",
       "        1.19776059e-05, 2.58031418e-04, 4.00405071e-07, 7.75464359e-10,\n",
       "        1.85631877e-09, 1.21482646e-09],\n",
       "       [6.12060758e-05, 4.94994126e-08, 5.43905979e-12, 6.17407565e-08,\n",
       "        3.60443272e-12, 4.88946217e-09, 1.46952756e-10, 8.43345129e-04,\n",
       "        2.53440352e-10, 2.05152301e-13, 4.54795327e-13, 7.24607380e-05,\n",
       "        9.99021292e-01, 1.57494719e-06],\n",
       "       [2.59251276e-04, 2.24832448e-07, 2.56292574e-11, 2.01427355e-08,\n",
       "        1.43604859e-11, 1.44195655e-09, 1.22083976e-09, 5.91886812e-04,\n",
       "        1.73788681e-08, 9.06639520e-12, 4.18217995e-11, 5.28760829e-05,\n",
       "        9.99054968e-01, 4.07752741e-05],\n",
       "       [8.68940479e-05, 1.09089643e-03, 5.71219572e-10, 1.57477933e-10,\n",
       "        4.36822967e-10, 3.98214719e-13, 6.07797363e-12, 1.13999409e-11,\n",
       "        9.98411851e-05, 9.98720527e-01, 1.93250776e-06, 1.81369568e-12,\n",
       "        2.15613711e-14, 6.26962704e-09],\n",
       "       [4.98759234e-03, 9.84964430e-01, 6.71407724e-06, 9.13460273e-03,\n",
       "        1.36495655e-05, 3.03940160e-05, 5.27804689e-10, 6.82358863e-04,\n",
       "        2.37962086e-05, 1.55866059e-04, 3.52326992e-07, 9.56514086e-08,\n",
       "        2.50314230e-07, 5.66184291e-08],\n",
       "       [4.59780586e-06, 9.98477917e-05, 3.48787874e-01, 3.02465633e-03,\n",
       "        6.47353232e-01, 4.14738111e-04, 8.94130068e-08, 1.19659191e-04,\n",
       "        6.95257404e-05, 1.96403380e-05, 1.02652477e-04, 4.24846263e-07,\n",
       "        1.50338295e-07, 2.74612989e-06],\n",
       "       [3.54424374e-05, 4.33829948e-02, 5.42773225e-04, 9.34665203e-01,\n",
       "        1.62982289e-03, 1.46654081e-02, 2.40989584e-09, 5.07429149e-03,\n",
       "        8.51713139e-07, 1.54768725e-06, 8.06282330e-08, 7.35514902e-07,\n",
       "        6.85236103e-07, 9.95199922e-09],\n",
       "       [1.49221218e-03, 9.94617045e-01, 5.53710970e-06, 3.55236349e-03,\n",
       "        1.31606530e-05, 8.69519317e-06, 8.82470763e-11, 1.52882538e-04,\n",
       "        3.54102522e-05, 1.22442463e-04, 2.54267974e-07, 4.89347896e-09,\n",
       "        2.32787425e-08, 1.61256359e-08],\n",
       "       [9.96102929e-01, 3.82138672e-03, 4.72869530e-08, 4.27027913e-07,\n",
       "        6.77879015e-08, 8.99902861e-11, 4.06080267e-14, 3.57471909e-05,\n",
       "        3.50711598e-05, 2.28924864e-06, 1.44548897e-08, 8.85645779e-10,\n",
       "        6.45718387e-07, 1.38154644e-06],\n",
       "       [9.97232854e-01, 2.68010213e-03, 1.01897477e-08, 8.56923279e-08,\n",
       "        1.15647252e-08, 3.80806983e-11, 2.82638116e-13, 1.58221974e-05,\n",
       "        6.16192701e-05, 6.07580114e-06, 6.93711470e-08, 7.27414629e-10,\n",
       "        7.53828999e-07, 2.63353445e-06],\n",
       "       [2.46673211e-04, 2.28938113e-08, 1.85367624e-11, 5.04744738e-13,\n",
       "        6.27312785e-12, 4.13165968e-14, 3.96098272e-07, 1.31912037e-10,\n",
       "        1.42117584e-04, 5.98553061e-06, 2.99847152e-08, 1.77356251e-05,\n",
       "        1.28205211e-04, 9.99458849e-01],\n",
       "       [2.29766727e-07, 1.03063835e-09, 3.23779111e-12, 1.77616344e-09,\n",
       "        1.20267262e-12, 1.16800054e-08, 1.07579663e-05, 2.14904317e-09,\n",
       "        2.79636852e-11, 4.01379241e-09, 1.34559857e-13, 9.98727858e-01,\n",
       "        1.23869872e-03, 2.25306958e-05],\n",
       "       [9.95950818e-01, 3.99722764e-03, 8.64231353e-09, 9.94637404e-08,\n",
       "        1.15249028e-08, 1.06073698e-10, 4.58103770e-13, 5.98090355e-06,\n",
       "        3.28533715e-05, 1.22193596e-05, 1.16029007e-07, 1.57771046e-10,\n",
       "        1.02799916e-07, 4.40509211e-07],\n",
       "       [9.81088042e-01, 1.87624935e-02, 5.44313004e-08, 9.21540391e-07,\n",
       "        8.93374548e-08, 2.09448459e-10, 8.57714575e-14, 3.58959296e-05,\n",
       "        9.62565318e-05, 1.55062553e-05, 8.20585626e-08, 1.81733337e-10,\n",
       "        1.12552826e-07, 4.43594672e-07],\n",
       "       [5.20648027e-05, 1.61988847e-02, 3.38357349e-04, 9.39749479e-01,\n",
       "        8.33516417e-04, 3.49529572e-02, 2.22935270e-08, 7.85990153e-03,\n",
       "        4.07162020e-07, 1.77111576e-06, 1.33018261e-07, 8.61944318e-06,\n",
       "        3.89879096e-06, 2.25110135e-08],\n",
       "       [5.78038832e-12, 1.49152704e-10, 3.09960842e-11, 1.00472299e-07,\n",
       "        2.64329808e-11, 2.65915561e-02, 9.73396540e-01, 8.61171134e-10,\n",
       "        9.98124516e-14, 7.97301170e-10, 8.28545499e-09, 1.17597747e-05,\n",
       "        3.26368763e-08, 6.50891493e-12],\n",
       "       [2.29032539e-05, 2.16015938e-09, 3.75478780e-11, 9.49363960e-13,\n",
       "        1.34982607e-11, 1.14590480e-13, 3.58331874e-07, 1.25500346e-10,\n",
       "        1.96724177e-05, 1.84405252e-07, 1.18615129e-09, 1.17305201e-04,\n",
       "        5.93489094e-04, 9.99246120e-01],\n",
       "       [1.46547536e-04, 3.62818973e-04, 1.93475180e-10, 6.64020158e-11,\n",
       "        1.28144925e-10, 4.91782071e-13, 5.14045646e-11, 6.35248191e-12,\n",
       "        5.48039134e-05, 9.99433219e-01, 2.67787050e-06, 6.84425476e-12,\n",
       "        6.55213798e-14, 1.52752104e-08],\n",
       "       [1.01001619e-03, 7.77868481e-05, 6.02997385e-09, 3.07354901e-12,\n",
       "        4.51301263e-09, 5.45826867e-16, 5.62267626e-13, 1.63111957e-09,\n",
       "        9.97124135e-01, 1.27234834e-03, 4.48215898e-04, 2.31408995e-14,\n",
       "        9.98439803e-11, 6.74002295e-05],\n",
       "       [3.34189477e-04, 2.57311843e-08, 1.12850639e-10, 2.84792676e-12,\n",
       "        4.57239767e-11, 1.02524434e-13, 4.92400645e-08, 4.52177656e-10,\n",
       "        7.62943746e-05, 1.21048447e-06, 4.68846384e-09, 4.01261314e-05,\n",
       "        2.83192378e-04, 9.99264896e-01]], dtype=float32)"
      ]
     },
     "execution_count": 37,
     "metadata": {},
     "output_type": "execute_result"
    }
   ],
   "source": [
    "y_proba"
   ]
  },
  {
   "cell_type": "code",
   "execution_count": 38,
   "metadata": {},
   "outputs": [
    {
     "data": {
      "text/plain": [
       "array(['marketing_google-home', 'marketing_kaggle',\n",
       "       'marketing_marketing apple', 'marketing_marketing_1',\n",
       "       'marketing_marketing_apple', 'marketing_marketing_copy',\n",
       "       'marketing_marketing_copy_copy', 'marketing_pixel',\n",
       "       'research_computer_vision', 'research_nlp',\n",
       "       'research_quantum_computing', 'sales_ad_words', 'sales_pixel',\n",
       "       'sales_search_history'], dtype=object)"
      ]
     },
     "execution_count": 38,
     "metadata": {},
     "output_type": "execute_result"
    }
   ],
   "source": [
    "le.classes_"
   ]
  },
  {
   "cell_type": "code",
   "execution_count": 39,
   "metadata": {},
   "outputs": [
    {
     "data": {
      "text/plain": [
       "'display marketing copy copy marketing document'"
      ]
     },
     "execution_count": 39,
     "metadata": {},
     "output_type": "execute_result"
    }
   ],
   "source": [
    "rows[X_test.index[2]]"
   ]
  },
  {
   "cell_type": "code",
   "execution_count": 40,
   "metadata": {},
   "outputs": [],
   "source": [
    "from operator import itemgetter\n",
    "final_results = pd.DataFrame(data = list(itemgetter(*list(X_test.index))(rows)), index=X_test.index, columns=['inputs'])  "
   ]
  },
  {
   "cell_type": "code",
   "execution_count": 41,
   "metadata": {},
   "outputs": [],
   "source": [
    "final_results['predictions'] = le.inverse_transform(y_pred)\n",
    "final_results['true'] = le.inverse_transform(y_test)\n",
    "final_results['query_search'] = \"\""
   ]
  },
  {
   "cell_type": "code",
   "execution_count": 42,
   "metadata": {},
   "outputs": [
    {
     "data": {
      "text/html": [
       "<div>\n",
       "<style scoped>\n",
       "    .dataframe tbody tr th:only-of-type {\n",
       "        vertical-align: middle;\n",
       "    }\n",
       "\n",
       "    .dataframe tbody tr th {\n",
       "        vertical-align: top;\n",
       "    }\n",
       "\n",
       "    .dataframe thead th {\n",
       "        text-align: right;\n",
       "    }\n",
       "</style>\n",
       "<table border=\"1\" class=\"dataframe\">\n",
       "  <thead>\n",
       "    <tr style=\"text-align: right;\">\n",
       "      <th></th>\n",
       "      <th>inputs</th>\n",
       "      <th>predictions</th>\n",
       "      <th>true</th>\n",
       "      <th>query_search</th>\n",
       "    </tr>\n",
       "  </thead>\n",
       "  <tbody>\n",
       "    <tr>\n",
       "      <th>24</th>\n",
       "      <td>please open kaggle marketing report</td>\n",
       "      <td>marketing_kaggle</td>\n",
       "      <td>marketing_kaggle</td>\n",
       "      <td></td>\n",
       "    </tr>\n",
       "    <tr>\n",
       "      <th>91</th>\n",
       "      <td>open marketing copy copy marketing report</td>\n",
       "      <td>marketing_marketing_copy_copy</td>\n",
       "      <td>marketing_marketing_copy_copy</td>\n",
       "      <td></td>\n",
       "    </tr>\n",
       "    <tr>\n",
       "      <th>98</th>\n",
       "      <td>display marketing copy copy marketing document</td>\n",
       "      <td>marketing_marketing_copy_copy</td>\n",
       "      <td>marketing_marketing_copy_copy</td>\n",
       "      <td></td>\n",
       "    </tr>\n",
       "    <tr>\n",
       "      <th>163</th>\n",
       "      <td>display quantum computing research file</td>\n",
       "      <td>research_quantum_computing</td>\n",
       "      <td>research_quantum_computing</td>\n",
       "      <td></td>\n",
       "    </tr>\n",
       "    <tr>\n",
       "      <th>52</th>\n",
       "      <td>show me marketing marketing document</td>\n",
       "      <td>marketing_marketing_1</td>\n",
       "      <td>marketing_marketing_1</td>\n",
       "      <td></td>\n",
       "    </tr>\n",
       "    <tr>\n",
       "      <th>72</th>\n",
       "      <td>show me marketing apple marketing file</td>\n",
       "      <td>marketing_marketing_apple</td>\n",
       "      <td>marketing_marketing_apple</td>\n",
       "      <td></td>\n",
       "    </tr>\n",
       "    <tr>\n",
       "      <th>121</th>\n",
       "      <td>open computer vision research report</td>\n",
       "      <td>research_computer_vision</td>\n",
       "      <td>research_computer_vision</td>\n",
       "      <td></td>\n",
       "    </tr>\n",
       "    <tr>\n",
       "      <th>117</th>\n",
       "      <td>show me pixel marketing file</td>\n",
       "      <td>marketing_pixel</td>\n",
       "      <td>marketing_pixel</td>\n",
       "      <td></td>\n",
       "    </tr>\n",
       "    <tr>\n",
       "      <th>103</th>\n",
       "      <td>display marketing copy copy marketing file</td>\n",
       "      <td>marketing_marketing_copy_copy</td>\n",
       "      <td>marketing_marketing_copy_copy</td>\n",
       "      <td></td>\n",
       "    </tr>\n",
       "    <tr>\n",
       "      <th>106</th>\n",
       "      <td>open pixel marketing report</td>\n",
       "      <td>marketing_pixel</td>\n",
       "      <td>marketing_pixel</td>\n",
       "      <td></td>\n",
       "    </tr>\n",
       "    <tr>\n",
       "      <th>55</th>\n",
       "      <td>give me marketing marketing file</td>\n",
       "      <td>marketing_marketing_1</td>\n",
       "      <td>marketing_marketing_1</td>\n",
       "      <td></td>\n",
       "    </tr>\n",
       "    <tr>\n",
       "      <th>120</th>\n",
       "      <td>give me computer vision research report</td>\n",
       "      <td>research_computer_vision</td>\n",
       "      <td>research_computer_vision</td>\n",
       "      <td></td>\n",
       "    </tr>\n",
       "    <tr>\n",
       "      <th>46</th>\n",
       "      <td>open marketing marketing report</td>\n",
       "      <td>marketing_marketing_1</td>\n",
       "      <td>marketing_marketing_1</td>\n",
       "      <td></td>\n",
       "    </tr>\n",
       "    <tr>\n",
       "      <th>78</th>\n",
       "      <td>display marketing copy marketing report</td>\n",
       "      <td>marketing_marketing_copy</td>\n",
       "      <td>marketing_marketing_copy</td>\n",
       "      <td></td>\n",
       "    </tr>\n",
       "    <tr>\n",
       "      <th>188</th>\n",
       "      <td>display pixel sales document</td>\n",
       "      <td>sales_pixel</td>\n",
       "      <td>sales_pixel</td>\n",
       "      <td></td>\n",
       "    </tr>\n",
       "    <tr>\n",
       "      <th>119</th>\n",
       "      <td>please open pixel marketing file</td>\n",
       "      <td>marketing_pixel</td>\n",
       "      <td>marketing_pixel</td>\n",
       "      <td></td>\n",
       "    </tr>\n",
       "    <tr>\n",
       "      <th>170</th>\n",
       "      <td>give me ad words sales document</td>\n",
       "      <td>sales_ad_words</td>\n",
       "      <td>sales_ad_words</td>\n",
       "      <td></td>\n",
       "    </tr>\n",
       "    <tr>\n",
       "      <th>83</th>\n",
       "      <td>display marketing copy marketing document</td>\n",
       "      <td>marketing_marketing_copy</td>\n",
       "      <td>marketing_marketing_copy</td>\n",
       "      <td></td>\n",
       "    </tr>\n",
       "    <tr>\n",
       "      <th>58</th>\n",
       "      <td>display marketing marketing file</td>\n",
       "      <td>marketing_marketing_1</td>\n",
       "      <td>marketing_marketing_1</td>\n",
       "      <td></td>\n",
       "    </tr>\n",
       "    <tr>\n",
       "      <th>132</th>\n",
       "      <td>show me computer vision research file</td>\n",
       "      <td>research_computer_vision</td>\n",
       "      <td>research_computer_vision</td>\n",
       "      <td></td>\n",
       "    </tr>\n",
       "    <tr>\n",
       "      <th>134</th>\n",
       "      <td>please open computer vision research file</td>\n",
       "      <td>research_computer_vision</td>\n",
       "      <td>research_computer_vision</td>\n",
       "      <td></td>\n",
       "    </tr>\n",
       "    <tr>\n",
       "      <th>5</th>\n",
       "      <td>give me google home marketing document</td>\n",
       "      <td>marketing_google-home</td>\n",
       "      <td>marketing_google-home</td>\n",
       "      <td></td>\n",
       "    </tr>\n",
       "    <tr>\n",
       "      <th>20</th>\n",
       "      <td>give me kaggle marketing document</td>\n",
       "      <td>marketing_kaggle</td>\n",
       "      <td>marketing_kaggle</td>\n",
       "      <td></td>\n",
       "    </tr>\n",
       "    <tr>\n",
       "      <th>184</th>\n",
       "      <td>please open pixel sales report</td>\n",
       "      <td>sales_pixel</td>\n",
       "      <td>sales_pixel</td>\n",
       "      <td></td>\n",
       "    </tr>\n",
       "    <tr>\n",
       "      <th>182</th>\n",
       "      <td>show me pixel sales report</td>\n",
       "      <td>sales_pixel</td>\n",
       "      <td>sales_pixel</td>\n",
       "      <td></td>\n",
       "    </tr>\n",
       "    <tr>\n",
       "      <th>136</th>\n",
       "      <td>open nlp research report</td>\n",
       "      <td>research_nlp</td>\n",
       "      <td>research_nlp</td>\n",
       "      <td></td>\n",
       "    </tr>\n",
       "    <tr>\n",
       "      <th>19</th>\n",
       "      <td>please open kaggle marketing report</td>\n",
       "      <td>marketing_kaggle</td>\n",
       "      <td>marketing_kaggle</td>\n",
       "      <td></td>\n",
       "    </tr>\n",
       "    <tr>\n",
       "      <th>35</th>\n",
       "      <td>give me marketing apple marketing document</td>\n",
       "      <td>marketing_marketing_apple</td>\n",
       "      <td>marketing_marketing apple</td>\n",
       "      <td></td>\n",
       "    </tr>\n",
       "    <tr>\n",
       "      <th>56</th>\n",
       "      <td>open marketing marketing file</td>\n",
       "      <td>marketing_marketing_1</td>\n",
       "      <td>marketing_marketing_1</td>\n",
       "      <td></td>\n",
       "    </tr>\n",
       "    <tr>\n",
       "      <th>26</th>\n",
       "      <td>open kaggle marketing file</td>\n",
       "      <td>marketing_kaggle</td>\n",
       "      <td>marketing_kaggle</td>\n",
       "      <td></td>\n",
       "    </tr>\n",
       "    <tr>\n",
       "      <th>1</th>\n",
       "      <td>open google home marketing report</td>\n",
       "      <td>marketing_google-home</td>\n",
       "      <td>marketing_google-home</td>\n",
       "      <td></td>\n",
       "    </tr>\n",
       "    <tr>\n",
       "      <th>2</th>\n",
       "      <td>show me google home marketing report</td>\n",
       "      <td>marketing_google-home</td>\n",
       "      <td>marketing_google-home</td>\n",
       "      <td></td>\n",
       "    </tr>\n",
       "    <tr>\n",
       "      <th>202</th>\n",
       "      <td>show me search history sales document</td>\n",
       "      <td>sales_search_history</td>\n",
       "      <td>sales_search_history</td>\n",
       "      <td></td>\n",
       "    </tr>\n",
       "    <tr>\n",
       "      <th>167</th>\n",
       "      <td>show me ad words sales report</td>\n",
       "      <td>sales_ad_words</td>\n",
       "      <td>sales_ad_words</td>\n",
       "      <td></td>\n",
       "    </tr>\n",
       "    <tr>\n",
       "      <th>10</th>\n",
       "      <td>give me google home marketing file</td>\n",
       "      <td>marketing_google-home</td>\n",
       "      <td>marketing_google-home</td>\n",
       "      <td></td>\n",
       "    </tr>\n",
       "    <tr>\n",
       "      <th>6</th>\n",
       "      <td>open google home marketing document</td>\n",
       "      <td>marketing_google-home</td>\n",
       "      <td>marketing_google-home</td>\n",
       "      <td></td>\n",
       "    </tr>\n",
       "    <tr>\n",
       "      <th>49</th>\n",
       "      <td>please open marketing marketing report</td>\n",
       "      <td>marketing_marketing_1</td>\n",
       "      <td>marketing_marketing_1</td>\n",
       "      <td></td>\n",
       "    </tr>\n",
       "    <tr>\n",
       "      <th>101</th>\n",
       "      <td>open marketing copy copy marketing file</td>\n",
       "      <td>marketing_marketing_copy_copy</td>\n",
       "      <td>marketing_marketing_copy_copy</td>\n",
       "      <td></td>\n",
       "    </tr>\n",
       "    <tr>\n",
       "      <th>208</th>\n",
       "      <td>display search history sales file</td>\n",
       "      <td>sales_search_history</td>\n",
       "      <td>sales_search_history</td>\n",
       "      <td></td>\n",
       "    </tr>\n",
       "    <tr>\n",
       "      <th>144</th>\n",
       "      <td>please open nlp research report</td>\n",
       "      <td>research_nlp</td>\n",
       "      <td>research_nlp</td>\n",
       "      <td></td>\n",
       "    </tr>\n",
       "    <tr>\n",
       "      <th>127</th>\n",
       "      <td>show me computer vision research document</td>\n",
       "      <td>research_computer_vision</td>\n",
       "      <td>research_computer_vision</td>\n",
       "      <td></td>\n",
       "    </tr>\n",
       "    <tr>\n",
       "      <th>196</th>\n",
       "      <td>open search history sales report</td>\n",
       "      <td>sales_search_history</td>\n",
       "      <td>sales_search_history</td>\n",
       "      <td></td>\n",
       "    </tr>\n",
       "  </tbody>\n",
       "</table>\n",
       "</div>"
      ],
      "text/plain": [
       "                                             inputs  \\\n",
       "24              please open kaggle marketing report   \n",
       "91        open marketing copy copy marketing report   \n",
       "98   display marketing copy copy marketing document   \n",
       "163         display quantum computing research file   \n",
       "52             show me marketing marketing document   \n",
       "72           show me marketing apple marketing file   \n",
       "121            open computer vision research report   \n",
       "117                    show me pixel marketing file   \n",
       "103      display marketing copy copy marketing file   \n",
       "106                     open pixel marketing report   \n",
       "55                 give me marketing marketing file   \n",
       "120         give me computer vision research report   \n",
       "46                  open marketing marketing report   \n",
       "78          display marketing copy marketing report   \n",
       "188                    display pixel sales document   \n",
       "119                please open pixel marketing file   \n",
       "170                 give me ad words sales document   \n",
       "83        display marketing copy marketing document   \n",
       "58                 display marketing marketing file   \n",
       "132           show me computer vision research file   \n",
       "134       please open computer vision research file   \n",
       "5            give me google home marketing document   \n",
       "20                give me kaggle marketing document   \n",
       "184                  please open pixel sales report   \n",
       "182                      show me pixel sales report   \n",
       "136                        open nlp research report   \n",
       "19              please open kaggle marketing report   \n",
       "35       give me marketing apple marketing document   \n",
       "56                    open marketing marketing file   \n",
       "26                       open kaggle marketing file   \n",
       "1                 open google home marketing report   \n",
       "2              show me google home marketing report   \n",
       "202           show me search history sales document   \n",
       "167                   show me ad words sales report   \n",
       "10               give me google home marketing file   \n",
       "6               open google home marketing document   \n",
       "49           please open marketing marketing report   \n",
       "101         open marketing copy copy marketing file   \n",
       "208               display search history sales file   \n",
       "144                 please open nlp research report   \n",
       "127       show me computer vision research document   \n",
       "196                open search history sales report   \n",
       "\n",
       "                       predictions                           true query_search  \n",
       "24                marketing_kaggle               marketing_kaggle               \n",
       "91   marketing_marketing_copy_copy  marketing_marketing_copy_copy               \n",
       "98   marketing_marketing_copy_copy  marketing_marketing_copy_copy               \n",
       "163     research_quantum_computing     research_quantum_computing               \n",
       "52           marketing_marketing_1          marketing_marketing_1               \n",
       "72       marketing_marketing_apple      marketing_marketing_apple               \n",
       "121       research_computer_vision       research_computer_vision               \n",
       "117                marketing_pixel                marketing_pixel               \n",
       "103  marketing_marketing_copy_copy  marketing_marketing_copy_copy               \n",
       "106                marketing_pixel                marketing_pixel               \n",
       "55           marketing_marketing_1          marketing_marketing_1               \n",
       "120       research_computer_vision       research_computer_vision               \n",
       "46           marketing_marketing_1          marketing_marketing_1               \n",
       "78        marketing_marketing_copy       marketing_marketing_copy               \n",
       "188                    sales_pixel                    sales_pixel               \n",
       "119                marketing_pixel                marketing_pixel               \n",
       "170                 sales_ad_words                 sales_ad_words               \n",
       "83        marketing_marketing_copy       marketing_marketing_copy               \n",
       "58           marketing_marketing_1          marketing_marketing_1               \n",
       "132       research_computer_vision       research_computer_vision               \n",
       "134       research_computer_vision       research_computer_vision               \n",
       "5            marketing_google-home          marketing_google-home               \n",
       "20                marketing_kaggle               marketing_kaggle               \n",
       "184                    sales_pixel                    sales_pixel               \n",
       "182                    sales_pixel                    sales_pixel               \n",
       "136                   research_nlp                   research_nlp               \n",
       "19                marketing_kaggle               marketing_kaggle               \n",
       "35       marketing_marketing_apple      marketing_marketing apple               \n",
       "56           marketing_marketing_1          marketing_marketing_1               \n",
       "26                marketing_kaggle               marketing_kaggle               \n",
       "1            marketing_google-home          marketing_google-home               \n",
       "2            marketing_google-home          marketing_google-home               \n",
       "202           sales_search_history           sales_search_history               \n",
       "167                 sales_ad_words                 sales_ad_words               \n",
       "10           marketing_google-home          marketing_google-home               \n",
       "6            marketing_google-home          marketing_google-home               \n",
       "49           marketing_marketing_1          marketing_marketing_1               \n",
       "101  marketing_marketing_copy_copy  marketing_marketing_copy_copy               \n",
       "208           sales_search_history           sales_search_history               \n",
       "144                   research_nlp                   research_nlp               \n",
       "127       research_computer_vision       research_computer_vision               \n",
       "196           sales_search_history           sales_search_history               "
      ]
     },
     "execution_count": 42,
     "metadata": {},
     "output_type": "execute_result"
    }
   ],
   "source": [
    "final_results"
   ]
  },
  {
   "cell_type": "code",
   "execution_count": 43,
   "metadata": {},
   "outputs": [
    {
     "name": "stdout",
     "output_type": "stream",
     "text": [
      "['C:\\\\Users\\\\Hitesh Somani\\\\Documents\\\\hobby_projects\\\\nlp_document_finder\\\\nlp_document_finder\\\\Google\\\\marketing\\\\kaggle.docx']\n",
      "['C:\\\\Users\\\\Hitesh Somani\\\\Documents\\\\hobby_projects\\\\nlp_document_finder\\\\nlp_document_finder\\\\Google\\\\marketing\\\\marketing_copy_copy.docx']\n",
      "['C:\\\\Users\\\\Hitesh Somani\\\\Documents\\\\hobby_projects\\\\nlp_document_finder\\\\nlp_document_finder\\\\Google\\\\marketing\\\\marketing_copy_copy.docx']\n",
      "['C:\\\\Users\\\\Hitesh Somani\\\\Documents\\\\hobby_projects\\\\nlp_document_finder\\\\nlp_document_finder\\\\Google\\\\research\\\\quantum_computing.pdf']\n",
      "['C:\\\\Users\\\\Hitesh Somani\\\\Documents\\\\hobby_projects\\\\nlp_document_finder\\\\nlp_document_finder\\\\Google\\\\marketing\\\\marketing_1.docx']\n",
      "['C:\\\\Users\\\\Hitesh Somani\\\\Documents\\\\hobby_projects\\\\nlp_document_finder\\\\nlp_document_finder\\\\Google\\\\marketing\\\\marketing_apple.docx']\n",
      "['C:\\\\Users\\\\Hitesh Somani\\\\Documents\\\\hobby_projects\\\\nlp_document_finder\\\\nlp_document_finder\\\\Google\\\\research\\\\computer_vision.pdf']\n",
      "['C:\\\\Users\\\\Hitesh Somani\\\\Documents\\\\hobby_projects\\\\nlp_document_finder\\\\nlp_document_finder\\\\Google\\\\marketing\\\\pixel.docx']\n",
      "['C:\\\\Users\\\\Hitesh Somani\\\\Documents\\\\hobby_projects\\\\nlp_document_finder\\\\nlp_document_finder\\\\Google\\\\marketing\\\\marketing_copy_copy.docx']\n",
      "['C:\\\\Users\\\\Hitesh Somani\\\\Documents\\\\hobby_projects\\\\nlp_document_finder\\\\nlp_document_finder\\\\Google\\\\marketing\\\\pixel.docx']\n",
      "['C:\\\\Users\\\\Hitesh Somani\\\\Documents\\\\hobby_projects\\\\nlp_document_finder\\\\nlp_document_finder\\\\Google\\\\marketing\\\\marketing_1.docx']\n",
      "['C:\\\\Users\\\\Hitesh Somani\\\\Documents\\\\hobby_projects\\\\nlp_document_finder\\\\nlp_document_finder\\\\Google\\\\research\\\\computer_vision.pdf']\n",
      "['C:\\\\Users\\\\Hitesh Somani\\\\Documents\\\\hobby_projects\\\\nlp_document_finder\\\\nlp_document_finder\\\\Google\\\\marketing\\\\marketing_1.docx']\n",
      "['C:\\\\Users\\\\Hitesh Somani\\\\Documents\\\\hobby_projects\\\\nlp_document_finder\\\\nlp_document_finder\\\\Google\\\\marketing\\\\marketing_copy.docx']\n",
      "['C:\\\\Users\\\\Hitesh Somani\\\\Documents\\\\hobby_projects\\\\nlp_document_finder\\\\nlp_document_finder\\\\Google\\\\sales\\\\pixel.xlsx']\n",
      "['C:\\\\Users\\\\Hitesh Somani\\\\Documents\\\\hobby_projects\\\\nlp_document_finder\\\\nlp_document_finder\\\\Google\\\\marketing\\\\pixel.docx']\n",
      "['C:\\\\Users\\\\Hitesh Somani\\\\Documents\\\\hobby_projects\\\\nlp_document_finder\\\\nlp_document_finder\\\\Google\\\\sales\\\\ad_words.xlsx']\n",
      "['C:\\\\Users\\\\Hitesh Somani\\\\Documents\\\\hobby_projects\\\\nlp_document_finder\\\\nlp_document_finder\\\\Google\\\\marketing\\\\marketing_copy.docx']\n",
      "['C:\\\\Users\\\\Hitesh Somani\\\\Documents\\\\hobby_projects\\\\nlp_document_finder\\\\nlp_document_finder\\\\Google\\\\marketing\\\\marketing_1.docx']\n",
      "['C:\\\\Users\\\\Hitesh Somani\\\\Documents\\\\hobby_projects\\\\nlp_document_finder\\\\nlp_document_finder\\\\Google\\\\research\\\\computer_vision.pdf']\n",
      "['C:\\\\Users\\\\Hitesh Somani\\\\Documents\\\\hobby_projects\\\\nlp_document_finder\\\\nlp_document_finder\\\\Google\\\\research\\\\computer_vision.pdf']\n",
      "['C:\\\\Users\\\\Hitesh Somani\\\\Documents\\\\hobby_projects\\\\nlp_document_finder\\\\nlp_document_finder\\\\Google\\\\marketing\\\\google-home.docx']\n",
      "['C:\\\\Users\\\\Hitesh Somani\\\\Documents\\\\hobby_projects\\\\nlp_document_finder\\\\nlp_document_finder\\\\Google\\\\marketing\\\\kaggle.docx']\n",
      "['C:\\\\Users\\\\Hitesh Somani\\\\Documents\\\\hobby_projects\\\\nlp_document_finder\\\\nlp_document_finder\\\\Google\\\\sales\\\\pixel.xlsx']\n",
      "['C:\\\\Users\\\\Hitesh Somani\\\\Documents\\\\hobby_projects\\\\nlp_document_finder\\\\nlp_document_finder\\\\Google\\\\sales\\\\pixel.xlsx']\n",
      "['C:\\\\Users\\\\Hitesh Somani\\\\Documents\\\\hobby_projects\\\\nlp_document_finder\\\\nlp_document_finder\\\\Google\\\\research\\\\nlp.pdf']\n",
      "['C:\\\\Users\\\\Hitesh Somani\\\\Documents\\\\hobby_projects\\\\nlp_document_finder\\\\nlp_document_finder\\\\Google\\\\marketing\\\\kaggle.docx']\n",
      "['C:\\\\Users\\\\Hitesh Somani\\\\Documents\\\\hobby_projects\\\\nlp_document_finder\\\\nlp_document_finder\\\\Google\\\\marketing\\\\marketing_apple.docx']\n",
      "['C:\\\\Users\\\\Hitesh Somani\\\\Documents\\\\hobby_projects\\\\nlp_document_finder\\\\nlp_document_finder\\\\Google\\\\marketing\\\\marketing_1.docx']\n",
      "['C:\\\\Users\\\\Hitesh Somani\\\\Documents\\\\hobby_projects\\\\nlp_document_finder\\\\nlp_document_finder\\\\Google\\\\marketing\\\\kaggle.docx']\n",
      "['C:\\\\Users\\\\Hitesh Somani\\\\Documents\\\\hobby_projects\\\\nlp_document_finder\\\\nlp_document_finder\\\\Google\\\\marketing\\\\google-home.docx']\n",
      "['C:\\\\Users\\\\Hitesh Somani\\\\Documents\\\\hobby_projects\\\\nlp_document_finder\\\\nlp_document_finder\\\\Google\\\\marketing\\\\google-home.docx']\n",
      "['C:\\\\Users\\\\Hitesh Somani\\\\Documents\\\\hobby_projects\\\\nlp_document_finder\\\\nlp_document_finder\\\\Google\\\\sales\\\\search_history.xlsx']\n",
      "['C:\\\\Users\\\\Hitesh Somani\\\\Documents\\\\hobby_projects\\\\nlp_document_finder\\\\nlp_document_finder\\\\Google\\\\sales\\\\ad_words.xlsx']\n",
      "['C:\\\\Users\\\\Hitesh Somani\\\\Documents\\\\hobby_projects\\\\nlp_document_finder\\\\nlp_document_finder\\\\Google\\\\marketing\\\\google-home.docx']\n",
      "['C:\\\\Users\\\\Hitesh Somani\\\\Documents\\\\hobby_projects\\\\nlp_document_finder\\\\nlp_document_finder\\\\Google\\\\marketing\\\\google-home.docx']\n",
      "['C:\\\\Users\\\\Hitesh Somani\\\\Documents\\\\hobby_projects\\\\nlp_document_finder\\\\nlp_document_finder\\\\Google\\\\marketing\\\\marketing_1.docx']\n",
      "['C:\\\\Users\\\\Hitesh Somani\\\\Documents\\\\hobby_projects\\\\nlp_document_finder\\\\nlp_document_finder\\\\Google\\\\marketing\\\\marketing_copy_copy.docx']\n",
      "['C:\\\\Users\\\\Hitesh Somani\\\\Documents\\\\hobby_projects\\\\nlp_document_finder\\\\nlp_document_finder\\\\Google\\\\sales\\\\search_history.xlsx']\n",
      "['C:\\\\Users\\\\Hitesh Somani\\\\Documents\\\\hobby_projects\\\\nlp_document_finder\\\\nlp_document_finder\\\\Google\\\\research\\\\nlp.pdf']\n",
      "['C:\\\\Users\\\\Hitesh Somani\\\\Documents\\\\hobby_projects\\\\nlp_document_finder\\\\nlp_document_finder\\\\Google\\\\research\\\\computer_vision.pdf']\n",
      "['C:\\\\Users\\\\Hitesh Somani\\\\Documents\\\\hobby_projects\\\\nlp_document_finder\\\\nlp_document_finder\\\\Google\\\\sales\\\\search_history.xlsx']\n"
     ]
    }
   ],
   "source": [
    "for index in final_results.index:\n",
    "    for intent in data['intents']:\n",
    "        if intent['label'] == final_results.loc[index, 'predictions']:\n",
    "            final_results.loc[index, 'query_search'] = intent['responses']\n",
    "            print(intent['responses'])"
   ]
  },
  {
   "cell_type": "code",
   "execution_count": 44,
   "metadata": {},
   "outputs": [
    {
     "data": {
      "text/html": [
       "<div>\n",
       "<style scoped>\n",
       "    .dataframe tbody tr th:only-of-type {\n",
       "        vertical-align: middle;\n",
       "    }\n",
       "\n",
       "    .dataframe tbody tr th {\n",
       "        vertical-align: top;\n",
       "    }\n",
       "\n",
       "    .dataframe thead th {\n",
       "        text-align: right;\n",
       "    }\n",
       "</style>\n",
       "<table border=\"1\" class=\"dataframe\">\n",
       "  <thead>\n",
       "    <tr style=\"text-align: right;\">\n",
       "      <th></th>\n",
       "      <th>inputs</th>\n",
       "      <th>predictions</th>\n",
       "      <th>true</th>\n",
       "      <th>query_search</th>\n",
       "    </tr>\n",
       "  </thead>\n",
       "  <tbody>\n",
       "    <tr>\n",
       "      <th>24</th>\n",
       "      <td>please open kaggle marketing report</td>\n",
       "      <td>marketing_kaggle</td>\n",
       "      <td>marketing_kaggle</td>\n",
       "      <td>[C:\\Users\\Hitesh Somani\\Documents\\hobby_projec...</td>\n",
       "    </tr>\n",
       "    <tr>\n",
       "      <th>91</th>\n",
       "      <td>open marketing copy copy marketing report</td>\n",
       "      <td>marketing_marketing_copy_copy</td>\n",
       "      <td>marketing_marketing_copy_copy</td>\n",
       "      <td>[C:\\Users\\Hitesh Somani\\Documents\\hobby_projec...</td>\n",
       "    </tr>\n",
       "    <tr>\n",
       "      <th>98</th>\n",
       "      <td>display marketing copy copy marketing document</td>\n",
       "      <td>marketing_marketing_copy_copy</td>\n",
       "      <td>marketing_marketing_copy_copy</td>\n",
       "      <td>[C:\\Users\\Hitesh Somani\\Documents\\hobby_projec...</td>\n",
       "    </tr>\n",
       "    <tr>\n",
       "      <th>163</th>\n",
       "      <td>display quantum computing research file</td>\n",
       "      <td>research_quantum_computing</td>\n",
       "      <td>research_quantum_computing</td>\n",
       "      <td>[C:\\Users\\Hitesh Somani\\Documents\\hobby_projec...</td>\n",
       "    </tr>\n",
       "    <tr>\n",
       "      <th>52</th>\n",
       "      <td>show me marketing marketing document</td>\n",
       "      <td>marketing_marketing_1</td>\n",
       "      <td>marketing_marketing_1</td>\n",
       "      <td>[C:\\Users\\Hitesh Somani\\Documents\\hobby_projec...</td>\n",
       "    </tr>\n",
       "    <tr>\n",
       "      <th>72</th>\n",
       "      <td>show me marketing apple marketing file</td>\n",
       "      <td>marketing_marketing_apple</td>\n",
       "      <td>marketing_marketing_apple</td>\n",
       "      <td>[C:\\Users\\Hitesh Somani\\Documents\\hobby_projec...</td>\n",
       "    </tr>\n",
       "    <tr>\n",
       "      <th>121</th>\n",
       "      <td>open computer vision research report</td>\n",
       "      <td>research_computer_vision</td>\n",
       "      <td>research_computer_vision</td>\n",
       "      <td>[C:\\Users\\Hitesh Somani\\Documents\\hobby_projec...</td>\n",
       "    </tr>\n",
       "    <tr>\n",
       "      <th>117</th>\n",
       "      <td>show me pixel marketing file</td>\n",
       "      <td>marketing_pixel</td>\n",
       "      <td>marketing_pixel</td>\n",
       "      <td>[C:\\Users\\Hitesh Somani\\Documents\\hobby_projec...</td>\n",
       "    </tr>\n",
       "    <tr>\n",
       "      <th>103</th>\n",
       "      <td>display marketing copy copy marketing file</td>\n",
       "      <td>marketing_marketing_copy_copy</td>\n",
       "      <td>marketing_marketing_copy_copy</td>\n",
       "      <td>[C:\\Users\\Hitesh Somani\\Documents\\hobby_projec...</td>\n",
       "    </tr>\n",
       "    <tr>\n",
       "      <th>106</th>\n",
       "      <td>open pixel marketing report</td>\n",
       "      <td>marketing_pixel</td>\n",
       "      <td>marketing_pixel</td>\n",
       "      <td>[C:\\Users\\Hitesh Somani\\Documents\\hobby_projec...</td>\n",
       "    </tr>\n",
       "    <tr>\n",
       "      <th>55</th>\n",
       "      <td>give me marketing marketing file</td>\n",
       "      <td>marketing_marketing_1</td>\n",
       "      <td>marketing_marketing_1</td>\n",
       "      <td>[C:\\Users\\Hitesh Somani\\Documents\\hobby_projec...</td>\n",
       "    </tr>\n",
       "    <tr>\n",
       "      <th>120</th>\n",
       "      <td>give me computer vision research report</td>\n",
       "      <td>research_computer_vision</td>\n",
       "      <td>research_computer_vision</td>\n",
       "      <td>[C:\\Users\\Hitesh Somani\\Documents\\hobby_projec...</td>\n",
       "    </tr>\n",
       "    <tr>\n",
       "      <th>46</th>\n",
       "      <td>open marketing marketing report</td>\n",
       "      <td>marketing_marketing_1</td>\n",
       "      <td>marketing_marketing_1</td>\n",
       "      <td>[C:\\Users\\Hitesh Somani\\Documents\\hobby_projec...</td>\n",
       "    </tr>\n",
       "    <tr>\n",
       "      <th>78</th>\n",
       "      <td>display marketing copy marketing report</td>\n",
       "      <td>marketing_marketing_copy</td>\n",
       "      <td>marketing_marketing_copy</td>\n",
       "      <td>[C:\\Users\\Hitesh Somani\\Documents\\hobby_projec...</td>\n",
       "    </tr>\n",
       "    <tr>\n",
       "      <th>188</th>\n",
       "      <td>display pixel sales document</td>\n",
       "      <td>sales_pixel</td>\n",
       "      <td>sales_pixel</td>\n",
       "      <td>[C:\\Users\\Hitesh Somani\\Documents\\hobby_projec...</td>\n",
       "    </tr>\n",
       "    <tr>\n",
       "      <th>119</th>\n",
       "      <td>please open pixel marketing file</td>\n",
       "      <td>marketing_pixel</td>\n",
       "      <td>marketing_pixel</td>\n",
       "      <td>[C:\\Users\\Hitesh Somani\\Documents\\hobby_projec...</td>\n",
       "    </tr>\n",
       "    <tr>\n",
       "      <th>170</th>\n",
       "      <td>give me ad words sales document</td>\n",
       "      <td>sales_ad_words</td>\n",
       "      <td>sales_ad_words</td>\n",
       "      <td>[C:\\Users\\Hitesh Somani\\Documents\\hobby_projec...</td>\n",
       "    </tr>\n",
       "    <tr>\n",
       "      <th>83</th>\n",
       "      <td>display marketing copy marketing document</td>\n",
       "      <td>marketing_marketing_copy</td>\n",
       "      <td>marketing_marketing_copy</td>\n",
       "      <td>[C:\\Users\\Hitesh Somani\\Documents\\hobby_projec...</td>\n",
       "    </tr>\n",
       "    <tr>\n",
       "      <th>58</th>\n",
       "      <td>display marketing marketing file</td>\n",
       "      <td>marketing_marketing_1</td>\n",
       "      <td>marketing_marketing_1</td>\n",
       "      <td>[C:\\Users\\Hitesh Somani\\Documents\\hobby_projec...</td>\n",
       "    </tr>\n",
       "    <tr>\n",
       "      <th>132</th>\n",
       "      <td>show me computer vision research file</td>\n",
       "      <td>research_computer_vision</td>\n",
       "      <td>research_computer_vision</td>\n",
       "      <td>[C:\\Users\\Hitesh Somani\\Documents\\hobby_projec...</td>\n",
       "    </tr>\n",
       "    <tr>\n",
       "      <th>134</th>\n",
       "      <td>please open computer vision research file</td>\n",
       "      <td>research_computer_vision</td>\n",
       "      <td>research_computer_vision</td>\n",
       "      <td>[C:\\Users\\Hitesh Somani\\Documents\\hobby_projec...</td>\n",
       "    </tr>\n",
       "    <tr>\n",
       "      <th>5</th>\n",
       "      <td>give me google home marketing document</td>\n",
       "      <td>marketing_google-home</td>\n",
       "      <td>marketing_google-home</td>\n",
       "      <td>[C:\\Users\\Hitesh Somani\\Documents\\hobby_projec...</td>\n",
       "    </tr>\n",
       "    <tr>\n",
       "      <th>20</th>\n",
       "      <td>give me kaggle marketing document</td>\n",
       "      <td>marketing_kaggle</td>\n",
       "      <td>marketing_kaggle</td>\n",
       "      <td>[C:\\Users\\Hitesh Somani\\Documents\\hobby_projec...</td>\n",
       "    </tr>\n",
       "    <tr>\n",
       "      <th>184</th>\n",
       "      <td>please open pixel sales report</td>\n",
       "      <td>sales_pixel</td>\n",
       "      <td>sales_pixel</td>\n",
       "      <td>[C:\\Users\\Hitesh Somani\\Documents\\hobby_projec...</td>\n",
       "    </tr>\n",
       "    <tr>\n",
       "      <th>182</th>\n",
       "      <td>show me pixel sales report</td>\n",
       "      <td>sales_pixel</td>\n",
       "      <td>sales_pixel</td>\n",
       "      <td>[C:\\Users\\Hitesh Somani\\Documents\\hobby_projec...</td>\n",
       "    </tr>\n",
       "    <tr>\n",
       "      <th>136</th>\n",
       "      <td>open nlp research report</td>\n",
       "      <td>research_nlp</td>\n",
       "      <td>research_nlp</td>\n",
       "      <td>[C:\\Users\\Hitesh Somani\\Documents\\hobby_projec...</td>\n",
       "    </tr>\n",
       "    <tr>\n",
       "      <th>19</th>\n",
       "      <td>please open kaggle marketing report</td>\n",
       "      <td>marketing_kaggle</td>\n",
       "      <td>marketing_kaggle</td>\n",
       "      <td>[C:\\Users\\Hitesh Somani\\Documents\\hobby_projec...</td>\n",
       "    </tr>\n",
       "    <tr>\n",
       "      <th>35</th>\n",
       "      <td>give me marketing apple marketing document</td>\n",
       "      <td>marketing_marketing_apple</td>\n",
       "      <td>marketing_marketing apple</td>\n",
       "      <td>[C:\\Users\\Hitesh Somani\\Documents\\hobby_projec...</td>\n",
       "    </tr>\n",
       "    <tr>\n",
       "      <th>56</th>\n",
       "      <td>open marketing marketing file</td>\n",
       "      <td>marketing_marketing_1</td>\n",
       "      <td>marketing_marketing_1</td>\n",
       "      <td>[C:\\Users\\Hitesh Somani\\Documents\\hobby_projec...</td>\n",
       "    </tr>\n",
       "    <tr>\n",
       "      <th>26</th>\n",
       "      <td>open kaggle marketing file</td>\n",
       "      <td>marketing_kaggle</td>\n",
       "      <td>marketing_kaggle</td>\n",
       "      <td>[C:\\Users\\Hitesh Somani\\Documents\\hobby_projec...</td>\n",
       "    </tr>\n",
       "    <tr>\n",
       "      <th>1</th>\n",
       "      <td>open google home marketing report</td>\n",
       "      <td>marketing_google-home</td>\n",
       "      <td>marketing_google-home</td>\n",
       "      <td>[C:\\Users\\Hitesh Somani\\Documents\\hobby_projec...</td>\n",
       "    </tr>\n",
       "    <tr>\n",
       "      <th>2</th>\n",
       "      <td>show me google home marketing report</td>\n",
       "      <td>marketing_google-home</td>\n",
       "      <td>marketing_google-home</td>\n",
       "      <td>[C:\\Users\\Hitesh Somani\\Documents\\hobby_projec...</td>\n",
       "    </tr>\n",
       "    <tr>\n",
       "      <th>202</th>\n",
       "      <td>show me search history sales document</td>\n",
       "      <td>sales_search_history</td>\n",
       "      <td>sales_search_history</td>\n",
       "      <td>[C:\\Users\\Hitesh Somani\\Documents\\hobby_projec...</td>\n",
       "    </tr>\n",
       "    <tr>\n",
       "      <th>167</th>\n",
       "      <td>show me ad words sales report</td>\n",
       "      <td>sales_ad_words</td>\n",
       "      <td>sales_ad_words</td>\n",
       "      <td>[C:\\Users\\Hitesh Somani\\Documents\\hobby_projec...</td>\n",
       "    </tr>\n",
       "    <tr>\n",
       "      <th>10</th>\n",
       "      <td>give me google home marketing file</td>\n",
       "      <td>marketing_google-home</td>\n",
       "      <td>marketing_google-home</td>\n",
       "      <td>[C:\\Users\\Hitesh Somani\\Documents\\hobby_projec...</td>\n",
       "    </tr>\n",
       "    <tr>\n",
       "      <th>6</th>\n",
       "      <td>open google home marketing document</td>\n",
       "      <td>marketing_google-home</td>\n",
       "      <td>marketing_google-home</td>\n",
       "      <td>[C:\\Users\\Hitesh Somani\\Documents\\hobby_projec...</td>\n",
       "    </tr>\n",
       "    <tr>\n",
       "      <th>49</th>\n",
       "      <td>please open marketing marketing report</td>\n",
       "      <td>marketing_marketing_1</td>\n",
       "      <td>marketing_marketing_1</td>\n",
       "      <td>[C:\\Users\\Hitesh Somani\\Documents\\hobby_projec...</td>\n",
       "    </tr>\n",
       "    <tr>\n",
       "      <th>101</th>\n",
       "      <td>open marketing copy copy marketing file</td>\n",
       "      <td>marketing_marketing_copy_copy</td>\n",
       "      <td>marketing_marketing_copy_copy</td>\n",
       "      <td>[C:\\Users\\Hitesh Somani\\Documents\\hobby_projec...</td>\n",
       "    </tr>\n",
       "    <tr>\n",
       "      <th>208</th>\n",
       "      <td>display search history sales file</td>\n",
       "      <td>sales_search_history</td>\n",
       "      <td>sales_search_history</td>\n",
       "      <td>[C:\\Users\\Hitesh Somani\\Documents\\hobby_projec...</td>\n",
       "    </tr>\n",
       "    <tr>\n",
       "      <th>144</th>\n",
       "      <td>please open nlp research report</td>\n",
       "      <td>research_nlp</td>\n",
       "      <td>research_nlp</td>\n",
       "      <td>[C:\\Users\\Hitesh Somani\\Documents\\hobby_projec...</td>\n",
       "    </tr>\n",
       "    <tr>\n",
       "      <th>127</th>\n",
       "      <td>show me computer vision research document</td>\n",
       "      <td>research_computer_vision</td>\n",
       "      <td>research_computer_vision</td>\n",
       "      <td>[C:\\Users\\Hitesh Somani\\Documents\\hobby_projec...</td>\n",
       "    </tr>\n",
       "    <tr>\n",
       "      <th>196</th>\n",
       "      <td>open search history sales report</td>\n",
       "      <td>sales_search_history</td>\n",
       "      <td>sales_search_history</td>\n",
       "      <td>[C:\\Users\\Hitesh Somani\\Documents\\hobby_projec...</td>\n",
       "    </tr>\n",
       "  </tbody>\n",
       "</table>\n",
       "</div>"
      ],
      "text/plain": [
       "                                             inputs  \\\n",
       "24              please open kaggle marketing report   \n",
       "91        open marketing copy copy marketing report   \n",
       "98   display marketing copy copy marketing document   \n",
       "163         display quantum computing research file   \n",
       "52             show me marketing marketing document   \n",
       "72           show me marketing apple marketing file   \n",
       "121            open computer vision research report   \n",
       "117                    show me pixel marketing file   \n",
       "103      display marketing copy copy marketing file   \n",
       "106                     open pixel marketing report   \n",
       "55                 give me marketing marketing file   \n",
       "120         give me computer vision research report   \n",
       "46                  open marketing marketing report   \n",
       "78          display marketing copy marketing report   \n",
       "188                    display pixel sales document   \n",
       "119                please open pixel marketing file   \n",
       "170                 give me ad words sales document   \n",
       "83        display marketing copy marketing document   \n",
       "58                 display marketing marketing file   \n",
       "132           show me computer vision research file   \n",
       "134       please open computer vision research file   \n",
       "5            give me google home marketing document   \n",
       "20                give me kaggle marketing document   \n",
       "184                  please open pixel sales report   \n",
       "182                      show me pixel sales report   \n",
       "136                        open nlp research report   \n",
       "19              please open kaggle marketing report   \n",
       "35       give me marketing apple marketing document   \n",
       "56                    open marketing marketing file   \n",
       "26                       open kaggle marketing file   \n",
       "1                 open google home marketing report   \n",
       "2              show me google home marketing report   \n",
       "202           show me search history sales document   \n",
       "167                   show me ad words sales report   \n",
       "10               give me google home marketing file   \n",
       "6               open google home marketing document   \n",
       "49           please open marketing marketing report   \n",
       "101         open marketing copy copy marketing file   \n",
       "208               display search history sales file   \n",
       "144                 please open nlp research report   \n",
       "127       show me computer vision research document   \n",
       "196                open search history sales report   \n",
       "\n",
       "                       predictions                           true  \\\n",
       "24                marketing_kaggle               marketing_kaggle   \n",
       "91   marketing_marketing_copy_copy  marketing_marketing_copy_copy   \n",
       "98   marketing_marketing_copy_copy  marketing_marketing_copy_copy   \n",
       "163     research_quantum_computing     research_quantum_computing   \n",
       "52           marketing_marketing_1          marketing_marketing_1   \n",
       "72       marketing_marketing_apple      marketing_marketing_apple   \n",
       "121       research_computer_vision       research_computer_vision   \n",
       "117                marketing_pixel                marketing_pixel   \n",
       "103  marketing_marketing_copy_copy  marketing_marketing_copy_copy   \n",
       "106                marketing_pixel                marketing_pixel   \n",
       "55           marketing_marketing_1          marketing_marketing_1   \n",
       "120       research_computer_vision       research_computer_vision   \n",
       "46           marketing_marketing_1          marketing_marketing_1   \n",
       "78        marketing_marketing_copy       marketing_marketing_copy   \n",
       "188                    sales_pixel                    sales_pixel   \n",
       "119                marketing_pixel                marketing_pixel   \n",
       "170                 sales_ad_words                 sales_ad_words   \n",
       "83        marketing_marketing_copy       marketing_marketing_copy   \n",
       "58           marketing_marketing_1          marketing_marketing_1   \n",
       "132       research_computer_vision       research_computer_vision   \n",
       "134       research_computer_vision       research_computer_vision   \n",
       "5            marketing_google-home          marketing_google-home   \n",
       "20                marketing_kaggle               marketing_kaggle   \n",
       "184                    sales_pixel                    sales_pixel   \n",
       "182                    sales_pixel                    sales_pixel   \n",
       "136                   research_nlp                   research_nlp   \n",
       "19                marketing_kaggle               marketing_kaggle   \n",
       "35       marketing_marketing_apple      marketing_marketing apple   \n",
       "56           marketing_marketing_1          marketing_marketing_1   \n",
       "26                marketing_kaggle               marketing_kaggle   \n",
       "1            marketing_google-home          marketing_google-home   \n",
       "2            marketing_google-home          marketing_google-home   \n",
       "202           sales_search_history           sales_search_history   \n",
       "167                 sales_ad_words                 sales_ad_words   \n",
       "10           marketing_google-home          marketing_google-home   \n",
       "6            marketing_google-home          marketing_google-home   \n",
       "49           marketing_marketing_1          marketing_marketing_1   \n",
       "101  marketing_marketing_copy_copy  marketing_marketing_copy_copy   \n",
       "208           sales_search_history           sales_search_history   \n",
       "144                   research_nlp                   research_nlp   \n",
       "127       research_computer_vision       research_computer_vision   \n",
       "196           sales_search_history           sales_search_history   \n",
       "\n",
       "                                          query_search  \n",
       "24   [C:\\Users\\Hitesh Somani\\Documents\\hobby_projec...  \n",
       "91   [C:\\Users\\Hitesh Somani\\Documents\\hobby_projec...  \n",
       "98   [C:\\Users\\Hitesh Somani\\Documents\\hobby_projec...  \n",
       "163  [C:\\Users\\Hitesh Somani\\Documents\\hobby_projec...  \n",
       "52   [C:\\Users\\Hitesh Somani\\Documents\\hobby_projec...  \n",
       "72   [C:\\Users\\Hitesh Somani\\Documents\\hobby_projec...  \n",
       "121  [C:\\Users\\Hitesh Somani\\Documents\\hobby_projec...  \n",
       "117  [C:\\Users\\Hitesh Somani\\Documents\\hobby_projec...  \n",
       "103  [C:\\Users\\Hitesh Somani\\Documents\\hobby_projec...  \n",
       "106  [C:\\Users\\Hitesh Somani\\Documents\\hobby_projec...  \n",
       "55   [C:\\Users\\Hitesh Somani\\Documents\\hobby_projec...  \n",
       "120  [C:\\Users\\Hitesh Somani\\Documents\\hobby_projec...  \n",
       "46   [C:\\Users\\Hitesh Somani\\Documents\\hobby_projec...  \n",
       "78   [C:\\Users\\Hitesh Somani\\Documents\\hobby_projec...  \n",
       "188  [C:\\Users\\Hitesh Somani\\Documents\\hobby_projec...  \n",
       "119  [C:\\Users\\Hitesh Somani\\Documents\\hobby_projec...  \n",
       "170  [C:\\Users\\Hitesh Somani\\Documents\\hobby_projec...  \n",
       "83   [C:\\Users\\Hitesh Somani\\Documents\\hobby_projec...  \n",
       "58   [C:\\Users\\Hitesh Somani\\Documents\\hobby_projec...  \n",
       "132  [C:\\Users\\Hitesh Somani\\Documents\\hobby_projec...  \n",
       "134  [C:\\Users\\Hitesh Somani\\Documents\\hobby_projec...  \n",
       "5    [C:\\Users\\Hitesh Somani\\Documents\\hobby_projec...  \n",
       "20   [C:\\Users\\Hitesh Somani\\Documents\\hobby_projec...  \n",
       "184  [C:\\Users\\Hitesh Somani\\Documents\\hobby_projec...  \n",
       "182  [C:\\Users\\Hitesh Somani\\Documents\\hobby_projec...  \n",
       "136  [C:\\Users\\Hitesh Somani\\Documents\\hobby_projec...  \n",
       "19   [C:\\Users\\Hitesh Somani\\Documents\\hobby_projec...  \n",
       "35   [C:\\Users\\Hitesh Somani\\Documents\\hobby_projec...  \n",
       "56   [C:\\Users\\Hitesh Somani\\Documents\\hobby_projec...  \n",
       "26   [C:\\Users\\Hitesh Somani\\Documents\\hobby_projec...  \n",
       "1    [C:\\Users\\Hitesh Somani\\Documents\\hobby_projec...  \n",
       "2    [C:\\Users\\Hitesh Somani\\Documents\\hobby_projec...  \n",
       "202  [C:\\Users\\Hitesh Somani\\Documents\\hobby_projec...  \n",
       "167  [C:\\Users\\Hitesh Somani\\Documents\\hobby_projec...  \n",
       "10   [C:\\Users\\Hitesh Somani\\Documents\\hobby_projec...  \n",
       "6    [C:\\Users\\Hitesh Somani\\Documents\\hobby_projec...  \n",
       "49   [C:\\Users\\Hitesh Somani\\Documents\\hobby_projec...  \n",
       "101  [C:\\Users\\Hitesh Somani\\Documents\\hobby_projec...  \n",
       "208  [C:\\Users\\Hitesh Somani\\Documents\\hobby_projec...  \n",
       "144  [C:\\Users\\Hitesh Somani\\Documents\\hobby_projec...  \n",
       "127  [C:\\Users\\Hitesh Somani\\Documents\\hobby_projec...  \n",
       "196  [C:\\Users\\Hitesh Somani\\Documents\\hobby_projec...  "
      ]
     },
     "execution_count": 44,
     "metadata": {},
     "output_type": "execute_result"
    }
   ],
   "source": [
    "final_results"
   ]
  },
  {
   "cell_type": "code",
   "execution_count": null,
   "metadata": {},
   "outputs": [],
   "source": []
  },
  {
   "cell_type": "markdown",
   "metadata": {},
   "source": [
    "### Model 2 - KNN"
   ]
  },
  {
   "cell_type": "code",
   "execution_count": 45,
   "metadata": {},
   "outputs": [],
   "source": [
    "def cosine_similarity(x,y):\n",
    "    mod_x = (sum(x*x))**0.5\n",
    "    mod_y = (sum(y*y))**0.5\n",
    "    \n",
    "    similarity = np.dot(x,y) / (mod_x*mod_y)\n",
    "    return similarity"
   ]
  },
  {
   "cell_type": "code",
   "execution_count": 46,
   "metadata": {},
   "outputs": [],
   "source": [
    "from sklearn.neighbors import KNeighborsClassifier\n",
    "from sklearn.decomposition import PCA"
   ]
  },
  {
   "cell_type": "code",
   "execution_count": 47,
   "metadata": {},
   "outputs": [
    {
     "data": {
      "text/plain": [
       "KNeighborsClassifier(metric=<function cosine_similarity at 0x000001FA347BCEE0>,\n",
       "                     n_neighbors=3)"
      ]
     },
     "execution_count": 47,
     "metadata": {},
     "output_type": "execute_result"
    }
   ],
   "source": [
    "pca = PCA(n_components = 30, random_state=10)\n",
    "pca.fit(X_train)\n",
    "X_knn_train = pca.transform(X_train)\n",
    "X_knn_test = pca.transform(X_test)\n",
    "\n",
    "\n",
    "knn = KNeighborsClassifier(n_neighbors=3, metric=cosine_similarity)\n",
    "knn.fit(X_knn_train, y_train)"
   ]
  },
  {
   "cell_type": "code",
   "execution_count": 48,
   "metadata": {},
   "outputs": [
    {
     "data": {
      "text/plain": [
       "0.9706600002245978"
      ]
     },
     "execution_count": 48,
     "metadata": {},
     "output_type": "execute_result"
    }
   ],
   "source": [
    "sum(pca.explained_variance_ratio_)"
   ]
  },
  {
   "cell_type": "code",
   "execution_count": 49,
   "metadata": {},
   "outputs": [],
   "source": [
    "y_knn_pred = knn.predict(X_knn_test)"
   ]
  },
  {
   "cell_type": "code",
   "execution_count": 50,
   "metadata": {},
   "outputs": [
    {
     "data": {
      "text/plain": [
       "array([2, 7, 7, 2, 7, 7, 4, 2, 7, 2, 7, 2, 6, 7, 2, 2, 2, 7, 7, 2, 3, 1,\n",
       "       0, 4, 4, 2, 2, 1, 7, 7, 1, 7, 2, 2, 1, 7, 7, 7, 4, 2, 2, 4])"
      ]
     },
     "execution_count": 50,
     "metadata": {},
     "output_type": "execute_result"
    }
   ],
   "source": [
    "y_knn_pred"
   ]
  },
  {
   "cell_type": "code",
   "execution_count": 51,
   "metadata": {},
   "outputs": [
    {
     "data": {
      "text/plain": [
       "array([ 1,  6,  6, 10,  3,  4,  8,  7,  6,  7,  3,  8,  3,  5, 12,  7, 11,\n",
       "        5,  3,  8,  8,  0,  1, 12, 12,  9,  1,  2,  3,  1,  0,  0, 13, 11,\n",
       "        0,  0,  3,  6, 13,  9,  8, 13])"
      ]
     },
     "execution_count": 51,
     "metadata": {},
     "output_type": "execute_result"
    }
   ],
   "source": [
    "y_test"
   ]
  },
  {
   "cell_type": "code",
   "execution_count": 52,
   "metadata": {},
   "outputs": [
    {
     "data": {
      "text/plain": [
       "array(['marketing_marketing apple', 'marketing_pixel', 'marketing_pixel',\n",
       "       'marketing_marketing apple', 'marketing_pixel', 'marketing_pixel',\n",
       "       'marketing_marketing_apple', 'marketing_marketing apple',\n",
       "       'marketing_pixel', 'marketing_marketing apple', 'marketing_pixel',\n",
       "       'marketing_marketing apple', 'marketing_marketing_copy_copy',\n",
       "       'marketing_pixel', 'marketing_marketing apple',\n",
       "       'marketing_marketing apple', 'marketing_marketing apple',\n",
       "       'marketing_pixel', 'marketing_pixel', 'marketing_marketing apple',\n",
       "       'marketing_marketing_1', 'marketing_kaggle',\n",
       "       'marketing_google-home', 'marketing_marketing_apple',\n",
       "       'marketing_marketing_apple', 'marketing_marketing apple',\n",
       "       'marketing_marketing apple', 'marketing_kaggle', 'marketing_pixel',\n",
       "       'marketing_pixel', 'marketing_kaggle', 'marketing_pixel',\n",
       "       'marketing_marketing apple', 'marketing_marketing apple',\n",
       "       'marketing_kaggle', 'marketing_pixel', 'marketing_pixel',\n",
       "       'marketing_pixel', 'marketing_marketing_apple',\n",
       "       'marketing_marketing apple', 'marketing_marketing apple',\n",
       "       'marketing_marketing_apple'], dtype=object)"
      ]
     },
     "execution_count": 52,
     "metadata": {},
     "output_type": "execute_result"
    }
   ],
   "source": [
    "le.inverse_transform(y_knn_pred)"
   ]
  },
  {
   "cell_type": "code",
   "execution_count": 53,
   "metadata": {},
   "outputs": [
    {
     "data": {
      "text/html": [
       "<div>\n",
       "<style scoped>\n",
       "    .dataframe tbody tr th:only-of-type {\n",
       "        vertical-align: middle;\n",
       "    }\n",
       "\n",
       "    .dataframe tbody tr th {\n",
       "        vertical-align: top;\n",
       "    }\n",
       "\n",
       "    .dataframe thead th {\n",
       "        text-align: right;\n",
       "    }\n",
       "</style>\n",
       "<table border=\"1\" class=\"dataframe\">\n",
       "  <thead>\n",
       "    <tr style=\"text-align: right;\">\n",
       "      <th></th>\n",
       "      <th>inputs</th>\n",
       "      <th>predictions</th>\n",
       "      <th>true</th>\n",
       "      <th>query_search</th>\n",
       "    </tr>\n",
       "  </thead>\n",
       "  <tbody>\n",
       "    <tr>\n",
       "      <th>24</th>\n",
       "      <td>please open kaggle marketing report</td>\n",
       "      <td>marketing_kaggle</td>\n",
       "      <td>marketing_kaggle</td>\n",
       "      <td>[C:\\Users\\Hitesh Somani\\Documents\\hobby_projec...</td>\n",
       "    </tr>\n",
       "    <tr>\n",
       "      <th>91</th>\n",
       "      <td>open marketing copy copy marketing report</td>\n",
       "      <td>marketing_marketing_copy_copy</td>\n",
       "      <td>marketing_marketing_copy_copy</td>\n",
       "      <td>[C:\\Users\\Hitesh Somani\\Documents\\hobby_projec...</td>\n",
       "    </tr>\n",
       "    <tr>\n",
       "      <th>98</th>\n",
       "      <td>display marketing copy copy marketing document</td>\n",
       "      <td>marketing_marketing_copy_copy</td>\n",
       "      <td>marketing_marketing_copy_copy</td>\n",
       "      <td>[C:\\Users\\Hitesh Somani\\Documents\\hobby_projec...</td>\n",
       "    </tr>\n",
       "    <tr>\n",
       "      <th>163</th>\n",
       "      <td>display quantum computing research file</td>\n",
       "      <td>research_quantum_computing</td>\n",
       "      <td>research_quantum_computing</td>\n",
       "      <td>[C:\\Users\\Hitesh Somani\\Documents\\hobby_projec...</td>\n",
       "    </tr>\n",
       "    <tr>\n",
       "      <th>52</th>\n",
       "      <td>show me marketing marketing document</td>\n",
       "      <td>marketing_marketing_1</td>\n",
       "      <td>marketing_marketing_1</td>\n",
       "      <td>[C:\\Users\\Hitesh Somani\\Documents\\hobby_projec...</td>\n",
       "    </tr>\n",
       "  </tbody>\n",
       "</table>\n",
       "</div>"
      ],
      "text/plain": [
       "                                             inputs  \\\n",
       "24              please open kaggle marketing report   \n",
       "91        open marketing copy copy marketing report   \n",
       "98   display marketing copy copy marketing document   \n",
       "163         display quantum computing research file   \n",
       "52             show me marketing marketing document   \n",
       "\n",
       "                       predictions                           true  \\\n",
       "24                marketing_kaggle               marketing_kaggle   \n",
       "91   marketing_marketing_copy_copy  marketing_marketing_copy_copy   \n",
       "98   marketing_marketing_copy_copy  marketing_marketing_copy_copy   \n",
       "163     research_quantum_computing     research_quantum_computing   \n",
       "52           marketing_marketing_1          marketing_marketing_1   \n",
       "\n",
       "                                          query_search  \n",
       "24   [C:\\Users\\Hitesh Somani\\Documents\\hobby_projec...  \n",
       "91   [C:\\Users\\Hitesh Somani\\Documents\\hobby_projec...  \n",
       "98   [C:\\Users\\Hitesh Somani\\Documents\\hobby_projec...  \n",
       "163  [C:\\Users\\Hitesh Somani\\Documents\\hobby_projec...  \n",
       "52   [C:\\Users\\Hitesh Somani\\Documents\\hobby_projec...  "
      ]
     },
     "execution_count": 53,
     "metadata": {},
     "output_type": "execute_result"
    }
   ],
   "source": [
    "final_results.head()"
   ]
  },
  {
   "cell_type": "markdown",
   "metadata": {},
   "source": [
    "## User Input Test"
   ]
  },
  {
   "cell_type": "code",
   "execution_count": 54,
   "metadata": {},
   "outputs": [
    {
     "data": {
      "text/plain": [
       "array(['marketing_google-home', 'marketing_kaggle',\n",
       "       'marketing_marketing apple', 'marketing_marketing_1',\n",
       "       'marketing_marketing_apple', 'marketing_marketing_copy',\n",
       "       'marketing_marketing_copy_copy', 'marketing_pixel',\n",
       "       'research_computer_vision', 'research_nlp',\n",
       "       'research_quantum_computing', 'sales_ad_words', 'sales_pixel',\n",
       "       'sales_search_history'], dtype=object)"
      ]
     },
     "execution_count": 54,
     "metadata": {},
     "output_type": "execute_result"
    }
   ],
   "source": [
    "le.classes_"
   ]
  },
  {
   "cell_type": "code",
   "execution_count": 55,
   "metadata": {},
   "outputs": [
    {
     "data": {
      "text/plain": [
       "['le.joblib']"
      ]
     },
     "execution_count": 55,
     "metadata": {},
     "output_type": "execute_result"
    }
   ],
   "source": [
    "import joblib\n",
    "\n",
    "joblib.dump(le, 'le.joblib')"
   ]
  },
  {
   "cell_type": "markdown",
   "metadata": {},
   "source": [
    "#### Test1: Asking with document name and folder name"
   ]
  },
  {
   "cell_type": "code",
   "execution_count": 56,
   "metadata": {},
   "outputs": [],
   "source": [
    "user_input = [\"Hi open the sales google home document please\"]\n",
    "\n",
    "embedding = embed(user_input)\n",
    "X_user = pd.DataFrame(data=embedding.numpy())"
   ]
  },
  {
   "cell_type": "code",
   "execution_count": 57,
   "metadata": {},
   "outputs": [
    {
     "name": "stdout",
     "output_type": "stream",
     "text": [
      "label predicted: ['marketing_google-home']\n",
      "Query search: ['C:\\\\Users\\\\Hitesh Somani\\\\Documents\\\\hobby_projects\\\\nlp_document_finder\\\\nlp_document_finder\\\\Google\\\\marketing\\\\google-home.docx']\n"
     ]
    }
   ],
   "source": [
    "y_proba = model.predict(X_user)\n",
    "y_pred = y_proba.argmax(axis=1)\n",
    "print(f\"label predicted: {le.inverse_transform(y_pred)}\")\n",
    "for intent in data['intents']:\n",
    "    if intent['label'] == le.inverse_transform(y_pred):\n",
    "        print(f\"Query search: {intent['responses']}\")"
   ]
  },
  {
   "cell_type": "code",
   "execution_count": 58,
   "metadata": {},
   "outputs": [
    {
     "data": {
      "text/plain": [
       "array([[9.7419769e-01, 9.9940415e-05, 1.3899156e-09, 3.3391490e-08,\n",
       "        7.0754197e-10, 1.1299594e-08, 9.2031987e-06, 3.2007049e-06,\n",
       "        3.8126229e-05, 1.3764459e-04, 5.3037570e-07, 1.2741656e-03,\n",
       "        1.1600889e-02, 1.2638419e-02]], dtype=float32)"
      ]
     },
     "execution_count": 58,
     "metadata": {},
     "output_type": "execute_result"
    }
   ],
   "source": [
    "(y_proba)"
   ]
  },
  {
   "cell_type": "markdown",
   "metadata": {},
   "source": [
    "#### Result: The user made a mistake. google home document is in marketing folder"
   ]
  },
  {
   "cell_type": "code",
   "execution_count": null,
   "metadata": {},
   "outputs": [],
   "source": []
  },
  {
   "cell_type": "markdown",
   "metadata": {},
   "source": [
    "#### Test2: Asking with document name and folder name but _'can you get me'_ this is not used in training data so far "
   ]
  },
  {
   "cell_type": "code",
   "execution_count": 59,
   "metadata": {},
   "outputs": [],
   "source": [
    "user_input = [\"Hi can you get me sales pixel document\"]\n",
    "\n",
    "embedding = embed(user_input)\n",
    "X_user = pd.DataFrame(data=embedding.numpy())"
   ]
  },
  {
   "cell_type": "code",
   "execution_count": 60,
   "metadata": {},
   "outputs": [
    {
     "name": "stdout",
     "output_type": "stream",
     "text": [
      "label predicted: ['sales_pixel']\n",
      "Query search: ['C:\\\\Users\\\\Hitesh Somani\\\\Documents\\\\hobby_projects\\\\nlp_document_finder\\\\nlp_document_finder\\\\Google\\\\sales\\\\pixel.xlsx']\n"
     ]
    }
   ],
   "source": [
    "y_proba = model.predict(X_user)\n",
    "y_pred = y_proba.argmax(axis=1)\n",
    "print(f\"label predicted: {le.inverse_transform(y_pred)}\")\n",
    "for intent in data['intents']:\n",
    "    if intent['label'] == le.inverse_transform(y_pred):\n",
    "        print(f\"Query search: {intent['responses']}\")"
   ]
  },
  {
   "cell_type": "code",
   "execution_count": 61,
   "metadata": {},
   "outputs": [
    {
     "data": {
      "text/plain": [
       "array([[7.7512370e-05, 2.3523755e-07, 1.1877052e-10, 5.5037798e-08,\n",
       "        6.1647423e-11, 1.4119982e-07, 4.6294217e-06, 2.4280565e-04,\n",
       "        5.3722360e-08, 3.4548917e-10, 2.8916642e-09, 6.5612129e-04,\n",
       "        9.9893302e-01, 8.5428350e-05]], dtype=float32)"
      ]
     },
     "execution_count": 61,
     "metadata": {},
     "output_type": "execute_result"
    }
   ],
   "source": [
    "y_proba"
   ]
  },
  {
   "cell_type": "markdown",
   "metadata": {},
   "source": [
    "#### Result: The user asked for correct document from correct folder and model answer is correct."
   ]
  },
  {
   "cell_type": "code",
   "execution_count": null,
   "metadata": {},
   "outputs": [],
   "source": []
  },
  {
   "cell_type": "markdown",
   "metadata": {},
   "source": [
    "#### Test3: Asking with document name but no folder name"
   ]
  },
  {
   "cell_type": "code",
   "execution_count": 62,
   "metadata": {},
   "outputs": [],
   "source": [
    "user_input = [\"Hi can you get me pixel document\"]\n",
    "\n",
    "embedding = embed(user_input)\n",
    "X_user = pd.DataFrame(data=embedding.numpy())"
   ]
  },
  {
   "cell_type": "code",
   "execution_count": 63,
   "metadata": {},
   "outputs": [
    {
     "name": "stdout",
     "output_type": "stream",
     "text": [
      "label predicted: ['sales_pixel']\n",
      "Query search: ['C:\\\\Users\\\\Hitesh Somani\\\\Documents\\\\hobby_projects\\\\nlp_document_finder\\\\nlp_document_finder\\\\Google\\\\sales\\\\pixel.xlsx']\n"
     ]
    }
   ],
   "source": [
    "y_proba = model.predict(X_user)\n",
    "y_pred = y_proba.argmax(axis=1)\n",
    "print(f\"label predicted: {le.inverse_transform(y_pred)}\")\n",
    "for intent in data['intents']:\n",
    "    if intent['label'] == le.inverse_transform(y_pred):\n",
    "        print(f\"Query search: {intent['responses']}\")"
   ]
  },
  {
   "cell_type": "code",
   "execution_count": null,
   "metadata": {},
   "outputs": [],
   "source": []
  },
  {
   "cell_type": "markdown",
   "metadata": {},
   "source": [
    "#### Result: The user asked for correct document but did not specify and folder. Model gave just one correct result"
   ]
  },
  {
   "cell_type": "code",
   "execution_count": 64,
   "metadata": {},
   "outputs": [
    {
     "data": {
      "text/plain": [
       "array([[1.27024710e-01, 1.65213412e-03, 1.33802885e-07, 5.09077563e-06,\n",
       "        8.31018099e-08, 1.24897554e-06, 1.16740575e-05, 5.00009023e-02,\n",
       "        1.22211420e-03, 4.69118413e-06, 1.11085661e-04, 5.27472439e-05,\n",
       "        8.17319989e-01, 2.59333337e-03]], dtype=float32)"
      ]
     },
     "execution_count": 64,
     "metadata": {},
     "output_type": "execute_result"
    }
   ],
   "source": [
    "# Lets y_proba\n",
    "\n",
    "y_proba"
   ]
  },
  {
   "cell_type": "markdown",
   "metadata": {},
   "source": [
    "So here is one room for improvement. The model should also give high probability to second element of the above list sonce that corresponds to 'marketing_pixel' <br>\n",
    "May be we can add few more such statements in training data itself."
   ]
  },
  {
   "cell_type": "code",
   "execution_count": null,
   "metadata": {},
   "outputs": [],
   "source": []
  },
  {
   "cell_type": "markdown",
   "metadata": {},
   "source": [
    "#### Test4: Asking document created on a date"
   ]
  },
  {
   "cell_type": "code",
   "execution_count": 65,
   "metadata": {},
   "outputs": [],
   "source": [
    "user_input = [\"Please open kaggle marketing document created on 15 July\"]"
   ]
  },
  {
   "cell_type": "code",
   "execution_count": 66,
   "metadata": {},
   "outputs": [],
   "source": [
    "query_date = {}\n",
    "for idx, row in enumerate(user_input):\n",
    "    date_occurences = [(ent.text.strip(), ent.label_) for ent in sp_lg(row).ents if ent.label_ == 'DATE']\n",
    "    query_date[row] = []\n",
    "    \n",
    "    for date in date_occurences:\n",
    "        try:\n",
    "            date_token = re.split('\\s+|/|-|:',date[0])\n",
    "            day, month, year = decode_date(date_token)\n",
    "            query_date[row].append((day, month, year))\n",
    "            row = row.replace(date[0], \"\", 1)\n",
    "            user_input[idx] = row\n",
    "        except:\n",
    "            pass"
   ]
  },
  {
   "cell_type": "code",
   "execution_count": 67,
   "metadata": {},
   "outputs": [],
   "source": [
    "embedding = embed(user_input)\n",
    "X_user = pd.DataFrame(data=embedding.numpy())"
   ]
  },
  {
   "cell_type": "code",
   "execution_count": 68,
   "metadata": {},
   "outputs": [
    {
     "name": "stdout",
     "output_type": "stream",
     "text": [
      "label predicted: ['marketing_kaggle']\n",
      "Query search: ['C:\\\\Users\\\\Hitesh Somani\\\\Documents\\\\hobby_projects\\\\nlp_document_finder\\\\nlp_document_finder\\\\Google\\\\marketing\\\\kaggle.docx']\n"
     ]
    }
   ],
   "source": [
    "y_proba = model.predict(X_user)\n",
    "y_pred = y_proba.argmax(axis=1)\n",
    "print(f\"label predicted: {le.inverse_transform(y_pred)}\")\n",
    "for intent in data['intents']:\n",
    "    if intent['label'] == le.inverse_transform(y_pred):\n",
    "        print(f\"Query search: {intent['responses']}\")"
   ]
  },
  {
   "cell_type": "code",
   "execution_count": 69,
   "metadata": {},
   "outputs": [
    {
     "data": {
      "text/plain": [
       "array([[1.7530941e-03, 9.8977262e-01, 2.9418918e-05, 5.1290165e-03,\n",
       "        6.3402244e-05, 5.8071248e-05, 7.9478282e-09, 1.5068757e-04,\n",
       "        1.4374295e-04, 2.8812897e-03, 1.8720624e-05, 2.0043016e-08,\n",
       "        1.8837184e-08, 5.6920868e-08]], dtype=float32)"
      ]
     },
     "execution_count": 69,
     "metadata": {},
     "output_type": "execute_result"
    }
   ],
   "source": [
    "# Lets y_proba\n",
    "\n",
    "y_proba"
   ]
  },
  {
   "cell_type": "code",
   "execution_count": 70,
   "metadata": {},
   "outputs": [
    {
     "data": {
      "text/plain": [
       "{'Please open kaggle marketing document created on 15 July': [(15, 7, 2020)]}"
      ]
     },
     "execution_count": 70,
     "metadata": {},
     "output_type": "execute_result"
    }
   ],
   "source": [
    "query_date"
   ]
  },
  {
   "cell_type": "code",
   "execution_count": null,
   "metadata": {},
   "outputs": [],
   "source": []
  },
  {
   "cell_type": "markdown",
   "metadata": {},
   "source": [
    "#### Test5: Asking document created on a date"
   ]
  },
  {
   "cell_type": "code",
   "execution_count": 71,
   "metadata": {},
   "outputs": [],
   "source": [
    "user_input = [\"Please open computer vision document created on 1/6/2019\", \"Please open computer vision document created on 1-6-2019\", \n",
    "              \"Give me google home document from 14/07\", \"Give me google home document from 14-07\", \"Give me google home document made 14 Jan\", \n",
    "              \"Give me nlp document made on March 12\", \"Give me quantum computing document\"]"
   ]
  },
  {
   "cell_type": "code",
   "execution_count": 72,
   "metadata": {},
   "outputs": [],
   "source": [
    "query_date = {}\n",
    "for idx, row in enumerate(user_input):\n",
    "    date_occurences = [(ent.text.strip(), ent.label_) for ent in sp_lg(row).ents if ent.label_ == 'DATE']\n",
    "    query_date[row] = []\n",
    "    for date in date_occurences:\n",
    "        try:\n",
    "            date_token = re.split('\\s+|/|-|:',date[0])\n",
    "            day, month, year = decode_date(date_token)\n",
    "            query_date[row].append((f'{year}-{month}-{day}'))\n",
    "            datetime.strptime(f'{year}-{month}-{day}', '%Y-%m-%d %H:%M:%S.%f')\n",
    "            row = row.replace(date[0], \"\", 1)\n",
    "            user_input[idx] = row\n",
    "        except:\n",
    "            pass"
   ]
  },
  {
   "cell_type": "code",
   "execution_count": 73,
   "metadata": {},
   "outputs": [],
   "source": [
    "embedding = embed(user_input)\n",
    "X_user = pd.DataFrame(data=embedding.numpy())"
   ]
  },
  {
   "cell_type": "code",
   "execution_count": 74,
   "metadata": {},
   "outputs": [],
   "source": [
    "y_proba = model.predict(X_user)\n",
    "y_pred = y_proba.argmax(axis=1)"
   ]
  },
  {
   "cell_type": "code",
   "execution_count": 75,
   "metadata": {},
   "outputs": [
    {
     "data": {
      "text/plain": [
       "array([ 8,  8,  0,  0,  0,  9, 10], dtype=int64)"
      ]
     },
     "execution_count": 75,
     "metadata": {},
     "output_type": "execute_result"
    }
   ],
   "source": [
    "y_pred"
   ]
  },
  {
   "cell_type": "code",
   "execution_count": 76,
   "metadata": {},
   "outputs": [
    {
     "name": "stdout",
     "output_type": "stream",
     "text": [
      "label predicted: ['research_computer_vision' 'research_computer_vision'\n",
      " 'marketing_google-home' 'marketing_google-home' 'marketing_google-home'\n",
      " 'research_nlp' 'research_quantum_computing']\n",
      "Query search: ['C:\\\\Users\\\\Hitesh Somani\\\\Documents\\\\hobby_projects\\\\nlp_document_finder\\\\nlp_document_finder\\\\Google\\\\research\\\\computer_vision.pdf']\n",
      "Query search: ['C:\\\\Users\\\\Hitesh Somani\\\\Documents\\\\hobby_projects\\\\nlp_document_finder\\\\nlp_document_finder\\\\Google\\\\research\\\\computer_vision.pdf']\n",
      "Query search: ['C:\\\\Users\\\\Hitesh Somani\\\\Documents\\\\hobby_projects\\\\nlp_document_finder\\\\nlp_document_finder\\\\Google\\\\marketing\\\\google-home.docx']\n",
      "Query search: ['C:\\\\Users\\\\Hitesh Somani\\\\Documents\\\\hobby_projects\\\\nlp_document_finder\\\\nlp_document_finder\\\\Google\\\\marketing\\\\google-home.docx']\n",
      "Query search: ['C:\\\\Users\\\\Hitesh Somani\\\\Documents\\\\hobby_projects\\\\nlp_document_finder\\\\nlp_document_finder\\\\Google\\\\marketing\\\\google-home.docx']\n",
      "Query search: ['C:\\\\Users\\\\Hitesh Somani\\\\Documents\\\\hobby_projects\\\\nlp_document_finder\\\\nlp_document_finder\\\\Google\\\\research\\\\nlp.pdf']\n",
      "Query search: ['C:\\\\Users\\\\Hitesh Somani\\\\Documents\\\\hobby_projects\\\\nlp_document_finder\\\\nlp_document_finder\\\\Google\\\\research\\\\quantum_computing.pdf']\n"
     ]
    }
   ],
   "source": [
    "y_proba = model.predict(X_user)\n",
    "y_pred = y_proba.argmax(axis=1)\n",
    "print(f\"label predicted: {le.inverse_transform(y_pred)}\")\n",
    "for pred in y_pred:\n",
    "    for intent in data['intents']:\n",
    "        if intent['label'] == le.inverse_transform(pred.reshape(1,)):\n",
    "            print(f\"Query search: {intent['responses']}\")"
   ]
  },
  {
   "cell_type": "code",
   "execution_count": 77,
   "metadata": {},
   "outputs": [
    {
     "data": {
      "text/plain": [
       "array([[2.9816873e-02, 1.9804962e-02, 1.3232867e-05, 4.6698625e-07,\n",
       "        1.4549284e-05, 3.6122857e-10, 6.1213795e-10, 2.5969573e-05,\n",
       "        9.4384402e-01, 3.3179042e-03, 2.4989371e-03, 5.6104621e-10,\n",
       "        5.3394660e-07, 6.6244457e-04],\n",
       "       [2.9816873e-02, 1.9804962e-02, 1.3232867e-05, 4.6698625e-07,\n",
       "        1.4549284e-05, 3.6122857e-10, 6.1213795e-10, 2.5969573e-05,\n",
       "        9.4384402e-01, 3.3179042e-03, 2.4989371e-03, 5.6104621e-10,\n",
       "        5.3394660e-07, 6.6244457e-04],\n",
       "       [9.9573684e-01, 9.0964470e-04, 1.1575663e-09, 3.2863962e-10,\n",
       "        9.1162194e-10, 1.8923493e-12, 6.2184737e-11, 1.4608567e-07,\n",
       "        2.1484205e-03, 1.1112575e-03, 8.4510459e-05, 2.4287603e-11,\n",
       "        2.6839801e-08, 9.2856026e-06],\n",
       "       [9.9573684e-01, 9.0964470e-04, 1.1575663e-09, 3.2863962e-10,\n",
       "        9.1162194e-10, 1.8923493e-12, 6.2184737e-11, 1.4608567e-07,\n",
       "        2.1484205e-03, 1.1112575e-03, 8.4510459e-05, 2.4287603e-11,\n",
       "        2.6839801e-08, 9.2856026e-06],\n",
       "       [9.9558699e-01, 2.5561473e-03, 4.6292459e-09, 1.2505833e-08,\n",
       "        3.9393102e-09, 1.0717237e-10, 1.8168680e-09, 1.7812436e-06,\n",
       "        1.2217838e-03, 4.7576628e-04, 6.0670059e-06, 1.4713706e-08,\n",
       "        3.5437365e-06, 1.4790706e-04],\n",
       "       [5.1300193e-04, 1.1776527e-02, 1.6030766e-06, 1.4785497e-06,\n",
       "        1.4838326e-06, 1.3467542e-07, 2.8695348e-07, 5.4027989e-08,\n",
       "        2.3353320e-04, 9.8729742e-01, 1.7411458e-04, 3.4175585e-08,\n",
       "        3.3285705e-10, 4.3651943e-07],\n",
       "       [1.8141753e-07, 1.2570248e-07, 4.9714372e-10, 9.6270214e-12,\n",
       "        2.9379493e-10, 4.1431865e-11, 2.1581403e-08, 3.7072512e-09,\n",
       "        1.0128491e-05, 8.4726680e-06, 9.9998105e-01, 1.9252700e-14,\n",
       "        1.5996730e-11, 4.5100186e-09]], dtype=float32)"
      ]
     },
     "execution_count": 77,
     "metadata": {},
     "output_type": "execute_result"
    }
   ],
   "source": [
    "# Lets y_proba\n",
    "y_proba"
   ]
  },
  {
   "cell_type": "code",
   "execution_count": 78,
   "metadata": {},
   "outputs": [
    {
     "data": {
      "text/plain": [
       "{'Please open computer vision document created on 1/6/2019': [],\n",
       " 'Please open computer vision document created on 1-6-2019': ['2019-6-1'],\n",
       " 'Give me google home document from 14/07': [],\n",
       " 'Give me google home document from 14-07': ['2020-7-14'],\n",
       " 'Give me google home document made 14 Jan': ['2020-1-14'],\n",
       " 'Give me nlp document made on March 12': ['2020-3-12'],\n",
       " 'Give me quantum computing document': []}"
      ]
     },
     "execution_count": 78,
     "metadata": {},
     "output_type": "execute_result"
    }
   ],
   "source": [
    "query_date"
   ]
  },
  {
   "cell_type": "markdown",
   "metadata": {},
   "source": [
    "### Save model"
   ]
  },
  {
   "cell_type": "code",
   "execution_count": 79,
   "metadata": {},
   "outputs": [
    {
     "name": "stdout",
     "output_type": "stream",
     "text": [
      "WARNING:tensorflow:From c:\\users\\hitesh somani\\documents\\hobby_projects\\nlp_document_finder\\nlp_doc_finder_venv\\lib\\site-packages\\tensorflow\\python\\training\\tracking\\tracking.py:111: Model.state_updates (from tensorflow.python.keras.engine.training) is deprecated and will be removed in a future version.\n",
      "Instructions for updating:\n",
      "This property should not be used in TensorFlow 2.0, as updates are applied automatically.\n"
     ]
    },
    {
     "name": "stderr",
     "output_type": "stream",
     "text": [
      "WARNING:tensorflow:From c:\\users\\hitesh somani\\documents\\hobby_projects\\nlp_document_finder\\nlp_doc_finder_venv\\lib\\site-packages\\tensorflow\\python\\training\\tracking\\tracking.py:111: Model.state_updates (from tensorflow.python.keras.engine.training) is deprecated and will be removed in a future version.\n",
      "Instructions for updating:\n",
      "This property should not be used in TensorFlow 2.0, as updates are applied automatically.\n"
     ]
    },
    {
     "name": "stdout",
     "output_type": "stream",
     "text": [
      "WARNING:tensorflow:From c:\\users\\hitesh somani\\documents\\hobby_projects\\nlp_document_finder\\nlp_doc_finder_venv\\lib\\site-packages\\tensorflow\\python\\training\\tracking\\tracking.py:111: Layer.updates (from tensorflow.python.keras.engine.base_layer) is deprecated and will be removed in a future version.\n",
      "Instructions for updating:\n",
      "This property should not be used in TensorFlow 2.0, as updates are applied automatically.\n"
     ]
    },
    {
     "name": "stderr",
     "output_type": "stream",
     "text": [
      "WARNING:tensorflow:From c:\\users\\hitesh somani\\documents\\hobby_projects\\nlp_document_finder\\nlp_doc_finder_venv\\lib\\site-packages\\tensorflow\\python\\training\\tracking\\tracking.py:111: Layer.updates (from tensorflow.python.keras.engine.base_layer) is deprecated and will be removed in a future version.\n",
      "Instructions for updating:\n",
      "This property should not be used in TensorFlow 2.0, as updates are applied automatically.\n"
     ]
    },
    {
     "name": "stdout",
     "output_type": "stream",
     "text": [
      "INFO:tensorflow:Assets written to: model\\assets\n"
     ]
    },
    {
     "name": "stderr",
     "output_type": "stream",
     "text": [
      "INFO:tensorflow:Assets written to: model\\assets\n"
     ]
    }
   ],
   "source": [
    "model.save('model')"
   ]
  },
  {
   "cell_type": "code",
   "execution_count": null,
   "metadata": {},
   "outputs": [],
   "source": []
  }
 ],
 "metadata": {
  "environment": {
   "name": "common-cpu.m49",
   "type": "gcloud",
   "uri": "gcr.io/deeplearning-platform-release/base-cpu:m49"
  },
  "kernelspec": {
   "display_name": "nlp_doc_finder_venv",
   "language": "python",
   "name": "nlp_doc_finder_venv"
  },
  "language_info": {
   "codemirror_mode": {
    "name": "ipython",
    "version": 3
   },
   "file_extension": ".py",
   "mimetype": "text/x-python",
   "name": "python",
   "nbconvert_exporter": "python",
   "pygments_lexer": "ipython3",
   "version": "3.8.4"
  }
 },
 "nbformat": 4,
 "nbformat_minor": 4
}
