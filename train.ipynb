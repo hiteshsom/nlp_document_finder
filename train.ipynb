{
 "cells": [
  {
   "cell_type": "markdown",
   "metadata": {},
   "source": [
    "# NLP Document Locator"
   ]
  },
  {
   "cell_type": "markdown",
   "metadata": {},
   "source": [
    "## Import statements"
   ]
  },
  {
   "cell_type": "code",
   "execution_count": 1,
   "metadata": {},
   "outputs": [
    {
     "name": "stderr",
     "output_type": "stream",
     "text": [
      "[nltk_data] Downloading package punkt to C:\\Users\\Hitesh\n",
      "[nltk_data]     Somani\\AppData\\Roaming\\nltk_data...\n",
      "[nltk_data]   Package punkt is already up-to-date!\n",
      "[nltk_data] Downloading package stopwords to C:\\Users\\Hitesh\n",
      "[nltk_data]     Somani\\AppData\\Roaming\\nltk_data...\n",
      "[nltk_data]   Package stopwords is already up-to-date!\n"
     ]
    }
   ],
   "source": [
    "import os\n",
    "import nltk\n",
    "nltk.download('punkt')\n",
    "nltk.download('stopwords')\n",
    "from nltk.stem.snowball import SnowballStemmer\n",
    "stemmer = SnowballStemmer(\"english\")\n",
    "\n",
    "import pandas as pd\n",
    "import numpy as np\n",
    "import random\n",
    "from datetime import datetime"
   ]
  },
  {
   "cell_type": "markdown",
   "metadata": {},
   "source": [
    "## Load data"
   ]
  },
  {
   "cell_type": "code",
   "execution_count": 2,
   "metadata": {},
   "outputs": [],
   "source": [
    "import json\n",
    "with open(os.path.join(os.getcwd(), 'data', 'train2.json')) as file:\n",
    "    data = json.load(file)"
   ]
  },
  {
   "cell_type": "markdown",
   "metadata": {},
   "source": [
    "## Preprocessing"
   ]
  },
  {
   "cell_type": "code",
   "execution_count": 3,
   "metadata": {},
   "outputs": [],
   "source": [
    "# words = []\n",
    "# labels = []\n",
    "# docs_x = []\n",
    "# docs_y = []\n",
    "\n",
    "# # ------------------- TOKENIZE ----------------- #\n",
    "# for intent in data['intents']:\n",
    "#     for pattern in intent['patterns']:\n",
    "#         wrds = nltk.word_tokenize(pattern)\n",
    "#         words.extend(wrds)\n",
    "#         docs_x.append(wrds)\n",
    "#         docs_y.append(intent[\"tag\"])\n",
    "        \n",
    "#     if intent['tag'] not in labels:\n",
    "#         labels.append(intent['tag'])\n",
    "       "
   ]
  },
  {
   "cell_type": "code",
   "execution_count": 4,
   "metadata": {},
   "outputs": [],
   "source": [
    "# # --------------------STOP WORD REMOVAL ----------#\n",
    "# from nltk.corpus import stopwords\n",
    "# stop_words = list(set(stopwords.words('english'))) \n",
    "\n",
    "# for word in words:\n",
    "#     if word in stop_words:\n",
    "#         words.remove(word)\n",
    "\n",
    "# for wrd in docs_x:\n",
    "#     for word in wrd:\n",
    "#         if word in stop_words:\n",
    "#             wrd.remove(word)"
   ]
  },
  {
   "cell_type": "code",
   "execution_count": 5,
   "metadata": {},
   "outputs": [],
   "source": [
    "# # ------------------ REMOVE PUNCTUATION ----------- #\n",
    "# import string\n",
    "# for word in words:\n",
    "#     word = word.translate(str.maketrans('', '', string.punctuation))\n",
    "#     word = word.strip()\n",
    "\n",
    "\n",
    "# for wrd in docs_x:\n",
    "#     for word in wrd:\n",
    "#         word = word.translate(str.maketrans('', '', string.punctuation))\n",
    "#         word = word.strip()"
   ]
  },
  {
   "cell_type": "code",
   "execution_count": 6,
   "metadata": {},
   "outputs": [],
   "source": [
    "# # ---------------- STEMMING ------------------ #\n",
    "# words = [stemmer.stem(w.lower()) for w in words if w != \"?\"]\n",
    "# words = sorted(list(set(words)))\n",
    "\n",
    "# labels = sorted(labels)"
   ]
  },
  {
   "cell_type": "code",
   "execution_count": 7,
   "metadata": {},
   "outputs": [],
   "source": [
    "rows = []\n",
    "labels = []\n",
    "for intent in data['intents']:\n",
    "    rows.extend(intent['train_data'])\n",
    "    label = []\n",
    "    label.append(intent['label'])\n",
    "    labels.extend(label*len(intent['train_data']))"
   ]
  },
  {
   "cell_type": "markdown",
   "metadata": {},
   "source": [
    "### Date Recognition"
   ]
  },
  {
   "cell_type": "code",
   "execution_count": 8,
   "metadata": {},
   "outputs": [],
   "source": [
    "from datetime import datetime\n",
    "\n",
    "def decode_date(tokens):\n",
    "\n",
    "    months_fullform = ['january', 'february', 'march', 'april', 'may', 'june', 'july', 'august', 'september', 'october', 'november', 'decemeber']\n",
    "    months_shortform = ['jan', 'feb', 'mar', 'apr', 'may', 'jun', 'jul', 'aug', 'sep', 'oct', 'nov', 'dec']\n",
    "    month = 0\n",
    "    for token in tokens:\n",
    "        try:\n",
    "            int(token)\n",
    "        except:\n",
    "            if token.lower() in months_fullform:\n",
    "                month = months_fullform.index(token.lower()) + 1\n",
    "            elif token.lower() in months_shortform:\n",
    "                month = months_shortform.index(token.lower()) + 1\n",
    "            tokens.remove(token)\n",
    "        \n",
    "    if len(tokens) > 2:\n",
    "        if month:\n",
    "            day = int(tokens[0])\n",
    "            year = int(tokens[2])\n",
    "        else:\n",
    "            day = int(tokens[0])\n",
    "            month = int(tokens[1])\n",
    "            year = int(tokens[2])\n",
    "    elif len(tokens) > 1:\n",
    "        if month:\n",
    "            day = int(tokens[0])\n",
    "            year = 2020\n",
    "        else:\n",
    "            day = int(tokens[0])\n",
    "            month = int(tokens[1])\n",
    "            year = 2020\n",
    "    elif len(tokens)==1:\n",
    "        day = int(tokens[0])\n",
    "        year = 2020\n",
    "    return (day, month, year)"
   ]
  },
  {
   "cell_type": "code",
   "execution_count": 9,
   "metadata": {},
   "outputs": [],
   "source": [
    "# !python3 -m spacy download en_core_web_lg\n",
    "import spacy\n",
    "sp_lg = spacy.load('en_core_web_lg')\n",
    "import nltk\n",
    "import re\n",
    "\n",
    "query_date = {}\n",
    "for idx, row in enumerate(rows):\n",
    "    date_occurences = [(ent.text.strip(), ent.label_) for ent in sp_lg(row).ents if ent.label_ == 'DATE']\n",
    "    query_date[row] = []\n",
    "    \n",
    "    for date in date_occurences:\n",
    "        try:\n",
    "            date_token = re.split('\\s+|/|-|:',date[0])\n",
    "            day, month, year = decode_date(date_token)\n",
    "            query_date[row].append((f'{year}-{month}-{day}'))\n",
    "            row = row.replace(date[0], \"\", 1)\n",
    "            rows[idx] = row\n",
    "        except:\n",
    "            pass"
   ]
  },
  {
   "cell_type": "markdown",
   "metadata": {},
   "source": [
    "### Universal Sentence Encoder"
   ]
  },
  {
   "cell_type": "code",
   "execution_count": 10,
   "metadata": {},
   "outputs": [],
   "source": [
    "import tensorflow_hub as hub\n",
    "embed = hub.load(\"https://tfhub.dev/google/universal-sentence-encoder/4\")"
   ]
  },
  {
   "cell_type": "code",
   "execution_count": 11,
   "metadata": {},
   "outputs": [],
   "source": [
    "embedding = embed(rows)\n",
    "\n",
    "X = pd.DataFrame(data=embedding.numpy())\n",
    "X['label'] = labels"
   ]
  },
  {
   "cell_type": "code",
   "execution_count": 12,
   "metadata": {},
   "outputs": [
    {
     "data": {
      "text/html": [
       "<div>\n",
       "<style scoped>\n",
       "    .dataframe tbody tr th:only-of-type {\n",
       "        vertical-align: middle;\n",
       "    }\n",
       "\n",
       "    .dataframe tbody tr th {\n",
       "        vertical-align: top;\n",
       "    }\n",
       "\n",
       "    .dataframe thead th {\n",
       "        text-align: right;\n",
       "    }\n",
       "</style>\n",
       "<table border=\"1\" class=\"dataframe\">\n",
       "  <thead>\n",
       "    <tr style=\"text-align: right;\">\n",
       "      <th></th>\n",
       "      <th>0</th>\n",
       "      <th>1</th>\n",
       "      <th>2</th>\n",
       "      <th>3</th>\n",
       "      <th>4</th>\n",
       "      <th>5</th>\n",
       "      <th>6</th>\n",
       "      <th>7</th>\n",
       "      <th>8</th>\n",
       "      <th>9</th>\n",
       "      <th>...</th>\n",
       "      <th>503</th>\n",
       "      <th>504</th>\n",
       "      <th>505</th>\n",
       "      <th>506</th>\n",
       "      <th>507</th>\n",
       "      <th>508</th>\n",
       "      <th>509</th>\n",
       "      <th>510</th>\n",
       "      <th>511</th>\n",
       "      <th>label</th>\n",
       "    </tr>\n",
       "  </thead>\n",
       "  <tbody>\n",
       "    <tr>\n",
       "      <th>0</th>\n",
       "      <td>-0.004851</td>\n",
       "      <td>-0.041964</td>\n",
       "      <td>-0.051808</td>\n",
       "      <td>0.019784</td>\n",
       "      <td>0.021853</td>\n",
       "      <td>0.021047</td>\n",
       "      <td>0.043125</td>\n",
       "      <td>-0.001204</td>\n",
       "      <td>0.022696</td>\n",
       "      <td>-0.077722</td>\n",
       "      <td>...</td>\n",
       "      <td>0.039908</td>\n",
       "      <td>0.052083</td>\n",
       "      <td>0.001058</td>\n",
       "      <td>0.065795</td>\n",
       "      <td>0.020701</td>\n",
       "      <td>-0.016375</td>\n",
       "      <td>-0.004406</td>\n",
       "      <td>-0.080554</td>\n",
       "      <td>-0.008480</td>\n",
       "      <td>marketing_google-home</td>\n",
       "    </tr>\n",
       "    <tr>\n",
       "      <th>1</th>\n",
       "      <td>0.010735</td>\n",
       "      <td>0.001598</td>\n",
       "      <td>-0.069327</td>\n",
       "      <td>0.045384</td>\n",
       "      <td>0.010653</td>\n",
       "      <td>0.049769</td>\n",
       "      <td>0.043490</td>\n",
       "      <td>0.014172</td>\n",
       "      <td>0.046780</td>\n",
       "      <td>-0.072827</td>\n",
       "      <td>...</td>\n",
       "      <td>-0.025100</td>\n",
       "      <td>0.028380</td>\n",
       "      <td>-0.019510</td>\n",
       "      <td>0.065093</td>\n",
       "      <td>0.041348</td>\n",
       "      <td>-0.048325</td>\n",
       "      <td>0.043596</td>\n",
       "      <td>-0.082165</td>\n",
       "      <td>0.022102</td>\n",
       "      <td>marketing_google-home</td>\n",
       "    </tr>\n",
       "    <tr>\n",
       "      <th>2</th>\n",
       "      <td>0.008150</td>\n",
       "      <td>-0.025516</td>\n",
       "      <td>-0.051825</td>\n",
       "      <td>0.018839</td>\n",
       "      <td>-0.011497</td>\n",
       "      <td>0.000663</td>\n",
       "      <td>0.038303</td>\n",
       "      <td>0.017663</td>\n",
       "      <td>0.018018</td>\n",
       "      <td>-0.060026</td>\n",
       "      <td>...</td>\n",
       "      <td>0.040483</td>\n",
       "      <td>0.025089</td>\n",
       "      <td>-0.002037</td>\n",
       "      <td>0.066990</td>\n",
       "      <td>0.038984</td>\n",
       "      <td>-0.020493</td>\n",
       "      <td>0.034859</td>\n",
       "      <td>-0.082567</td>\n",
       "      <td>-0.016747</td>\n",
       "      <td>marketing_google-home</td>\n",
       "    </tr>\n",
       "    <tr>\n",
       "      <th>3</th>\n",
       "      <td>-0.002875</td>\n",
       "      <td>0.017606</td>\n",
       "      <td>-0.065296</td>\n",
       "      <td>0.043215</td>\n",
       "      <td>-0.054827</td>\n",
       "      <td>0.022873</td>\n",
       "      <td>-0.023303</td>\n",
       "      <td>0.021275</td>\n",
       "      <td>0.003382</td>\n",
       "      <td>-0.069676</td>\n",
       "      <td>...</td>\n",
       "      <td>-0.022157</td>\n",
       "      <td>0.063531</td>\n",
       "      <td>0.023405</td>\n",
       "      <td>0.070117</td>\n",
       "      <td>0.007039</td>\n",
       "      <td>-0.045061</td>\n",
       "      <td>0.043073</td>\n",
       "      <td>-0.077875</td>\n",
       "      <td>0.045327</td>\n",
       "      <td>marketing_google-home</td>\n",
       "    </tr>\n",
       "    <tr>\n",
       "      <th>4</th>\n",
       "      <td>0.001530</td>\n",
       "      <td>-0.010831</td>\n",
       "      <td>-0.072277</td>\n",
       "      <td>0.053805</td>\n",
       "      <td>-0.000521</td>\n",
       "      <td>0.038126</td>\n",
       "      <td>0.050321</td>\n",
       "      <td>0.012032</td>\n",
       "      <td>0.036074</td>\n",
       "      <td>-0.065149</td>\n",
       "      <td>...</td>\n",
       "      <td>0.040641</td>\n",
       "      <td>0.056175</td>\n",
       "      <td>-0.001573</td>\n",
       "      <td>0.071447</td>\n",
       "      <td>0.020559</td>\n",
       "      <td>-0.032644</td>\n",
       "      <td>0.016579</td>\n",
       "      <td>-0.086796</td>\n",
       "      <td>0.013866</td>\n",
       "      <td>marketing_google-home</td>\n",
       "    </tr>\n",
       "  </tbody>\n",
       "</table>\n",
       "<p>5 rows × 513 columns</p>\n",
       "</div>"
      ],
      "text/plain": [
       "          0         1         2         3         4         5         6  \\\n",
       "0 -0.004851 -0.041964 -0.051808  0.019784  0.021853  0.021047  0.043125   \n",
       "1  0.010735  0.001598 -0.069327  0.045384  0.010653  0.049769  0.043490   \n",
       "2  0.008150 -0.025516 -0.051825  0.018839 -0.011497  0.000663  0.038303   \n",
       "3 -0.002875  0.017606 -0.065296  0.043215 -0.054827  0.022873 -0.023303   \n",
       "4  0.001530 -0.010831 -0.072277  0.053805 -0.000521  0.038126  0.050321   \n",
       "\n",
       "          7         8         9  ...       503       504       505       506  \\\n",
       "0 -0.001204  0.022696 -0.077722  ...  0.039908  0.052083  0.001058  0.065795   \n",
       "1  0.014172  0.046780 -0.072827  ... -0.025100  0.028380 -0.019510  0.065093   \n",
       "2  0.017663  0.018018 -0.060026  ...  0.040483  0.025089 -0.002037  0.066990   \n",
       "3  0.021275  0.003382 -0.069676  ... -0.022157  0.063531  0.023405  0.070117   \n",
       "4  0.012032  0.036074 -0.065149  ...  0.040641  0.056175 -0.001573  0.071447   \n",
       "\n",
       "        507       508       509       510       511                  label  \n",
       "0  0.020701 -0.016375 -0.004406 -0.080554 -0.008480  marketing_google-home  \n",
       "1  0.041348 -0.048325  0.043596 -0.082165  0.022102  marketing_google-home  \n",
       "2  0.038984 -0.020493  0.034859 -0.082567 -0.016747  marketing_google-home  \n",
       "3  0.007039 -0.045061  0.043073 -0.077875  0.045327  marketing_google-home  \n",
       "4  0.020559 -0.032644  0.016579 -0.086796  0.013866  marketing_google-home  \n",
       "\n",
       "[5 rows x 513 columns]"
      ]
     },
     "execution_count": 12,
     "metadata": {},
     "output_type": "execute_result"
    }
   ],
   "source": [
    "X.head()"
   ]
  },
  {
   "cell_type": "code",
   "execution_count": 13,
   "metadata": {},
   "outputs": [],
   "source": [
    "import seaborn as sns\n",
    "import matplotlib.pyplot as plt\n",
    "\n",
    "def plot_similarity(labels, features, rotation):\n",
    "    corr = np.inner(features, features)\n",
    "    sns.set(font_scale=1)\n",
    "    fig, ax = plt.subplots(figsize=(18, 18))\n",
    "    g = sns.heatmap(\n",
    "      corr,\n",
    "      xticklabels=labels,\n",
    "      yticklabels=labels,\n",
    "      vmin=0,\n",
    "      vmax=1,\n",
    "      cmap=\"YlOrRd\", \n",
    "      ax=ax)\n",
    "    g.set_xticklabels(labels, rotation=rotation)\n",
    "    g.set_title(\"Semantic Textual Similarity\")\n",
    "\n",
    "def run_and_plot(messages_):\n",
    "    message_embeddings_ = embed(messages_)\n",
    "    plot_similarity(messages_, message_embeddings_, 90)\n",
    "\n",
    "\n",
    "messages = rows\n",
    "\n",
    "# run_and_plot(messages)\n",
    "               "
   ]
  },
  {
   "cell_type": "markdown",
   "metadata": {},
   "source": [
    "### t-SNE"
   ]
  },
  {
   "cell_type": "code",
   "execution_count": 14,
   "metadata": {},
   "outputs": [
    {
     "name": "stdout",
     "output_type": "stream",
     "text": [
      "[t-SNE] Computing 31 nearest neighbors...\n",
      "[t-SNE] Indexed 135 samples in 0.018s...\n",
      "[t-SNE] Computed neighbors for 135 samples in 0.044s...\n",
      "[t-SNE] Computed conditional probabilities for sample 135 / 135\n",
      "[t-SNE] Mean sigma: 0.366267\n",
      "[t-SNE] KL divergence after 250 iterations with early exaggeration: 53.671108\n",
      "[t-SNE] KL divergence after 300 iterations: 0.337648\n",
      "t-SNE done! Time elapsed: 0.36374998092651367 seconds\n"
     ]
    }
   ],
   "source": [
    "from sklearn.manifold import TSNE\n",
    "import time\n",
    "\n",
    "time_start = time.time()\n",
    "tsne = TSNE(n_components=2, verbose=1, perplexity=10, n_iter=300)\n",
    "tsne_results = tsne.fit_transform(X.drop(columns=['label']))\n",
    "print('t-SNE done! Time elapsed: {} seconds'.format(time.time()-time_start))"
   ]
  },
  {
   "cell_type": "code",
   "execution_count": 15,
   "metadata": {},
   "outputs": [
    {
     "data": {
      "text/plain": [
       "array([1.8630711 , 4.1860776 , 1.2769794 , 0.43034023, 3.126494  ,\n",
       "       3.667162  , 5.596228  , 3.1260579 , 0.8654157 ], dtype=float32)"
      ]
     },
     "execution_count": 15,
     "metadata": {},
     "output_type": "execute_result"
    }
   ],
   "source": [
    "tsne_results[0:9, 0]"
   ]
  },
  {
   "cell_type": "code",
   "execution_count": 16,
   "metadata": {},
   "outputs": [
    {
     "data": {
      "text/plain": [
       "<AxesSubplot:xlabel='tsne-2d-one', ylabel='tsne-2d-two'>"
      ]
     },
     "execution_count": 16,
     "metadata": {},
     "output_type": "execute_result"
    },
    {
     "data": {
      "image/png": "[encoded data removed]",
      "text/plain": [
       "<Figure size 1152x720 with 1 Axes>"
      ]
     },
     "metadata": {
      "needs_background": "light"
     },
     "output_type": "display_data"
    }
   ],
   "source": [
    "import matplotlib.pyplot as plt\n",
    "import seaborn as sns\n",
    "\n",
    "# fig, ax = plt.subplots(figsize=(12,9))\n",
    "# ax.scatter(tsne_results[0:18, 0], tsne_results[0:18, 1])\n",
    "# plt.show()\n",
    "\n",
    "df_subset = pd.DataFrame()\n",
    "df_subset['tsne-2d-one'] = tsne_results[:,0]\n",
    "df_subset['tsne-2d-two'] = tsne_results[:,1]\n",
    "df_subset['label'] = X['label']\n",
    "\n",
    "plt.figure(figsize=(16,10))\n",
    "sns.scatterplot(\n",
    "    x=\"tsne-2d-one\", y=\"tsne-2d-two\",\n",
    "    hue=\"label\",\n",
    "    palette=sns.color_palette(\"hls\", 9),\n",
    "    data=df_subset,\n",
    "    legend=\"full\",\n",
    "    alpha=1,\n",
    "    s=100\n",
    ")"
   ]
  },
  {
   "cell_type": "markdown",
   "metadata": {},
   "source": [
    "## Modelling"
   ]
  },
  {
   "cell_type": "code",
   "execution_count": 17,
   "metadata": {},
   "outputs": [],
   "source": [
    "# Data Prepraration\n",
    "from sklearn.model_selection import train_test_split\n",
    "from sklearn.preprocessing import LabelEncoder\n",
    "\n",
    "y = X['label']\n",
    "X = X.drop(columns=['label'], axis=1)\n",
    "\n",
    "X_train, X_test, y_train, y_test = train_test_split(X, y, test_size = 0.2, random_state=10)\n",
    "le = LabelEncoder()\n",
    "y_train = le.fit_transform(y_train)\n",
    "y_test = le.transform(y_test)"
   ]
  },
  {
   "cell_type": "code",
   "execution_count": 18,
   "metadata": {},
   "outputs": [
    {
     "data": {
      "text/plain": [
       "set()"
      ]
     },
     "execution_count": 18,
     "metadata": {},
     "output_type": "execute_result"
    }
   ],
   "source": [
    "set(X_train.index).intersection(set(X_test.index))"
   ]
  },
  {
   "cell_type": "markdown",
   "metadata": {},
   "source": [
    "So an empty intersection set of both sets proves that there is no observation common in train and test data"
   ]
  },
  {
   "cell_type": "code",
   "execution_count": 19,
   "metadata": {},
   "outputs": [],
   "source": [
    "# Load the TensorBoard notebook extension\n",
    "%load_ext tensorboard"
   ]
  },
  {
   "cell_type": "code",
   "execution_count": 20,
   "metadata": {},
   "outputs": [],
   "source": [
    "# Clear any logs from previous runs\n",
    "!rm -rf ./logs/ "
   ]
  },
  {
   "cell_type": "code",
   "execution_count": 21,
   "metadata": {},
   "outputs": [],
   "source": [
    "# Building Neural network\n",
    "import tensorflow as tf\n",
    "\n",
    "from tensorflow.keras.models import Sequential\n",
    "from tensorflow.keras.layers import Dense, Dropout, Activation, Flatten, Conv2D, MaxPooling2D\n",
    "import datetime\n",
    "\n",
    "log_dir = \"logs/fit/\" + datetime.datetime.now().strftime(\"%Y%m%d-%H%M%S\")\n",
    "tensorboard_callback = tf.keras.callbacks.TensorBoard(log_dir=log_dir, histogram_freq=1)\n",
    "\n",
    "model = Sequential()\n",
    "model.add(Dense(64, input_shape=(512,)))\n",
    "model.add(Dense(100))\n",
    "model.add(Dense(1000))\n",
    "model.add(Dense(100))\n",
    "model.add(Dense(len(set(y_train))))\n",
    "model.add(Activation('softmax'))"
   ]
  },
  {
   "cell_type": "code",
   "execution_count": 22,
   "metadata": {},
   "outputs": [
    {
     "name": "stdout",
     "output_type": "stream",
     "text": [
      "Model: \"sequential\"\n",
      "_________________________________________________________________\n",
      "Layer (type)                 Output Shape              Param #   \n",
      "=================================================================\n",
      "dense (Dense)                (None, 64)                32832     \n",
      "_________________________________________________________________\n",
      "dense_1 (Dense)              (None, 100)               6500      \n",
      "_________________________________________________________________\n",
      "dense_2 (Dense)              (None, 1000)              101000    \n",
      "_________________________________________________________________\n",
      "dense_3 (Dense)              (None, 100)               100100    \n",
      "_________________________________________________________________\n",
      "dense_4 (Dense)              (None, 9)                 909       \n",
      "_________________________________________________________________\n",
      "activation (Activation)      (None, 9)                 0         \n",
      "=================================================================\n",
      "Total params: 241,341\n",
      "Trainable params: 241,341\n",
      "Non-trainable params: 0\n",
      "_________________________________________________________________\n"
     ]
    }
   ],
   "source": [
    "model.summary()"
   ]
  },
  {
   "cell_type": "code",
   "execution_count": 23,
   "metadata": {},
   "outputs": [],
   "source": [
    "model.compile(loss=\"sparse_categorical_crossentropy\", optimizer='adam', metrics=[tf.keras.metrics.SparseCategoricalAccuracy()])"
   ]
  },
  {
   "cell_type": "code",
   "execution_count": 24,
   "metadata": {},
   "outputs": [
    {
     "name": "stdout",
     "output_type": "stream",
     "text": [
      "('Failed to import pydot. You must `pip install pydot` and install graphviz (https://graphviz.gitlab.io/download/), ', 'for `pydotprint` to work.')\n"
     ]
    }
   ],
   "source": [
    "from tensorflow import keras\n",
    "keras.utils.plot_model(model)"
   ]
  },
  {
   "cell_type": "code",
   "execution_count": 25,
   "metadata": {},
   "outputs": [
    {
     "name": "stdout",
     "output_type": "stream",
     "text": [
      "Epoch 1/10\n",
      "4/4 [==============================] - 0s 102ms/step - loss: 2.1263 - sparse_categorical_accuracy: 0.3519 - val_loss: 1.8314 - val_sparse_categorical_accuracy: 0.8519\n",
      "Epoch 2/10\n",
      "4/4 [==============================] - 0s 9ms/step - loss: 1.6421 - sparse_categorical_accuracy: 0.8704 - val_loss: 1.2838 - val_sparse_categorical_accuracy: 0.8889\n",
      "Epoch 3/10\n",
      "4/4 [==============================] - 0s 9ms/step - loss: 1.0079 - sparse_categorical_accuracy: 0.8611 - val_loss: 0.6035 - val_sparse_categorical_accuracy: 1.0000\n",
      "Epoch 4/10\n",
      "4/4 [==============================] - 0s 11ms/step - loss: 0.4093 - sparse_categorical_accuracy: 0.9907 - val_loss: 0.1852 - val_sparse_categorical_accuracy: 1.0000\n",
      "Epoch 5/10\n",
      "4/4 [==============================] - 0s 14ms/step - loss: 0.1124 - sparse_categorical_accuracy: 1.0000 - val_loss: 0.0426 - val_sparse_categorical_accuracy: 1.0000\n",
      "Epoch 6/10\n",
      "4/4 [==============================] - 0s 10ms/step - loss: 0.0258 - sparse_categorical_accuracy: 1.0000 - val_loss: 0.0099 - val_sparse_categorical_accuracy: 1.0000\n",
      "Epoch 7/10\n",
      "4/4 [==============================] - 0s 9ms/step - loss: 0.0059 - sparse_categorical_accuracy: 1.0000 - val_loss: 0.0026 - val_sparse_categorical_accuracy: 1.0000\n",
      "Epoch 8/10\n",
      "4/4 [==============================] - 0s 9ms/step - loss: 0.0013 - sparse_categorical_accuracy: 1.0000 - val_loss: 9.2782e-04 - val_sparse_categorical_accuracy: 1.0000\n",
      "Epoch 9/10\n",
      "4/4 [==============================] - 0s 12ms/step - loss: 4.2781e-04 - sparse_categorical_accuracy: 1.0000 - val_loss: 4.3210e-04 - val_sparse_categorical_accuracy: 1.0000\n",
      "Epoch 10/10\n",
      "4/4 [==============================] - 0s 13ms/step - loss: 1.8567e-04 - sparse_categorical_accuracy: 1.0000 - val_loss: 2.4874e-04 - val_sparse_categorical_accuracy: 1.0000\n"
     ]
    }
   ],
   "source": [
    "history = model.fit(X_train, y_train, epochs=10,\n",
    "                    validation_data=(X_test, y_test))"
   ]
  },
  {
   "cell_type": "code",
   "execution_count": 26,
   "metadata": {},
   "outputs": [],
   "source": [
    "#%tensorboard --logdir logs/fit"
   ]
  },
  {
   "cell_type": "code",
   "execution_count": 27,
   "metadata": {},
   "outputs": [],
   "source": [
    "# gcloud compute ssh python-nlp-document-finder --project nlp-document-finder --zone us-west1-b -- -L 2222:localhost:6007 "
   ]
  },
  {
   "cell_type": "markdown",
   "metadata": {},
   "source": [
    "### Prediction "
   ]
  },
  {
   "cell_type": "code",
   "execution_count": 28,
   "metadata": {},
   "outputs": [],
   "source": [
    "y_proba = model.predict(X_test)"
   ]
  },
  {
   "cell_type": "code",
   "execution_count": 29,
   "metadata": {},
   "outputs": [],
   "source": [
    "y_pred = y_proba.argmax(axis=1)"
   ]
  },
  {
   "cell_type": "code",
   "execution_count": 30,
   "metadata": {},
   "outputs": [
    {
     "data": {
      "text/plain": [
       "array([[1.84939404e-06, 3.50848750e-05, 5.56959340e-11, 1.37761643e-04,\n",
       "        9.99821246e-01, 3.93124401e-06, 8.61063928e-11, 3.73616069e-15,\n",
       "        8.02227618e-08],\n",
       "       [1.16708577e-07, 6.32177555e-09, 6.68955424e-09, 9.99785483e-01,\n",
       "        4.90178036e-06, 2.08448284e-04, 1.07695008e-13, 4.31798486e-11,\n",
       "        1.06320783e-06],\n",
       "       [8.60458158e-07, 3.55476259e-05, 9.99940276e-01, 8.56785618e-07,\n",
       "        8.14299850e-10, 4.89307546e-08, 7.49561053e-08, 2.24093892e-05,\n",
       "        1.89495752e-10],\n",
       "       [2.02263709e-05, 1.04083629e-04, 9.70413416e-10, 8.67856317e-04,\n",
       "        9.98950422e-01, 5.73035941e-05, 4.66751193e-10, 5.42515827e-14,\n",
       "        1.11543713e-07],\n",
       "       [8.08514887e-12, 3.51043088e-13, 4.80403918e-14, 1.61060110e-10,\n",
       "        6.72900971e-11, 1.25415867e-09, 3.24968852e-07, 2.96821872e-05,\n",
       "        9.99969959e-01],\n",
       "       [6.55122619e-07, 5.27335118e-08, 2.96450970e-08, 9.99946594e-01,\n",
       "        8.22503262e-06, 4.30659347e-05, 5.61463799e-13, 8.05047903e-11,\n",
       "        1.37461825e-06],\n",
       "       [1.71691494e-09, 5.23555912e-07, 1.56154853e-10, 5.55595392e-13,\n",
       "        1.81049975e-09, 1.58260960e-10, 9.99655366e-01, 5.42002053e-05,\n",
       "        2.89940886e-04],\n",
       "       [3.36506961e-10, 2.17747174e-11, 4.84569999e-14, 1.25741861e-09,\n",
       "        7.57505170e-09, 5.29838173e-10, 3.73438382e-07, 1.03533944e-06,\n",
       "        9.99998569e-01],\n",
       "       [4.60330871e-11, 3.41445947e-12, 4.80930129e-13, 7.65526253e-10,\n",
       "        3.85602383e-10, 3.24020122e-09, 6.41498104e-07, 5.47588461e-05,\n",
       "        9.99944568e-01],\n",
       "       [1.72743567e-05, 1.17599229e-04, 1.78986193e-09, 1.05462782e-03,\n",
       "        9.98735487e-01, 7.35966314e-05, 1.80083348e-09, 4.85176298e-13,\n",
       "        1.40157010e-06],\n",
       "       [9.99702632e-01, 2.84676586e-04, 9.79080824e-07, 5.83709107e-06,\n",
       "        5.84101690e-06, 1.04762206e-10, 7.94272870e-10, 3.33715748e-13,\n",
       "        8.91421451e-11],\n",
       "       [9.99843121e-01, 1.06977772e-04, 4.67558766e-06, 3.43951178e-05,\n",
       "        1.07126161e-05, 5.04984143e-09, 1.47593604e-09, 7.97352896e-12,\n",
       "        5.46241719e-10],\n",
       "       [1.93750088e-06, 4.37137935e-08, 4.30952163e-08, 9.99805748e-01,\n",
       "        9.01511976e-06, 1.79514187e-04, 2.05571714e-12, 3.78885784e-10,\n",
       "        3.66747145e-06],\n",
       "       [1.43321570e-11, 6.29027386e-11, 5.14547923e-04, 2.84691559e-11,\n",
       "        7.14347862e-15, 8.49396053e-10, 1.84448572e-06, 9.99483228e-01,\n",
       "        3.06627555e-07],\n",
       "       [1.07843201e-09, 1.08530310e-06, 8.51159143e-11, 1.40094921e-14,\n",
       "        1.88955379e-10, 2.48927983e-12, 9.99976039e-01, 5.81651284e-06,\n",
       "        1.71014708e-05],\n",
       "       [4.23510315e-12, 3.23502683e-11, 1.02433441e-04, 1.31633584e-11,\n",
       "        6.94578028e-15, 2.88920554e-10, 2.41254429e-06, 9.99894261e-01,\n",
       "        8.43367843e-07],\n",
       "       [5.46588623e-08, 2.45209675e-09, 1.02718980e-08, 2.10699363e-04,\n",
       "        1.96213223e-05, 9.99769390e-01, 1.09337421e-10, 2.87745183e-09,\n",
       "        2.26398100e-07],\n",
       "       [4.84614191e-07, 9.99998450e-01, 1.33199137e-07, 2.24638841e-09,\n",
       "        7.12900089e-07, 2.16750798e-13, 1.91364776e-07, 3.26663381e-15,\n",
       "        6.09639021e-13],\n",
       "       [9.21724052e-07, 1.11492091e-05, 9.99518871e-01, 1.09716620e-06,\n",
       "        1.38811629e-10, 4.50198137e-08, 2.32086194e-07, 4.67740698e-04,\n",
       "        2.97782399e-09],\n",
       "       [5.10219934e-07, 1.02966762e-04, 9.99861121e-01, 1.78470970e-07,\n",
       "        3.03847503e-10, 2.55904431e-09, 4.38622322e-07, 3.48290705e-05,\n",
       "        2.67261158e-10],\n",
       "       [9.99954700e-01, 2.75477578e-05, 3.50342297e-08, 2.59201079e-06,\n",
       "        1.51050344e-05, 5.57371926e-10, 1.86631766e-10, 4.05292119e-14,\n",
       "        4.87493622e-11],\n",
       "       [5.34215250e-09, 3.42269209e-06, 1.34114955e-10, 4.19519129e-13,\n",
       "        1.43750629e-08, 8.30237754e-11, 9.99840617e-01, 7.88617217e-06,\n",
       "        1.48003499e-04],\n",
       "       [6.63766042e-10, 3.61247146e-07, 3.20080629e-10, 4.00441636e-14,\n",
       "        1.14661516e-10, 2.37939841e-11, 9.99818385e-01, 1.05209612e-04,\n",
       "        7.60024195e-05],\n",
       "       [1.21335495e-06, 2.71326055e-08, 7.79812908e-08, 9.99458015e-01,\n",
       "        5.61522847e-06, 5.08107769e-04, 8.41283033e-12, 5.65728042e-09,\n",
       "        2.69174943e-05],\n",
       "       [4.96766461e-10, 3.57936165e-06, 2.50456322e-10, 8.54659208e-15,\n",
       "        1.21076968e-10, 6.76367762e-13, 9.99986649e-01, 4.06204481e-06,\n",
       "        5.69933536e-06],\n",
       "       [2.80075851e-09, 6.92354646e-11, 7.59948282e-09, 1.27969179e-04,\n",
       "        5.12642430e-07, 9.99871373e-01, 5.38969607e-12, 5.35322053e-09,\n",
       "        1.08673618e-07],\n",
       "       [1.75887737e-06, 3.53399727e-08, 1.88482367e-08, 9.99755561e-01,\n",
       "        2.38317134e-05, 2.18157264e-04, 5.88678249e-13, 4.45950950e-11,\n",
       "        7.30954127e-07]], dtype=float32)"
      ]
     },
     "execution_count": 30,
     "metadata": {},
     "output_type": "execute_result"
    }
   ],
   "source": [
    "y_proba"
   ]
  },
  {
   "cell_type": "code",
   "execution_count": 31,
   "metadata": {},
   "outputs": [
    {
     "data": {
      "text/plain": [
       "array(['marketing_google-home', 'marketing_kaggle', 'marketing_pixel',\n",
       "       'research_computer_vision', 'research_nlp',\n",
       "       'research_quantum_computing', 'sales_ad_words', 'sales_pixel',\n",
       "       'sales_search_history'], dtype=object)"
      ]
     },
     "execution_count": 31,
     "metadata": {},
     "output_type": "execute_result"
    }
   ],
   "source": [
    "le.classes_"
   ]
  },
  {
   "cell_type": "code",
   "execution_count": 32,
   "metadata": {},
   "outputs": [
    {
     "data": {
      "text/plain": [
       "'give me pixel marketing document'"
      ]
     },
     "execution_count": 32,
     "metadata": {},
     "output_type": "execute_result"
    }
   ],
   "source": [
    "rows[X_test.index[2]]"
   ]
  },
  {
   "cell_type": "code",
   "execution_count": 33,
   "metadata": {},
   "outputs": [],
   "source": [
    "from operator import itemgetter\n",
    "final_results = pd.DataFrame(data = list(itemgetter(*list(X_test.index))(rows)), index=X_test.index, columns=['inputs'])  "
   ]
  },
  {
   "cell_type": "code",
   "execution_count": 34,
   "metadata": {},
   "outputs": [],
   "source": [
    "final_results['predictions'] = le.inverse_transform(y_pred)\n",
    "final_results['true'] = le.inverse_transform(y_test)\n",
    "final_results['query_search'] = \"\""
   ]
  },
  {
   "cell_type": "code",
   "execution_count": 35,
   "metadata": {},
   "outputs": [
    {
     "data": {
      "text/html": [
       "<div>\n",
       "<style scoped>\n",
       "    .dataframe tbody tr th:only-of-type {\n",
       "        vertical-align: middle;\n",
       "    }\n",
       "\n",
       "    .dataframe tbody tr th {\n",
       "        vertical-align: top;\n",
       "    }\n",
       "\n",
       "    .dataframe thead th {\n",
       "        text-align: right;\n",
       "    }\n",
       "</style>\n",
       "<table border=\"1\" class=\"dataframe\">\n",
       "  <thead>\n",
       "    <tr style=\"text-align: right;\">\n",
       "      <th></th>\n",
       "      <th>inputs</th>\n",
       "      <th>predictions</th>\n",
       "      <th>true</th>\n",
       "      <th>query_search</th>\n",
       "    </tr>\n",
       "  </thead>\n",
       "  <tbody>\n",
       "    <tr>\n",
       "      <th>60</th>\n",
       "      <td>give me nlp research report</td>\n",
       "      <td>research_nlp</td>\n",
       "      <td>research_nlp</td>\n",
       "      <td></td>\n",
       "    </tr>\n",
       "    <tr>\n",
       "      <th>55</th>\n",
       "      <td>give me computer vision research file</td>\n",
       "      <td>research_computer_vision</td>\n",
       "      <td>research_computer_vision</td>\n",
       "      <td></td>\n",
       "    </tr>\n",
       "    <tr>\n",
       "      <th>35</th>\n",
       "      <td>give me pixel marketing document</td>\n",
       "      <td>marketing_pixel</td>\n",
       "      <td>marketing_pixel</td>\n",
       "      <td></td>\n",
       "    </tr>\n",
       "    <tr>\n",
       "      <th>68</th>\n",
       "      <td>display nlp research document</td>\n",
       "      <td>research_nlp</td>\n",
       "      <td>research_nlp</td>\n",
       "      <td></td>\n",
       "    </tr>\n",
       "    <tr>\n",
       "      <th>133</th>\n",
       "      <td>display search history sales file</td>\n",
       "      <td>sales_search_history</td>\n",
       "      <td>sales_search_history</td>\n",
       "      <td></td>\n",
       "    </tr>\n",
       "    <tr>\n",
       "      <th>56</th>\n",
       "      <td>open computer vision research file</td>\n",
       "      <td>research_computer_vision</td>\n",
       "      <td>research_computer_vision</td>\n",
       "      <td></td>\n",
       "    </tr>\n",
       "    <tr>\n",
       "      <th>102</th>\n",
       "      <td>show me ad words sales file</td>\n",
       "      <td>sales_ad_words</td>\n",
       "      <td>sales_ad_words</td>\n",
       "      <td></td>\n",
       "    </tr>\n",
       "    <tr>\n",
       "      <th>126</th>\n",
       "      <td>open search history sales document</td>\n",
       "      <td>sales_search_history</td>\n",
       "      <td>sales_search_history</td>\n",
       "      <td></td>\n",
       "    </tr>\n",
       "    <tr>\n",
       "      <th>128</th>\n",
       "      <td>display search history sales document</td>\n",
       "      <td>sales_search_history</td>\n",
       "      <td>sales_search_history</td>\n",
       "      <td></td>\n",
       "    </tr>\n",
       "    <tr>\n",
       "      <th>63</th>\n",
       "      <td>display nlp research report</td>\n",
       "      <td>research_nlp</td>\n",
       "      <td>research_nlp</td>\n",
       "      <td></td>\n",
       "    </tr>\n",
       "    <tr>\n",
       "      <th>1</th>\n",
       "      <td>open google home marketing report</td>\n",
       "      <td>marketing_google-home</td>\n",
       "      <td>marketing_google-home</td>\n",
       "      <td></td>\n",
       "    </tr>\n",
       "    <tr>\n",
       "      <th>2</th>\n",
       "      <td>show me google home marketing report</td>\n",
       "      <td>marketing_google-home</td>\n",
       "      <td>marketing_google-home</td>\n",
       "      <td></td>\n",
       "    </tr>\n",
       "    <tr>\n",
       "      <th>53</th>\n",
       "      <td>display computer vision research document</td>\n",
       "      <td>research_computer_vision</td>\n",
       "      <td>research_computer_vision</td>\n",
       "      <td></td>\n",
       "    </tr>\n",
       "    <tr>\n",
       "      <th>105</th>\n",
       "      <td>give me pixel sales report</td>\n",
       "      <td>sales_pixel</td>\n",
       "      <td>sales_pixel</td>\n",
       "      <td></td>\n",
       "    </tr>\n",
       "    <tr>\n",
       "      <th>94</th>\n",
       "      <td>please open ad words sales report</td>\n",
       "      <td>sales_ad_words</td>\n",
       "      <td>sales_ad_words</td>\n",
       "      <td></td>\n",
       "    </tr>\n",
       "    <tr>\n",
       "      <th>116</th>\n",
       "      <td>open pixel sales file</td>\n",
       "      <td>sales_pixel</td>\n",
       "      <td>sales_pixel</td>\n",
       "      <td></td>\n",
       "    </tr>\n",
       "    <tr>\n",
       "      <th>81</th>\n",
       "      <td>open quantum computing research document</td>\n",
       "      <td>research_quantum_computing</td>\n",
       "      <td>research_quantum_computing</td>\n",
       "      <td></td>\n",
       "    </tr>\n",
       "    <tr>\n",
       "      <th>26</th>\n",
       "      <td>open kaggle marketing file</td>\n",
       "      <td>marketing_kaggle</td>\n",
       "      <td>marketing_kaggle</td>\n",
       "      <td></td>\n",
       "    </tr>\n",
       "    <tr>\n",
       "      <th>38</th>\n",
       "      <td>display pixel marketing document</td>\n",
       "      <td>marketing_pixel</td>\n",
       "      <td>marketing_pixel</td>\n",
       "      <td></td>\n",
       "    </tr>\n",
       "    <tr>\n",
       "      <th>41</th>\n",
       "      <td>open pixel marketing file</td>\n",
       "      <td>marketing_pixel</td>\n",
       "      <td>marketing_pixel</td>\n",
       "      <td></td>\n",
       "    </tr>\n",
       "    <tr>\n",
       "      <th>10</th>\n",
       "      <td>give me google home marketing file</td>\n",
       "      <td>marketing_google-home</td>\n",
       "      <td>marketing_google-home</td>\n",
       "      <td></td>\n",
       "    </tr>\n",
       "    <tr>\n",
       "      <th>95</th>\n",
       "      <td>give me ad words sales document</td>\n",
       "      <td>sales_ad_words</td>\n",
       "      <td>sales_ad_words</td>\n",
       "      <td></td>\n",
       "    </tr>\n",
       "    <tr>\n",
       "      <th>98</th>\n",
       "      <td>display ad words sales document</td>\n",
       "      <td>sales_ad_words</td>\n",
       "      <td>sales_ad_words</td>\n",
       "      <td></td>\n",
       "    </tr>\n",
       "    <tr>\n",
       "      <th>58</th>\n",
       "      <td>display computer vision research file</td>\n",
       "      <td>research_computer_vision</td>\n",
       "      <td>research_computer_vision</td>\n",
       "      <td></td>\n",
       "    </tr>\n",
       "    <tr>\n",
       "      <th>91</th>\n",
       "      <td>open ad words sales report</td>\n",
       "      <td>sales_ad_words</td>\n",
       "      <td>sales_ad_words</td>\n",
       "      <td></td>\n",
       "    </tr>\n",
       "    <tr>\n",
       "      <th>75</th>\n",
       "      <td>give me quantum computing research report</td>\n",
       "      <td>research_quantum_computing</td>\n",
       "      <td>research_quantum_computing</td>\n",
       "      <td></td>\n",
       "    </tr>\n",
       "    <tr>\n",
       "      <th>52</th>\n",
       "      <td>show me computer vision research document</td>\n",
       "      <td>research_computer_vision</td>\n",
       "      <td>research_computer_vision</td>\n",
       "      <td></td>\n",
       "    </tr>\n",
       "  </tbody>\n",
       "</table>\n",
       "</div>"
      ],
      "text/plain": [
       "                                        inputs                 predictions  \\\n",
       "60                 give me nlp research report                research_nlp   \n",
       "55       give me computer vision research file    research_computer_vision   \n",
       "35            give me pixel marketing document             marketing_pixel   \n",
       "68               display nlp research document                research_nlp   \n",
       "133          display search history sales file        sales_search_history   \n",
       "56          open computer vision research file    research_computer_vision   \n",
       "102                show me ad words sales file              sales_ad_words   \n",
       "126         open search history sales document        sales_search_history   \n",
       "128      display search history sales document        sales_search_history   \n",
       "63                 display nlp research report                research_nlp   \n",
       "1            open google home marketing report       marketing_google-home   \n",
       "2         show me google home marketing report       marketing_google-home   \n",
       "53   display computer vision research document    research_computer_vision   \n",
       "105                 give me pixel sales report                 sales_pixel   \n",
       "94           please open ad words sales report              sales_ad_words   \n",
       "116                      open pixel sales file                 sales_pixel   \n",
       "81    open quantum computing research document  research_quantum_computing   \n",
       "26                  open kaggle marketing file            marketing_kaggle   \n",
       "38            display pixel marketing document             marketing_pixel   \n",
       "41                   open pixel marketing file             marketing_pixel   \n",
       "10          give me google home marketing file       marketing_google-home   \n",
       "95             give me ad words sales document              sales_ad_words   \n",
       "98             display ad words sales document              sales_ad_words   \n",
       "58       display computer vision research file    research_computer_vision   \n",
       "91                  open ad words sales report              sales_ad_words   \n",
       "75   give me quantum computing research report  research_quantum_computing   \n",
       "52   show me computer vision research document    research_computer_vision   \n",
       "\n",
       "                           true query_search  \n",
       "60                 research_nlp               \n",
       "55     research_computer_vision               \n",
       "35              marketing_pixel               \n",
       "68                 research_nlp               \n",
       "133        sales_search_history               \n",
       "56     research_computer_vision               \n",
       "102              sales_ad_words               \n",
       "126        sales_search_history               \n",
       "128        sales_search_history               \n",
       "63                 research_nlp               \n",
       "1         marketing_google-home               \n",
       "2         marketing_google-home               \n",
       "53     research_computer_vision               \n",
       "105                 sales_pixel               \n",
       "94               sales_ad_words               \n",
       "116                 sales_pixel               \n",
       "81   research_quantum_computing               \n",
       "26             marketing_kaggle               \n",
       "38              marketing_pixel               \n",
       "41              marketing_pixel               \n",
       "10        marketing_google-home               \n",
       "95               sales_ad_words               \n",
       "98               sales_ad_words               \n",
       "58     research_computer_vision               \n",
       "91               sales_ad_words               \n",
       "75   research_quantum_computing               \n",
       "52     research_computer_vision               "
      ]
     },
     "execution_count": 35,
     "metadata": {},
     "output_type": "execute_result"
    }
   ],
   "source": [
    "final_results"
   ]
  },
  {
   "cell_type": "code",
   "execution_count": 36,
   "metadata": {},
   "outputs": [
    {
     "name": "stdout",
     "output_type": "stream",
     "text": [
      "['C:\\\\Users\\\\Hitesh Somani\\\\Documents\\\\hobby_projects\\\\nlp_document_finder\\\\nlp_document_finder\\\\Google\\\\research\\\\nlp.pdf']\n",
      "['C:\\\\Users\\\\Hitesh Somani\\\\Documents\\\\hobby_projects\\\\nlp_document_finder\\\\nlp_document_finder\\\\Google\\\\research\\\\computer_vision.pdf']\n",
      "['C:\\\\Users\\\\Hitesh Somani\\\\Documents\\\\hobby_projects\\\\nlp_document_finder\\\\nlp_document_finder\\\\Google\\\\marketing\\\\pixel.pdf']\n",
      "['C:\\\\Users\\\\Hitesh Somani\\\\Documents\\\\hobby_projects\\\\nlp_document_finder\\\\nlp_document_finder\\\\Google\\\\research\\\\nlp.pdf']\n",
      "['C:\\\\Users\\\\Hitesh Somani\\\\Documents\\\\hobby_projects\\\\nlp_document_finder\\\\nlp_document_finder\\\\Google\\\\sales\\\\search_history.pdf']\n",
      "['C:\\\\Users\\\\Hitesh Somani\\\\Documents\\\\hobby_projects\\\\nlp_document_finder\\\\nlp_document_finder\\\\Google\\\\research\\\\computer_vision.pdf']\n",
      "['C:\\\\Users\\\\Hitesh Somani\\\\Documents\\\\hobby_projects\\\\nlp_document_finder\\\\nlp_document_finder\\\\Google\\\\sales\\\\ad_words.pdf']\n",
      "['C:\\\\Users\\\\Hitesh Somani\\\\Documents\\\\hobby_projects\\\\nlp_document_finder\\\\nlp_document_finder\\\\Google\\\\sales\\\\search_history.pdf']\n",
      "['C:\\\\Users\\\\Hitesh Somani\\\\Documents\\\\hobby_projects\\\\nlp_document_finder\\\\nlp_document_finder\\\\Google\\\\sales\\\\search_history.pdf']\n",
      "['C:\\\\Users\\\\Hitesh Somani\\\\Documents\\\\hobby_projects\\\\nlp_document_finder\\\\nlp_document_finder\\\\Google\\\\research\\\\nlp.pdf']\n",
      "['C:\\\\Users\\\\Hitesh Somani\\\\Documents\\\\hobby_projects\\\\nlp_document_finder\\\\nlp_document_finder\\\\Google\\\\marketing\\\\google-home.pdf']\n",
      "['C:\\\\Users\\\\Hitesh Somani\\\\Documents\\\\hobby_projects\\\\nlp_document_finder\\\\nlp_document_finder\\\\Google\\\\marketing\\\\google-home.pdf']\n",
      "['C:\\\\Users\\\\Hitesh Somani\\\\Documents\\\\hobby_projects\\\\nlp_document_finder\\\\nlp_document_finder\\\\Google\\\\research\\\\computer_vision.pdf']\n",
      "['C:\\\\Users\\\\Hitesh Somani\\\\Documents\\\\hobby_projects\\\\nlp_document_finder\\\\nlp_document_finder\\\\Google\\\\sales\\\\pixel.xlsx']\n",
      "['C:\\\\Users\\\\Hitesh Somani\\\\Documents\\\\hobby_projects\\\\nlp_document_finder\\\\nlp_document_finder\\\\Google\\\\sales\\\\ad_words.pdf']\n",
      "['C:\\\\Users\\\\Hitesh Somani\\\\Documents\\\\hobby_projects\\\\nlp_document_finder\\\\nlp_document_finder\\\\Google\\\\sales\\\\pixel.xlsx']\n",
      "['C:\\\\Users\\\\Hitesh Somani\\\\Documents\\\\hobby_projects\\\\nlp_document_finder\\\\nlp_document_finder\\\\Google\\\\research\\\\quantum_computing.pdf']\n",
      "['C:\\\\Users\\\\Hitesh Somani\\\\Documents\\\\hobby_projects\\\\nlp_document_finder\\\\nlp_document_finder\\\\Google\\\\marketing\\\\kaggle.docx']\n",
      "['C:\\\\Users\\\\Hitesh Somani\\\\Documents\\\\hobby_projects\\\\nlp_document_finder\\\\nlp_document_finder\\\\Google\\\\marketing\\\\pixel.pdf']\n",
      "['C:\\\\Users\\\\Hitesh Somani\\\\Documents\\\\hobby_projects\\\\nlp_document_finder\\\\nlp_document_finder\\\\Google\\\\marketing\\\\pixel.pdf']\n",
      "['C:\\\\Users\\\\Hitesh Somani\\\\Documents\\\\hobby_projects\\\\nlp_document_finder\\\\nlp_document_finder\\\\Google\\\\marketing\\\\google-home.pdf']\n",
      "['C:\\\\Users\\\\Hitesh Somani\\\\Documents\\\\hobby_projects\\\\nlp_document_finder\\\\nlp_document_finder\\\\Google\\\\sales\\\\ad_words.pdf']\n",
      "['C:\\\\Users\\\\Hitesh Somani\\\\Documents\\\\hobby_projects\\\\nlp_document_finder\\\\nlp_document_finder\\\\Google\\\\sales\\\\ad_words.pdf']\n",
      "['C:\\\\Users\\\\Hitesh Somani\\\\Documents\\\\hobby_projects\\\\nlp_document_finder\\\\nlp_document_finder\\\\Google\\\\research\\\\computer_vision.pdf']\n",
      "['C:\\\\Users\\\\Hitesh Somani\\\\Documents\\\\hobby_projects\\\\nlp_document_finder\\\\nlp_document_finder\\\\Google\\\\sales\\\\ad_words.pdf']\n",
      "['C:\\\\Users\\\\Hitesh Somani\\\\Documents\\\\hobby_projects\\\\nlp_document_finder\\\\nlp_document_finder\\\\Google\\\\research\\\\quantum_computing.pdf']\n",
      "['C:\\\\Users\\\\Hitesh Somani\\\\Documents\\\\hobby_projects\\\\nlp_document_finder\\\\nlp_document_finder\\\\Google\\\\research\\\\computer_vision.pdf']\n"
     ]
    }
   ],
   "source": [
    "for index in final_results.index:\n",
    "    for intent in data['intents']:\n",
    "        if intent['label'] == final_results.loc[index, 'predictions']:\n",
    "            final_results.loc[index, 'query_search'] = intent['responses']\n",
    "            print(intent['responses'])"
   ]
  },
  {
   "cell_type": "code",
   "execution_count": 37,
   "metadata": {},
   "outputs": [
    {
     "data": {
      "text/plain": [
       "['C:\\\\Users\\\\Hitesh Somani\\\\Documents\\\\hobby_projects\\\\nlp_document_finder\\\\nlp_document_finder\\\\Google\\\\research\\\\nlp.pdf']"
      ]
     },
     "execution_count": 37,
     "metadata": {},
     "output_type": "execute_result"
    }
   ],
   "source": [
    "final_results.loc[60, 'query_search']"
   ]
  },
  {
   "cell_type": "code",
   "execution_count": 38,
   "metadata": {},
   "outputs": [
    {
     "data": {
      "text/plain": [
       "['C:\\\\Users\\\\Hitesh Somani\\\\Documents\\\\hobby_projects\\\\nlp_document_finder\\\\nlp_document_finder\\\\Google\\\\research\\\\computer_vision.pdf']"
      ]
     },
     "execution_count": 38,
     "metadata": {},
     "output_type": "execute_result"
    }
   ],
   "source": [
    "final_results.loc[55, 'query_search']"
   ]
  },
  {
   "cell_type": "code",
   "execution_count": 39,
   "metadata": {},
   "outputs": [
    {
     "data": {
      "text/html": [
       "<div>\n",
       "<style scoped>\n",
       "    .dataframe tbody tr th:only-of-type {\n",
       "        vertical-align: middle;\n",
       "    }\n",
       "\n",
       "    .dataframe tbody tr th {\n",
       "        vertical-align: top;\n",
       "    }\n",
       "\n",
       "    .dataframe thead th {\n",
       "        text-align: right;\n",
       "    }\n",
       "</style>\n",
       "<table border=\"1\" class=\"dataframe\">\n",
       "  <thead>\n",
       "    <tr style=\"text-align: right;\">\n",
       "      <th></th>\n",
       "      <th>inputs</th>\n",
       "      <th>predictions</th>\n",
       "      <th>true</th>\n",
       "      <th>query_search</th>\n",
       "    </tr>\n",
       "  </thead>\n",
       "  <tbody>\n",
       "    <tr>\n",
       "      <th>60</th>\n",
       "      <td>give me nlp research report</td>\n",
       "      <td>research_nlp</td>\n",
       "      <td>research_nlp</td>\n",
       "      <td>[C:\\Users\\Hitesh Somani\\Documents\\hobby_projec...</td>\n",
       "    </tr>\n",
       "    <tr>\n",
       "      <th>55</th>\n",
       "      <td>give me computer vision research file</td>\n",
       "      <td>research_computer_vision</td>\n",
       "      <td>research_computer_vision</td>\n",
       "      <td>[C:\\Users\\Hitesh Somani\\Documents\\hobby_projec...</td>\n",
       "    </tr>\n",
       "    <tr>\n",
       "      <th>35</th>\n",
       "      <td>give me pixel marketing document</td>\n",
       "      <td>marketing_pixel</td>\n",
       "      <td>marketing_pixel</td>\n",
       "      <td>[C:\\Users\\Hitesh Somani\\Documents\\hobby_projec...</td>\n",
       "    </tr>\n",
       "    <tr>\n",
       "      <th>68</th>\n",
       "      <td>display nlp research document</td>\n",
       "      <td>research_nlp</td>\n",
       "      <td>research_nlp</td>\n",
       "      <td>[C:\\Users\\Hitesh Somani\\Documents\\hobby_projec...</td>\n",
       "    </tr>\n",
       "    <tr>\n",
       "      <th>133</th>\n",
       "      <td>display search history sales file</td>\n",
       "      <td>sales_search_history</td>\n",
       "      <td>sales_search_history</td>\n",
       "      <td>[C:\\Users\\Hitesh Somani\\Documents\\hobby_projec...</td>\n",
       "    </tr>\n",
       "    <tr>\n",
       "      <th>56</th>\n",
       "      <td>open computer vision research file</td>\n",
       "      <td>research_computer_vision</td>\n",
       "      <td>research_computer_vision</td>\n",
       "      <td>[C:\\Users\\Hitesh Somani\\Documents\\hobby_projec...</td>\n",
       "    </tr>\n",
       "    <tr>\n",
       "      <th>102</th>\n",
       "      <td>show me ad words sales file</td>\n",
       "      <td>sales_ad_words</td>\n",
       "      <td>sales_ad_words</td>\n",
       "      <td>[C:\\Users\\Hitesh Somani\\Documents\\hobby_projec...</td>\n",
       "    </tr>\n",
       "    <tr>\n",
       "      <th>126</th>\n",
       "      <td>open search history sales document</td>\n",
       "      <td>sales_search_history</td>\n",
       "      <td>sales_search_history</td>\n",
       "      <td>[C:\\Users\\Hitesh Somani\\Documents\\hobby_projec...</td>\n",
       "    </tr>\n",
       "    <tr>\n",
       "      <th>128</th>\n",
       "      <td>display search history sales document</td>\n",
       "      <td>sales_search_history</td>\n",
       "      <td>sales_search_history</td>\n",
       "      <td>[C:\\Users\\Hitesh Somani\\Documents\\hobby_projec...</td>\n",
       "    </tr>\n",
       "    <tr>\n",
       "      <th>63</th>\n",
       "      <td>display nlp research report</td>\n",
       "      <td>research_nlp</td>\n",
       "      <td>research_nlp</td>\n",
       "      <td>[C:\\Users\\Hitesh Somani\\Documents\\hobby_projec...</td>\n",
       "    </tr>\n",
       "    <tr>\n",
       "      <th>1</th>\n",
       "      <td>open google home marketing report</td>\n",
       "      <td>marketing_google-home</td>\n",
       "      <td>marketing_google-home</td>\n",
       "      <td>[C:\\Users\\Hitesh Somani\\Documents\\hobby_projec...</td>\n",
       "    </tr>\n",
       "    <tr>\n",
       "      <th>2</th>\n",
       "      <td>show me google home marketing report</td>\n",
       "      <td>marketing_google-home</td>\n",
       "      <td>marketing_google-home</td>\n",
       "      <td>[C:\\Users\\Hitesh Somani\\Documents\\hobby_projec...</td>\n",
       "    </tr>\n",
       "    <tr>\n",
       "      <th>53</th>\n",
       "      <td>display computer vision research document</td>\n",
       "      <td>research_computer_vision</td>\n",
       "      <td>research_computer_vision</td>\n",
       "      <td>[C:\\Users\\Hitesh Somani\\Documents\\hobby_projec...</td>\n",
       "    </tr>\n",
       "    <tr>\n",
       "      <th>105</th>\n",
       "      <td>give me pixel sales report</td>\n",
       "      <td>sales_pixel</td>\n",
       "      <td>sales_pixel</td>\n",
       "      <td>[C:\\Users\\Hitesh Somani\\Documents\\hobby_projec...</td>\n",
       "    </tr>\n",
       "    <tr>\n",
       "      <th>94</th>\n",
       "      <td>please open ad words sales report</td>\n",
       "      <td>sales_ad_words</td>\n",
       "      <td>sales_ad_words</td>\n",
       "      <td>[C:\\Users\\Hitesh Somani\\Documents\\hobby_projec...</td>\n",
       "    </tr>\n",
       "    <tr>\n",
       "      <th>116</th>\n",
       "      <td>open pixel sales file</td>\n",
       "      <td>sales_pixel</td>\n",
       "      <td>sales_pixel</td>\n",
       "      <td>[C:\\Users\\Hitesh Somani\\Documents\\hobby_projec...</td>\n",
       "    </tr>\n",
       "    <tr>\n",
       "      <th>81</th>\n",
       "      <td>open quantum computing research document</td>\n",
       "      <td>research_quantum_computing</td>\n",
       "      <td>research_quantum_computing</td>\n",
       "      <td>[C:\\Users\\Hitesh Somani\\Documents\\hobby_projec...</td>\n",
       "    </tr>\n",
       "    <tr>\n",
       "      <th>26</th>\n",
       "      <td>open kaggle marketing file</td>\n",
       "      <td>marketing_kaggle</td>\n",
       "      <td>marketing_kaggle</td>\n",
       "      <td>[C:\\Users\\Hitesh Somani\\Documents\\hobby_projec...</td>\n",
       "    </tr>\n",
       "    <tr>\n",
       "      <th>38</th>\n",
       "      <td>display pixel marketing document</td>\n",
       "      <td>marketing_pixel</td>\n",
       "      <td>marketing_pixel</td>\n",
       "      <td>[C:\\Users\\Hitesh Somani\\Documents\\hobby_projec...</td>\n",
       "    </tr>\n",
       "    <tr>\n",
       "      <th>41</th>\n",
       "      <td>open pixel marketing file</td>\n",
       "      <td>marketing_pixel</td>\n",
       "      <td>marketing_pixel</td>\n",
       "      <td>[C:\\Users\\Hitesh Somani\\Documents\\hobby_projec...</td>\n",
       "    </tr>\n",
       "    <tr>\n",
       "      <th>10</th>\n",
       "      <td>give me google home marketing file</td>\n",
       "      <td>marketing_google-home</td>\n",
       "      <td>marketing_google-home</td>\n",
       "      <td>[C:\\Users\\Hitesh Somani\\Documents\\hobby_projec...</td>\n",
       "    </tr>\n",
       "    <tr>\n",
       "      <th>95</th>\n",
       "      <td>give me ad words sales document</td>\n",
       "      <td>sales_ad_words</td>\n",
       "      <td>sales_ad_words</td>\n",
       "      <td>[C:\\Users\\Hitesh Somani\\Documents\\hobby_projec...</td>\n",
       "    </tr>\n",
       "    <tr>\n",
       "      <th>98</th>\n",
       "      <td>display ad words sales document</td>\n",
       "      <td>sales_ad_words</td>\n",
       "      <td>sales_ad_words</td>\n",
       "      <td>[C:\\Users\\Hitesh Somani\\Documents\\hobby_projec...</td>\n",
       "    </tr>\n",
       "    <tr>\n",
       "      <th>58</th>\n",
       "      <td>display computer vision research file</td>\n",
       "      <td>research_computer_vision</td>\n",
       "      <td>research_computer_vision</td>\n",
       "      <td>[C:\\Users\\Hitesh Somani\\Documents\\hobby_projec...</td>\n",
       "    </tr>\n",
       "    <tr>\n",
       "      <th>91</th>\n",
       "      <td>open ad words sales report</td>\n",
       "      <td>sales_ad_words</td>\n",
       "      <td>sales_ad_words</td>\n",
       "      <td>[C:\\Users\\Hitesh Somani\\Documents\\hobby_projec...</td>\n",
       "    </tr>\n",
       "    <tr>\n",
       "      <th>75</th>\n",
       "      <td>give me quantum computing research report</td>\n",
       "      <td>research_quantum_computing</td>\n",
       "      <td>research_quantum_computing</td>\n",
       "      <td>[C:\\Users\\Hitesh Somani\\Documents\\hobby_projec...</td>\n",
       "    </tr>\n",
       "    <tr>\n",
       "      <th>52</th>\n",
       "      <td>show me computer vision research document</td>\n",
       "      <td>research_computer_vision</td>\n",
       "      <td>research_computer_vision</td>\n",
       "      <td>[C:\\Users\\Hitesh Somani\\Documents\\hobby_projec...</td>\n",
       "    </tr>\n",
       "  </tbody>\n",
       "</table>\n",
       "</div>"
      ],
      "text/plain": [
       "                                        inputs                 predictions  \\\n",
       "60                 give me nlp research report                research_nlp   \n",
       "55       give me computer vision research file    research_computer_vision   \n",
       "35            give me pixel marketing document             marketing_pixel   \n",
       "68               display nlp research document                research_nlp   \n",
       "133          display search history sales file        sales_search_history   \n",
       "56          open computer vision research file    research_computer_vision   \n",
       "102                show me ad words sales file              sales_ad_words   \n",
       "126         open search history sales document        sales_search_history   \n",
       "128      display search history sales document        sales_search_history   \n",
       "63                 display nlp research report                research_nlp   \n",
       "1            open google home marketing report       marketing_google-home   \n",
       "2         show me google home marketing report       marketing_google-home   \n",
       "53   display computer vision research document    research_computer_vision   \n",
       "105                 give me pixel sales report                 sales_pixel   \n",
       "94           please open ad words sales report              sales_ad_words   \n",
       "116                      open pixel sales file                 sales_pixel   \n",
       "81    open quantum computing research document  research_quantum_computing   \n",
       "26                  open kaggle marketing file            marketing_kaggle   \n",
       "38            display pixel marketing document             marketing_pixel   \n",
       "41                   open pixel marketing file             marketing_pixel   \n",
       "10          give me google home marketing file       marketing_google-home   \n",
       "95             give me ad words sales document              sales_ad_words   \n",
       "98             display ad words sales document              sales_ad_words   \n",
       "58       display computer vision research file    research_computer_vision   \n",
       "91                  open ad words sales report              sales_ad_words   \n",
       "75   give me quantum computing research report  research_quantum_computing   \n",
       "52   show me computer vision research document    research_computer_vision   \n",
       "\n",
       "                           true  \\\n",
       "60                 research_nlp   \n",
       "55     research_computer_vision   \n",
       "35              marketing_pixel   \n",
       "68                 research_nlp   \n",
       "133        sales_search_history   \n",
       "56     research_computer_vision   \n",
       "102              sales_ad_words   \n",
       "126        sales_search_history   \n",
       "128        sales_search_history   \n",
       "63                 research_nlp   \n",
       "1         marketing_google-home   \n",
       "2         marketing_google-home   \n",
       "53     research_computer_vision   \n",
       "105                 sales_pixel   \n",
       "94               sales_ad_words   \n",
       "116                 sales_pixel   \n",
       "81   research_quantum_computing   \n",
       "26             marketing_kaggle   \n",
       "38              marketing_pixel   \n",
       "41              marketing_pixel   \n",
       "10        marketing_google-home   \n",
       "95               sales_ad_words   \n",
       "98               sales_ad_words   \n",
       "58     research_computer_vision   \n",
       "91               sales_ad_words   \n",
       "75   research_quantum_computing   \n",
       "52     research_computer_vision   \n",
       "\n",
       "                                          query_search  \n",
       "60   [C:\\Users\\Hitesh Somani\\Documents\\hobby_projec...  \n",
       "55   [C:\\Users\\Hitesh Somani\\Documents\\hobby_projec...  \n",
       "35   [C:\\Users\\Hitesh Somani\\Documents\\hobby_projec...  \n",
       "68   [C:\\Users\\Hitesh Somani\\Documents\\hobby_projec...  \n",
       "133  [C:\\Users\\Hitesh Somani\\Documents\\hobby_projec...  \n",
       "56   [C:\\Users\\Hitesh Somani\\Documents\\hobby_projec...  \n",
       "102  [C:\\Users\\Hitesh Somani\\Documents\\hobby_projec...  \n",
       "126  [C:\\Users\\Hitesh Somani\\Documents\\hobby_projec...  \n",
       "128  [C:\\Users\\Hitesh Somani\\Documents\\hobby_projec...  \n",
       "63   [C:\\Users\\Hitesh Somani\\Documents\\hobby_projec...  \n",
       "1    [C:\\Users\\Hitesh Somani\\Documents\\hobby_projec...  \n",
       "2    [C:\\Users\\Hitesh Somani\\Documents\\hobby_projec...  \n",
       "53   [C:\\Users\\Hitesh Somani\\Documents\\hobby_projec...  \n",
       "105  [C:\\Users\\Hitesh Somani\\Documents\\hobby_projec...  \n",
       "94   [C:\\Users\\Hitesh Somani\\Documents\\hobby_projec...  \n",
       "116  [C:\\Users\\Hitesh Somani\\Documents\\hobby_projec...  \n",
       "81   [C:\\Users\\Hitesh Somani\\Documents\\hobby_projec...  \n",
       "26   [C:\\Users\\Hitesh Somani\\Documents\\hobby_projec...  \n",
       "38   [C:\\Users\\Hitesh Somani\\Documents\\hobby_projec...  \n",
       "41   [C:\\Users\\Hitesh Somani\\Documents\\hobby_projec...  \n",
       "10   [C:\\Users\\Hitesh Somani\\Documents\\hobby_projec...  \n",
       "95   [C:\\Users\\Hitesh Somani\\Documents\\hobby_projec...  \n",
       "98   [C:\\Users\\Hitesh Somani\\Documents\\hobby_projec...  \n",
       "58   [C:\\Users\\Hitesh Somani\\Documents\\hobby_projec...  \n",
       "91   [C:\\Users\\Hitesh Somani\\Documents\\hobby_projec...  \n",
       "75   [C:\\Users\\Hitesh Somani\\Documents\\hobby_projec...  \n",
       "52   [C:\\Users\\Hitesh Somani\\Documents\\hobby_projec...  "
      ]
     },
     "execution_count": 39,
     "metadata": {},
     "output_type": "execute_result"
    }
   ],
   "source": [
    "final_results"
   ]
  },
  {
   "cell_type": "markdown",
   "metadata": {},
   "source": [
    "## User Input Test"
   ]
  },
  {
   "cell_type": "code",
   "execution_count": 40,
   "metadata": {},
   "outputs": [
    {
     "data": {
      "text/plain": [
       "array(['marketing_google-home', 'marketing_kaggle', 'marketing_pixel',\n",
       "       'research_computer_vision', 'research_nlp',\n",
       "       'research_quantum_computing', 'sales_ad_words', 'sales_pixel',\n",
       "       'sales_search_history'], dtype=object)"
      ]
     },
     "execution_count": 40,
     "metadata": {},
     "output_type": "execute_result"
    }
   ],
   "source": [
    "le.classes_"
   ]
  },
  {
   "cell_type": "code",
   "execution_count": 41,
   "metadata": {},
   "outputs": [
    {
     "data": {
      "text/plain": [
       "['le.joblib']"
      ]
     },
     "execution_count": 41,
     "metadata": {},
     "output_type": "execute_result"
    }
   ],
   "source": [
    "import joblib\n",
    "\n",
    "joblib.dump(le, 'le.joblib')"
   ]
  },
  {
   "cell_type": "markdown",
   "metadata": {},
   "source": [
    "#### Test1: Asking with document name and folder name"
   ]
  },
  {
   "cell_type": "code",
   "execution_count": 42,
   "metadata": {},
   "outputs": [],
   "source": [
    "user_input = [\"Hi open the sales google home document please\"]\n",
    "\n",
    "embedding = embed(user_input)\n",
    "X_user = pd.DataFrame(data=embedding.numpy())"
   ]
  },
  {
   "cell_type": "code",
   "execution_count": 43,
   "metadata": {},
   "outputs": [
    {
     "name": "stdout",
     "output_type": "stream",
     "text": [
      "label predicted: ['marketing_google-home']\n",
      "Query search: ['C:\\\\Users\\\\Hitesh Somani\\\\Documents\\\\hobby_projects\\\\nlp_document_finder\\\\nlp_document_finder\\\\Google\\\\marketing\\\\google-home.pdf']\n"
     ]
    }
   ],
   "source": [
    "y_proba = model.predict(X_user)\n",
    "y_pred = y_proba.argmax(axis=1)\n",
    "print(f\"label predicted: {le.inverse_transform(y_pred)}\")\n",
    "for intent in data['intents']:\n",
    "    if intent['label'] == le.inverse_transform(y_pred):\n",
    "        print(f\"Query search: {intent['responses']}\")"
   ]
  },
  {
   "cell_type": "code",
   "execution_count": 44,
   "metadata": {},
   "outputs": [
    {
     "data": {
      "text/plain": [
       "array([[9.8039138e-01, 8.5038464e-06, 3.8861793e-07, 6.4091400e-05,\n",
       "        2.7618246e-04, 6.7361958e-05, 4.5047383e-04, 5.9663234e-05,\n",
       "        1.8682117e-02]], dtype=float32)"
      ]
     },
     "execution_count": 44,
     "metadata": {},
     "output_type": "execute_result"
    }
   ],
   "source": [
    "(y_proba)"
   ]
  },
  {
   "cell_type": "markdown",
   "metadata": {},
   "source": [
    "#### Result: The user made a mistake. google home document is in marketing folder"
   ]
  },
  {
   "cell_type": "code",
   "execution_count": null,
   "metadata": {},
   "outputs": [],
   "source": []
  },
  {
   "cell_type": "markdown",
   "metadata": {},
   "source": [
    "#### Test2: Asking with document name and folder name but _'can you get me'_ this is not used in training data so far "
   ]
  },
  {
   "cell_type": "code",
   "execution_count": 45,
   "metadata": {},
   "outputs": [],
   "source": [
    "user_input = [\"Hi can you get me sales pixel document\"]\n",
    "\n",
    "embedding = embed(user_input)\n",
    "X_user = pd.DataFrame(data=embedding.numpy())"
   ]
  },
  {
   "cell_type": "code",
   "execution_count": 46,
   "metadata": {},
   "outputs": [
    {
     "name": "stdout",
     "output_type": "stream",
     "text": [
      "label predicted: ['sales_pixel']\n",
      "Query search: ['C:\\\\Users\\\\Hitesh Somani\\\\Documents\\\\hobby_projects\\\\nlp_document_finder\\\\nlp_document_finder\\\\Google\\\\sales\\\\pixel.xlsx']\n"
     ]
    }
   ],
   "source": [
    "y_proba = model.predict(X_user)\n",
    "y_pred = y_proba.argmax(axis=1)\n",
    "print(f\"label predicted: {le.inverse_transform(y_pred)}\")\n",
    "for intent in data['intents']:\n",
    "    if intent['label'] == le.inverse_transform(y_pred):\n",
    "        print(f\"Query search: {intent['responses']}\")"
   ]
  },
  {
   "cell_type": "code",
   "execution_count": 47,
   "metadata": {},
   "outputs": [
    {
     "data": {
      "text/plain": [
       "array([[2.0324860e-11, 9.8381754e-12, 6.5857425e-06, 1.6535037e-10,\n",
       "        4.2533696e-13, 5.6772858e-08, 3.2250096e-06, 9.9997568e-01,\n",
       "        1.4425563e-05]], dtype=float32)"
      ]
     },
     "execution_count": 47,
     "metadata": {},
     "output_type": "execute_result"
    }
   ],
   "source": [
    "y_proba"
   ]
  },
  {
   "cell_type": "markdown",
   "metadata": {},
   "source": [
    "#### Result: The user asked for correct document from correct folder and model answer is correct."
   ]
  },
  {
   "cell_type": "code",
   "execution_count": null,
   "metadata": {},
   "outputs": [],
   "source": []
  },
  {
   "cell_type": "markdown",
   "metadata": {},
   "source": [
    "#### Test3: Asking with document name but no folder name"
   ]
  },
  {
   "cell_type": "code",
   "execution_count": 48,
   "metadata": {},
   "outputs": [],
   "source": [
    "user_input = [\"Hi can you get me pixel document\"]\n",
    "\n",
    "embedding = embed(user_input)\n",
    "X_user = pd.DataFrame(data=embedding.numpy())"
   ]
  },
  {
   "cell_type": "code",
   "execution_count": 49,
   "metadata": {},
   "outputs": [
    {
     "name": "stdout",
     "output_type": "stream",
     "text": [
      "label predicted: ['sales_pixel']\n",
      "Query search: ['C:\\\\Users\\\\Hitesh Somani\\\\Documents\\\\hobby_projects\\\\nlp_document_finder\\\\nlp_document_finder\\\\Google\\\\sales\\\\pixel.xlsx']\n"
     ]
    }
   ],
   "source": [
    "y_proba = model.predict(X_user)\n",
    "y_pred = y_proba.argmax(axis=1)\n",
    "print(f\"label predicted: {le.inverse_transform(y_pred)}\")\n",
    "for intent in data['intents']:\n",
    "    if intent['label'] == le.inverse_transform(y_pred):\n",
    "        print(f\"Query search: {intent['responses']}\")"
   ]
  },
  {
   "cell_type": "code",
   "execution_count": null,
   "metadata": {},
   "outputs": [],
   "source": []
  },
  {
   "cell_type": "markdown",
   "metadata": {},
   "source": [
    "#### Result: The user asked for correct document but did not specify and folder. Model gave just one correct result"
   ]
  },
  {
   "cell_type": "code",
   "execution_count": 50,
   "metadata": {},
   "outputs": [
    {
     "data": {
      "text/plain": [
       "array([[9.0644532e-09, 3.2695158e-10, 1.6629687e-03, 5.6230838e-06,\n",
       "        6.4129496e-10, 3.0669040e-04, 2.1222914e-07, 9.9799585e-01,\n",
       "        2.8623694e-05]], dtype=float32)"
      ]
     },
     "execution_count": 50,
     "metadata": {},
     "output_type": "execute_result"
    }
   ],
   "source": [
    "# Lets y_proba\n",
    "\n",
    "y_proba"
   ]
  },
  {
   "cell_type": "markdown",
   "metadata": {},
   "source": [
    "So here is one room for improvement. The model should also give high probability to second element of the above list sonce that corresponds to 'marketing_pixel' <br>\n",
    "May be we can add few more such statements in training data itself."
   ]
  },
  {
   "cell_type": "code",
   "execution_count": null,
   "metadata": {},
   "outputs": [],
   "source": []
  },
  {
   "cell_type": "markdown",
   "metadata": {},
   "source": [
    "#### Test4: Asking document created on a date"
   ]
  },
  {
   "cell_type": "code",
   "execution_count": 51,
   "metadata": {},
   "outputs": [],
   "source": [
    "user_input = [\"Please open kaggle marketing document created on 15 July\"]"
   ]
  },
  {
   "cell_type": "code",
   "execution_count": 52,
   "metadata": {},
   "outputs": [],
   "source": [
    "query_date = {}\n",
    "for idx, row in enumerate(user_input):\n",
    "    date_occurences = [(ent.text.strip(), ent.label_) for ent in sp_lg(row).ents if ent.label_ == 'DATE']\n",
    "    query_date[row] = []\n",
    "    \n",
    "    for date in date_occurences:\n",
    "        try:\n",
    "            date_token = re.split('\\s+|/|-|:',date[0])\n",
    "            day, month, year = decode_date(date_token)\n",
    "            query_date[row].append((day, month, year))\n",
    "            row = row.replace(date[0], \"\", 1)\n",
    "            user_input[idx] = row\n",
    "        except:\n",
    "            pass"
   ]
  },
  {
   "cell_type": "code",
   "execution_count": 53,
   "metadata": {},
   "outputs": [],
   "source": [
    "embedding = embed(user_input)\n",
    "X_user = pd.DataFrame(data=embedding.numpy())"
   ]
  },
  {
   "cell_type": "code",
   "execution_count": 54,
   "metadata": {},
   "outputs": [
    {
     "name": "stdout",
     "output_type": "stream",
     "text": [
      "label predicted: ['marketing_kaggle']\n",
      "Query search: ['C:\\\\Users\\\\Hitesh Somani\\\\Documents\\\\hobby_projects\\\\nlp_document_finder\\\\nlp_document_finder\\\\Google\\\\marketing\\\\kaggle.docx']\n"
     ]
    }
   ],
   "source": [
    "y_proba = model.predict(X_user)\n",
    "y_pred = y_proba.argmax(axis=1)\n",
    "print(f\"label predicted: {le.inverse_transform(y_pred)}\")\n",
    "for intent in data['intents']:\n",
    "    if intent['label'] == le.inverse_transform(y_pred):\n",
    "        print(f\"Query search: {intent['responses']}\")"
   ]
  },
  {
   "cell_type": "code",
   "execution_count": 55,
   "metadata": {},
   "outputs": [
    {
     "data": {
      "text/plain": [
       "array([[3.3654185e-05, 9.9994421e-01, 7.1056456e-07, 1.7149644e-07,\n",
       "        2.0488336e-05, 1.1701472e-10, 8.2116850e-07, 1.0062551e-13,\n",
       "        4.9223396e-11]], dtype=float32)"
      ]
     },
     "execution_count": 55,
     "metadata": {},
     "output_type": "execute_result"
    }
   ],
   "source": [
    "# Lets y_proba\n",
    "\n",
    "y_proba"
   ]
  },
  {
   "cell_type": "code",
   "execution_count": 56,
   "metadata": {},
   "outputs": [
    {
     "data": {
      "text/plain": [
       "{'Please open kaggle marketing document created on 15 July': [(15, 7, 2020)]}"
      ]
     },
     "execution_count": 56,
     "metadata": {},
     "output_type": "execute_result"
    }
   ],
   "source": [
    "query_date"
   ]
  },
  {
   "cell_type": "code",
   "execution_count": null,
   "metadata": {},
   "outputs": [],
   "source": []
  },
  {
   "cell_type": "markdown",
   "metadata": {},
   "source": [
    "#### Test5: Asking document created on a date"
   ]
  },
  {
   "cell_type": "code",
   "execution_count": 57,
   "metadata": {},
   "outputs": [],
   "source": [
    "user_input = [\"Please open computer vision document created on 1/6/2019\", \"Please open computer vision document created on 1-6-2019\", \n",
    "              \"Give me google home document from 14/07\", \"Give me google home document from 14-07\", \"Give me google home document made 14 Jan\", \n",
    "              \"Give me nlp document made on March 12\", \"Give me quantum computing document\"]"
   ]
  },
  {
   "cell_type": "code",
   "execution_count": 58,
   "metadata": {},
   "outputs": [],
   "source": [
    "query_date = {}\n",
    "for idx, row in enumerate(user_input):\n",
    "    date_occurences = [(ent.text.strip(), ent.label_) for ent in sp_lg(row).ents if ent.label_ == 'DATE']\n",
    "    query_date[row] = []\n",
    "    for date in date_occurences:\n",
    "        try:\n",
    "            date_token = re.split('\\s+|/|-|:',date[0])\n",
    "            day, month, year = decode_date(date_token)\n",
    "            query_date[row].append((f'{year}-{month}-{day}'))\n",
    "            datetime.strptime(f'{year}-{month}-{day}', '%Y-%m-%d %H:%M:%S.%f')\n",
    "            row = row.replace(date[0], \"\", 1)\n",
    "            user_input[idx] = row\n",
    "        except:\n",
    "            pass"
   ]
  },
  {
   "cell_type": "code",
   "execution_count": 59,
   "metadata": {},
   "outputs": [],
   "source": [
    "embedding = embed(user_input)\n",
    "X_user = pd.DataFrame(data=embedding.numpy())"
   ]
  },
  {
   "cell_type": "code",
   "execution_count": 60,
   "metadata": {},
   "outputs": [],
   "source": [
    "y_proba = model.predict(X_user)\n",
    "y_pred = y_proba.argmax(axis=1)"
   ]
  },
  {
   "cell_type": "code",
   "execution_count": 61,
   "metadata": {},
   "outputs": [
    {
     "data": {
      "text/plain": [
       "array([3, 3, 0, 0, 0, 4, 5], dtype=int64)"
      ]
     },
     "execution_count": 61,
     "metadata": {},
     "output_type": "execute_result"
    }
   ],
   "source": [
    "y_pred"
   ]
  },
  {
   "cell_type": "code",
   "execution_count": 62,
   "metadata": {},
   "outputs": [
    {
     "name": "stdout",
     "output_type": "stream",
     "text": [
      "label predicted: ['research_computer_vision' 'research_computer_vision'\n",
      " 'marketing_google-home' 'marketing_google-home' 'marketing_google-home'\n",
      " 'research_nlp' 'research_quantum_computing']\n",
      "Query search: ['C:\\\\Users\\\\Hitesh Somani\\\\Documents\\\\hobby_projects\\\\nlp_document_finder\\\\nlp_document_finder\\\\Google\\\\research\\\\computer_vision.pdf']\n",
      "Query search: ['C:\\\\Users\\\\Hitesh Somani\\\\Documents\\\\hobby_projects\\\\nlp_document_finder\\\\nlp_document_finder\\\\Google\\\\research\\\\computer_vision.pdf']\n",
      "Query search: ['C:\\\\Users\\\\Hitesh Somani\\\\Documents\\\\hobby_projects\\\\nlp_document_finder\\\\nlp_document_finder\\\\Google\\\\marketing\\\\google-home.pdf']\n",
      "Query search: ['C:\\\\Users\\\\Hitesh Somani\\\\Documents\\\\hobby_projects\\\\nlp_document_finder\\\\nlp_document_finder\\\\Google\\\\marketing\\\\google-home.pdf']\n",
      "Query search: ['C:\\\\Users\\\\Hitesh Somani\\\\Documents\\\\hobby_projects\\\\nlp_document_finder\\\\nlp_document_finder\\\\Google\\\\marketing\\\\google-home.pdf']\n",
      "Query search: ['C:\\\\Users\\\\Hitesh Somani\\\\Documents\\\\hobby_projects\\\\nlp_document_finder\\\\nlp_document_finder\\\\Google\\\\research\\\\nlp.pdf']\n",
      "Query search: ['C:\\\\Users\\\\Hitesh Somani\\\\Documents\\\\hobby_projects\\\\nlp_document_finder\\\\nlp_document_finder\\\\Google\\\\research\\\\quantum_computing.pdf']\n"
     ]
    }
   ],
   "source": [
    "y_proba = model.predict(X_user)\n",
    "y_pred = y_proba.argmax(axis=1)\n",
    "print(f\"label predicted: {le.inverse_transform(y_pred)}\")\n",
    "for pred in y_pred:\n",
    "    for intent in data['intents']:\n",
    "        if intent['label'] == le.inverse_transform(pred.reshape(1,)):\n",
    "            print(f\"Query search: {intent['responses']}\")"
   ]
  },
  {
   "cell_type": "code",
   "execution_count": 63,
   "metadata": {},
   "outputs": [
    {
     "data": {
      "text/plain": [
       "array([[2.3906786e-04, 2.0598837e-04, 2.3877983e-04, 9.9876392e-01,\n",
       "        5.2029740e-05, 4.9833907e-04, 7.0242585e-09, 5.4152618e-08,\n",
       "        1.8031697e-06],\n",
       "       [2.3906786e-04, 2.0598837e-04, 2.3877983e-04, 9.9876392e-01,\n",
       "        5.2029740e-05, 4.9833907e-04, 7.0242585e-09, 5.4152618e-08,\n",
       "        1.8031697e-06],\n",
       "       [9.9570078e-01, 1.6529327e-06, 6.1925891e-07, 2.9801806e-03,\n",
       "        1.1664430e-03, 1.4929799e-04, 3.2605181e-09, 2.2485744e-09,\n",
       "        9.6148983e-07],\n",
       "       [9.9570078e-01, 1.6529327e-06, 6.1925891e-07, 2.9801806e-03,\n",
       "        1.1664430e-03, 1.4929799e-04, 3.2605181e-09, 2.2485744e-09,\n",
       "        9.6148983e-07],\n",
       "       [9.8191535e-01, 1.8430332e-05, 3.3163145e-05, 1.5188953e-02,\n",
       "        1.9559842e-03, 4.6299308e-04, 5.6868902e-07, 4.6711302e-06,\n",
       "        4.2002724e-04],\n",
       "       [1.4100033e-03, 3.7304711e-02, 1.0123072e-06, 8.1738930e-05,\n",
       "        9.6100438e-01, 1.5915777e-04, 3.1436324e-05, 1.1156708e-09,\n",
       "        7.6591159e-06],\n",
       "       [7.5495281e-09, 1.7710871e-08, 7.3391499e-07, 3.3118147e-05,\n",
       "        7.9268602e-07, 9.9996519e-01, 2.9358374e-09, 1.5852783e-07,\n",
       "        4.3759140e-08]], dtype=float32)"
      ]
     },
     "execution_count": 63,
     "metadata": {},
     "output_type": "execute_result"
    }
   ],
   "source": [
    "# Lets y_proba\n",
    "y_proba"
   ]
  },
  {
   "cell_type": "code",
   "execution_count": 64,
   "metadata": {},
   "outputs": [
    {
     "data": {
      "text/plain": [
       "{'Please open computer vision document created on 1/6/2019': [],\n",
       " 'Please open computer vision document created on 1-6-2019': ['2019-6-1'],\n",
       " 'Give me google home document from 14/07': [],\n",
       " 'Give me google home document from 14-07': ['2020-7-14'],\n",
       " 'Give me google home document made 14 Jan': ['2020-1-14'],\n",
       " 'Give me nlp document made on March 12': ['2020-3-12'],\n",
       " 'Give me quantum computing document': []}"
      ]
     },
     "execution_count": 64,
     "metadata": {},
     "output_type": "execute_result"
    }
   ],
   "source": [
    "query_date"
   ]
  },
  {
   "cell_type": "markdown",
   "metadata": {},
   "source": [
    "### Save model"
   ]
  },
  {
   "cell_type": "code",
   "execution_count": 65,
   "metadata": {},
   "outputs": [
    {
     "name": "stdout",
     "output_type": "stream",
     "text": [
      "WARNING:tensorflow:From c:\\users\\hitesh somani\\documents\\hobby_projects\\nlp_document_finder\\nlp_document_finder_venv\\lib\\site-packages\\tensorflow\\python\\training\\tracking\\tracking.py:111: Model.state_updates (from tensorflow.python.keras.engine.training) is deprecated and will be removed in a future version.\n",
      "Instructions for updating:\n",
      "This property should not be used in TensorFlow 2.0, as updates are applied automatically.\n"
     ]
    },
    {
     "name": "stderr",
     "output_type": "stream",
     "text": [
      "WARNING:tensorflow:From c:\\users\\hitesh somani\\documents\\hobby_projects\\nlp_document_finder\\nlp_document_finder_venv\\lib\\site-packages\\tensorflow\\python\\training\\tracking\\tracking.py:111: Model.state_updates (from tensorflow.python.keras.engine.training) is deprecated and will be removed in a future version.\n",
      "Instructions for updating:\n",
      "This property should not be used in TensorFlow 2.0, as updates are applied automatically.\n"
     ]
    },
    {
     "name": "stdout",
     "output_type": "stream",
     "text": [
      "WARNING:tensorflow:From c:\\users\\hitesh somani\\documents\\hobby_projects\\nlp_document_finder\\nlp_document_finder_venv\\lib\\site-packages\\tensorflow\\python\\training\\tracking\\tracking.py:111: Layer.updates (from tensorflow.python.keras.engine.base_layer) is deprecated and will be removed in a future version.\n",
      "Instructions for updating:\n",
      "This property should not be used in TensorFlow 2.0, as updates are applied automatically.\n"
     ]
    },
    {
     "name": "stderr",
     "output_type": "stream",
     "text": [
      "WARNING:tensorflow:From c:\\users\\hitesh somani\\documents\\hobby_projects\\nlp_document_finder\\nlp_document_finder_venv\\lib\\site-packages\\tensorflow\\python\\training\\tracking\\tracking.py:111: Layer.updates (from tensorflow.python.keras.engine.base_layer) is deprecated and will be removed in a future version.\n",
      "Instructions for updating:\n",
      "This property should not be used in TensorFlow 2.0, as updates are applied automatically.\n"
     ]
    },
    {
     "name": "stdout",
     "output_type": "stream",
     "text": [
      "INFO:tensorflow:Assets written to: model\\assets\n"
     ]
    },
    {
     "name": "stderr",
     "output_type": "stream",
     "text": [
      "INFO:tensorflow:Assets written to: model\\assets\n"
     ]
    }
   ],
   "source": [
    "model.save('model')"
   ]
  },
  {
   "cell_type": "code",
   "execution_count": null,
   "metadata": {},
   "outputs": [],
   "source": []
  }
 ],
 "metadata": {
  "environment": {
   "name": "common-cpu.m49",
   "type": "gcloud",
   "uri": "gcr.io/deeplearning-platform-release/base-cpu:m49"
  },
  "kernelspec": {
   "display_name": "Python 3",
   "language": "python",
   "name": "python3"
  },
  "language_info": {
   "codemirror_mode": {
    "name": "ipython",
    "version": 3
   },
   "file_extension": ".py",
   "mimetype": "text/x-python",
   "name": "python",
   "nbconvert_exporter": "python",
   "pygments_lexer": "ipython3",
   "version": "3.8.4"
  }
 },
 "nbformat": 4,
 "nbformat_minor": 4
}
