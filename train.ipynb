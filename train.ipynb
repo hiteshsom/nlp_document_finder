{
 "cells": [
  {
   "cell_type": "markdown",
   "metadata": {},
   "source": [
    "# NLP Document Locator"
   ]
  },
  {
   "cell_type": "markdown",
   "metadata": {},
   "source": [
    "## Import statements"
   ]
  },
  {
   "cell_type": "code",
   "execution_count": 1,
   "metadata": {},
   "outputs": [
    {
     "name": "stderr",
     "output_type": "stream",
     "text": [
      "[nltk_data] Downloading package punkt to /home/jupyter/nltk_data...\n",
      "[nltk_data]   Package punkt is already up-to-date!\n",
      "[nltk_data] Downloading package stopwords to\n",
      "[nltk_data]     /home/jupyter/nltk_data...\n",
      "[nltk_data]   Package stopwords is already up-to-date!\n"
     ]
    }
   ],
   "source": [
    "import nltk\n",
    "nltk.download('punkt')\n",
    "nltk.download('stopwords')\n",
    "from nltk.stem.snowball import SnowballStemmer\n",
    "stemmer = SnowballStemmer(\"english\")\n",
    "\n",
    "import pandas as pd\n",
    "import numpy as np\n",
    "import random\n",
    "from datetime import datetime"
   ]
  },
  {
   "cell_type": "markdown",
   "metadata": {},
   "source": [
    "## Load data"
   ]
  },
  {
   "cell_type": "code",
   "execution_count": 2,
   "metadata": {},
   "outputs": [],
   "source": [
    "import json\n",
    "with open('/home/jupyter/nlp_document_finder/data/train2.json') as file:\n",
    "    data = json.load(file)"
   ]
  },
  {
   "cell_type": "markdown",
   "metadata": {},
   "source": [
    "## Preprocessing"
   ]
  },
  {
   "cell_type": "code",
   "execution_count": 3,
   "metadata": {},
   "outputs": [],
   "source": [
    "# words = []\n",
    "# labels = []\n",
    "# docs_x = []\n",
    "# docs_y = []\n",
    "\n",
    "# # ------------------- TOKENIZE ----------------- #\n",
    "# for intent in data['intents']:\n",
    "#     for pattern in intent['patterns']:\n",
    "#         wrds = nltk.word_tokenize(pattern)\n",
    "#         words.extend(wrds)\n",
    "#         docs_x.append(wrds)\n",
    "#         docs_y.append(intent[\"tag\"])\n",
    "        \n",
    "#     if intent['tag'] not in labels:\n",
    "#         labels.append(intent['tag'])\n",
    "       "
   ]
  },
  {
   "cell_type": "code",
   "execution_count": 4,
   "metadata": {},
   "outputs": [],
   "source": [
    "# # --------------------STOP WORD REMOVAL ----------#\n",
    "# from nltk.corpus import stopwords\n",
    "# stop_words = list(set(stopwords.words('english'))) \n",
    "\n",
    "# for word in words:\n",
    "#     if word in stop_words:\n",
    "#         words.remove(word)\n",
    "\n",
    "# for wrd in docs_x:\n",
    "#     for word in wrd:\n",
    "#         if word in stop_words:\n",
    "#             wrd.remove(word)"
   ]
  },
  {
   "cell_type": "code",
   "execution_count": 5,
   "metadata": {},
   "outputs": [],
   "source": [
    "# # ------------------ REMOVE PUNCTUATION ----------- #\n",
    "# import string\n",
    "# for word in words:\n",
    "#     word = word.translate(str.maketrans('', '', string.punctuation))\n",
    "#     word = word.strip()\n",
    "\n",
    "\n",
    "# for wrd in docs_x:\n",
    "#     for word in wrd:\n",
    "#         word = word.translate(str.maketrans('', '', string.punctuation))\n",
    "#         word = word.strip()"
   ]
  },
  {
   "cell_type": "code",
   "execution_count": 6,
   "metadata": {},
   "outputs": [],
   "source": [
    "# # ---------------- STEMMING ------------------ #\n",
    "# words = [stemmer.stem(w.lower()) for w in words if w != \"?\"]\n",
    "# words = sorted(list(set(words)))\n",
    "\n",
    "# labels = sorted(labels)"
   ]
  },
  {
   "cell_type": "code",
   "execution_count": 7,
   "metadata": {},
   "outputs": [],
   "source": [
    "rows = []\n",
    "labels = []\n",
    "for intent in data['intents']:\n",
    "    rows.extend(intent['train_data'])\n",
    "    label = []\n",
    "    label.append(intent['label'])\n",
    "    labels.extend(label*len(intent['train_data']))"
   ]
  },
  {
   "cell_type": "markdown",
   "metadata": {},
   "source": [
    "### Date Recognition"
   ]
  },
  {
   "cell_type": "code",
   "execution_count": 8,
   "metadata": {},
   "outputs": [],
   "source": [
    "from datetime import datetime\n",
    "\n",
    "def decode_date(tokens):\n",
    "\n",
    "    months_fullform = ['january', 'february', 'march', 'april', 'may', 'june', 'july', 'august', 'september', 'october', 'november', 'decemeber']\n",
    "    months_shortform = ['jan', 'feb', 'mar', 'apr', 'may', 'jun', 'jul', 'aug', 'sep', 'oct', 'nov', 'dec']\n",
    "    month = 0\n",
    "    for token in tokens:\n",
    "        try:\n",
    "            int(token)\n",
    "        except:\n",
    "            if token.lower() in months_fullform:\n",
    "                month = months_fullform.index(token.lower()) + 1\n",
    "            elif token.lower() in months_shortform:\n",
    "                month = months_shortform.index(token.lower()) + 1\n",
    "            tokens.remove(token)\n",
    "        \n",
    "    if len(tokens) > 2:\n",
    "        if month:\n",
    "            day = int(tokens[0])\n",
    "            year = int(tokens[2])\n",
    "        else:\n",
    "            day = int(tokens[0])\n",
    "            month = int(tokens[1])\n",
    "            year = int(tokens[2])\n",
    "    elif len(tokens) > 1:\n",
    "        if month:\n",
    "            day = int(tokens[0])\n",
    "            year = 2020\n",
    "        else:\n",
    "            day = int(tokens[0])\n",
    "            month = int(tokens[1])\n",
    "            year = 2020\n",
    "    elif len(tokens)==1:\n",
    "        day = int(tokens[0])\n",
    "        year = 2020\n",
    "    return (day, month, year)"
   ]
  },
  {
   "cell_type": "code",
   "execution_count": 9,
   "metadata": {},
   "outputs": [],
   "source": [
    "# !python3 -m spacy download en_core_web_lg\n",
    "import spacy\n",
    "sp_lg = spacy.load('en_core_web_lg')\n",
    "import nltk\n",
    "import re\n",
    "\n",
    "query_date = {}\n",
    "for idx, row in enumerate(rows):\n",
    "    date_occurences = [(ent.text.strip(), ent.label_) for ent in sp_lg(row).ents if ent.label_ == 'DATE']\n",
    "    query_date[row] = []\n",
    "    \n",
    "    for date in date_occurences:\n",
    "        try:\n",
    "            date_token = re.split('\\s+|/|-|:',date[0])\n",
    "            day, month, year = decode_date(date_token)\n",
    "            query_date[row].append((f'{year}-{month}-{day}'))\n",
    "            row = row.replace(date[0], \"\", 1)\n",
    "            rows[idx] = row\n",
    "        except:\n",
    "            pass"
   ]
  },
  {
   "cell_type": "markdown",
   "metadata": {},
   "source": [
    "### Universal Sentence Encoder"
   ]
  },
  {
   "cell_type": "code",
   "execution_count": 10,
   "metadata": {},
   "outputs": [],
   "source": [
    "import tensorflow_hub as hub\n",
    "embed = hub.load(\"https://tfhub.dev/google/universal-sentence-encoder/4\")"
   ]
  },
  {
   "cell_type": "code",
   "execution_count": 11,
   "metadata": {},
   "outputs": [],
   "source": [
    "embedding = embed(rows)\n",
    "\n",
    "X = pd.DataFrame(data=embedding.numpy())\n",
    "X['label'] = labels"
   ]
  },
  {
   "cell_type": "code",
   "execution_count": 12,
   "metadata": {},
   "outputs": [
    {
     "data": {
      "text/html": [
       "<div>\n",
       "<style scoped>\n",
       "    .dataframe tbody tr th:only-of-type {\n",
       "        vertical-align: middle;\n",
       "    }\n",
       "\n",
       "    .dataframe tbody tr th {\n",
       "        vertical-align: top;\n",
       "    }\n",
       "\n",
       "    .dataframe thead th {\n",
       "        text-align: right;\n",
       "    }\n",
       "</style>\n",
       "<table border=\"1\" class=\"dataframe\">\n",
       "  <thead>\n",
       "    <tr style=\"text-align: right;\">\n",
       "      <th></th>\n",
       "      <th>0</th>\n",
       "      <th>1</th>\n",
       "      <th>2</th>\n",
       "      <th>3</th>\n",
       "      <th>4</th>\n",
       "      <th>5</th>\n",
       "      <th>6</th>\n",
       "      <th>7</th>\n",
       "      <th>8</th>\n",
       "      <th>9</th>\n",
       "      <th>...</th>\n",
       "      <th>503</th>\n",
       "      <th>504</th>\n",
       "      <th>505</th>\n",
       "      <th>506</th>\n",
       "      <th>507</th>\n",
       "      <th>508</th>\n",
       "      <th>509</th>\n",
       "      <th>510</th>\n",
       "      <th>511</th>\n",
       "      <th>label</th>\n",
       "    </tr>\n",
       "  </thead>\n",
       "  <tbody>\n",
       "    <tr>\n",
       "      <th>0</th>\n",
       "      <td>-0.023522</td>\n",
       "      <td>-0.027589</td>\n",
       "      <td>-0.015897</td>\n",
       "      <td>0.021743</td>\n",
       "      <td>0.027776</td>\n",
       "      <td>0.011346</td>\n",
       "      <td>0.018255</td>\n",
       "      <td>0.028732</td>\n",
       "      <td>0.064652</td>\n",
       "      <td>-0.080686</td>\n",
       "      <td>...</td>\n",
       "      <td>-0.007931</td>\n",
       "      <td>0.055987</td>\n",
       "      <td>-0.059289</td>\n",
       "      <td>0.028541</td>\n",
       "      <td>0.001592</td>\n",
       "      <td>0.027852</td>\n",
       "      <td>0.019604</td>\n",
       "      <td>-0.089315</td>\n",
       "      <td>-0.069819</td>\n",
       "      <td>marketing_kaggle</td>\n",
       "    </tr>\n",
       "    <tr>\n",
       "      <th>1</th>\n",
       "      <td>-0.002800</td>\n",
       "      <td>0.004039</td>\n",
       "      <td>-0.036565</td>\n",
       "      <td>0.020619</td>\n",
       "      <td>0.035993</td>\n",
       "      <td>0.022251</td>\n",
       "      <td>0.032340</td>\n",
       "      <td>0.029259</td>\n",
       "      <td>0.028480</td>\n",
       "      <td>-0.077354</td>\n",
       "      <td>...</td>\n",
       "      <td>-0.054188</td>\n",
       "      <td>0.007662</td>\n",
       "      <td>-0.061701</td>\n",
       "      <td>0.016212</td>\n",
       "      <td>0.016110</td>\n",
       "      <td>-0.020822</td>\n",
       "      <td>0.069056</td>\n",
       "      <td>-0.080873</td>\n",
       "      <td>-0.054029</td>\n",
       "      <td>marketing_kaggle</td>\n",
       "    </tr>\n",
       "    <tr>\n",
       "      <th>2</th>\n",
       "      <td>-0.002595</td>\n",
       "      <td>0.013395</td>\n",
       "      <td>-0.015542</td>\n",
       "      <td>0.005902</td>\n",
       "      <td>0.001254</td>\n",
       "      <td>-0.000004</td>\n",
       "      <td>0.021245</td>\n",
       "      <td>0.037117</td>\n",
       "      <td>0.044805</td>\n",
       "      <td>-0.054018</td>\n",
       "      <td>...</td>\n",
       "      <td>0.008258</td>\n",
       "      <td>0.023106</td>\n",
       "      <td>-0.071179</td>\n",
       "      <td>0.041438</td>\n",
       "      <td>0.027743</td>\n",
       "      <td>0.039953</td>\n",
       "      <td>0.066588</td>\n",
       "      <td>-0.090802</td>\n",
       "      <td>-0.061921</td>\n",
       "      <td>marketing_kaggle</td>\n",
       "    </tr>\n",
       "    <tr>\n",
       "      <th>3</th>\n",
       "      <td>-0.015161</td>\n",
       "      <td>0.060924</td>\n",
       "      <td>-0.015563</td>\n",
       "      <td>0.015570</td>\n",
       "      <td>-0.048320</td>\n",
       "      <td>0.004806</td>\n",
       "      <td>-0.049353</td>\n",
       "      <td>0.021348</td>\n",
       "      <td>0.012264</td>\n",
       "      <td>-0.068966</td>\n",
       "      <td>...</td>\n",
       "      <td>-0.057275</td>\n",
       "      <td>0.052424</td>\n",
       "      <td>-0.049835</td>\n",
       "      <td>0.037803</td>\n",
       "      <td>0.001642</td>\n",
       "      <td>0.005462</td>\n",
       "      <td>0.065089</td>\n",
       "      <td>-0.069093</td>\n",
       "      <td>-0.014209</td>\n",
       "      <td>marketing_kaggle</td>\n",
       "    </tr>\n",
       "    <tr>\n",
       "      <th>4</th>\n",
       "      <td>0.014937</td>\n",
       "      <td>-0.008112</td>\n",
       "      <td>-0.049251</td>\n",
       "      <td>0.030344</td>\n",
       "      <td>0.047071</td>\n",
       "      <td>0.008654</td>\n",
       "      <td>0.033338</td>\n",
       "      <td>0.037916</td>\n",
       "      <td>0.021403</td>\n",
       "      <td>-0.069347</td>\n",
       "      <td>...</td>\n",
       "      <td>0.030978</td>\n",
       "      <td>0.054777</td>\n",
       "      <td>-0.049153</td>\n",
       "      <td>0.032623</td>\n",
       "      <td>-0.000436</td>\n",
       "      <td>0.013973</td>\n",
       "      <td>0.050768</td>\n",
       "      <td>-0.090002</td>\n",
       "      <td>-0.052556</td>\n",
       "      <td>marketing_kaggle</td>\n",
       "    </tr>\n",
       "  </tbody>\n",
       "</table>\n",
       "<p>5 rows × 513 columns</p>\n",
       "</div>"
      ],
      "text/plain": [
       "          0         1         2         3         4         5         6  \\\n",
       "0 -0.023522 -0.027589 -0.015897  0.021743  0.027776  0.011346  0.018255   \n",
       "1 -0.002800  0.004039 -0.036565  0.020619  0.035993  0.022251  0.032340   \n",
       "2 -0.002595  0.013395 -0.015542  0.005902  0.001254 -0.000004  0.021245   \n",
       "3 -0.015161  0.060924 -0.015563  0.015570 -0.048320  0.004806 -0.049353   \n",
       "4  0.014937 -0.008112 -0.049251  0.030344  0.047071  0.008654  0.033338   \n",
       "\n",
       "          7         8         9  ...       503       504       505       506  \\\n",
       "0  0.028732  0.064652 -0.080686  ... -0.007931  0.055987 -0.059289  0.028541   \n",
       "1  0.029259  0.028480 -0.077354  ... -0.054188  0.007662 -0.061701  0.016212   \n",
       "2  0.037117  0.044805 -0.054018  ...  0.008258  0.023106 -0.071179  0.041438   \n",
       "3  0.021348  0.012264 -0.068966  ... -0.057275  0.052424 -0.049835  0.037803   \n",
       "4  0.037916  0.021403 -0.069347  ...  0.030978  0.054777 -0.049153  0.032623   \n",
       "\n",
       "        507       508       509       510       511             label  \n",
       "0  0.001592  0.027852  0.019604 -0.089315 -0.069819  marketing_kaggle  \n",
       "1  0.016110 -0.020822  0.069056 -0.080873 -0.054029  marketing_kaggle  \n",
       "2  0.027743  0.039953  0.066588 -0.090802 -0.061921  marketing_kaggle  \n",
       "3  0.001642  0.005462  0.065089 -0.069093 -0.014209  marketing_kaggle  \n",
       "4 -0.000436  0.013973  0.050768 -0.090002 -0.052556  marketing_kaggle  \n",
       "\n",
       "[5 rows x 513 columns]"
      ]
     },
     "execution_count": 12,
     "metadata": {},
     "output_type": "execute_result"
    }
   ],
   "source": [
    "X.head()"
   ]
  },
  {
   "cell_type": "code",
   "execution_count": 13,
   "metadata": {},
   "outputs": [],
   "source": [
    "import seaborn as sns\n",
    "import matplotlib.pyplot as plt\n",
    "\n",
    "def plot_similarity(labels, features, rotation):\n",
    "    corr = np.inner(features, features)\n",
    "    sns.set(font_scale=1)\n",
    "    fig, ax = plt.subplots(figsize=(18, 18))\n",
    "    g = sns.heatmap(\n",
    "      corr,\n",
    "      xticklabels=labels,\n",
    "      yticklabels=labels,\n",
    "      vmin=0,\n",
    "      vmax=1,\n",
    "      cmap=\"YlOrRd\", \n",
    "      ax=ax)\n",
    "    g.set_xticklabels(labels, rotation=rotation)\n",
    "    g.set_title(\"Semantic Textual Similarity\")\n",
    "\n",
    "def run_and_plot(messages_):\n",
    "    message_embeddings_ = embed(messages_)\n",
    "    plot_similarity(messages_, message_embeddings_, 90)\n",
    "\n",
    "\n",
    "messages = rows\n",
    "\n",
    "# run_and_plot(messages)\n",
    "               "
   ]
  },
  {
   "cell_type": "markdown",
   "metadata": {},
   "source": [
    "### t-SNE"
   ]
  },
  {
   "cell_type": "code",
   "execution_count": 14,
   "metadata": {},
   "outputs": [
    {
     "name": "stdout",
     "output_type": "stream",
     "text": [
      "[t-SNE] Computing 31 nearest neighbors...\n",
      "[t-SNE] Indexed 135 samples in 0.003s...\n",
      "[t-SNE] Computed neighbors for 135 samples in 0.020s...\n",
      "[t-SNE] Computed conditional probabilities for sample 135 / 135\n",
      "[t-SNE] Mean sigma: 0.366267\n",
      "[t-SNE] KL divergence after 250 iterations with early exaggeration: 54.831707\n",
      "[t-SNE] KL divergence after 300 iterations: 0.315808\n",
      "t-SNE done! Time elapsed: 0.23058819770812988 seconds\n"
     ]
    }
   ],
   "source": [
    "from sklearn.manifold import TSNE\n",
    "import time\n",
    "\n",
    "time_start = time.time()\n",
    "tsne = TSNE(n_components=2, verbose=1, perplexity=10, n_iter=300)\n",
    "tsne_results = tsne.fit_transform(X.drop(columns=['label']))\n",
    "print('t-SNE done! Time elapsed: {} seconds'.format(time.time()-time_start))"
   ]
  },
  {
   "cell_type": "code",
   "execution_count": 15,
   "metadata": {},
   "outputs": [
    {
     "data": {
      "text/plain": [
       "array([-10.871609 , -11.604733 , -11.031342 ,  -9.520666 , -12.365661 ,\n",
       "        -7.3222904, -10.62193  ,  -7.2780538,  -8.715803 ], dtype=float32)"
      ]
     },
     "execution_count": 15,
     "metadata": {},
     "output_type": "execute_result"
    }
   ],
   "source": [
    "tsne_results[0:9, 0]"
   ]
  },
  {
   "cell_type": "code",
   "execution_count": 16,
   "metadata": {},
   "outputs": [
    {
     "data": {
      "text/plain": [
       "<matplotlib.axes._subplots.AxesSubplot at 0x7f0d11ce5c90>"
      ]
     },
     "execution_count": 16,
     "metadata": {},
     "output_type": "execute_result"
    },
    {
     "data": {
      "image/png": "[encoded data removed]",
      "text/plain": [
       "<Figure size 1152x720 with 1 Axes>"
      ]
     },
     "metadata": {
      "needs_background": "light"
     },
     "output_type": "display_data"
    }
   ],
   "source": [
    "import matplotlib.pyplot as plt\n",
    "import seaborn as sns\n",
    "\n",
    "# fig, ax = plt.subplots(figsize=(12,9))\n",
    "# ax.scatter(tsne_results[0:18, 0], tsne_results[0:18, 1])\n",
    "# plt.show()\n",
    "\n",
    "df_subset = pd.DataFrame()\n",
    "df_subset['tsne-2d-one'] = tsne_results[:,0]\n",
    "df_subset['tsne-2d-two'] = tsne_results[:,1]\n",
    "df_subset['label'] = X['label']\n",
    "\n",
    "plt.figure(figsize=(16,10))\n",
    "sns.scatterplot(\n",
    "    x=\"tsne-2d-one\", y=\"tsne-2d-two\",\n",
    "    hue=\"label\",\n",
    "    palette=sns.color_palette(\"hls\", 9),\n",
    "    data=df_subset,\n",
    "    legend=\"full\",\n",
    "    alpha=1,\n",
    "    s=100\n",
    ")"
   ]
  },
  {
   "cell_type": "markdown",
   "metadata": {},
   "source": [
    "## Modelling"
   ]
  },
  {
   "cell_type": "code",
   "execution_count": 17,
   "metadata": {},
   "outputs": [],
   "source": [
    "# Data Prepraration\n",
    "from sklearn.model_selection import train_test_split\n",
    "from sklearn.preprocessing import LabelEncoder\n",
    "\n",
    "y = X['label']\n",
    "X = X.drop(columns=['label'], axis=1)\n",
    "\n",
    "X_train, X_test, y_train, y_test = train_test_split(X, y, test_size = 0.2, random_state=10)\n",
    "le = LabelEncoder()\n",
    "y_train = le.fit_transform(y_train)\n",
    "y_test = le.transform(y_test)"
   ]
  },
  {
   "cell_type": "code",
   "execution_count": 18,
   "metadata": {},
   "outputs": [
    {
     "data": {
      "text/plain": [
       "set()"
      ]
     },
     "execution_count": 18,
     "metadata": {},
     "output_type": "execute_result"
    }
   ],
   "source": [
    "set(X_train.index).intersection(set(X_test.index))"
   ]
  },
  {
   "cell_type": "markdown",
   "metadata": {},
   "source": [
    "So an empty intersection set of both sets proves that there is no observation common in train and test data"
   ]
  },
  {
   "cell_type": "code",
   "execution_count": 19,
   "metadata": {},
   "outputs": [],
   "source": [
    "# Load the TensorBoard notebook extension\n",
    "%load_ext tensorboard"
   ]
  },
  {
   "cell_type": "code",
   "execution_count": 20,
   "metadata": {},
   "outputs": [],
   "source": [
    "# Clear any logs from previous runs\n",
    "!rm -rf ./logs/ "
   ]
  },
  {
   "cell_type": "code",
   "execution_count": 21,
   "metadata": {},
   "outputs": [],
   "source": [
    "# Building Neural network\n",
    "import tensorflow as tf\n",
    "\n",
    "from tensorflow.keras.models import Sequential\n",
    "from tensorflow.keras.layers import Dense, Dropout, Activation, Flatten, Conv2D, MaxPooling2D\n",
    "import datetime\n",
    "\n",
    "log_dir = \"logs/fit/\" + datetime.datetime.now().strftime(\"%Y%m%d-%H%M%S\")\n",
    "tensorboard_callback = tf.keras.callbacks.TensorBoard(log_dir=log_dir, histogram_freq=1)\n",
    "\n",
    "model = Sequential()\n",
    "model.add(Dense(64, input_shape=(512,)))\n",
    "model.add(Dense(100))\n",
    "model.add(Dense(1000))\n",
    "model.add(Dense(100))\n",
    "model.add(Dense(len(set(y_train))))\n",
    "model.add(Activation('softmax'))"
   ]
  },
  {
   "cell_type": "code",
   "execution_count": 22,
   "metadata": {},
   "outputs": [
    {
     "name": "stdout",
     "output_type": "stream",
     "text": [
      "Model: \"sequential\"\n",
      "_________________________________________________________________\n",
      "Layer (type)                 Output Shape              Param #   \n",
      "=================================================================\n",
      "dense (Dense)                (None, 64)                32832     \n",
      "_________________________________________________________________\n",
      "dense_1 (Dense)              (None, 100)               6500      \n",
      "_________________________________________________________________\n",
      "dense_2 (Dense)              (None, 1000)              101000    \n",
      "_________________________________________________________________\n",
      "dense_3 (Dense)              (None, 100)               100100    \n",
      "_________________________________________________________________\n",
      "dense_4 (Dense)              (None, 9)                 909       \n",
      "_________________________________________________________________\n",
      "activation (Activation)      (None, 9)                 0         \n",
      "=================================================================\n",
      "Total params: 241,341\n",
      "Trainable params: 241,341\n",
      "Non-trainable params: 0\n",
      "_________________________________________________________________\n"
     ]
    }
   ],
   "source": [
    "model.summary()"
   ]
  },
  {
   "cell_type": "code",
   "execution_count": 23,
   "metadata": {},
   "outputs": [],
   "source": [
    "model.compile(loss=\"sparse_categorical_crossentropy\", optimizer='adam', metrics=[tf.keras.metrics.SparseCategoricalAccuracy()])"
   ]
  },
  {
   "cell_type": "code",
   "execution_count": 24,
   "metadata": {},
   "outputs": [
    {
     "data": {
      "image/png": "[encoded data removed]",
      "text/plain": [
       "<IPython.core.display.Image object>"
      ]
     },
     "execution_count": 24,
     "metadata": {},
     "output_type": "execute_result"
    }
   ],
   "source": [
    "from tensorflow import keras\n",
    "keras.utils.plot_model(model)"
   ]
  },
  {
   "cell_type": "code",
   "execution_count": 25,
   "metadata": {},
   "outputs": [
    {
     "name": "stdout",
     "output_type": "stream",
     "text": [
      "Epoch 1/10\n",
      "4/4 [==============================] - 0s 56ms/step - loss: 2.0722 - sparse_categorical_accuracy: 0.5278 - val_loss: 1.7168 - val_sparse_categorical_accuracy: 0.9630\n",
      "Epoch 2/10\n",
      "4/4 [==============================] - 0s 16ms/step - loss: 1.5107 - sparse_categorical_accuracy: 0.9167 - val_loss: 1.1062 - val_sparse_categorical_accuracy: 0.9630\n",
      "Epoch 3/10\n",
      "4/4 [==============================] - 0s 16ms/step - loss: 0.8285 - sparse_categorical_accuracy: 1.0000 - val_loss: 0.4654 - val_sparse_categorical_accuracy: 1.0000\n",
      "Epoch 4/10\n",
      "4/4 [==============================] - 0s 17ms/step - loss: 0.3129 - sparse_categorical_accuracy: 1.0000 - val_loss: 0.1122 - val_sparse_categorical_accuracy: 1.0000\n",
      "Epoch 5/10\n",
      "4/4 [==============================] - 0s 18ms/step - loss: 0.0834 - sparse_categorical_accuracy: 1.0000 - val_loss: 0.0238 - val_sparse_categorical_accuracy: 1.0000\n",
      "Epoch 6/10\n",
      "4/4 [==============================] - 0s 16ms/step - loss: 0.0182 - sparse_categorical_accuracy: 1.0000 - val_loss: 0.0059 - val_sparse_categorical_accuracy: 1.0000\n",
      "Epoch 7/10\n",
      "4/4 [==============================] - 0s 15ms/step - loss: 0.0046 - sparse_categorical_accuracy: 1.0000 - val_loss: 0.0020 - val_sparse_categorical_accuracy: 1.0000\n",
      "Epoch 8/10\n",
      "4/4 [==============================] - 0s 16ms/step - loss: 0.0012 - sparse_categorical_accuracy: 1.0000 - val_loss: 7.6019e-04 - val_sparse_categorical_accuracy: 1.0000\n",
      "Epoch 9/10\n",
      "4/4 [==============================] - 0s 16ms/step - loss: 4.2545e-04 - sparse_categorical_accuracy: 1.0000 - val_loss: 3.4725e-04 - val_sparse_categorical_accuracy: 1.0000\n",
      "Epoch 10/10\n",
      "4/4 [==============================] - 0s 15ms/step - loss: 1.9101e-04 - sparse_categorical_accuracy: 1.0000 - val_loss: 1.9101e-04 - val_sparse_categorical_accuracy: 1.0000\n"
     ]
    }
   ],
   "source": [
    "history = model.fit(X_train, y_train, epochs=10,\n",
    "                    validation_data=(X_test, y_test))"
   ]
  },
  {
   "cell_type": "code",
   "execution_count": 26,
   "metadata": {},
   "outputs": [],
   "source": [
    "#%tensorboard --logdir logs/fit"
   ]
  },
  {
   "cell_type": "code",
   "execution_count": 27,
   "metadata": {},
   "outputs": [],
   "source": [
    "# gcloud compute ssh python-nlp-document-finder --project nlp-document-finder --zone us-west1-b -- -L 2222:localhost:6007 "
   ]
  },
  {
   "cell_type": "markdown",
   "metadata": {},
   "source": [
    "### Prediction "
   ]
  },
  {
   "cell_type": "code",
   "execution_count": 28,
   "metadata": {},
   "outputs": [],
   "source": [
    "y_proba = model.predict(X_test)"
   ]
  },
  {
   "cell_type": "code",
   "execution_count": 29,
   "metadata": {},
   "outputs": [],
   "source": [
    "y_pred = y_proba.argmax(axis=1)"
   ]
  },
  {
   "cell_type": "code",
   "execution_count": 30,
   "metadata": {},
   "outputs": [
    {
     "data": {
      "text/plain": [
       "array([[1.02190000e-07, 1.44680812e-11, 1.74963517e-07, 4.94634623e-05,\n",
       "        2.04273806e-06, 9.99948263e-01, 3.59129637e-14, 5.24641225e-12,\n",
       "        1.46546764e-09],\n",
       "       [1.75251209e-08, 9.19856292e-12, 7.74740411e-11, 9.99998212e-01,\n",
       "        7.93078847e-09, 2.83078322e-07, 2.55494598e-10, 4.19802433e-08,\n",
       "        1.51272218e-06],\n",
       "       [1.38192763e-06, 6.11560745e-06, 1.12960741e-09, 1.03967304e-05,\n",
       "        9.99964595e-01, 1.74802935e-05, 5.27385602e-09, 2.69344568e-14,\n",
       "        8.17296342e-10],\n",
       "       [5.99634333e-08, 1.78935547e-10, 6.63255435e-07, 5.56456158e-04,\n",
       "        6.12875692e-06, 9.99436557e-01, 8.48194290e-13, 2.04264688e-10,\n",
       "        1.53451420e-08],\n",
       "       [9.99841094e-01, 1.58213283e-04, 5.81057407e-07, 2.32981776e-08,\n",
       "        2.37550655e-08, 9.15826581e-10, 5.69573722e-09, 8.82368970e-11,\n",
       "        3.25019762e-08],\n",
       "       [8.66844587e-08, 1.93524891e-10, 1.38176526e-10, 9.99995112e-01,\n",
       "        2.29789539e-08, 1.13223905e-07, 1.65919489e-09, 8.66419754e-08,\n",
       "        4.47353159e-06],\n",
       "       [1.06176656e-09, 4.95497249e-15, 5.73887414e-19, 2.53150156e-05,\n",
       "        8.11939231e-12, 6.04870429e-13, 9.74057343e-07, 2.28843902e-07,\n",
       "        9.99973536e-01],\n",
       "       [9.99016166e-01, 9.82344267e-04, 1.47954393e-06, 9.44462997e-09,\n",
       "        3.56189922e-08, 3.90554283e-10, 1.18148480e-09, 5.55134497e-12,\n",
       "        8.94627317e-10],\n",
       "       [9.98331249e-01, 1.66423200e-03, 4.48950277e-06, 5.28053121e-08,\n",
       "        5.64855647e-08, 9.06707986e-10, 3.00906571e-08, 3.57153807e-10,\n",
       "        2.92427931e-08],\n",
       "       [1.16639143e-07, 1.62380845e-10, 1.36696030e-06, 5.46175695e-04,\n",
       "        3.41390728e-06, 9.99448955e-01, 8.41610419e-13, 4.69863648e-10,\n",
       "        1.84740632e-08],\n",
       "       [3.32749460e-06, 9.99935985e-01, 5.97751023e-05, 1.55272822e-10,\n",
       "        5.27789368e-08, 7.64113707e-13, 8.15112628e-07, 2.00841876e-09,\n",
       "        2.11129118e-12],\n",
       "       [3.60756785e-05, 9.99861836e-01, 1.00389756e-04, 2.00204342e-09,\n",
       "        3.49498748e-07, 6.22888676e-12, 1.35574192e-06, 2.33595188e-09,\n",
       "        1.42728650e-11],\n",
       "       [2.48514080e-08, 8.51194393e-10, 1.12586562e-09, 9.99995947e-01,\n",
       "        2.40069582e-08, 1.18308471e-07, 6.40573639e-09, 6.51264088e-07,\n",
       "        3.33398384e-06],\n",
       "       [1.82109085e-11, 8.12784118e-10, 1.72216623e-05, 2.82638108e-08,\n",
       "        1.17918919e-15, 2.95790042e-12, 1.41880548e-07, 9.99982595e-01,\n",
       "        2.58790092e-08],\n",
       "       [1.04637783e-08, 1.55412656e-14, 1.33918305e-19, 1.16798265e-06,\n",
       "        5.69404246e-12, 4.64999777e-14, 1.68484405e-06, 4.15418739e-08,\n",
       "        9.99997139e-01],\n",
       "       [1.38318393e-12, 5.19984444e-10, 3.91570984e-06, 1.23340822e-08,\n",
       "        2.61645910e-16, 4.27427597e-13, 7.22835694e-08, 9.99996066e-01,\n",
       "        1.15433867e-08],\n",
       "       [3.09904613e-09, 1.69157684e-05, 8.97292982e-13, 1.63475922e-09,\n",
       "        2.16341678e-09, 1.30739999e-16, 9.99951601e-01, 7.43298915e-06,\n",
       "        2.40474947e-05],\n",
       "       [6.99969460e-09, 4.90770799e-05, 9.99875784e-01, 3.77265913e-10,\n",
       "        2.60446314e-13, 1.63713057e-10, 2.47325049e-10, 7.51568150e-05,\n",
       "        1.34597926e-13],\n",
       "       [3.42010185e-06, 6.58635181e-05, 2.58764743e-08, 9.76485608e-05,\n",
       "        9.99768317e-01, 6.45551772e-05, 4.66972523e-08, 2.52115126e-12,\n",
       "        1.04955014e-08],\n",
       "       [7.04783815e-06, 1.37700235e-05, 5.35862466e-10, 2.93721278e-05,\n",
       "        9.99936581e-01, 1.32226523e-05, 1.04087254e-08, 6.61419026e-14,\n",
       "        6.07097350e-09],\n",
       "       [1.86745710e-05, 9.99817669e-01, 1.62825891e-04, 2.92411484e-10,\n",
       "        5.65072526e-07, 2.43580850e-11, 3.09814965e-07, 5.71116765e-10,\n",
       "        2.05350407e-12],\n",
       "       [8.31075830e-09, 9.69156396e-14, 1.09892078e-17, 3.09562747e-05,\n",
       "        4.34997836e-11, 2.31050162e-12, 3.03201000e-06, 6.17841692e-07,\n",
       "        9.99965429e-01],\n",
       "       [1.42990275e-09, 3.58385549e-13, 1.92126991e-16, 2.92972036e-05,\n",
       "        2.04613063e-11, 4.27131334e-12, 7.33491197e-06, 1.44875603e-05,\n",
       "        9.99948859e-01],\n",
       "       [4.13857784e-08, 1.51434351e-10, 2.63806366e-10, 9.99969006e-01,\n",
       "        1.18608199e-08, 1.63709998e-07, 7.91879717e-09, 1.42104579e-06,\n",
       "        2.92873465e-05],\n",
       "       [1.82031030e-08, 3.09911493e-13, 5.32357395e-18, 3.59298929e-06,\n",
       "        9.38072710e-12, 9.31185264e-14, 6.51677465e-06, 6.62544608e-07,\n",
       "        9.99989152e-01],\n",
       "       [2.90338988e-08, 4.44971465e-06, 1.00778630e-12, 2.65327404e-09,\n",
       "        4.79623630e-09, 5.96803533e-16, 9.99900222e-01, 6.40304415e-06,\n",
       "        8.89235380e-05],\n",
       "       [4.10346388e-08, 2.22411242e-10, 4.49042331e-10, 9.99998927e-01,\n",
       "        3.37499912e-08, 1.84789855e-07, 9.06597464e-10, 3.86028489e-08,\n",
       "        6.87013824e-07]], dtype=float32)"
      ]
     },
     "execution_count": 30,
     "metadata": {},
     "output_type": "execute_result"
    }
   ],
   "source": [
    "y_proba"
   ]
  },
  {
   "cell_type": "code",
   "execution_count": 31,
   "metadata": {},
   "outputs": [
    {
     "data": {
      "text/plain": [
       "array(['marketing_google-home', 'marketing_kaggle', 'marketing_pixel',\n",
       "       'research_computer_vision', 'research_nlp',\n",
       "       'research_quantum_computing', 'sales_ad_words', 'sales_pixel',\n",
       "       'sales_search_history'], dtype=object)"
      ]
     },
     "execution_count": 31,
     "metadata": {},
     "output_type": "execute_result"
    }
   ],
   "source": [
    "le.classes_"
   ]
  },
  {
   "cell_type": "code",
   "execution_count": 32,
   "metadata": {},
   "outputs": [
    {
     "data": {
      "text/plain": [
       "'give me nlp research document'"
      ]
     },
     "execution_count": 32,
     "metadata": {},
     "output_type": "execute_result"
    }
   ],
   "source": [
    "rows[X_test.index[2]]"
   ]
  },
  {
   "cell_type": "code",
   "execution_count": 33,
   "metadata": {},
   "outputs": [],
   "source": [
    "from operator import itemgetter\n",
    "final_results = pd.DataFrame(data = list(itemgetter(*list(X_test.index))(rows)), index=X_test.index, columns=['inputs'])  "
   ]
  },
  {
   "cell_type": "code",
   "execution_count": 34,
   "metadata": {},
   "outputs": [],
   "source": [
    "final_results['predictions'] = le.inverse_transform(y_pred)\n",
    "final_results['true'] = le.inverse_transform(y_test)"
   ]
  },
  {
   "cell_type": "code",
   "execution_count": 35,
   "metadata": {},
   "outputs": [
    {
     "data": {
      "text/html": [
       "<div>\n",
       "<style scoped>\n",
       "    .dataframe tbody tr th:only-of-type {\n",
       "        vertical-align: middle;\n",
       "    }\n",
       "\n",
       "    .dataframe tbody tr th {\n",
       "        vertical-align: top;\n",
       "    }\n",
       "\n",
       "    .dataframe thead th {\n",
       "        text-align: right;\n",
       "    }\n",
       "</style>\n",
       "<table border=\"1\" class=\"dataframe\">\n",
       "  <thead>\n",
       "    <tr style=\"text-align: right;\">\n",
       "      <th></th>\n",
       "      <th>inputs</th>\n",
       "      <th>predictions</th>\n",
       "      <th>true</th>\n",
       "    </tr>\n",
       "  </thead>\n",
       "  <tbody>\n",
       "    <tr>\n",
       "      <th>60</th>\n",
       "      <td>give me quantum computing research report</td>\n",
       "      <td>research_quantum_computing</td>\n",
       "      <td>research_quantum_computing</td>\n",
       "    </tr>\n",
       "    <tr>\n",
       "      <th>55</th>\n",
       "      <td>give me computer vision research file</td>\n",
       "      <td>research_computer_vision</td>\n",
       "      <td>research_computer_vision</td>\n",
       "    </tr>\n",
       "    <tr>\n",
       "      <th>35</th>\n",
       "      <td>give me nlp research document</td>\n",
       "      <td>research_nlp</td>\n",
       "      <td>research_nlp</td>\n",
       "    </tr>\n",
       "    <tr>\n",
       "      <th>68</th>\n",
       "      <td>display quantum computing research document</td>\n",
       "      <td>research_quantum_computing</td>\n",
       "      <td>research_quantum_computing</td>\n",
       "    </tr>\n",
       "    <tr>\n",
       "      <th>133</th>\n",
       "      <td>display google home marketing file</td>\n",
       "      <td>marketing_google-home</td>\n",
       "      <td>marketing_google-home</td>\n",
       "    </tr>\n",
       "    <tr>\n",
       "      <th>56</th>\n",
       "      <td>open computer vision research file</td>\n",
       "      <td>research_computer_vision</td>\n",
       "      <td>research_computer_vision</td>\n",
       "    </tr>\n",
       "    <tr>\n",
       "      <th>102</th>\n",
       "      <td>show me search history sales file</td>\n",
       "      <td>sales_search_history</td>\n",
       "      <td>sales_search_history</td>\n",
       "    </tr>\n",
       "    <tr>\n",
       "      <th>126</th>\n",
       "      <td>open google home marketing document</td>\n",
       "      <td>marketing_google-home</td>\n",
       "      <td>marketing_google-home</td>\n",
       "    </tr>\n",
       "    <tr>\n",
       "      <th>128</th>\n",
       "      <td>display google home marketing document</td>\n",
       "      <td>marketing_google-home</td>\n",
       "      <td>marketing_google-home</td>\n",
       "    </tr>\n",
       "    <tr>\n",
       "      <th>63</th>\n",
       "      <td>display quantum computing research report</td>\n",
       "      <td>research_quantum_computing</td>\n",
       "      <td>research_quantum_computing</td>\n",
       "    </tr>\n",
       "    <tr>\n",
       "      <th>1</th>\n",
       "      <td>open kaggle marketing report</td>\n",
       "      <td>marketing_kaggle</td>\n",
       "      <td>marketing_kaggle</td>\n",
       "    </tr>\n",
       "    <tr>\n",
       "      <th>2</th>\n",
       "      <td>show me kaggle marketing report</td>\n",
       "      <td>marketing_kaggle</td>\n",
       "      <td>marketing_kaggle</td>\n",
       "    </tr>\n",
       "    <tr>\n",
       "      <th>53</th>\n",
       "      <td>display computer vision research document</td>\n",
       "      <td>research_computer_vision</td>\n",
       "      <td>research_computer_vision</td>\n",
       "    </tr>\n",
       "    <tr>\n",
       "      <th>105</th>\n",
       "      <td>give me pixel sales report</td>\n",
       "      <td>sales_pixel</td>\n",
       "      <td>sales_pixel</td>\n",
       "    </tr>\n",
       "    <tr>\n",
       "      <th>94</th>\n",
       "      <td>please open search history sales report</td>\n",
       "      <td>sales_search_history</td>\n",
       "      <td>sales_search_history</td>\n",
       "    </tr>\n",
       "    <tr>\n",
       "      <th>116</th>\n",
       "      <td>open pixel sales file</td>\n",
       "      <td>sales_pixel</td>\n",
       "      <td>sales_pixel</td>\n",
       "    </tr>\n",
       "    <tr>\n",
       "      <th>81</th>\n",
       "      <td>open ad words sales document</td>\n",
       "      <td>sales_ad_words</td>\n",
       "      <td>sales_ad_words</td>\n",
       "    </tr>\n",
       "    <tr>\n",
       "      <th>26</th>\n",
       "      <td>open pixel marketing file</td>\n",
       "      <td>marketing_pixel</td>\n",
       "      <td>marketing_pixel</td>\n",
       "    </tr>\n",
       "    <tr>\n",
       "      <th>38</th>\n",
       "      <td>display nlp research document</td>\n",
       "      <td>research_nlp</td>\n",
       "      <td>research_nlp</td>\n",
       "    </tr>\n",
       "    <tr>\n",
       "      <th>41</th>\n",
       "      <td>open nlp research file</td>\n",
       "      <td>research_nlp</td>\n",
       "      <td>research_nlp</td>\n",
       "    </tr>\n",
       "    <tr>\n",
       "      <th>10</th>\n",
       "      <td>give me kaggle marketing file</td>\n",
       "      <td>marketing_kaggle</td>\n",
       "      <td>marketing_kaggle</td>\n",
       "    </tr>\n",
       "    <tr>\n",
       "      <th>95</th>\n",
       "      <td>give me search history sales document</td>\n",
       "      <td>sales_search_history</td>\n",
       "      <td>sales_search_history</td>\n",
       "    </tr>\n",
       "    <tr>\n",
       "      <th>98</th>\n",
       "      <td>display search history sales document</td>\n",
       "      <td>sales_search_history</td>\n",
       "      <td>sales_search_history</td>\n",
       "    </tr>\n",
       "    <tr>\n",
       "      <th>58</th>\n",
       "      <td>display computer vision research file</td>\n",
       "      <td>research_computer_vision</td>\n",
       "      <td>research_computer_vision</td>\n",
       "    </tr>\n",
       "    <tr>\n",
       "      <th>91</th>\n",
       "      <td>open search history sales report</td>\n",
       "      <td>sales_search_history</td>\n",
       "      <td>sales_search_history</td>\n",
       "    </tr>\n",
       "    <tr>\n",
       "      <th>75</th>\n",
       "      <td>give me ad words sales report</td>\n",
       "      <td>sales_ad_words</td>\n",
       "      <td>sales_ad_words</td>\n",
       "    </tr>\n",
       "    <tr>\n",
       "      <th>52</th>\n",
       "      <td>show me computer vision research document</td>\n",
       "      <td>research_computer_vision</td>\n",
       "      <td>research_computer_vision</td>\n",
       "    </tr>\n",
       "  </tbody>\n",
       "</table>\n",
       "</div>"
      ],
      "text/plain": [
       "                                          inputs                 predictions  \\\n",
       "60     give me quantum computing research report  research_quantum_computing   \n",
       "55         give me computer vision research file    research_computer_vision   \n",
       "35                 give me nlp research document                research_nlp   \n",
       "68   display quantum computing research document  research_quantum_computing   \n",
       "133           display google home marketing file       marketing_google-home   \n",
       "56            open computer vision research file    research_computer_vision   \n",
       "102            show me search history sales file        sales_search_history   \n",
       "126          open google home marketing document       marketing_google-home   \n",
       "128       display google home marketing document       marketing_google-home   \n",
       "63     display quantum computing research report  research_quantum_computing   \n",
       "1                   open kaggle marketing report            marketing_kaggle   \n",
       "2                show me kaggle marketing report            marketing_kaggle   \n",
       "53     display computer vision research document    research_computer_vision   \n",
       "105                   give me pixel sales report                 sales_pixel   \n",
       "94       please open search history sales report        sales_search_history   \n",
       "116                        open pixel sales file                 sales_pixel   \n",
       "81                  open ad words sales document              sales_ad_words   \n",
       "26                     open pixel marketing file             marketing_pixel   \n",
       "38                 display nlp research document                research_nlp   \n",
       "41                        open nlp research file                research_nlp   \n",
       "10                 give me kaggle marketing file            marketing_kaggle   \n",
       "95         give me search history sales document        sales_search_history   \n",
       "98         display search history sales document        sales_search_history   \n",
       "58         display computer vision research file    research_computer_vision   \n",
       "91              open search history sales report        sales_search_history   \n",
       "75                 give me ad words sales report              sales_ad_words   \n",
       "52     show me computer vision research document    research_computer_vision   \n",
       "\n",
       "                           true  \n",
       "60   research_quantum_computing  \n",
       "55     research_computer_vision  \n",
       "35                 research_nlp  \n",
       "68   research_quantum_computing  \n",
       "133       marketing_google-home  \n",
       "56     research_computer_vision  \n",
       "102        sales_search_history  \n",
       "126       marketing_google-home  \n",
       "128       marketing_google-home  \n",
       "63   research_quantum_computing  \n",
       "1              marketing_kaggle  \n",
       "2              marketing_kaggle  \n",
       "53     research_computer_vision  \n",
       "105                 sales_pixel  \n",
       "94         sales_search_history  \n",
       "116                 sales_pixel  \n",
       "81               sales_ad_words  \n",
       "26              marketing_pixel  \n",
       "38                 research_nlp  \n",
       "41                 research_nlp  \n",
       "10             marketing_kaggle  \n",
       "95         sales_search_history  \n",
       "98         sales_search_history  \n",
       "58     research_computer_vision  \n",
       "91         sales_search_history  \n",
       "75               sales_ad_words  \n",
       "52     research_computer_vision  "
      ]
     },
     "execution_count": 35,
     "metadata": {},
     "output_type": "execute_result"
    }
   ],
   "source": [
    "final_results"
   ]
  },
  {
   "cell_type": "code",
   "execution_count": 36,
   "metadata": {},
   "outputs": [],
   "source": [
    "for index in final_results.index:\n",
    "    for intent in data['intents']:\n",
    "        if intent['label'] == final_results.loc[index, 'predictions']:\n",
    "            final_results.loc[index, 'query_search'] = intent['responses']"
   ]
  },
  {
   "cell_type": "code",
   "execution_count": 37,
   "metadata": {},
   "outputs": [
    {
     "data": {
      "text/html": [
       "<div>\n",
       "<style scoped>\n",
       "    .dataframe tbody tr th:only-of-type {\n",
       "        vertical-align: middle;\n",
       "    }\n",
       "\n",
       "    .dataframe tbody tr th {\n",
       "        vertical-align: top;\n",
       "    }\n",
       "\n",
       "    .dataframe thead th {\n",
       "        text-align: right;\n",
       "    }\n",
       "</style>\n",
       "<table border=\"1\" class=\"dataframe\">\n",
       "  <thead>\n",
       "    <tr style=\"text-align: right;\">\n",
       "      <th></th>\n",
       "      <th>inputs</th>\n",
       "      <th>predictions</th>\n",
       "      <th>true</th>\n",
       "      <th>query_search</th>\n",
       "    </tr>\n",
       "  </thead>\n",
       "  <tbody>\n",
       "    <tr>\n",
       "      <th>60</th>\n",
       "      <td>give me quantum computing research report</td>\n",
       "      <td>research_quantum_computing</td>\n",
       "      <td>research_quantum_computing</td>\n",
       "      <td>/home/jupyter/Google/research/quantum_computin...</td>\n",
       "    </tr>\n",
       "    <tr>\n",
       "      <th>55</th>\n",
       "      <td>give me computer vision research file</td>\n",
       "      <td>research_computer_vision</td>\n",
       "      <td>research_computer_vision</td>\n",
       "      <td>[/home/jupyter/Google/research/computer_vision...</td>\n",
       "    </tr>\n",
       "    <tr>\n",
       "      <th>35</th>\n",
       "      <td>give me nlp research document</td>\n",
       "      <td>research_nlp</td>\n",
       "      <td>research_nlp</td>\n",
       "      <td>[/home/jupyter/Google/research/nlp.pdf]</td>\n",
       "    </tr>\n",
       "    <tr>\n",
       "      <th>68</th>\n",
       "      <td>display quantum computing research document</td>\n",
       "      <td>research_quantum_computing</td>\n",
       "      <td>research_quantum_computing</td>\n",
       "      <td>[/home/jupyter/Google/research/quantum_computi...</td>\n",
       "    </tr>\n",
       "    <tr>\n",
       "      <th>133</th>\n",
       "      <td>display google home marketing file</td>\n",
       "      <td>marketing_google-home</td>\n",
       "      <td>marketing_google-home</td>\n",
       "      <td>[/home/jupyter/Google/marketing/google-home.pdf]</td>\n",
       "    </tr>\n",
       "    <tr>\n",
       "      <th>56</th>\n",
       "      <td>open computer vision research file</td>\n",
       "      <td>research_computer_vision</td>\n",
       "      <td>research_computer_vision</td>\n",
       "      <td>[/home/jupyter/Google/research/computer_vision...</td>\n",
       "    </tr>\n",
       "    <tr>\n",
       "      <th>102</th>\n",
       "      <td>show me search history sales file</td>\n",
       "      <td>sales_search_history</td>\n",
       "      <td>sales_search_history</td>\n",
       "      <td>[/home/jupyter/Google/sales/search_history.pdf]</td>\n",
       "    </tr>\n",
       "    <tr>\n",
       "      <th>126</th>\n",
       "      <td>open google home marketing document</td>\n",
       "      <td>marketing_google-home</td>\n",
       "      <td>marketing_google-home</td>\n",
       "      <td>[/home/jupyter/Google/marketing/google-home.pdf]</td>\n",
       "    </tr>\n",
       "    <tr>\n",
       "      <th>128</th>\n",
       "      <td>display google home marketing document</td>\n",
       "      <td>marketing_google-home</td>\n",
       "      <td>marketing_google-home</td>\n",
       "      <td>[/home/jupyter/Google/marketing/google-home.pdf]</td>\n",
       "    </tr>\n",
       "    <tr>\n",
       "      <th>63</th>\n",
       "      <td>display quantum computing research report</td>\n",
       "      <td>research_quantum_computing</td>\n",
       "      <td>research_quantum_computing</td>\n",
       "      <td>[/home/jupyter/Google/research/quantum_computi...</td>\n",
       "    </tr>\n",
       "    <tr>\n",
       "      <th>1</th>\n",
       "      <td>open kaggle marketing report</td>\n",
       "      <td>marketing_kaggle</td>\n",
       "      <td>marketing_kaggle</td>\n",
       "      <td>[/home/jupyter/Google/marketing/kaggle.pdf]</td>\n",
       "    </tr>\n",
       "    <tr>\n",
       "      <th>2</th>\n",
       "      <td>show me kaggle marketing report</td>\n",
       "      <td>marketing_kaggle</td>\n",
       "      <td>marketing_kaggle</td>\n",
       "      <td>[/home/jupyter/Google/marketing/kaggle.pdf]</td>\n",
       "    </tr>\n",
       "    <tr>\n",
       "      <th>53</th>\n",
       "      <td>display computer vision research document</td>\n",
       "      <td>research_computer_vision</td>\n",
       "      <td>research_computer_vision</td>\n",
       "      <td>[/home/jupyter/Google/research/computer_vision...</td>\n",
       "    </tr>\n",
       "    <tr>\n",
       "      <th>105</th>\n",
       "      <td>give me pixel sales report</td>\n",
       "      <td>sales_pixel</td>\n",
       "      <td>sales_pixel</td>\n",
       "      <td>[/home/jupyter/Google/sales/pixel.pdf]</td>\n",
       "    </tr>\n",
       "    <tr>\n",
       "      <th>94</th>\n",
       "      <td>please open search history sales report</td>\n",
       "      <td>sales_search_history</td>\n",
       "      <td>sales_search_history</td>\n",
       "      <td>[/home/jupyter/Google/sales/search_history.pdf]</td>\n",
       "    </tr>\n",
       "    <tr>\n",
       "      <th>116</th>\n",
       "      <td>open pixel sales file</td>\n",
       "      <td>sales_pixel</td>\n",
       "      <td>sales_pixel</td>\n",
       "      <td>[/home/jupyter/Google/sales/pixel.pdf]</td>\n",
       "    </tr>\n",
       "    <tr>\n",
       "      <th>81</th>\n",
       "      <td>open ad words sales document</td>\n",
       "      <td>sales_ad_words</td>\n",
       "      <td>sales_ad_words</td>\n",
       "      <td>[/home/jupyter/Google/sales/ad_words.pdf]</td>\n",
       "    </tr>\n",
       "    <tr>\n",
       "      <th>26</th>\n",
       "      <td>open pixel marketing file</td>\n",
       "      <td>marketing_pixel</td>\n",
       "      <td>marketing_pixel</td>\n",
       "      <td>[/home/jupyter/Google/marketing/pixel.pdf]</td>\n",
       "    </tr>\n",
       "    <tr>\n",
       "      <th>38</th>\n",
       "      <td>display nlp research document</td>\n",
       "      <td>research_nlp</td>\n",
       "      <td>research_nlp</td>\n",
       "      <td>[/home/jupyter/Google/research/nlp.pdf]</td>\n",
       "    </tr>\n",
       "    <tr>\n",
       "      <th>41</th>\n",
       "      <td>open nlp research file</td>\n",
       "      <td>research_nlp</td>\n",
       "      <td>research_nlp</td>\n",
       "      <td>[/home/jupyter/Google/research/nlp.pdf]</td>\n",
       "    </tr>\n",
       "    <tr>\n",
       "      <th>10</th>\n",
       "      <td>give me kaggle marketing file</td>\n",
       "      <td>marketing_kaggle</td>\n",
       "      <td>marketing_kaggle</td>\n",
       "      <td>[/home/jupyter/Google/marketing/kaggle.pdf]</td>\n",
       "    </tr>\n",
       "    <tr>\n",
       "      <th>95</th>\n",
       "      <td>give me search history sales document</td>\n",
       "      <td>sales_search_history</td>\n",
       "      <td>sales_search_history</td>\n",
       "      <td>[/home/jupyter/Google/sales/search_history.pdf]</td>\n",
       "    </tr>\n",
       "    <tr>\n",
       "      <th>98</th>\n",
       "      <td>display search history sales document</td>\n",
       "      <td>sales_search_history</td>\n",
       "      <td>sales_search_history</td>\n",
       "      <td>[/home/jupyter/Google/sales/search_history.pdf]</td>\n",
       "    </tr>\n",
       "    <tr>\n",
       "      <th>58</th>\n",
       "      <td>display computer vision research file</td>\n",
       "      <td>research_computer_vision</td>\n",
       "      <td>research_computer_vision</td>\n",
       "      <td>[/home/jupyter/Google/research/computer_vision...</td>\n",
       "    </tr>\n",
       "    <tr>\n",
       "      <th>91</th>\n",
       "      <td>open search history sales report</td>\n",
       "      <td>sales_search_history</td>\n",
       "      <td>sales_search_history</td>\n",
       "      <td>[/home/jupyter/Google/sales/search_history.pdf]</td>\n",
       "    </tr>\n",
       "    <tr>\n",
       "      <th>75</th>\n",
       "      <td>give me ad words sales report</td>\n",
       "      <td>sales_ad_words</td>\n",
       "      <td>sales_ad_words</td>\n",
       "      <td>[/home/jupyter/Google/sales/ad_words.pdf]</td>\n",
       "    </tr>\n",
       "    <tr>\n",
       "      <th>52</th>\n",
       "      <td>show me computer vision research document</td>\n",
       "      <td>research_computer_vision</td>\n",
       "      <td>research_computer_vision</td>\n",
       "      <td>[/home/jupyter/Google/research/computer_vision...</td>\n",
       "    </tr>\n",
       "  </tbody>\n",
       "</table>\n",
       "</div>"
      ],
      "text/plain": [
       "                                          inputs                 predictions  \\\n",
       "60     give me quantum computing research report  research_quantum_computing   \n",
       "55         give me computer vision research file    research_computer_vision   \n",
       "35                 give me nlp research document                research_nlp   \n",
       "68   display quantum computing research document  research_quantum_computing   \n",
       "133           display google home marketing file       marketing_google-home   \n",
       "56            open computer vision research file    research_computer_vision   \n",
       "102            show me search history sales file        sales_search_history   \n",
       "126          open google home marketing document       marketing_google-home   \n",
       "128       display google home marketing document       marketing_google-home   \n",
       "63     display quantum computing research report  research_quantum_computing   \n",
       "1                   open kaggle marketing report            marketing_kaggle   \n",
       "2                show me kaggle marketing report            marketing_kaggle   \n",
       "53     display computer vision research document    research_computer_vision   \n",
       "105                   give me pixel sales report                 sales_pixel   \n",
       "94       please open search history sales report        sales_search_history   \n",
       "116                        open pixel sales file                 sales_pixel   \n",
       "81                  open ad words sales document              sales_ad_words   \n",
       "26                     open pixel marketing file             marketing_pixel   \n",
       "38                 display nlp research document                research_nlp   \n",
       "41                        open nlp research file                research_nlp   \n",
       "10                 give me kaggle marketing file            marketing_kaggle   \n",
       "95         give me search history sales document        sales_search_history   \n",
       "98         display search history sales document        sales_search_history   \n",
       "58         display computer vision research file    research_computer_vision   \n",
       "91              open search history sales report        sales_search_history   \n",
       "75                 give me ad words sales report              sales_ad_words   \n",
       "52     show me computer vision research document    research_computer_vision   \n",
       "\n",
       "                           true  \\\n",
       "60   research_quantum_computing   \n",
       "55     research_computer_vision   \n",
       "35                 research_nlp   \n",
       "68   research_quantum_computing   \n",
       "133       marketing_google-home   \n",
       "56     research_computer_vision   \n",
       "102        sales_search_history   \n",
       "126       marketing_google-home   \n",
       "128       marketing_google-home   \n",
       "63   research_quantum_computing   \n",
       "1              marketing_kaggle   \n",
       "2              marketing_kaggle   \n",
       "53     research_computer_vision   \n",
       "105                 sales_pixel   \n",
       "94         sales_search_history   \n",
       "116                 sales_pixel   \n",
       "81               sales_ad_words   \n",
       "26              marketing_pixel   \n",
       "38                 research_nlp   \n",
       "41                 research_nlp   \n",
       "10             marketing_kaggle   \n",
       "95         sales_search_history   \n",
       "98         sales_search_history   \n",
       "58     research_computer_vision   \n",
       "91         sales_search_history   \n",
       "75               sales_ad_words   \n",
       "52     research_computer_vision   \n",
       "\n",
       "                                          query_search  \n",
       "60   /home/jupyter/Google/research/quantum_computin...  \n",
       "55   [/home/jupyter/Google/research/computer_vision...  \n",
       "35             [/home/jupyter/Google/research/nlp.pdf]  \n",
       "68   [/home/jupyter/Google/research/quantum_computi...  \n",
       "133   [/home/jupyter/Google/marketing/google-home.pdf]  \n",
       "56   [/home/jupyter/Google/research/computer_vision...  \n",
       "102    [/home/jupyter/Google/sales/search_history.pdf]  \n",
       "126   [/home/jupyter/Google/marketing/google-home.pdf]  \n",
       "128   [/home/jupyter/Google/marketing/google-home.pdf]  \n",
       "63   [/home/jupyter/Google/research/quantum_computi...  \n",
       "1          [/home/jupyter/Google/marketing/kaggle.pdf]  \n",
       "2          [/home/jupyter/Google/marketing/kaggle.pdf]  \n",
       "53   [/home/jupyter/Google/research/computer_vision...  \n",
       "105             [/home/jupyter/Google/sales/pixel.pdf]  \n",
       "94     [/home/jupyter/Google/sales/search_history.pdf]  \n",
       "116             [/home/jupyter/Google/sales/pixel.pdf]  \n",
       "81           [/home/jupyter/Google/sales/ad_words.pdf]  \n",
       "26          [/home/jupyter/Google/marketing/pixel.pdf]  \n",
       "38             [/home/jupyter/Google/research/nlp.pdf]  \n",
       "41             [/home/jupyter/Google/research/nlp.pdf]  \n",
       "10         [/home/jupyter/Google/marketing/kaggle.pdf]  \n",
       "95     [/home/jupyter/Google/sales/search_history.pdf]  \n",
       "98     [/home/jupyter/Google/sales/search_history.pdf]  \n",
       "58   [/home/jupyter/Google/research/computer_vision...  \n",
       "91     [/home/jupyter/Google/sales/search_history.pdf]  \n",
       "75           [/home/jupyter/Google/sales/ad_words.pdf]  \n",
       "52   [/home/jupyter/Google/research/computer_vision...  "
      ]
     },
     "execution_count": 37,
     "metadata": {},
     "output_type": "execute_result"
    }
   ],
   "source": [
    "final_results"
   ]
  },
  {
   "cell_type": "code",
   "execution_count": null,
   "metadata": {},
   "outputs": [],
   "source": []
  },
  {
   "cell_type": "markdown",
   "metadata": {},
   "source": [
    "## User Input Test"
   ]
  },
  {
   "cell_type": "code",
   "execution_count": 38,
   "metadata": {},
   "outputs": [
    {
     "data": {
      "text/plain": [
       "array(['marketing_google-home', 'marketing_kaggle', 'marketing_pixel',\n",
       "       'research_computer_vision', 'research_nlp',\n",
       "       'research_quantum_computing', 'sales_ad_words', 'sales_pixel',\n",
       "       'sales_search_history'], dtype=object)"
      ]
     },
     "execution_count": 38,
     "metadata": {},
     "output_type": "execute_result"
    }
   ],
   "source": [
    "le.classes_"
   ]
  },
  {
   "cell_type": "code",
   "execution_count": 39,
   "metadata": {},
   "outputs": [
    {
     "data": {
      "text/plain": [
       "['le.joblib']"
      ]
     },
     "execution_count": 39,
     "metadata": {},
     "output_type": "execute_result"
    }
   ],
   "source": [
    "import joblib\n",
    "\n",
    "joblib.dump(le, 'le.joblib')"
   ]
  },
  {
   "cell_type": "markdown",
   "metadata": {},
   "source": [
    "#### Test1: Asking with document name and folder name"
   ]
  },
  {
   "cell_type": "code",
   "execution_count": 40,
   "metadata": {},
   "outputs": [],
   "source": [
    "user_input = [\"Hi open the sales google home document please\"]\n",
    "\n",
    "embedding = embed(user_input)\n",
    "X_user = pd.DataFrame(data=embedding.numpy())"
   ]
  },
  {
   "cell_type": "code",
   "execution_count": 41,
   "metadata": {},
   "outputs": [
    {
     "name": "stdout",
     "output_type": "stream",
     "text": [
      "label predicted: ['marketing_google-home']\n",
      "Query search: ['/home/jupyter/Google/marketing/google-home.pdf']\n"
     ]
    }
   ],
   "source": [
    "y_proba = model.predict(X_user)\n",
    "y_pred = y_proba.argmax(axis=1)\n",
    "print(f\"label predicted: {le.inverse_transform(y_pred)}\")\n",
    "for intent in data['intents']:\n",
    "    if intent['label'] == le.inverse_transform(y_pred):\n",
    "        print(f\"Query search: {intent['responses']}\")"
   ]
  },
  {
   "cell_type": "code",
   "execution_count": 42,
   "metadata": {},
   "outputs": [
    {
     "data": {
      "text/plain": [
       "array([[8.8887984e-01, 2.1166330e-05, 2.4633923e-08, 9.3784678e-04,\n",
       "        6.5527189e-07, 2.6809888e-08, 4.6503646e-04, 5.0812101e-05,\n",
       "        1.0964457e-01]], dtype=float32)"
      ]
     },
     "execution_count": 42,
     "metadata": {},
     "output_type": "execute_result"
    }
   ],
   "source": [
    "(y_proba)"
   ]
  },
  {
   "cell_type": "markdown",
   "metadata": {},
   "source": [
    "#### Result: The user made a mistake. google home document is in marketing folder"
   ]
  },
  {
   "cell_type": "code",
   "execution_count": null,
   "metadata": {},
   "outputs": [],
   "source": []
  },
  {
   "cell_type": "markdown",
   "metadata": {},
   "source": [
    "#### Test2: Asking with document name and folder name but _'can you get me'_ this is not used in training data so far "
   ]
  },
  {
   "cell_type": "code",
   "execution_count": 43,
   "metadata": {},
   "outputs": [],
   "source": [
    "user_input = [\"Hi can you get me sales pixel document\"]\n",
    "\n",
    "embedding = embed(user_input)\n",
    "X_user = pd.DataFrame(data=embedding.numpy())"
   ]
  },
  {
   "cell_type": "code",
   "execution_count": 44,
   "metadata": {},
   "outputs": [
    {
     "name": "stdout",
     "output_type": "stream",
     "text": [
      "label predicted: ['sales_pixel']\n",
      "Query search: ['/home/jupyter/Google/sales/pixel.pdf']\n"
     ]
    }
   ],
   "source": [
    "y_proba = model.predict(X_user)\n",
    "y_pred = y_proba.argmax(axis=1)\n",
    "print(f\"label predicted: {le.inverse_transform(y_pred)}\")\n",
    "for intent in data['intents']:\n",
    "    if intent['label'] == le.inverse_transform(y_pred):\n",
    "        print(f\"Query search: {intent['responses']}\")"
   ]
  },
  {
   "cell_type": "code",
   "execution_count": 45,
   "metadata": {},
   "outputs": [
    {
     "data": {
      "text/plain": [
       "array([[6.2586420e-12, 2.0961127e-10, 1.3484130e-06, 1.4688624e-06,\n",
       "        1.8903165e-14, 2.5121311e-11, 4.0752749e-07, 9.9999642e-01,\n",
       "        3.1459166e-07]], dtype=float32)"
      ]
     },
     "execution_count": 45,
     "metadata": {},
     "output_type": "execute_result"
    }
   ],
   "source": [
    "y_proba"
   ]
  },
  {
   "cell_type": "markdown",
   "metadata": {},
   "source": [
    "#### Result: The user asked for correct document from correct folder and model answer is correct."
   ]
  },
  {
   "cell_type": "code",
   "execution_count": null,
   "metadata": {},
   "outputs": [],
   "source": []
  },
  {
   "cell_type": "markdown",
   "metadata": {},
   "source": [
    "#### Test3: Asking with document name but no folder name"
   ]
  },
  {
   "cell_type": "code",
   "execution_count": 46,
   "metadata": {},
   "outputs": [],
   "source": [
    "user_input = [\"Hi can you get me pixel document\"]\n",
    "\n",
    "embedding = embed(user_input)\n",
    "X_user = pd.DataFrame(data=embedding.numpy())"
   ]
  },
  {
   "cell_type": "code",
   "execution_count": 47,
   "metadata": {},
   "outputs": [
    {
     "name": "stdout",
     "output_type": "stream",
     "text": [
      "label predicted: ['sales_pixel']\n",
      "Query search: ['/home/jupyter/Google/sales/pixel.pdf']\n"
     ]
    }
   ],
   "source": [
    "y_proba = model.predict(X_user)\n",
    "y_pred = y_proba.argmax(axis=1)\n",
    "print(f\"label predicted: {le.inverse_transform(y_pred)}\")\n",
    "for intent in data['intents']:\n",
    "    if intent['label'] == le.inverse_transform(y_pred):\n",
    "        print(f\"Query search: {intent['responses']}\")"
   ]
  },
  {
   "cell_type": "code",
   "execution_count": null,
   "metadata": {},
   "outputs": [],
   "source": []
  },
  {
   "cell_type": "markdown",
   "metadata": {},
   "source": [
    "#### Result: The user asked for correct document but did not specify and folder. Model gave just one correct result"
   ]
  },
  {
   "cell_type": "code",
   "execution_count": 48,
   "metadata": {},
   "outputs": [
    {
     "data": {
      "text/plain": [
       "array([[3.9091316e-10, 4.7910786e-09, 1.8407536e-03, 4.0570123e-04,\n",
       "        1.5309014e-11, 4.0401295e-07, 1.1084892e-07, 9.9775285e-01,\n",
       "        2.5014162e-07]], dtype=float32)"
      ]
     },
     "execution_count": 48,
     "metadata": {},
     "output_type": "execute_result"
    }
   ],
   "source": [
    "# Lets y_proba\n",
    "\n",
    "y_proba"
   ]
  },
  {
   "cell_type": "markdown",
   "metadata": {},
   "source": [
    "So here is one room for improvement. The model should also give high probability to second element of the above list sonce that corresponds to 'marketing_pixel' <br>\n",
    "May be we can add few more such statements in training data itself."
   ]
  },
  {
   "cell_type": "code",
   "execution_count": null,
   "metadata": {},
   "outputs": [],
   "source": []
  },
  {
   "cell_type": "markdown",
   "metadata": {},
   "source": [
    "#### Test4: Asking document created on a date"
   ]
  },
  {
   "cell_type": "code",
   "execution_count": 49,
   "metadata": {},
   "outputs": [],
   "source": [
    "user_input = [\"Please open kaggle marketing document created on 15 July\"]"
   ]
  },
  {
   "cell_type": "code",
   "execution_count": 50,
   "metadata": {},
   "outputs": [],
   "source": [
    "query_date = {}\n",
    "for idx, row in enumerate(user_input):\n",
    "    date_occurences = [(ent.text.strip(), ent.label_) for ent in sp_lg(row).ents if ent.label_ == 'DATE']\n",
    "    query_date[row] = []\n",
    "    \n",
    "    for date in date_occurences:\n",
    "        try:\n",
    "            date_token = re.split('\\s+|/|-|:',date[0])\n",
    "            day, month, year = decode_date(date_token)\n",
    "            query_date[row].append((day, month, year))\n",
    "            row = row.replace(date[0], \"\", 1)\n",
    "            user_input[idx] = row\n",
    "        except:\n",
    "            pass"
   ]
  },
  {
   "cell_type": "code",
   "execution_count": 51,
   "metadata": {},
   "outputs": [],
   "source": [
    "embedding = embed(user_input)\n",
    "X_user = pd.DataFrame(data=embedding.numpy())"
   ]
  },
  {
   "cell_type": "code",
   "execution_count": 52,
   "metadata": {},
   "outputs": [
    {
     "name": "stdout",
     "output_type": "stream",
     "text": [
      "label predicted: ['marketing_kaggle']\n",
      "Query search: ['/home/jupyter/Google/marketing/kaggle.pdf']\n"
     ]
    }
   ],
   "source": [
    "y_proba = model.predict(X_user)\n",
    "y_pred = y_proba.argmax(axis=1)\n",
    "print(f\"label predicted: {le.inverse_transform(y_pred)}\")\n",
    "for intent in data['intents']:\n",
    "    if intent['label'] == le.inverse_transform(y_pred):\n",
    "        print(f\"Query search: {intent['responses']}\")"
   ]
  },
  {
   "cell_type": "code",
   "execution_count": 53,
   "metadata": {},
   "outputs": [
    {
     "data": {
      "text/plain": [
       "array([[4.4425473e-05, 9.9989939e-01, 5.1908683e-05, 2.1623510e-09,\n",
       "        1.2776666e-06, 5.5548888e-11, 3.0451276e-06, 3.5467882e-09,\n",
       "        1.0736962e-10]], dtype=float32)"
      ]
     },
     "execution_count": 53,
     "metadata": {},
     "output_type": "execute_result"
    }
   ],
   "source": [
    "# Lets y_proba\n",
    "\n",
    "y_proba"
   ]
  },
  {
   "cell_type": "code",
   "execution_count": 54,
   "metadata": {},
   "outputs": [
    {
     "data": {
      "text/plain": [
       "{'Please open kaggle marketing document created on 15 July': [(15, 7, 2020)]}"
      ]
     },
     "execution_count": 54,
     "metadata": {},
     "output_type": "execute_result"
    }
   ],
   "source": [
    "query_date"
   ]
  },
  {
   "cell_type": "code",
   "execution_count": null,
   "metadata": {},
   "outputs": [],
   "source": []
  },
  {
   "cell_type": "markdown",
   "metadata": {},
   "source": [
    "#### Test5: Asking document created on a date"
   ]
  },
  {
   "cell_type": "code",
   "execution_count": 55,
   "metadata": {},
   "outputs": [],
   "source": [
    "user_input = [\"Please open computer vision document created on 1/6/2019\", \"Please open computer vision document created on 1-6-2019\", \n",
    "              \"Give me google home document from 14/07\", \"Give me google home document from 14-07\", \"Give me google home document made 14 Jan\", \n",
    "              \"Give me nlp document made on March 12\", \"Give me quantum computing document\"]"
   ]
  },
  {
   "cell_type": "code",
   "execution_count": 56,
   "metadata": {},
   "outputs": [],
   "source": [
    "query_date = {}\n",
    "for idx, row in enumerate(user_input):\n",
    "    date_occurences = [(ent.text.strip(), ent.label_) for ent in sp_lg(row).ents if ent.label_ == 'DATE']\n",
    "    query_date[row] = []\n",
    "    for date in date_occurences:\n",
    "        try:\n",
    "            date_token = re.split('\\s+|/|-|:',date[0])\n",
    "            day, month, year = decode_date(date_token)\n",
    "            query_date[row].append((f'{year}-{month}-{day}'))\n",
    "            datetime.strptime(f'{year}-{month}-{day}', '%Y-%m-%d %H:%M:%S.%f')\n",
    "            row = row.replace(date[0], \"\", 1)\n",
    "            user_input[idx] = row\n",
    "        except:\n",
    "            pass"
   ]
  },
  {
   "cell_type": "code",
   "execution_count": 57,
   "metadata": {},
   "outputs": [],
   "source": [
    "embedding = embed(user_input)\n",
    "X_user = pd.DataFrame(data=embedding.numpy())"
   ]
  },
  {
   "cell_type": "code",
   "execution_count": 58,
   "metadata": {},
   "outputs": [],
   "source": [
    "y_proba = model.predict(X_user)\n",
    "y_pred = y_proba.argmax(axis=1)"
   ]
  },
  {
   "cell_type": "code",
   "execution_count": 59,
   "metadata": {},
   "outputs": [
    {
     "data": {
      "text/plain": [
       "array([3, 3, 0, 0, 0, 4, 5])"
      ]
     },
     "execution_count": 59,
     "metadata": {},
     "output_type": "execute_result"
    }
   ],
   "source": [
    "y_pred"
   ]
  },
  {
   "cell_type": "code",
   "execution_count": 60,
   "metadata": {},
   "outputs": [
    {
     "name": "stdout",
     "output_type": "stream",
     "text": [
      "label predicted: ['research_computer_vision' 'research_computer_vision'\n",
      " 'marketing_google-home' 'marketing_google-home' 'marketing_google-home'\n",
      " 'research_nlp' 'research_quantum_computing']\n",
      "Query search: ['/home/jupyter/Google/research/computer_vision.pdf']\n",
      "Query search: ['/home/jupyter/Google/research/computer_vision.pdf']\n",
      "Query search: ['/home/jupyter/Google/marketing/google-home.pdf']\n",
      "Query search: ['/home/jupyter/Google/marketing/google-home.pdf']\n",
      "Query search: ['/home/jupyter/Google/marketing/google-home.pdf']\n",
      "Query search: ['/home/jupyter/Google/research/nlp.pdf']\n",
      "Query search: ['/home/jupyter/Google/research/quantum_computing.pdf']\n"
     ]
    }
   ],
   "source": [
    "y_proba = model.predict(X_user)\n",
    "y_pred = y_proba.argmax(axis=1)\n",
    "print(f\"label predicted: {le.inverse_transform(y_pred)}\")\n",
    "for pred in y_pred:\n",
    "    for intent in data['intents']:\n",
    "        if intent['label'] == le.inverse_transform(pred.reshape(1,)):\n",
    "            print(f\"Query search: {intent['responses']}\")"
   ]
  },
  {
   "cell_type": "code",
   "execution_count": 61,
   "metadata": {},
   "outputs": [
    {
     "data": {
      "text/plain": [
       "array([[5.11015387e-05, 4.24640857e-05, 2.74693248e-05, 9.88611519e-01,\n",
       "        8.34755213e-07, 7.53260849e-07, 1.27588806e-04, 1.07213221e-02,\n",
       "        4.16978000e-04],\n",
       "       [5.11015387e-05, 4.24640857e-05, 2.74693248e-05, 9.88611519e-01,\n",
       "        8.34755213e-07, 7.53260849e-07, 1.27588806e-04, 1.07213221e-02,\n",
       "        4.16978000e-04],\n",
       "       [9.99342382e-01, 2.02189995e-06, 1.53073051e-06, 5.28393663e-04,\n",
       "        1.08169679e-05, 1.07981316e-04, 5.14119058e-09, 1.44742029e-09,\n",
       "        6.79815867e-06],\n",
       "       [9.99342382e-01, 2.02189995e-06, 1.53073051e-06, 5.28393663e-04,\n",
       "        1.08169679e-05, 1.07981316e-04, 5.14119058e-09, 1.44742029e-09,\n",
       "        6.79815867e-06],\n",
       "       [9.91334617e-01, 1.19160150e-05, 9.81012181e-06, 6.19200151e-03,\n",
       "        1.05664355e-06, 1.11556201e-05, 3.19206856e-06, 2.25368185e-05,\n",
       "        2.41379743e-03],\n",
       "       [4.73199273e-03, 6.40918538e-02, 1.52874381e-05, 1.49708299e-04,\n",
       "        9.30549026e-01, 7.33050038e-05, 3.77645862e-04, 5.08662339e-08,\n",
       "        1.11763193e-05],\n",
       "       [1.41583982e-07, 7.50218820e-09, 1.31966968e-04, 2.99985550e-05,\n",
       "        4.17409774e-06, 9.99833703e-01, 1.01626676e-11, 3.40856854e-09,\n",
       "        2.66164313e-09]], dtype=float32)"
      ]
     },
     "execution_count": 61,
     "metadata": {},
     "output_type": "execute_result"
    }
   ],
   "source": [
    "# Lets y_proba\n",
    "y_proba"
   ]
  },
  {
   "cell_type": "code",
   "execution_count": 62,
   "metadata": {},
   "outputs": [
    {
     "data": {
      "text/plain": [
       "{'Please open computer vision document created on 1/6/2019': [],\n",
       " 'Please open computer vision document created on 1-6-2019': ['2019-6-1'],\n",
       " 'Give me google home document from 14/07': [],\n",
       " 'Give me google home document from 14-07': ['2020-7-14'],\n",
       " 'Give me google home document made 14 Jan': ['2020-1-14'],\n",
       " 'Give me nlp document made on March 12': ['2020-3-12'],\n",
       " 'Give me quantum computing document': []}"
      ]
     },
     "execution_count": 62,
     "metadata": {},
     "output_type": "execute_result"
    }
   ],
   "source": [
    "query_date"
   ]
  },
  {
   "cell_type": "code",
   "execution_count": 67,
   "metadata": {},
   "outputs": [
    {
     "data": {
      "text/plain": [
       "[(1, []),\n",
       " (1, ['2019-6-1']),\n",
       " (1, []),\n",
       " (1, ['2020-7-14']),\n",
       " (1, ['2020-1-14']),\n",
       " (1, ['2020-3-12']),\n",
       " (1, [])]"
      ]
     },
     "execution_count": 67,
     "metadata": {},
     "output_type": "execute_result"
    }
   ],
   "source": [
    "list(zip([1,1,1,1,1,1,1], query_date.values()))"
   ]
  },
  {
   "cell_type": "code",
   "execution_count": null,
   "metadata": {},
   "outputs": [],
   "source": []
  },
  {
   "cell_type": "markdown",
   "metadata": {},
   "source": [
    "### Save model"
   ]
  },
  {
   "cell_type": "code",
   "execution_count": 63,
   "metadata": {},
   "outputs": [
    {
     "name": "stdout",
     "output_type": "stream",
     "text": [
      "INFO:tensorflow:Assets written to: model/assets\n"
     ]
    },
    {
     "name": "stderr",
     "output_type": "stream",
     "text": [
      "INFO:tensorflow:Assets written to: model/assets\n"
     ]
    }
   ],
   "source": [
    "model.save('model')"
   ]
  },
  {
   "cell_type": "code",
   "execution_count": 68,
   "metadata": {},
   "outputs": [
    {
     "data": {
      "text/plain": [
       "['a']"
      ]
     },
     "execution_count": 68,
     "metadata": {},
     "output_type": "execute_result"
    }
   ],
   "source": [
    "s = 'a'\n",
    "[s]"
   ]
  },
  {
   "cell_type": "code",
   "execution_count": null,
   "metadata": {},
   "outputs": [],
   "source": []
  }
 ],
 "metadata": {
  "environment": {
   "name": "common-cpu.m49",
   "type": "gcloud",
   "uri": "gcr.io/deeplearning-platform-release/base-cpu:m49"
  },
  "kernelspec": {
   "display_name": "Python 3",
   "language": "python",
   "name": "python3"
  },
  "language_info": {
   "codemirror_mode": {
    "name": "ipython",
    "version": 3
   },
   "file_extension": ".py",
   "mimetype": "text/x-python",
   "name": "python",
   "nbconvert_exporter": "python",
   "pygments_lexer": "ipython3",
   "version": "3.7.6"
  }
 },
 "nbformat": 4,
 "nbformat_minor": 4
}
