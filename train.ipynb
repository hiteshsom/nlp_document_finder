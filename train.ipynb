{
 "cells": [
  {
   "cell_type": "markdown",
   "metadata": {},
   "source": [
    "# NLP Document Locator"
   ]
  },
  {
   "cell_type": "markdown",
   "metadata": {},
   "source": [
    "## Import statements"
   ]
  },
  {
   "cell_type": "code",
   "execution_count": 1,
   "metadata": {},
   "outputs": [
    {
     "name": "stderr",
     "output_type": "stream",
     "text": [
      "[nltk_data] Downloading package punkt to /home/jupyter/nltk_data...\n",
      "[nltk_data]   Package punkt is already up-to-date!\n",
      "[nltk_data] Downloading package stopwords to\n",
      "[nltk_data]     /home/jupyter/nltk_data...\n",
      "[nltk_data]   Package stopwords is already up-to-date!\n"
     ]
    }
   ],
   "source": [
    "import nltk\n",
    "nltk.download('punkt')\n",
    "nltk.download('stopwords')\n",
    "from nltk.stem.snowball import SnowballStemmer\n",
    "stemmer = SnowballStemmer(\"english\")\n",
    "\n",
    "import pandas as pd\n",
    "import numpy as np\n",
    "import random\n",
    "from datetime import datetime"
   ]
  },
  {
   "cell_type": "markdown",
   "metadata": {},
   "source": [
    "## Load data"
   ]
  },
  {
   "cell_type": "code",
   "execution_count": 2,
   "metadata": {},
   "outputs": [],
   "source": [
    "import json\n",
    "with open('/home/jupyter/nlp_document_finder/data/train2.json') as file:\n",
    "    data = json.load(file)"
   ]
  },
  {
   "cell_type": "markdown",
   "metadata": {},
   "source": [
    "## Preprocessing"
   ]
  },
  {
   "cell_type": "code",
   "execution_count": 3,
   "metadata": {},
   "outputs": [],
   "source": [
    "# words = []\n",
    "# labels = []\n",
    "# docs_x = []\n",
    "# docs_y = []\n",
    "\n",
    "# # ------------------- TOKENIZE ----------------- #\n",
    "# for intent in data['intents']:\n",
    "#     for pattern in intent['patterns']:\n",
    "#         wrds = nltk.word_tokenize(pattern)\n",
    "#         words.extend(wrds)\n",
    "#         docs_x.append(wrds)\n",
    "#         docs_y.append(intent[\"tag\"])\n",
    "        \n",
    "#     if intent['tag'] not in labels:\n",
    "#         labels.append(intent['tag'])\n",
    "       "
   ]
  },
  {
   "cell_type": "code",
   "execution_count": 4,
   "metadata": {},
   "outputs": [],
   "source": [
    "# # --------------------STOP WORD REMOVAL ----------#\n",
    "# from nltk.corpus import stopwords\n",
    "# stop_words = list(set(stopwords.words('english'))) \n",
    "\n",
    "# for word in words:\n",
    "#     if word in stop_words:\n",
    "#         words.remove(word)\n",
    "\n",
    "# for wrd in docs_x:\n",
    "#     for word in wrd:\n",
    "#         if word in stop_words:\n",
    "#             wrd.remove(word)"
   ]
  },
  {
   "cell_type": "code",
   "execution_count": 5,
   "metadata": {},
   "outputs": [],
   "source": [
    "# # ------------------ REMOVE PUNCTUATION ----------- #\n",
    "# import string\n",
    "# for word in words:\n",
    "#     word = word.translate(str.maketrans('', '', string.punctuation))\n",
    "#     word = word.strip()\n",
    "\n",
    "\n",
    "# for wrd in docs_x:\n",
    "#     for word in wrd:\n",
    "#         word = word.translate(str.maketrans('', '', string.punctuation))\n",
    "#         word = word.strip()"
   ]
  },
  {
   "cell_type": "code",
   "execution_count": 6,
   "metadata": {},
   "outputs": [],
   "source": [
    "# # ---------------- STEMMING ------------------ #\n",
    "# words = [stemmer.stem(w.lower()) for w in words if w != \"?\"]\n",
    "# words = sorted(list(set(words)))\n",
    "\n",
    "# labels = sorted(labels)"
   ]
  },
  {
   "cell_type": "code",
   "execution_count": 7,
   "metadata": {},
   "outputs": [],
   "source": [
    "rows = []\n",
    "labels = []\n",
    "for intent in data['intents']:\n",
    "    rows.extend(intent['train_data'])\n",
    "    label = []\n",
    "    label.append(intent['label'])\n",
    "    labels.extend(label*len(intent['train_data']))"
   ]
  },
  {
   "cell_type": "markdown",
   "metadata": {},
   "source": [
    "### Date Recognition"
   ]
  },
  {
   "cell_type": "code",
   "execution_count": 8,
   "metadata": {},
   "outputs": [],
   "source": [
    "from datetime import datetime\n",
    "\n",
    "def decode_date(tokens):\n",
    "\n",
    "    months_fullform = ['january', 'february', 'march', 'april', 'may', 'june', 'july', 'august', 'september', 'october', 'november', 'decemeber']\n",
    "    months_shortform = ['jan', 'feb', 'mar', 'apr', 'may', 'jun', 'jul', 'aug', 'sep', 'oct', 'nov', 'dec']\n",
    "    month = 0\n",
    "    for token in tokens:\n",
    "        try:\n",
    "            int(token)\n",
    "        except:\n",
    "            if token.lower() in months_fullform:\n",
    "                month = months_fullform.index(token.lower()) + 1\n",
    "            elif token.lower() in months_shortform:\n",
    "                month = months_shortform.index(token.lower()) + 1\n",
    "            tokens.remove(token)\n",
    "        \n",
    "    if len(tokens) > 2:\n",
    "        if month:\n",
    "            day = int(tokens[0])\n",
    "            year = int(tokens[2])\n",
    "        else:\n",
    "            day = int(tokens[0])\n",
    "            month = int(tokens[1])\n",
    "            year = int(tokens[2])\n",
    "    elif len(tokens) > 1:\n",
    "        if month:\n",
    "            day = int(tokens[0])\n",
    "            year = 2020\n",
    "        else:\n",
    "            day = int(tokens[0])\n",
    "            month = int(tokens[1])\n",
    "            year = 2020\n",
    "    elif len(tokens)==1:\n",
    "        day = int(tokens[0])\n",
    "        year = 2020\n",
    "    return (day, month, year)"
   ]
  },
  {
   "cell_type": "code",
   "execution_count": 9,
   "metadata": {},
   "outputs": [],
   "source": [
    "# !python3 -m spacy download en_core_web_lg\n",
    "import spacy\n",
    "sp_lg = spacy.load('en_core_web_lg')\n",
    "import nltk\n",
    "import re\n",
    "\n",
    "query_date = {}\n",
    "for idx, row in enumerate(rows):\n",
    "    date_occurences = [(ent.text.strip(), ent.label_) for ent in sp_lg(row).ents if ent.label_ == 'DATE']\n",
    "    query_date[row] = []\n",
    "    \n",
    "    for date in date_occurences:\n",
    "        try:\n",
    "            date_token = re.split('\\s+|/|-|:',date[0])\n",
    "            day, month, year = decode_date(date_token)\n",
    "            query_date[row].append((f'{year}-{month}-{day}'))\n",
    "            row = row.replace(date[0], \"\", 1)\n",
    "            rows[idx] = row\n",
    "        except:\n",
    "            pass"
   ]
  },
  {
   "cell_type": "markdown",
   "metadata": {},
   "source": [
    "### Universal Sentence Encoder"
   ]
  },
  {
   "cell_type": "code",
   "execution_count": 10,
   "metadata": {},
   "outputs": [],
   "source": [
    "import tensorflow_hub as hub\n",
    "embed = hub.load(\"https://tfhub.dev/google/universal-sentence-encoder/4\")"
   ]
  },
  {
   "cell_type": "code",
   "execution_count": 11,
   "metadata": {},
   "outputs": [],
   "source": [
    "embedding = embed(rows)\n",
    "\n",
    "X = pd.DataFrame(data=embedding.numpy())\n",
    "X['label'] = labels"
   ]
  },
  {
   "cell_type": "code",
   "execution_count": 12,
   "metadata": {},
   "outputs": [
    {
     "data": {
      "text/html": [
       "<div>\n",
       "<style scoped>\n",
       "    .dataframe tbody tr th:only-of-type {\n",
       "        vertical-align: middle;\n",
       "    }\n",
       "\n",
       "    .dataframe tbody tr th {\n",
       "        vertical-align: top;\n",
       "    }\n",
       "\n",
       "    .dataframe thead th {\n",
       "        text-align: right;\n",
       "    }\n",
       "</style>\n",
       "<table border=\"1\" class=\"dataframe\">\n",
       "  <thead>\n",
       "    <tr style=\"text-align: right;\">\n",
       "      <th></th>\n",
       "      <th>0</th>\n",
       "      <th>1</th>\n",
       "      <th>2</th>\n",
       "      <th>3</th>\n",
       "      <th>4</th>\n",
       "      <th>5</th>\n",
       "      <th>6</th>\n",
       "      <th>7</th>\n",
       "      <th>8</th>\n",
       "      <th>9</th>\n",
       "      <th>...</th>\n",
       "      <th>503</th>\n",
       "      <th>504</th>\n",
       "      <th>505</th>\n",
       "      <th>506</th>\n",
       "      <th>507</th>\n",
       "      <th>508</th>\n",
       "      <th>509</th>\n",
       "      <th>510</th>\n",
       "      <th>511</th>\n",
       "      <th>label</th>\n",
       "    </tr>\n",
       "  </thead>\n",
       "  <tbody>\n",
       "    <tr>\n",
       "      <th>0</th>\n",
       "      <td>-0.023522</td>\n",
       "      <td>-0.027589</td>\n",
       "      <td>-0.015897</td>\n",
       "      <td>0.021743</td>\n",
       "      <td>0.027776</td>\n",
       "      <td>0.011346</td>\n",
       "      <td>0.018255</td>\n",
       "      <td>0.028732</td>\n",
       "      <td>0.064652</td>\n",
       "      <td>-0.080686</td>\n",
       "      <td>...</td>\n",
       "      <td>-0.007931</td>\n",
       "      <td>0.055987</td>\n",
       "      <td>-0.059289</td>\n",
       "      <td>0.028541</td>\n",
       "      <td>0.001592</td>\n",
       "      <td>0.027852</td>\n",
       "      <td>0.019604</td>\n",
       "      <td>-0.089315</td>\n",
       "      <td>-0.069819</td>\n",
       "      <td>marketing_kaggle</td>\n",
       "    </tr>\n",
       "    <tr>\n",
       "      <th>1</th>\n",
       "      <td>-0.002800</td>\n",
       "      <td>0.004039</td>\n",
       "      <td>-0.036565</td>\n",
       "      <td>0.020619</td>\n",
       "      <td>0.035993</td>\n",
       "      <td>0.022251</td>\n",
       "      <td>0.032340</td>\n",
       "      <td>0.029259</td>\n",
       "      <td>0.028480</td>\n",
       "      <td>-0.077354</td>\n",
       "      <td>...</td>\n",
       "      <td>-0.054188</td>\n",
       "      <td>0.007662</td>\n",
       "      <td>-0.061701</td>\n",
       "      <td>0.016212</td>\n",
       "      <td>0.016110</td>\n",
       "      <td>-0.020822</td>\n",
       "      <td>0.069056</td>\n",
       "      <td>-0.080873</td>\n",
       "      <td>-0.054029</td>\n",
       "      <td>marketing_kaggle</td>\n",
       "    </tr>\n",
       "    <tr>\n",
       "      <th>2</th>\n",
       "      <td>-0.002595</td>\n",
       "      <td>0.013395</td>\n",
       "      <td>-0.015542</td>\n",
       "      <td>0.005902</td>\n",
       "      <td>0.001254</td>\n",
       "      <td>-0.000004</td>\n",
       "      <td>0.021245</td>\n",
       "      <td>0.037117</td>\n",
       "      <td>0.044805</td>\n",
       "      <td>-0.054018</td>\n",
       "      <td>...</td>\n",
       "      <td>0.008258</td>\n",
       "      <td>0.023106</td>\n",
       "      <td>-0.071179</td>\n",
       "      <td>0.041438</td>\n",
       "      <td>0.027743</td>\n",
       "      <td>0.039953</td>\n",
       "      <td>0.066588</td>\n",
       "      <td>-0.090802</td>\n",
       "      <td>-0.061921</td>\n",
       "      <td>marketing_kaggle</td>\n",
       "    </tr>\n",
       "    <tr>\n",
       "      <th>3</th>\n",
       "      <td>-0.015161</td>\n",
       "      <td>0.060924</td>\n",
       "      <td>-0.015563</td>\n",
       "      <td>0.015570</td>\n",
       "      <td>-0.048320</td>\n",
       "      <td>0.004806</td>\n",
       "      <td>-0.049353</td>\n",
       "      <td>0.021348</td>\n",
       "      <td>0.012264</td>\n",
       "      <td>-0.068966</td>\n",
       "      <td>...</td>\n",
       "      <td>-0.057275</td>\n",
       "      <td>0.052424</td>\n",
       "      <td>-0.049835</td>\n",
       "      <td>0.037803</td>\n",
       "      <td>0.001642</td>\n",
       "      <td>0.005462</td>\n",
       "      <td>0.065089</td>\n",
       "      <td>-0.069093</td>\n",
       "      <td>-0.014209</td>\n",
       "      <td>marketing_kaggle</td>\n",
       "    </tr>\n",
       "    <tr>\n",
       "      <th>4</th>\n",
       "      <td>0.014937</td>\n",
       "      <td>-0.008112</td>\n",
       "      <td>-0.049251</td>\n",
       "      <td>0.030344</td>\n",
       "      <td>0.047071</td>\n",
       "      <td>0.008654</td>\n",
       "      <td>0.033338</td>\n",
       "      <td>0.037916</td>\n",
       "      <td>0.021403</td>\n",
       "      <td>-0.069347</td>\n",
       "      <td>...</td>\n",
       "      <td>0.030978</td>\n",
       "      <td>0.054777</td>\n",
       "      <td>-0.049153</td>\n",
       "      <td>0.032623</td>\n",
       "      <td>-0.000436</td>\n",
       "      <td>0.013973</td>\n",
       "      <td>0.050768</td>\n",
       "      <td>-0.090002</td>\n",
       "      <td>-0.052556</td>\n",
       "      <td>marketing_kaggle</td>\n",
       "    </tr>\n",
       "  </tbody>\n",
       "</table>\n",
       "<p>5 rows × 513 columns</p>\n",
       "</div>"
      ],
      "text/plain": [
       "          0         1         2         3         4         5         6  \\\n",
       "0 -0.023522 -0.027589 -0.015897  0.021743  0.027776  0.011346  0.018255   \n",
       "1 -0.002800  0.004039 -0.036565  0.020619  0.035993  0.022251  0.032340   \n",
       "2 -0.002595  0.013395 -0.015542  0.005902  0.001254 -0.000004  0.021245   \n",
       "3 -0.015161  0.060924 -0.015563  0.015570 -0.048320  0.004806 -0.049353   \n",
       "4  0.014937 -0.008112 -0.049251  0.030344  0.047071  0.008654  0.033338   \n",
       "\n",
       "          7         8         9  ...       503       504       505       506  \\\n",
       "0  0.028732  0.064652 -0.080686  ... -0.007931  0.055987 -0.059289  0.028541   \n",
       "1  0.029259  0.028480 -0.077354  ... -0.054188  0.007662 -0.061701  0.016212   \n",
       "2  0.037117  0.044805 -0.054018  ...  0.008258  0.023106 -0.071179  0.041438   \n",
       "3  0.021348  0.012264 -0.068966  ... -0.057275  0.052424 -0.049835  0.037803   \n",
       "4  0.037916  0.021403 -0.069347  ...  0.030978  0.054777 -0.049153  0.032623   \n",
       "\n",
       "        507       508       509       510       511             label  \n",
       "0  0.001592  0.027852  0.019604 -0.089315 -0.069819  marketing_kaggle  \n",
       "1  0.016110 -0.020822  0.069056 -0.080873 -0.054029  marketing_kaggle  \n",
       "2  0.027743  0.039953  0.066588 -0.090802 -0.061921  marketing_kaggle  \n",
       "3  0.001642  0.005462  0.065089 -0.069093 -0.014209  marketing_kaggle  \n",
       "4 -0.000436  0.013973  0.050768 -0.090002 -0.052556  marketing_kaggle  \n",
       "\n",
       "[5 rows x 513 columns]"
      ]
     },
     "execution_count": 12,
     "metadata": {},
     "output_type": "execute_result"
    }
   ],
   "source": [
    "X.head()"
   ]
  },
  {
   "cell_type": "code",
   "execution_count": 13,
   "metadata": {},
   "outputs": [],
   "source": [
    "import seaborn as sns\n",
    "import matplotlib.pyplot as plt\n",
    "\n",
    "def plot_similarity(labels, features, rotation):\n",
    "    corr = np.inner(features, features)\n",
    "    sns.set(font_scale=1)\n",
    "    fig, ax = plt.subplots(figsize=(18, 18))\n",
    "    g = sns.heatmap(\n",
    "      corr,\n",
    "      xticklabels=labels,\n",
    "      yticklabels=labels,\n",
    "      vmin=0,\n",
    "      vmax=1,\n",
    "      cmap=\"YlOrRd\", \n",
    "      ax=ax)\n",
    "    g.set_xticklabels(labels, rotation=rotation)\n",
    "    g.set_title(\"Semantic Textual Similarity\")\n",
    "\n",
    "def run_and_plot(messages_):\n",
    "    message_embeddings_ = embed(messages_)\n",
    "    plot_similarity(messages_, message_embeddings_, 90)\n",
    "\n",
    "\n",
    "messages = rows\n",
    "\n",
    "# run_and_plot(messages)\n",
    "               "
   ]
  },
  {
   "cell_type": "markdown",
   "metadata": {},
   "source": [
    "### t-SNE"
   ]
  },
  {
   "cell_type": "code",
   "execution_count": 14,
   "metadata": {},
   "outputs": [
    {
     "name": "stdout",
     "output_type": "stream",
     "text": [
      "[t-SNE] Computing 31 nearest neighbors...\n",
      "[t-SNE] Indexed 135 samples in 0.003s...\n",
      "[t-SNE] Computed neighbors for 135 samples in 0.022s...\n",
      "[t-SNE] Computed conditional probabilities for sample 135 / 135\n",
      "[t-SNE] Mean sigma: 0.366267\n",
      "[t-SNE] KL divergence after 250 iterations with early exaggeration: 57.644958\n",
      "[t-SNE] KL divergence after 300 iterations: 0.401503\n",
      "t-SNE done! Time elapsed: 0.19457721710205078 seconds\n"
     ]
    }
   ],
   "source": [
    "from sklearn.manifold import TSNE\n",
    "import time\n",
    "\n",
    "time_start = time.time()\n",
    "tsne = TSNE(n_components=2, verbose=1, perplexity=10, n_iter=300)\n",
    "tsne_results = tsne.fit_transform(X.drop(columns=['label']))\n",
    "print('t-SNE done! Time elapsed: {} seconds'.format(time.time()-time_start))"
   ]
  },
  {
   "cell_type": "code",
   "execution_count": 15,
   "metadata": {},
   "outputs": [
    {
     "data": {
      "text/plain": [
       "array([ 0.23521022, -2.1123507 ,  0.6727994 ,  1.6662605 , -2.7994823 ,\n",
       "        0.8259705 , -1.0421773 ,  1.4106839 ,  1.8902311 ], dtype=float32)"
      ]
     },
     "execution_count": 15,
     "metadata": {},
     "output_type": "execute_result"
    }
   ],
   "source": [
    "tsne_results[0:9, 0]"
   ]
  },
  {
   "cell_type": "code",
   "execution_count": 16,
   "metadata": {},
   "outputs": [
    {
     "data": {
      "text/plain": [
       "<matplotlib.axes._subplots.AxesSubplot at 0x7fb7a85fa0d0>"
      ]
     },
     "execution_count": 16,
     "metadata": {},
     "output_type": "execute_result"
    },
    {
     "data": {
      "image/png": "[encoded data removed]",
      "text/plain": [
       "<Figure size 1152x720 with 1 Axes>"
      ]
     },
     "metadata": {
      "needs_background": "light"
     },
     "output_type": "display_data"
    }
   ],
   "source": [
    "import matplotlib.pyplot as plt\n",
    "import seaborn as sns\n",
    "\n",
    "# fig, ax = plt.subplots(figsize=(12,9))\n",
    "# ax.scatter(tsne_results[0:18, 0], tsne_results[0:18, 1])\n",
    "# plt.show()\n",
    "\n",
    "df_subset = pd.DataFrame()\n",
    "df_subset['tsne-2d-one'] = tsne_results[:,0]\n",
    "df_subset['tsne-2d-two'] = tsne_results[:,1]\n",
    "df_subset['label'] = X['label']\n",
    "\n",
    "plt.figure(figsize=(16,10))\n",
    "sns.scatterplot(\n",
    "    x=\"tsne-2d-one\", y=\"tsne-2d-two\",\n",
    "    hue=\"label\",\n",
    "    palette=sns.color_palette(\"hls\", 9),\n",
    "    data=df_subset,\n",
    "    legend=\"full\",\n",
    "    alpha=1,\n",
    "    s=100\n",
    ")"
   ]
  },
  {
   "cell_type": "markdown",
   "metadata": {},
   "source": [
    "## Modelling"
   ]
  },
  {
   "cell_type": "code",
   "execution_count": 17,
   "metadata": {},
   "outputs": [],
   "source": [
    "# Data Prepraration\n",
    "from sklearn.model_selection import train_test_split\n",
    "from sklearn.preprocessing import LabelEncoder\n",
    "\n",
    "y = X['label']\n",
    "X = X.drop(columns=['label'], axis=1)\n",
    "\n",
    "X_train, X_test, y_train, y_test = train_test_split(X, y, test_size = 0.2, random_state=10)\n",
    "le = LabelEncoder()\n",
    "y_train = le.fit_transform(y_train)\n",
    "y_test = le.transform(y_test)"
   ]
  },
  {
   "cell_type": "code",
   "execution_count": 18,
   "metadata": {},
   "outputs": [
    {
     "data": {
      "text/plain": [
       "set()"
      ]
     },
     "execution_count": 18,
     "metadata": {},
     "output_type": "execute_result"
    }
   ],
   "source": [
    "set(X_train.index).intersection(set(X_test.index))"
   ]
  },
  {
   "cell_type": "markdown",
   "metadata": {},
   "source": [
    "So an empty intersection set of both sets proves that there is no observation common in train and test data"
   ]
  },
  {
   "cell_type": "code",
   "execution_count": 19,
   "metadata": {},
   "outputs": [],
   "source": [
    "# Load the TensorBoard notebook extension\n",
    "%load_ext tensorboard"
   ]
  },
  {
   "cell_type": "code",
   "execution_count": 20,
   "metadata": {},
   "outputs": [],
   "source": [
    "# Clear any logs from previous runs\n",
    "!rm -rf ./logs/ "
   ]
  },
  {
   "cell_type": "code",
   "execution_count": 21,
   "metadata": {},
   "outputs": [],
   "source": [
    "# Building Neural network\n",
    "import tensorflow as tf\n",
    "\n",
    "from tensorflow.keras.models import Sequential\n",
    "from tensorflow.keras.layers import Dense, Dropout, Activation, Flatten, Conv2D, MaxPooling2D\n",
    "import datetime\n",
    "\n",
    "log_dir = \"logs/fit/\" + datetime.datetime.now().strftime(\"%Y%m%d-%H%M%S\")\n",
    "tensorboard_callback = tf.keras.callbacks.TensorBoard(log_dir=log_dir, histogram_freq=1)\n",
    "\n",
    "model = Sequential()\n",
    "model.add(Dense(64, input_shape=(512,)))\n",
    "model.add(Dense(100))\n",
    "model.add(Dense(1000))\n",
    "model.add(Dense(100))\n",
    "model.add(Dense(len(set(y_train))))\n",
    "model.add(Activation('softmax'))"
   ]
  },
  {
   "cell_type": "code",
   "execution_count": 22,
   "metadata": {},
   "outputs": [
    {
     "name": "stdout",
     "output_type": "stream",
     "text": [
      "Model: \"sequential\"\n",
      "_________________________________________________________________\n",
      "Layer (type)                 Output Shape              Param #   \n",
      "=================================================================\n",
      "dense (Dense)                (None, 64)                32832     \n",
      "_________________________________________________________________\n",
      "dense_1 (Dense)              (None, 100)               6500      \n",
      "_________________________________________________________________\n",
      "dense_2 (Dense)              (None, 1000)              101000    \n",
      "_________________________________________________________________\n",
      "dense_3 (Dense)              (None, 100)               100100    \n",
      "_________________________________________________________________\n",
      "dense_4 (Dense)              (None, 9)                 909       \n",
      "_________________________________________________________________\n",
      "activation (Activation)      (None, 9)                 0         \n",
      "=================================================================\n",
      "Total params: 241,341\n",
      "Trainable params: 241,341\n",
      "Non-trainable params: 0\n",
      "_________________________________________________________________\n"
     ]
    }
   ],
   "source": [
    "model.summary()"
   ]
  },
  {
   "cell_type": "code",
   "execution_count": 23,
   "metadata": {},
   "outputs": [],
   "source": [
    "model.compile(loss=\"sparse_categorical_crossentropy\", optimizer='adam', metrics=[tf.keras.metrics.SparseCategoricalAccuracy()])"
   ]
  },
  {
   "cell_type": "code",
   "execution_count": 24,
   "metadata": {},
   "outputs": [
    {
     "data": {
      "image/png": "[encoded data removed]",
      "text/plain": [
       "<IPython.core.display.Image object>"
      ]
     },
     "execution_count": 24,
     "metadata": {},
     "output_type": "execute_result"
    }
   ],
   "source": [
    "from tensorflow import keras\n",
    "keras.utils.plot_model(model)"
   ]
  },
  {
   "cell_type": "code",
   "execution_count": 25,
   "metadata": {},
   "outputs": [
    {
     "name": "stdout",
     "output_type": "stream",
     "text": [
      "Epoch 1/10\n",
      "4/4 [==============================] - 0s 55ms/step - loss: 2.0849 - sparse_categorical_accuracy: 0.4444 - val_loss: 1.7861 - val_sparse_categorical_accuracy: 0.8519\n",
      "Epoch 2/10\n",
      "4/4 [==============================] - 0s 17ms/step - loss: 1.5407 - sparse_categorical_accuracy: 0.9167 - val_loss: 1.1617 - val_sparse_categorical_accuracy: 1.0000\n",
      "Epoch 3/10\n",
      "4/4 [==============================] - 0s 22ms/step - loss: 0.8710 - sparse_categorical_accuracy: 1.0000 - val_loss: 0.5086 - val_sparse_categorical_accuracy: 1.0000\n",
      "Epoch 4/10\n",
      "4/4 [==============================] - 0s 19ms/step - loss: 0.3618 - sparse_categorical_accuracy: 1.0000 - val_loss: 0.1276 - val_sparse_categorical_accuracy: 1.0000\n",
      "Epoch 5/10\n",
      "4/4 [==============================] - 0s 19ms/step - loss: 0.1082 - sparse_categorical_accuracy: 1.0000 - val_loss: 0.0349 - val_sparse_categorical_accuracy: 1.0000\n",
      "Epoch 6/10\n",
      "4/4 [==============================] - 0s 19ms/step - loss: 0.0301 - sparse_categorical_accuracy: 1.0000 - val_loss: 0.0090 - val_sparse_categorical_accuracy: 1.0000\n",
      "Epoch 7/10\n",
      "4/4 [==============================] - 0s 19ms/step - loss: 0.0070 - sparse_categorical_accuracy: 1.0000 - val_loss: 0.0024 - val_sparse_categorical_accuracy: 1.0000\n",
      "Epoch 8/10\n",
      "4/4 [==============================] - 0s 14ms/step - loss: 0.0019 - sparse_categorical_accuracy: 1.0000 - val_loss: 0.0010 - val_sparse_categorical_accuracy: 1.0000\n",
      "Epoch 9/10\n",
      "4/4 [==============================] - 0s 16ms/step - loss: 6.0550e-04 - sparse_categorical_accuracy: 1.0000 - val_loss: 6.5321e-04 - val_sparse_categorical_accuracy: 1.0000\n",
      "Epoch 10/10\n",
      "4/4 [==============================] - 0s 15ms/step - loss: 3.2558e-04 - sparse_categorical_accuracy: 1.0000 - val_loss: 4.9237e-04 - val_sparse_categorical_accuracy: 1.0000\n"
     ]
    }
   ],
   "source": [
    "history = model.fit(X_train, y_train, epochs=10,\n",
    "                    validation_data=(X_test, y_test))"
   ]
  },
  {
   "cell_type": "code",
   "execution_count": 26,
   "metadata": {},
   "outputs": [],
   "source": [
    "#%tensorboard --logdir logs/fit"
   ]
  },
  {
   "cell_type": "code",
   "execution_count": 27,
   "metadata": {},
   "outputs": [],
   "source": [
    "# gcloud compute ssh python-nlp-document-finder --project nlp-document-finder --zone us-west1-b -- -L 2222:localhost:6007 "
   ]
  },
  {
   "cell_type": "markdown",
   "metadata": {},
   "source": [
    "### Prediction "
   ]
  },
  {
   "cell_type": "code",
   "execution_count": 28,
   "metadata": {},
   "outputs": [],
   "source": [
    "y_proba = model.predict(X_test)"
   ]
  },
  {
   "cell_type": "code",
   "execution_count": 29,
   "metadata": {},
   "outputs": [],
   "source": [
    "y_pred = y_proba.argmax(axis=1)"
   ]
  },
  {
   "cell_type": "code",
   "execution_count": 30,
   "metadata": {},
   "outputs": [
    {
     "data": {
      "text/plain": [
       "array([[8.44998724e-11, 9.43594568e-14, 4.29419694e-10, 2.21502905e-05,\n",
       "        6.80528842e-07, 9.99977112e-01, 1.99555135e-14, 8.91827692e-15,\n",
       "        1.80467030e-11],\n",
       "       [2.28679170e-07, 4.86335867e-11, 7.53923920e-12, 9.99623537e-01,\n",
       "        1.33507706e-06, 2.31185870e-04, 7.08586870e-11, 2.61645539e-10,\n",
       "        1.43712867e-04],\n",
       "       [5.08916242e-09, 4.44677852e-07, 1.70490369e-12, 4.98901159e-07,\n",
       "        9.99972105e-01, 2.60874203e-05, 2.54490634e-12, 1.90283982e-15,\n",
       "        8.87873910e-07],\n",
       "       [1.56973129e-10, 1.67974022e-12, 2.66459277e-09, 6.82276295e-05,\n",
       "        1.40029249e-06, 9.99930382e-01, 1.58537842e-13, 1.45887927e-13,\n",
       "        1.11521431e-10],\n",
       "       [9.98795390e-01, 1.13561237e-03, 2.87614075e-05, 7.68808604e-06,\n",
       "        1.74940560e-05, 5.10736298e-09, 1.73903327e-08, 1.33828877e-07,\n",
       "        1.48989257e-05],\n",
       "       [4.38491156e-07, 5.67559277e-10, 1.88789540e-11, 9.99367654e-01,\n",
       "        2.04224534e-06, 6.39578720e-05, 2.16389767e-10, 1.58491864e-09,\n",
       "        5.65857452e-04],\n",
       "       [4.26238211e-10, 6.34512137e-13, 7.90175185e-21, 6.46066894e-07,\n",
       "        3.88711396e-10, 7.10784919e-14, 8.48721902e-06, 3.48818335e-10,\n",
       "        9.99990821e-01],\n",
       "       [9.97410834e-01, 2.35365261e-03, 1.44044418e-04, 6.60798878e-06,\n",
       "        8.21705980e-05, 3.25215765e-08, 3.48651974e-09, 3.28047918e-08,\n",
       "        2.75764978e-06],\n",
       "       [9.95866776e-01, 3.85253341e-03, 2.37879998e-04, 8.99306633e-06,\n",
       "        2.27140936e-05, 1.03023785e-08, 3.70079860e-08, 5.57714941e-07,\n",
       "        1.05320942e-05],\n",
       "       [3.94400484e-10, 1.61578606e-12, 4.61642324e-09, 2.98729603e-04,\n",
       "        7.84324300e-07, 9.99700427e-01, 5.57752520e-13, 9.81623311e-13,\n",
       "        3.95884464e-10],\n",
       "       [2.19777192e-08, 9.99953508e-01, 4.58483992e-05, 4.43496004e-11,\n",
       "        3.19944917e-07, 1.92940585e-12, 1.03333955e-08, 2.47022854e-07,\n",
       "        3.26233773e-09],\n",
       "       [2.25515095e-07, 9.99953747e-01, 4.30092732e-05, 7.69447617e-10,\n",
       "        2.80568042e-06, 2.38866999e-11, 2.61057149e-08, 2.77703293e-07,\n",
       "        4.27662563e-08],\n",
       "       [7.17239402e-07, 1.68917358e-09, 1.28415306e-10, 9.99522924e-01,\n",
       "        1.47483968e-06, 4.78213478e-05, 5.16891308e-10, 6.68281164e-09,\n",
       "        4.27146064e-04],\n",
       "       [1.42268632e-08, 1.57914585e-07, 1.37410650e-04, 2.24626029e-09,\n",
       "        9.07336950e-15, 7.84148842e-13, 1.72863336e-04, 9.99689579e-01,\n",
       "        5.19057552e-09],\n",
       "       [1.98566785e-09, 2.33589038e-12, 1.30017056e-20, 2.54117850e-07,\n",
       "        9.43655043e-10, 1.63732943e-14, 6.25357143e-06, 3.09535203e-10,\n",
       "        9.99993443e-01],\n",
       "       [3.78358678e-09, 1.44090691e-07, 3.26414520e-05, 5.47290258e-09,\n",
       "        4.53103572e-14, 3.14067370e-12, 1.69461739e-04, 9.99797761e-01,\n",
       "        2.37951632e-08],\n",
       "       [2.33160186e-10, 3.77476326e-08, 3.66274990e-13, 7.63887044e-12,\n",
       "        6.59238115e-12, 1.52685769e-14, 9.99881029e-01, 5.19248606e-05,\n",
       "        6.69622023e-05],\n",
       "       [2.28290737e-08, 1.60087235e-04, 9.99240398e-01, 5.07569473e-11,\n",
       "        1.75165481e-12, 1.08610620e-11, 1.57599045e-09, 5.99483552e-04,\n",
       "        4.55704485e-13],\n",
       "       [4.51364386e-08, 5.34159744e-06, 5.57043092e-11, 4.80120889e-06,\n",
       "        9.99927759e-01, 5.57137246e-05, 2.82457824e-11, 1.66677747e-13,\n",
       "        6.43759495e-06],\n",
       "       [3.96765332e-09, 7.74951559e-07, 3.04577381e-13, 7.91575644e-07,\n",
       "        9.99984503e-01, 7.74616456e-06, 3.92307584e-12, 2.88150063e-15,\n",
       "        6.25299072e-06],\n",
       "       [8.57153193e-09, 9.99994516e-01, 4.52601080e-06, 4.21492919e-12,\n",
       "        8.97299117e-07, 8.73359057e-13, 5.39546741e-10, 4.10656753e-09,\n",
       "        5.99882699e-10],\n",
       "       [5.18109999e-09, 9.81579488e-12, 1.33905988e-19, 1.28335125e-06,\n",
       "        3.89526544e-09, 2.20726324e-13, 5.80811275e-06, 5.34298383e-10,\n",
       "        9.99992847e-01],\n",
       "       [3.57854080e-09, 7.45489781e-11, 1.08169416e-17, 4.05763149e-06,\n",
       "        1.20178589e-09, 6.22055467e-13, 3.00813335e-05, 5.00221233e-08,\n",
       "        9.99965787e-01],\n",
       "       [4.11175563e-07, 5.62541957e-10, 3.19241057e-11, 9.98909593e-01,\n",
       "        4.41837244e-07, 2.57338525e-05, 1.29799105e-09, 1.29407356e-08,\n",
       "        1.06384594e-03],\n",
       "       [2.99968850e-09, 2.04636863e-11, 1.30061175e-19, 2.54498218e-07,\n",
       "        7.85347398e-10, 1.11218221e-14, 1.46091279e-05, 1.95723593e-09,\n",
       "        9.99985099e-01],\n",
       "       [3.85072113e-10, 4.41205561e-09, 1.58121983e-13, 2.67377266e-12,\n",
       "        1.18145934e-12, 3.84297027e-15, 9.99943614e-01, 2.35862808e-05,\n",
       "        3.28264468e-05],\n",
       "       [1.02682577e-06, 1.33046785e-09, 1.38898226e-10, 9.99349177e-01,\n",
       "        9.70999099e-06, 4.13712143e-04, 3.70132563e-10, 1.03734399e-09,\n",
       "        2.26294447e-04]], dtype=float32)"
      ]
     },
     "execution_count": 30,
     "metadata": {},
     "output_type": "execute_result"
    }
   ],
   "source": [
    "y_proba"
   ]
  },
  {
   "cell_type": "code",
   "execution_count": 31,
   "metadata": {},
   "outputs": [
    {
     "data": {
      "text/plain": [
       "array(['marketing_google-home', 'marketing_kaggle', 'marketing_pixel',\n",
       "       'research_computer_vision', 'research_nlp',\n",
       "       'research_quantum_computing', 'sales_ad_words', 'sales_pixel',\n",
       "       'sales_search_history'], dtype=object)"
      ]
     },
     "execution_count": 31,
     "metadata": {},
     "output_type": "execute_result"
    }
   ],
   "source": [
    "le.classes_"
   ]
  },
  {
   "cell_type": "code",
   "execution_count": 32,
   "metadata": {},
   "outputs": [
    {
     "data": {
      "text/plain": [
       "'give me nlp research document'"
      ]
     },
     "execution_count": 32,
     "metadata": {},
     "output_type": "execute_result"
    }
   ],
   "source": [
    "rows[X_test.index[2]]"
   ]
  },
  {
   "cell_type": "code",
   "execution_count": 33,
   "metadata": {},
   "outputs": [],
   "source": [
    "from operator import itemgetter\n",
    "final_results = pd.DataFrame(data = list(itemgetter(*list(X_test.index))(rows)), index=X_test.index, columns=['inputs'])  "
   ]
  },
  {
   "cell_type": "code",
   "execution_count": 34,
   "metadata": {},
   "outputs": [],
   "source": [
    "final_results['predictions'] = le.inverse_transform(y_pred)\n",
    "final_results['true'] = le.inverse_transform(y_test)"
   ]
  },
  {
   "cell_type": "code",
   "execution_count": 35,
   "metadata": {},
   "outputs": [
    {
     "data": {
      "text/html": [
       "<div>\n",
       "<style scoped>\n",
       "    .dataframe tbody tr th:only-of-type {\n",
       "        vertical-align: middle;\n",
       "    }\n",
       "\n",
       "    .dataframe tbody tr th {\n",
       "        vertical-align: top;\n",
       "    }\n",
       "\n",
       "    .dataframe thead th {\n",
       "        text-align: right;\n",
       "    }\n",
       "</style>\n",
       "<table border=\"1\" class=\"dataframe\">\n",
       "  <thead>\n",
       "    <tr style=\"text-align: right;\">\n",
       "      <th></th>\n",
       "      <th>inputs</th>\n",
       "      <th>predictions</th>\n",
       "      <th>true</th>\n",
       "    </tr>\n",
       "  </thead>\n",
       "  <tbody>\n",
       "    <tr>\n",
       "      <th>60</th>\n",
       "      <td>give me quantum computing research report</td>\n",
       "      <td>research_quantum_computing</td>\n",
       "      <td>research_quantum_computing</td>\n",
       "    </tr>\n",
       "    <tr>\n",
       "      <th>55</th>\n",
       "      <td>give me computer vision research file</td>\n",
       "      <td>research_computer_vision</td>\n",
       "      <td>research_computer_vision</td>\n",
       "    </tr>\n",
       "    <tr>\n",
       "      <th>35</th>\n",
       "      <td>give me nlp research document</td>\n",
       "      <td>research_nlp</td>\n",
       "      <td>research_nlp</td>\n",
       "    </tr>\n",
       "    <tr>\n",
       "      <th>68</th>\n",
       "      <td>display quantum computing research document</td>\n",
       "      <td>research_quantum_computing</td>\n",
       "      <td>research_quantum_computing</td>\n",
       "    </tr>\n",
       "    <tr>\n",
       "      <th>133</th>\n",
       "      <td>display google home marketing file</td>\n",
       "      <td>marketing_google-home</td>\n",
       "      <td>marketing_google-home</td>\n",
       "    </tr>\n",
       "    <tr>\n",
       "      <th>56</th>\n",
       "      <td>open computer vision research file</td>\n",
       "      <td>research_computer_vision</td>\n",
       "      <td>research_computer_vision</td>\n",
       "    </tr>\n",
       "    <tr>\n",
       "      <th>102</th>\n",
       "      <td>show me search history sales file</td>\n",
       "      <td>sales_search_history</td>\n",
       "      <td>sales_search_history</td>\n",
       "    </tr>\n",
       "    <tr>\n",
       "      <th>126</th>\n",
       "      <td>open google home marketing document</td>\n",
       "      <td>marketing_google-home</td>\n",
       "      <td>marketing_google-home</td>\n",
       "    </tr>\n",
       "    <tr>\n",
       "      <th>128</th>\n",
       "      <td>display google home marketing document</td>\n",
       "      <td>marketing_google-home</td>\n",
       "      <td>marketing_google-home</td>\n",
       "    </tr>\n",
       "    <tr>\n",
       "      <th>63</th>\n",
       "      <td>display quantum computing research report</td>\n",
       "      <td>research_quantum_computing</td>\n",
       "      <td>research_quantum_computing</td>\n",
       "    </tr>\n",
       "    <tr>\n",
       "      <th>1</th>\n",
       "      <td>open kaggle marketing report</td>\n",
       "      <td>marketing_kaggle</td>\n",
       "      <td>marketing_kaggle</td>\n",
       "    </tr>\n",
       "    <tr>\n",
       "      <th>2</th>\n",
       "      <td>show me kaggle marketing report</td>\n",
       "      <td>marketing_kaggle</td>\n",
       "      <td>marketing_kaggle</td>\n",
       "    </tr>\n",
       "    <tr>\n",
       "      <th>53</th>\n",
       "      <td>display computer vision research document</td>\n",
       "      <td>research_computer_vision</td>\n",
       "      <td>research_computer_vision</td>\n",
       "    </tr>\n",
       "    <tr>\n",
       "      <th>105</th>\n",
       "      <td>give me pixel sales report</td>\n",
       "      <td>sales_pixel</td>\n",
       "      <td>sales_pixel</td>\n",
       "    </tr>\n",
       "    <tr>\n",
       "      <th>94</th>\n",
       "      <td>please open search history sales report</td>\n",
       "      <td>sales_search_history</td>\n",
       "      <td>sales_search_history</td>\n",
       "    </tr>\n",
       "    <tr>\n",
       "      <th>116</th>\n",
       "      <td>open pixel sales file</td>\n",
       "      <td>sales_pixel</td>\n",
       "      <td>sales_pixel</td>\n",
       "    </tr>\n",
       "    <tr>\n",
       "      <th>81</th>\n",
       "      <td>open ad words sales document</td>\n",
       "      <td>sales_ad_words</td>\n",
       "      <td>sales_ad_words</td>\n",
       "    </tr>\n",
       "    <tr>\n",
       "      <th>26</th>\n",
       "      <td>open pixel marketing file</td>\n",
       "      <td>marketing_pixel</td>\n",
       "      <td>marketing_pixel</td>\n",
       "    </tr>\n",
       "    <tr>\n",
       "      <th>38</th>\n",
       "      <td>display nlp research document</td>\n",
       "      <td>research_nlp</td>\n",
       "      <td>research_nlp</td>\n",
       "    </tr>\n",
       "    <tr>\n",
       "      <th>41</th>\n",
       "      <td>open nlp research file</td>\n",
       "      <td>research_nlp</td>\n",
       "      <td>research_nlp</td>\n",
       "    </tr>\n",
       "    <tr>\n",
       "      <th>10</th>\n",
       "      <td>give me kaggle marketing file</td>\n",
       "      <td>marketing_kaggle</td>\n",
       "      <td>marketing_kaggle</td>\n",
       "    </tr>\n",
       "    <tr>\n",
       "      <th>95</th>\n",
       "      <td>give me search history sales document</td>\n",
       "      <td>sales_search_history</td>\n",
       "      <td>sales_search_history</td>\n",
       "    </tr>\n",
       "    <tr>\n",
       "      <th>98</th>\n",
       "      <td>display search history sales document</td>\n",
       "      <td>sales_search_history</td>\n",
       "      <td>sales_search_history</td>\n",
       "    </tr>\n",
       "    <tr>\n",
       "      <th>58</th>\n",
       "      <td>display computer vision research file</td>\n",
       "      <td>research_computer_vision</td>\n",
       "      <td>research_computer_vision</td>\n",
       "    </tr>\n",
       "    <tr>\n",
       "      <th>91</th>\n",
       "      <td>open search history sales report</td>\n",
       "      <td>sales_search_history</td>\n",
       "      <td>sales_search_history</td>\n",
       "    </tr>\n",
       "    <tr>\n",
       "      <th>75</th>\n",
       "      <td>give me ad words sales report</td>\n",
       "      <td>sales_ad_words</td>\n",
       "      <td>sales_ad_words</td>\n",
       "    </tr>\n",
       "    <tr>\n",
       "      <th>52</th>\n",
       "      <td>show me computer vision research document</td>\n",
       "      <td>research_computer_vision</td>\n",
       "      <td>research_computer_vision</td>\n",
       "    </tr>\n",
       "  </tbody>\n",
       "</table>\n",
       "</div>"
      ],
      "text/plain": [
       "                                          inputs                 predictions  \\\n",
       "60     give me quantum computing research report  research_quantum_computing   \n",
       "55         give me computer vision research file    research_computer_vision   \n",
       "35                 give me nlp research document                research_nlp   \n",
       "68   display quantum computing research document  research_quantum_computing   \n",
       "133           display google home marketing file       marketing_google-home   \n",
       "56            open computer vision research file    research_computer_vision   \n",
       "102            show me search history sales file        sales_search_history   \n",
       "126          open google home marketing document       marketing_google-home   \n",
       "128       display google home marketing document       marketing_google-home   \n",
       "63     display quantum computing research report  research_quantum_computing   \n",
       "1                   open kaggle marketing report            marketing_kaggle   \n",
       "2                show me kaggle marketing report            marketing_kaggle   \n",
       "53     display computer vision research document    research_computer_vision   \n",
       "105                   give me pixel sales report                 sales_pixel   \n",
       "94       please open search history sales report        sales_search_history   \n",
       "116                        open pixel sales file                 sales_pixel   \n",
       "81                  open ad words sales document              sales_ad_words   \n",
       "26                     open pixel marketing file             marketing_pixel   \n",
       "38                 display nlp research document                research_nlp   \n",
       "41                        open nlp research file                research_nlp   \n",
       "10                 give me kaggle marketing file            marketing_kaggle   \n",
       "95         give me search history sales document        sales_search_history   \n",
       "98         display search history sales document        sales_search_history   \n",
       "58         display computer vision research file    research_computer_vision   \n",
       "91              open search history sales report        sales_search_history   \n",
       "75                 give me ad words sales report              sales_ad_words   \n",
       "52     show me computer vision research document    research_computer_vision   \n",
       "\n",
       "                           true  \n",
       "60   research_quantum_computing  \n",
       "55     research_computer_vision  \n",
       "35                 research_nlp  \n",
       "68   research_quantum_computing  \n",
       "133       marketing_google-home  \n",
       "56     research_computer_vision  \n",
       "102        sales_search_history  \n",
       "126       marketing_google-home  \n",
       "128       marketing_google-home  \n",
       "63   research_quantum_computing  \n",
       "1              marketing_kaggle  \n",
       "2              marketing_kaggle  \n",
       "53     research_computer_vision  \n",
       "105                 sales_pixel  \n",
       "94         sales_search_history  \n",
       "116                 sales_pixel  \n",
       "81               sales_ad_words  \n",
       "26              marketing_pixel  \n",
       "38                 research_nlp  \n",
       "41                 research_nlp  \n",
       "10             marketing_kaggle  \n",
       "95         sales_search_history  \n",
       "98         sales_search_history  \n",
       "58     research_computer_vision  \n",
       "91         sales_search_history  \n",
       "75               sales_ad_words  \n",
       "52     research_computer_vision  "
      ]
     },
     "execution_count": 35,
     "metadata": {},
     "output_type": "execute_result"
    }
   ],
   "source": [
    "final_results"
   ]
  },
  {
   "cell_type": "code",
   "execution_count": 36,
   "metadata": {},
   "outputs": [],
   "source": [
    "for index in final_results.index:\n",
    "    for intent in data['intents']:\n",
    "        if intent['label'] == final_results.loc[index, 'predictions']:\n",
    "            final_results.loc[index, 'query_search'] = intent['responses']"
   ]
  },
  {
   "cell_type": "code",
   "execution_count": 37,
   "metadata": {},
   "outputs": [],
   "source": [
    "final_results"
   ]
  },
  {
   "cell_type": "code",
   "execution_count": null,
   "metadata": {},
   "outputs": [],
   "source": []
  },
  {
   "cell_type": "markdown",
   "metadata": {},
   "source": [
    "## User Input Test"
   ]
  },
  {
   "cell_type": "code",
   "execution_count": 38,
   "metadata": {},
   "outputs": [
    {
     "data": {
      "text/plain": [
       "array(['marketing_google-home', 'marketing_kaggle', 'marketing_pixel',\n",
       "       'research_computer_vision', 'research_nlp',\n",
       "       'research_quantum_computing', 'sales_ad_words', 'sales_pixel',\n",
       "       'sales_search_history'], dtype=object)"
      ]
     },
     "execution_count": 38,
     "metadata": {},
     "output_type": "execute_result"
    }
   ],
   "source": [
    "le.classes_"
   ]
  },
  {
   "cell_type": "markdown",
   "metadata": {},
   "source": [
    "#### Test1: Asking with document name and folder name"
   ]
  },
  {
   "cell_type": "code",
   "execution_count": 39,
   "metadata": {},
   "outputs": [],
   "source": [
    "user_input = [\"Hi open the sales google home document please\"]\n",
    "\n",
    "embedding = embed(user_input)\n",
    "X_user = pd.DataFrame(data=embedding.numpy())"
   ]
  },
  {
   "cell_type": "code",
   "execution_count": 40,
   "metadata": {},
   "outputs": [
    {
     "name": "stdout",
     "output_type": "stream",
     "text": [
      "label predicted: ['marketing_google-home']\n",
      "Query search: ['/home/jupyter/Google/marketing/google-home.pdf']\n"
     ]
    }
   ],
   "source": [
    "y_proba = model.predict(X_user)\n",
    "y_pred = y_proba.argmax(axis=1)\n",
    "print(f\"label predicted: {le.inverse_transform(y_pred)}\")\n",
    "for intent in data['intents']:\n",
    "    if intent['label'] == le.inverse_transform(y_pred):\n",
    "        print(f\"Query search: {intent['responses']}\")"
   ]
  },
  {
   "cell_type": "code",
   "execution_count": 41,
   "metadata": {},
   "outputs": [
    {
     "data": {
      "text/plain": [
       "array([[9.1219735e-01, 4.4232784e-06, 3.5660716e-07, 1.9033412e-03,\n",
       "        4.4846536e-05, 5.8000342e-06, 7.1111508e-03, 2.2148463e-04,\n",
       "        7.8511298e-02]], dtype=float32)"
      ]
     },
     "execution_count": 41,
     "metadata": {},
     "output_type": "execute_result"
    }
   ],
   "source": [
    "(y_proba)"
   ]
  },
  {
   "cell_type": "markdown",
   "metadata": {},
   "source": [
    "#### Result: The user made a mistake. google home document is in marketing folder"
   ]
  },
  {
   "cell_type": "code",
   "execution_count": null,
   "metadata": {},
   "outputs": [],
   "source": []
  },
  {
   "cell_type": "markdown",
   "metadata": {},
   "source": [
    "#### Test2: Asking with document name and folder name but _'can you get me'_ this is not used in training data so far "
   ]
  },
  {
   "cell_type": "code",
   "execution_count": 42,
   "metadata": {},
   "outputs": [],
   "source": [
    "user_input = [\"Hi can you get me sales pixel document\"]\n",
    "\n",
    "embedding = embed(user_input)\n",
    "X_user = pd.DataFrame(data=embedding.numpy())"
   ]
  },
  {
   "cell_type": "code",
   "execution_count": 43,
   "metadata": {},
   "outputs": [
    {
     "name": "stdout",
     "output_type": "stream",
     "text": [
      "label predicted: ['sales_pixel']\n",
      "Query search: ['/home/jupyter/Google/sales/pixel.pdf']\n"
     ]
    }
   ],
   "source": [
    "y_proba = model.predict(X_user)\n",
    "y_pred = y_proba.argmax(axis=1)\n",
    "print(f\"label predicted: {le.inverse_transform(y_pred)}\")\n",
    "for intent in data['intents']:\n",
    "    if intent['label'] == le.inverse_transform(y_pred):\n",
    "        print(f\"Query search: {intent['responses']}\")"
   ]
  },
  {
   "cell_type": "code",
   "execution_count": 44,
   "metadata": {},
   "outputs": [
    {
     "data": {
      "text/plain": [
       "array([[1.1663550e-07, 1.7719695e-07, 5.6668912e-05, 1.2026019e-06,\n",
       "        7.8483218e-12, 3.5623573e-09, 2.1306772e-03, 9.9781018e-01,\n",
       "        9.6916858e-07]], dtype=float32)"
      ]
     },
     "execution_count": 44,
     "metadata": {},
     "output_type": "execute_result"
    }
   ],
   "source": [
    "y_proba"
   ]
  },
  {
   "cell_type": "markdown",
   "metadata": {},
   "source": [
    "#### Result: The user asked for correct document from correct folder and model answer is correct."
   ]
  },
  {
   "cell_type": "code",
   "execution_count": null,
   "metadata": {},
   "outputs": [],
   "source": []
  },
  {
   "cell_type": "markdown",
   "metadata": {},
   "source": [
    "#### Test3: Asking with document name but no folder name"
   ]
  },
  {
   "cell_type": "code",
   "execution_count": 45,
   "metadata": {},
   "outputs": [],
   "source": [
    "user_input = [\"Hi can you get me pixel document\"]\n",
    "\n",
    "embedding = embed(user_input)\n",
    "X_user = pd.DataFrame(data=embedding.numpy())"
   ]
  },
  {
   "cell_type": "code",
   "execution_count": 46,
   "metadata": {},
   "outputs": [
    {
     "name": "stdout",
     "output_type": "stream",
     "text": [
      "label predicted: ['sales_pixel']\n",
      "Query search: ['/home/jupyter/Google/sales/pixel.pdf']\n"
     ]
    }
   ],
   "source": [
    "y_proba = model.predict(X_user)\n",
    "y_pred = y_proba.argmax(axis=1)\n",
    "print(f\"label predicted: {le.inverse_transform(y_pred)}\")\n",
    "for intent in data['intents']:\n",
    "    if intent['label'] == le.inverse_transform(y_pred):\n",
    "        print(f\"Query search: {intent['responses']}\")"
   ]
  },
  {
   "cell_type": "code",
   "execution_count": null,
   "metadata": {},
   "outputs": [],
   "source": []
  },
  {
   "cell_type": "markdown",
   "metadata": {},
   "source": [
    "#### Result: The user asked for correct document but did not specify and folder. Model gave just one correct result"
   ]
  },
  {
   "cell_type": "code",
   "execution_count": 47,
   "metadata": {},
   "outputs": [
    {
     "data": {
      "text/plain": [
       "array([[3.7020211e-05, 1.4717774e-05, 2.4030338e-01, 2.8788468e-03,\n",
       "        1.1822218e-07, 7.3883444e-04, 3.0385316e-04, 7.5571883e-01,\n",
       "        4.4498815e-06]], dtype=float32)"
      ]
     },
     "execution_count": 47,
     "metadata": {},
     "output_type": "execute_result"
    }
   ],
   "source": [
    "# Lets y_proba\n",
    "\n",
    "y_proba"
   ]
  },
  {
   "cell_type": "markdown",
   "metadata": {},
   "source": [
    "So here is one room for improvement. The model should also give high probability to second element of the above list sonce that corresponds to 'marketing_pixel' <br>\n",
    "May be we can add few more such statements in training data itself."
   ]
  },
  {
   "cell_type": "code",
   "execution_count": null,
   "metadata": {},
   "outputs": [],
   "source": []
  },
  {
   "cell_type": "markdown",
   "metadata": {},
   "source": [
    "#### Test4: Asking document created on a date"
   ]
  },
  {
   "cell_type": "code",
   "execution_count": 48,
   "metadata": {},
   "outputs": [],
   "source": [
    "user_input = [\"Please open kaggle marketing document created on 15 July\"]"
   ]
  },
  {
   "cell_type": "code",
   "execution_count": 49,
   "metadata": {},
   "outputs": [],
   "source": [
    "query_date = {}\n",
    "for idx, row in enumerate(user_input):\n",
    "    date_occurences = [(ent.text.strip(), ent.label_) for ent in sp_lg(row).ents if ent.label_ == 'DATE']\n",
    "    query_date[row] = []\n",
    "    \n",
    "    for date in date_occurences:\n",
    "        try:\n",
    "            date_token = re.split('\\s+|/|-|:',date[0])\n",
    "            day, month, year = decode_date(date_token)\n",
    "            query_date[row].append((day, month, year))\n",
    "            row = row.replace(date[0], \"\", 1)\n",
    "            user_input[idx] = row\n",
    "        except:\n",
    "            pass"
   ]
  },
  {
   "cell_type": "code",
   "execution_count": 50,
   "metadata": {},
   "outputs": [],
   "source": [
    "embedding = embed(user_input)\n",
    "X_user = pd.DataFrame(data=embedding.numpy())"
   ]
  },
  {
   "cell_type": "code",
   "execution_count": 51,
   "metadata": {},
   "outputs": [
    {
     "name": "stdout",
     "output_type": "stream",
     "text": [
      "label predicted: ['marketing_kaggle']\n",
      "Query search: ['/home/jupyter/Google/marketing/kaggle.pdf']\n"
     ]
    }
   ],
   "source": [
    "y_proba = model.predict(X_user)\n",
    "y_pred = y_proba.argmax(axis=1)\n",
    "print(f\"label predicted: {le.inverse_transform(y_pred)}\")\n",
    "for intent in data['intents']:\n",
    "    if intent['label'] == le.inverse_transform(y_pred):\n",
    "        print(f\"Query search: {intent['responses']}\")"
   ]
  },
  {
   "cell_type": "code",
   "execution_count": 52,
   "metadata": {},
   "outputs": [
    {
     "data": {
      "text/plain": [
       "array([[1.1013384e-06, 9.9986100e-01, 9.0000220e-05, 2.2077513e-09,\n",
       "        4.7766131e-05, 1.9623265e-09, 4.1452722e-08, 8.2005272e-08,\n",
       "        4.6702208e-08]], dtype=float32)"
      ]
     },
     "execution_count": 52,
     "metadata": {},
     "output_type": "execute_result"
    }
   ],
   "source": [
    "# Lets y_proba\n",
    "\n",
    "y_proba"
   ]
  },
  {
   "cell_type": "code",
   "execution_count": 53,
   "metadata": {},
   "outputs": [
    {
     "data": {
      "text/plain": [
       "{'Please open kaggle marketing document created on 15 July': [(15, 7, 2020)]}"
      ]
     },
     "execution_count": 53,
     "metadata": {},
     "output_type": "execute_result"
    }
   ],
   "source": [
    "query_date"
   ]
  },
  {
   "cell_type": "code",
   "execution_count": null,
   "metadata": {},
   "outputs": [],
   "source": []
  },
  {
   "cell_type": "markdown",
   "metadata": {},
   "source": [
    "#### Test5: Asking document created on a date"
   ]
  },
  {
   "cell_type": "code",
   "execution_count": 54,
   "metadata": {},
   "outputs": [],
   "source": [
    "user_input = [\"Please open computer vision document created on 1/6/2019\", \"Please open computer vision document created on 1-6-2019\", \n",
    "              \"Give me google home document from 14/07\", \"Give me google home document from 14-07\", \"Give me google home document made 14 Jan\", \n",
    "              \"Give me nlp document made on March 12\", \"Give me quantum computing document\"]"
   ]
  },
  {
   "cell_type": "code",
   "execution_count": 55,
   "metadata": {},
   "outputs": [],
   "source": [
    "query_date = {}\n",
    "for idx, row in enumerate(user_input):\n",
    "    date_occurences = [(ent.text.strip(), ent.label_) for ent in sp_lg(row).ents if ent.label_ == 'DATE']\n",
    "    query_date[row] = []\n",
    "    for date in date_occurences:\n",
    "        try:\n",
    "            date_token = re.split('\\s+|/|-|:',date[0])\n",
    "            day, month, year = decode_date(date_token)\n",
    "            query_date[row].append((f'{year}-{month}-{day}'))\n",
    "            datetime.strptime(f'{year}-{month}-{day}', '%Y-%m-%d %H:%M:%S.%f')\n",
    "            row = row.replace(date[0], \"\", 1)\n",
    "            user_input[idx] = row\n",
    "        except:\n",
    "            pass"
   ]
  },
  {
   "cell_type": "code",
   "execution_count": 56,
   "metadata": {},
   "outputs": [],
   "source": [
    "embedding = embed(user_input)\n",
    "X_user = pd.DataFrame(data=embedding.numpy())"
   ]
  },
  {
   "cell_type": "code",
   "execution_count": 57,
   "metadata": {},
   "outputs": [],
   "source": [
    "y_proba = model.predict(X_user)\n",
    "y_pred = y_proba.argmax(axis=1)"
   ]
  },
  {
   "cell_type": "code",
   "execution_count": 58,
   "metadata": {},
   "outputs": [
    {
     "data": {
      "text/plain": [
       "array([3, 3, 0, 0, 0, 4, 5])"
      ]
     },
     "execution_count": 58,
     "metadata": {},
     "output_type": "execute_result"
    }
   ],
   "source": [
    "y_pred"
   ]
  },
  {
   "cell_type": "code",
   "execution_count": 58,
   "metadata": {},
   "outputs": [
    {
     "name": "stdout",
     "output_type": "stream",
     "text": [
      "label predicted: ['research_computer_vision' 'research_computer_vision'\n",
      " 'marketing_google-home' 'marketing_google-home' 'marketing_google-home'\n",
      " 'research_nlp' 'research_quantum_computing']\n",
      "Query search: ['/home/jupyter/Google/research/computer_vision.pdf']\n",
      "Query search: ['/home/jupyter/Google/research/computer_vision.pdf']\n",
      "Query search: ['/home/jupyter/Google/marketing/google-home.pdf']\n",
      "Query search: ['/home/jupyter/Google/marketing/google-home.pdf']\n",
      "Query search: ['/home/jupyter/Google/marketing/google-home.pdf']\n",
      "Query search: ['/home/jupyter/Google/research/nlp.pdf']\n",
      "Query search: ['/home/jupyter/Google/research/quantum_computing.pdf']\n"
     ]
    }
   ],
   "source": [
    "y_proba = model.predict(X_user)\n",
    "y_pred = y_proba.argmax(axis=1)\n",
    "print(f\"label predicted: {le.inverse_transform(y_pred)}\")\n",
    "for pred in y_pred:\n",
    "    for intent in data['intents']:\n",
    "        if intent['label'] == le.inverse_transform(pred.reshape(1,)):\n",
    "            print(f\"Query search: {intent['responses']}\")"
   ]
  },
  {
   "cell_type": "code",
   "execution_count": 59,
   "metadata": {},
   "outputs": [
    {
     "data": {
      "text/plain": [
       "array([[2.0720787e-02, 5.7862391e-04, 2.3895646e-03, 9.7173351e-01,\n",
       "        1.7541567e-03, 1.7158028e-03, 7.3847750e-06, 6.9547823e-06,\n",
       "        1.0931632e-03],\n",
       "       [2.0720787e-02, 5.7862391e-04, 2.3895646e-03, 9.7173351e-01,\n",
       "        1.7541567e-03, 1.7158028e-03, 7.3847750e-06, 6.9547823e-06,\n",
       "        1.0931632e-03],\n",
       "       [9.8819321e-01, 1.1850764e-08, 6.5336476e-06, 8.9043081e-03,\n",
       "        5.1803072e-05, 2.8421420e-03, 1.6907713e-11, 3.6536906e-12,\n",
       "        2.0471325e-06],\n",
       "       [9.8819321e-01, 1.1850764e-08, 6.5336476e-06, 8.9043081e-03,\n",
       "        5.1803072e-05, 2.8421420e-03, 1.6907713e-11, 3.6536906e-12,\n",
       "        2.0471325e-06],\n",
       "       [9.9403328e-01, 3.1651764e-06, 1.8811292e-05, 5.1208301e-03,\n",
       "        9.2714981e-05, 1.7723363e-04, 1.0068776e-07, 1.7017978e-08,\n",
       "        5.5390294e-04],\n",
       "       [2.8553043e-04, 5.4642860e-02, 3.4683044e-08, 7.4488007e-06,\n",
       "        9.4488174e-01, 1.4275676e-05, 6.2572755e-05, 2.5225233e-10,\n",
       "        1.0557839e-04],\n",
       "       [4.0012917e-09, 1.2142135e-10, 6.7145226e-07, 8.6976775e-07,\n",
       "        6.0662245e-08, 9.9999845e-01, 6.1551660e-11, 4.6001825e-09,\n",
       "        5.8929295e-10]], dtype=float32)"
      ]
     },
     "execution_count": 59,
     "metadata": {},
     "output_type": "execute_result"
    }
   ],
   "source": [
    "# Lets y_proba\n",
    "y_proba"
   ]
  },
  {
   "cell_type": "code",
   "execution_count": 60,
   "metadata": {},
   "outputs": [
    {
     "data": {
      "text/plain": [
       "{'Please open computer vision document created on 1/6/2019': [],\n",
       " 'Please open computer vision document created on 1-6-2019': ['2019-6-1'],\n",
       " 'Give me google home document from 14/07': [],\n",
       " 'Give me google home document from 14-07': ['2020-7-14'],\n",
       " 'Give me google home document made 14 Jan': ['2020-1-14'],\n",
       " 'Give me nlp document made on March 12': ['2020-3-12'],\n",
       " 'Give me quantum computing document': []}"
      ]
     },
     "execution_count": 60,
     "metadata": {},
     "output_type": "execute_result"
    }
   ],
   "source": [
    "query_date"
   ]
  },
  {
   "cell_type": "code",
   "execution_count": null,
   "metadata": {},
   "outputs": [],
   "source": []
  },
  {
   "cell_type": "markdown",
   "metadata": {},
   "source": [
    "### Save model"
   ]
  },
  {
   "cell_type": "code",
   "execution_count": 63,
   "metadata": {},
   "outputs": [
    {
     "name": "stdout",
     "output_type": "stream",
     "text": [
      "INFO:tensorflow:Assets written to: model/assets\n"
     ]
    },
    {
     "name": "stderr",
     "output_type": "stream",
     "text": [
      "INFO:tensorflow:Assets written to: model/assets\n"
     ]
    }
   ],
   "source": [
    "model.save('model')"
   ]
  },
  {
   "cell_type": "code",
   "execution_count": null,
   "metadata": {},
   "outputs": [],
   "source": []
  }
 ],
 "metadata": {
  "environment": {
   "name": "common-cpu.m49",
   "type": "gcloud",
   "uri": "gcr.io/deeplearning-platform-release/base-cpu:m49"
  },
  "kernelspec": {
   "display_name": "Python 3",
   "language": "python",
   "name": "python3"
  },
  "language_info": {
   "codemirror_mode": {
    "name": "ipython",
    "version": 3
   },
   "file_extension": ".py",
   "mimetype": "text/x-python",
   "name": "python",
   "nbconvert_exporter": "python",
   "pygments_lexer": "ipython3",
   "version": "3.7.6"
  }
 },
 "nbformat": 4,
 "nbformat_minor": 4
}
