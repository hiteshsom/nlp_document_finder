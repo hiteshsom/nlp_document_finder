{
 "cells": [
  {
   "cell_type": "markdown",
   "metadata": {},
   "source": [
    "# Date Recognition"
   ]
  },
  {
   "cell_type": "code",
   "execution_count": 90,
   "metadata": {},
   "outputs": [],
   "source": [
    "# !python3 -m spacy download en_core_web_lg\n",
    "import spacy\n",
    "sp_lg = spacy.load('en_core_web_lg')"
   ]
  },
  {
   "cell_type": "code",
   "execution_count": 151,
   "metadata": {},
   "outputs": [],
   "source": [
    "document= \"Please open computer vision document created on 01/06/2019\"\n",
    "date_occurences = [(ent.text.strip(), ent.label_) for ent in sp_lg(document).ents if ent.label_ == 'DATE']"
   ]
  },
  {
   "cell_type": "code",
   "execution_count": 152,
   "metadata": {},
   "outputs": [
    {
     "data": {
      "text/plain": [
       "[]"
      ]
     },
     "execution_count": 152,
     "metadata": {},
     "output_type": "execute_result"
    }
   ],
   "source": [
    "date_occurences"
   ]
  },
  {
   "cell_type": "code",
   "execution_count": 149,
   "metadata": {},
   "outputs": [],
   "source": [
    "from datetime import datetime\n",
    "\n",
    "def decode_date(tokens):\n",
    "\n",
    "    months_fullform = ['january', 'february', 'march', 'april', 'may', 'june', 'july', 'august', 'september', 'october', 'november', 'decemeber']\n",
    "    months_shortform = ['jan', 'feb', 'mar', 'apr', 'may', 'jun', 'jul', 'aug', 'sep', 'oct', 'nov', 'dec']\n",
    "    month = 0\n",
    "    for token in tokens:\n",
    "        try:\n",
    "            int(token)\n",
    "        except:\n",
    "            if token.lower() in months_fullform:\n",
    "                month = months_fullform.index(token.lower()) + 1\n",
    "            elif token.lower() in months_shortform:\n",
    "                month = months_shortform.index(token.lower()) + 1\n",
    "            tokens.remove(token)\n",
    "            print(tokens)\n",
    "        \n",
    "    if len(tokens) > 2:\n",
    "        if month:\n",
    "            day = int(tokens[0])\n",
    "            year = int(tokens[2])\n",
    "        else:\n",
    "            day = int(tokens[0])\n",
    "            month = int(tokens[1])\n",
    "            year = int(tokens[2])\n",
    "    elif len(tokens) > 1:\n",
    "        if month:\n",
    "            day = int(tokens[0])\n",
    "            year = 2020\n",
    "        else:\n",
    "            day = int(tokens[0])\n",
    "            month = int(tokens[1])\n",
    "            year = 2020\n",
    "    elif len(tokens)==1:\n",
    "        day = int(tokens[0])\n",
    "        year = 2020\n",
    "    return (day, month, year)"
   ]
  },
  {
   "cell_type": "code",
   "execution_count": 150,
   "metadata": {},
   "outputs": [
    {
     "name": "stdout",
     "output_type": "stream",
     "text": [
      "['1', '6', '2019']\n",
      "(1, 6, 2019)\n"
     ]
    }
   ],
   "source": [
    "import nltk\n",
    "import re\n",
    "# re.split('; |, ',str)\n",
    "\n",
    "for date in date_occurences:\n",
    "    date_token = re.split('\\s+|/|-|:',date[0])\n",
    "#     date_token = date[0].split(r'-')\n",
    "#     date_token = nltk.word_tokenize(date[0])\n",
    "    print(date_token)\n",
    "    print(decode_date(date_token))"
   ]
  },
  {
   "cell_type": "code",
   "execution_count": null,
   "metadata": {},
   "outputs": [],
   "source": []
  },
  {
   "cell_type": "code",
   "execution_count": 109,
   "metadata": {},
   "outputs": [],
   "source": [
    "a = (1,2)"
   ]
  },
  {
   "cell_type": "code",
   "execution_count": 110,
   "metadata": {},
   "outputs": [
    {
     "ename": "AttributeError",
     "evalue": "'tuple' object has no attribute 'remove'",
     "output_type": "error",
     "traceback": [
      "\u001b[0;31m---------------------------------------------------------------------------\u001b[0m",
      "\u001b[0;31mAttributeError\u001b[0m                            Traceback (most recent call last)",
      "\u001b[0;32m<ipython-input-110-23b4d84ce1c4>\u001b[0m in \u001b[0;36m<module>\u001b[0;34m\u001b[0m\n\u001b[0;32m----> 1\u001b[0;31m \u001b[0ma\u001b[0m\u001b[0;34m.\u001b[0m\u001b[0mremove\u001b[0m\u001b[0;34m(\u001b[0m\u001b[0;36m1\u001b[0m\u001b[0;34m)\u001b[0m\u001b[0;34m\u001b[0m\u001b[0;34m\u001b[0m\u001b[0m\n\u001b[0m",
      "\u001b[0;31mAttributeError\u001b[0m: 'tuple' object has no attribute 'remove'"
     ]
    }
   ],
   "source": [
    "a.remove(1)"
   ]
  },
  {
   "cell_type": "code",
   "execution_count": 108,
   "metadata": {},
   "outputs": [
    {
     "data": {
      "text/plain": [
       "[2]"
      ]
     },
     "execution_count": 108,
     "metadata": {},
     "output_type": "execute_result"
    }
   ],
   "source": [
    "a"
   ]
  },
  {
   "cell_type": "code",
   "execution_count": null,
   "metadata": {},
   "outputs": [],
   "source": []
  }
 ],
 "metadata": {
  "environment": {
   "name": "common-cpu.m49",
   "type": "gcloud",
   "uri": "gcr.io/deeplearning-platform-release/base-cpu:m49"
  },
  "kernelspec": {
   "display_name": "Python 3",
   "language": "python",
   "name": "python3"
  },
  "language_info": {
   "codemirror_mode": {
    "name": "ipython",
    "version": 3
   },
   "file_extension": ".py",
   "mimetype": "text/x-python",
   "name": "python",
   "nbconvert_exporter": "python",
   "pygments_lexer": "ipython3",
   "version": "3.7.6"
  }
 },
 "nbformat": 4,
 "nbformat_minor": 4
}
