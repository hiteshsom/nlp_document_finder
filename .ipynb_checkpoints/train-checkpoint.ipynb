{
 "cells": [
  {
   "cell_type": "markdown",
   "metadata": {},
   "source": [
    "# NLP Document Locator"
   ]
  },
  {
   "cell_type": "markdown",
   "metadata": {},
   "source": [
    "## Import statements"
   ]
  },
  {
   "cell_type": "code",
   "execution_count": 1,
   "metadata": {},
   "outputs": [
    {
     "name": "stderr",
     "output_type": "stream",
     "text": [
      "[nltk_data] Downloading package punkt to /home/jupyter/nltk_data...\n",
      "[nltk_data]   Package punkt is already up-to-date!\n",
      "[nltk_data] Downloading package stopwords to\n",
      "[nltk_data]     /home/jupyter/nltk_data...\n",
      "[nltk_data]   Package stopwords is already up-to-date!\n"
     ]
    }
   ],
   "source": [
    "import nltk\n",
    "nltk.download('punkt')\n",
    "nltk.download('stopwords')\n",
    "from nltk.stem.snowball import SnowballStemmer\n",
    "stemmer = SnowballStemmer(\"english\")\n",
    "\n",
    "import pandas as pd\n",
    "import numpy as np\n",
    "import random"
   ]
  },
  {
   "cell_type": "markdown",
   "metadata": {},
   "source": [
    "## Load data"
   ]
  },
  {
   "cell_type": "code",
   "execution_count": 2,
   "metadata": {},
   "outputs": [],
   "source": [
    "import json\n",
    "with open('/home/jupyter/nlp_document_finder/data/train2.json') as file:\n",
    "    data = json.load(file)"
   ]
  },
  {
   "cell_type": "markdown",
   "metadata": {},
   "source": [
    "## Preprocessing"
   ]
  },
  {
   "cell_type": "code",
   "execution_count": 3,
   "metadata": {},
   "outputs": [],
   "source": [
    "# words = []\n",
    "# labels = []\n",
    "# docs_x = []\n",
    "# docs_y = []\n",
    "\n",
    "# # ------------------- TOKENIZE ----------------- #\n",
    "# for intent in data['intents']:\n",
    "#     for pattern in intent['patterns']:\n",
    "#         wrds = nltk.word_tokenize(pattern)\n",
    "#         words.extend(wrds)\n",
    "#         docs_x.append(wrds)\n",
    "#         docs_y.append(intent[\"tag\"])\n",
    "        \n",
    "#     if intent['tag'] not in labels:\n",
    "#         labels.append(intent['tag'])\n",
    "       "
   ]
  },
  {
   "cell_type": "code",
   "execution_count": 4,
   "metadata": {},
   "outputs": [],
   "source": [
    "# # --------------------STOP WORD REMOVAL ----------#\n",
    "# from nltk.corpus import stopwords\n",
    "# stop_words = list(set(stopwords.words('english'))) \n",
    "\n",
    "# for word in words:\n",
    "#     if word in stop_words:\n",
    "#         words.remove(word)\n",
    "\n",
    "# for wrd in docs_x:\n",
    "#     for word in wrd:\n",
    "#         if word in stop_words:\n",
    "#             wrd.remove(word)"
   ]
  },
  {
   "cell_type": "code",
   "execution_count": 5,
   "metadata": {},
   "outputs": [],
   "source": [
    "# # ------------------ REMOVE PUNCTUATION ----------- #\n",
    "# import string\n",
    "# for word in words:\n",
    "#     word = word.translate(str.maketrans('', '', string.punctuation))\n",
    "#     word = word.strip()\n",
    "\n",
    "\n",
    "# for wrd in docs_x:\n",
    "#     for word in wrd:\n",
    "#         word = word.translate(str.maketrans('', '', string.punctuation))\n",
    "#         word = word.strip()"
   ]
  },
  {
   "cell_type": "code",
   "execution_count": 6,
   "metadata": {},
   "outputs": [],
   "source": [
    "# # ---------------- STEMMING ------------------ #\n",
    "# words = [stemmer.stem(w.lower()) for w in words if w != \"?\"]\n",
    "# words = sorted(list(set(words)))\n",
    "\n",
    "# labels = sorted(labels)"
   ]
  },
  {
   "cell_type": "code",
   "execution_count": 7,
   "metadata": {},
   "outputs": [],
   "source": [
    "rows = []\n",
    "labels = []\n",
    "for intent in data['intents']:\n",
    "    rows.extend(intent['train_data'])\n",
    "    label = []\n",
    "    label.append(intent['label'])\n",
    "    labels.extend(label*len(intent['train_data']))"
   ]
  },
  {
   "cell_type": "markdown",
   "metadata": {},
   "source": [
    "### Date Recognition"
   ]
  },
  {
   "cell_type": "code",
   "execution_count": 8,
   "metadata": {},
   "outputs": [],
   "source": [
    "from datetime import datetime\n",
    "\n",
    "def decode_date(tokens):\n",
    "\n",
    "    months_fullform = ['january', 'february', 'march', 'april', 'may', 'june', 'july', 'august', 'september', 'october', 'november', 'decemeber']\n",
    "    months_shortform = ['jan', 'feb', 'mar', 'apr', 'may', 'jun', 'jul', 'aug', 'sep', 'oct', 'nov', 'dec']\n",
    "    month = 0\n",
    "    for token in tokens:\n",
    "        try:\n",
    "            int(token)\n",
    "        except:\n",
    "            if token.lower() in months_fullform:\n",
    "                month = months_fullform.index(token.lower()) + 1\n",
    "            elif token.lower() in months_shortform:\n",
    "                month = months_shortform.index(token.lower()) + 1\n",
    "            tokens.remove(token)\n",
    "        \n",
    "    if len(tokens) > 2:\n",
    "        if month:\n",
    "            day = int(tokens[0])\n",
    "            year = int(tokens[2])\n",
    "        else:\n",
    "            day = int(tokens[0])\n",
    "            month = int(tokens[1])\n",
    "            year = int(tokens[2])\n",
    "    if len(tokens) > 1:\n",
    "        if month:\n",
    "            day = int(tokens[0])\n",
    "            year = 2020\n",
    "        else:\n",
    "            day = int(tokens[0])\n",
    "            month = int(tokens[1])\n",
    "            year = 2020\n",
    "    elif len(tokens)==1:\n",
    "        day = int(tokens[0])\n",
    "        year = 2020\n",
    "    return (day, month, year)"
   ]
  },
  {
   "cell_type": "code",
   "execution_count": 9,
   "metadata": {},
   "outputs": [],
   "source": [
    "# !python3 -m spacy download en_core_web_lg\n",
    "import spacy\n",
    "sp_lg = spacy.load('en_core_web_lg')\n",
    "import nltk\n",
    "import re\n",
    "\n",
    "query_date = {}\n",
    "for idx, row in enumerate(rows):\n",
    "    date_occurences = [(ent.text.strip(), ent.label_) for ent in sp_lg(row).ents if ent.label_ == 'DATE']\n",
    "    query_date[row] = []\n",
    "    \n",
    "    for date in date_occurences:\n",
    "        try:\n",
    "            date_token = re.split('\\s+|/|-|:',date[0])\n",
    "            day, month, year = decode_date(date_token)\n",
    "            query_date[row].append((day, month, year))\n",
    "            row = row.replace(date[0], \"\", 1)\n",
    "            rows[idx] = row\n",
    "        except:\n",
    "            pass"
   ]
  },
  {
   "cell_type": "markdown",
   "metadata": {},
   "source": [
    "### Universal Sentence Encoder"
   ]
  },
  {
   "cell_type": "code",
   "execution_count": 10,
   "metadata": {},
   "outputs": [],
   "source": [
    "import tensorflow_hub as hub\n",
    "embed = hub.load(\"https://tfhub.dev/google/universal-sentence-encoder/4\")"
   ]
  },
  {
   "cell_type": "code",
   "execution_count": 11,
   "metadata": {},
   "outputs": [],
   "source": [
    "embedding = embed(rows)\n",
    "\n",
    "X = pd.DataFrame(data=embedding.numpy())\n",
    "X['label'] = labels"
   ]
  },
  {
   "cell_type": "code",
   "execution_count": 12,
   "metadata": {},
   "outputs": [
    {
     "data": {
      "text/html": [
       "<div>\n",
       "<style scoped>\n",
       "    .dataframe tbody tr th:only-of-type {\n",
       "        vertical-align: middle;\n",
       "    }\n",
       "\n",
       "    .dataframe tbody tr th {\n",
       "        vertical-align: top;\n",
       "    }\n",
       "\n",
       "    .dataframe thead th {\n",
       "        text-align: right;\n",
       "    }\n",
       "</style>\n",
       "<table border=\"1\" class=\"dataframe\">\n",
       "  <thead>\n",
       "    <tr style=\"text-align: right;\">\n",
       "      <th></th>\n",
       "      <th>0</th>\n",
       "      <th>1</th>\n",
       "      <th>2</th>\n",
       "      <th>3</th>\n",
       "      <th>4</th>\n",
       "      <th>5</th>\n",
       "      <th>6</th>\n",
       "      <th>7</th>\n",
       "      <th>8</th>\n",
       "      <th>9</th>\n",
       "      <th>...</th>\n",
       "      <th>503</th>\n",
       "      <th>504</th>\n",
       "      <th>505</th>\n",
       "      <th>506</th>\n",
       "      <th>507</th>\n",
       "      <th>508</th>\n",
       "      <th>509</th>\n",
       "      <th>510</th>\n",
       "      <th>511</th>\n",
       "      <th>label</th>\n",
       "    </tr>\n",
       "  </thead>\n",
       "  <tbody>\n",
       "    <tr>\n",
       "      <th>0</th>\n",
       "      <td>-0.023522</td>\n",
       "      <td>-0.027589</td>\n",
       "      <td>-0.015897</td>\n",
       "      <td>0.021743</td>\n",
       "      <td>0.027776</td>\n",
       "      <td>0.011346</td>\n",
       "      <td>0.018255</td>\n",
       "      <td>0.028732</td>\n",
       "      <td>0.064652</td>\n",
       "      <td>-0.080686</td>\n",
       "      <td>...</td>\n",
       "      <td>-0.007931</td>\n",
       "      <td>0.055987</td>\n",
       "      <td>-0.059289</td>\n",
       "      <td>0.028541</td>\n",
       "      <td>0.001592</td>\n",
       "      <td>0.027852</td>\n",
       "      <td>0.019604</td>\n",
       "      <td>-0.089315</td>\n",
       "      <td>-0.069819</td>\n",
       "      <td>marketing_kaggle</td>\n",
       "    </tr>\n",
       "    <tr>\n",
       "      <th>1</th>\n",
       "      <td>-0.002800</td>\n",
       "      <td>0.004039</td>\n",
       "      <td>-0.036565</td>\n",
       "      <td>0.020619</td>\n",
       "      <td>0.035993</td>\n",
       "      <td>0.022251</td>\n",
       "      <td>0.032340</td>\n",
       "      <td>0.029259</td>\n",
       "      <td>0.028480</td>\n",
       "      <td>-0.077354</td>\n",
       "      <td>...</td>\n",
       "      <td>-0.054188</td>\n",
       "      <td>0.007662</td>\n",
       "      <td>-0.061701</td>\n",
       "      <td>0.016212</td>\n",
       "      <td>0.016110</td>\n",
       "      <td>-0.020822</td>\n",
       "      <td>0.069056</td>\n",
       "      <td>-0.080873</td>\n",
       "      <td>-0.054029</td>\n",
       "      <td>marketing_kaggle</td>\n",
       "    </tr>\n",
       "    <tr>\n",
       "      <th>2</th>\n",
       "      <td>-0.002595</td>\n",
       "      <td>0.013395</td>\n",
       "      <td>-0.015542</td>\n",
       "      <td>0.005902</td>\n",
       "      <td>0.001254</td>\n",
       "      <td>-0.000004</td>\n",
       "      <td>0.021245</td>\n",
       "      <td>0.037117</td>\n",
       "      <td>0.044805</td>\n",
       "      <td>-0.054018</td>\n",
       "      <td>...</td>\n",
       "      <td>0.008258</td>\n",
       "      <td>0.023106</td>\n",
       "      <td>-0.071179</td>\n",
       "      <td>0.041438</td>\n",
       "      <td>0.027743</td>\n",
       "      <td>0.039953</td>\n",
       "      <td>0.066588</td>\n",
       "      <td>-0.090802</td>\n",
       "      <td>-0.061921</td>\n",
       "      <td>marketing_kaggle</td>\n",
       "    </tr>\n",
       "    <tr>\n",
       "      <th>3</th>\n",
       "      <td>-0.015161</td>\n",
       "      <td>0.060924</td>\n",
       "      <td>-0.015563</td>\n",
       "      <td>0.015570</td>\n",
       "      <td>-0.048320</td>\n",
       "      <td>0.004806</td>\n",
       "      <td>-0.049353</td>\n",
       "      <td>0.021348</td>\n",
       "      <td>0.012264</td>\n",
       "      <td>-0.068966</td>\n",
       "      <td>...</td>\n",
       "      <td>-0.057275</td>\n",
       "      <td>0.052424</td>\n",
       "      <td>-0.049835</td>\n",
       "      <td>0.037803</td>\n",
       "      <td>0.001642</td>\n",
       "      <td>0.005462</td>\n",
       "      <td>0.065089</td>\n",
       "      <td>-0.069093</td>\n",
       "      <td>-0.014209</td>\n",
       "      <td>marketing_kaggle</td>\n",
       "    </tr>\n",
       "    <tr>\n",
       "      <th>4</th>\n",
       "      <td>0.014937</td>\n",
       "      <td>-0.008112</td>\n",
       "      <td>-0.049251</td>\n",
       "      <td>0.030344</td>\n",
       "      <td>0.047071</td>\n",
       "      <td>0.008654</td>\n",
       "      <td>0.033338</td>\n",
       "      <td>0.037916</td>\n",
       "      <td>0.021403</td>\n",
       "      <td>-0.069347</td>\n",
       "      <td>...</td>\n",
       "      <td>0.030978</td>\n",
       "      <td>0.054777</td>\n",
       "      <td>-0.049153</td>\n",
       "      <td>0.032623</td>\n",
       "      <td>-0.000436</td>\n",
       "      <td>0.013973</td>\n",
       "      <td>0.050768</td>\n",
       "      <td>-0.090002</td>\n",
       "      <td>-0.052556</td>\n",
       "      <td>marketing_kaggle</td>\n",
       "    </tr>\n",
       "  </tbody>\n",
       "</table>\n",
       "<p>5 rows × 513 columns</p>\n",
       "</div>"
      ],
      "text/plain": [
       "          0         1         2         3         4         5         6  \\\n",
       "0 -0.023522 -0.027589 -0.015897  0.021743  0.027776  0.011346  0.018255   \n",
       "1 -0.002800  0.004039 -0.036565  0.020619  0.035993  0.022251  0.032340   \n",
       "2 -0.002595  0.013395 -0.015542  0.005902  0.001254 -0.000004  0.021245   \n",
       "3 -0.015161  0.060924 -0.015563  0.015570 -0.048320  0.004806 -0.049353   \n",
       "4  0.014937 -0.008112 -0.049251  0.030344  0.047071  0.008654  0.033338   \n",
       "\n",
       "          7         8         9  ...       503       504       505       506  \\\n",
       "0  0.028732  0.064652 -0.080686  ... -0.007931  0.055987 -0.059289  0.028541   \n",
       "1  0.029259  0.028480 -0.077354  ... -0.054188  0.007662 -0.061701  0.016212   \n",
       "2  0.037117  0.044805 -0.054018  ...  0.008258  0.023106 -0.071179  0.041438   \n",
       "3  0.021348  0.012264 -0.068966  ... -0.057275  0.052424 -0.049835  0.037803   \n",
       "4  0.037916  0.021403 -0.069347  ...  0.030978  0.054777 -0.049153  0.032623   \n",
       "\n",
       "        507       508       509       510       511             label  \n",
       "0  0.001592  0.027852  0.019604 -0.089315 -0.069819  marketing_kaggle  \n",
       "1  0.016110 -0.020822  0.069056 -0.080873 -0.054029  marketing_kaggle  \n",
       "2  0.027743  0.039953  0.066588 -0.090802 -0.061921  marketing_kaggle  \n",
       "3  0.001642  0.005462  0.065089 -0.069093 -0.014209  marketing_kaggle  \n",
       "4 -0.000436  0.013973  0.050768 -0.090002 -0.052556  marketing_kaggle  \n",
       "\n",
       "[5 rows x 513 columns]"
      ]
     },
     "execution_count": 12,
     "metadata": {},
     "output_type": "execute_result"
    }
   ],
   "source": [
    "X.head()"
   ]
  },
  {
   "cell_type": "code",
   "execution_count": 13,
   "metadata": {},
   "outputs": [],
   "source": [
    "import seaborn as sns\n",
    "import matplotlib.pyplot as plt\n",
    "\n",
    "def plot_similarity(labels, features, rotation):\n",
    "    corr = np.inner(features, features)\n",
    "    sns.set(font_scale=1)\n",
    "    fig, ax = plt.subplots(figsize=(18, 18))\n",
    "    g = sns.heatmap(\n",
    "      corr,\n",
    "      xticklabels=labels,\n",
    "      yticklabels=labels,\n",
    "      vmin=0,\n",
    "      vmax=1,\n",
    "      cmap=\"YlOrRd\", \n",
    "      ax=ax)\n",
    "    g.set_xticklabels(labels, rotation=rotation)\n",
    "    g.set_title(\"Semantic Textual Similarity\")\n",
    "\n",
    "def run_and_plot(messages_):\n",
    "    message_embeddings_ = embed(messages_)\n",
    "    plot_similarity(messages_, message_embeddings_, 90)\n",
    "\n",
    "\n",
    "messages = rows\n",
    "\n",
    "# run_and_plot(messages)\n",
    "               "
   ]
  },
  {
   "cell_type": "markdown",
   "metadata": {},
   "source": [
    "### t-SNE"
   ]
  },
  {
   "cell_type": "code",
   "execution_count": 14,
   "metadata": {},
   "outputs": [
    {
     "name": "stdout",
     "output_type": "stream",
     "text": [
      "[t-SNE] Computing 31 nearest neighbors...\n",
      "[t-SNE] Indexed 135 samples in 0.003s...\n",
      "[t-SNE] Computed neighbors for 135 samples in 0.019s...\n",
      "[t-SNE] Computed conditional probabilities for sample 135 / 135\n",
      "[t-SNE] Mean sigma: 0.366267\n",
      "[t-SNE] KL divergence after 250 iterations with early exaggeration: 55.333351\n",
      "[t-SNE] KL divergence after 300 iterations: 0.335026\n",
      "t-SNE done! Time elapsed: 0.27858710289001465 seconds\n"
     ]
    }
   ],
   "source": [
    "from sklearn.manifold import TSNE\n",
    "import time\n",
    "\n",
    "time_start = time.time()\n",
    "tsne = TSNE(n_components=2, verbose=1, perplexity=10, n_iter=300)\n",
    "tsne_results = tsne.fit_transform(X.drop(columns=['label']))\n",
    "print('t-SNE done! Time elapsed: {} seconds'.format(time.time()-time_start))"
   ]
  },
  {
   "cell_type": "code",
   "execution_count": 15,
   "metadata": {},
   "outputs": [
    {
     "data": {
      "text/plain": [
       "array([-5.090709 , -7.7013044, -4.7564588, -8.897074 , -6.6253366,\n",
       "       -4.6049595, -9.26554  , -5.207295 , -8.358818 ], dtype=float32)"
      ]
     },
     "execution_count": 15,
     "metadata": {},
     "output_type": "execute_result"
    }
   ],
   "source": [
    "tsne_results[0:9, 0]"
   ]
  },
  {
   "cell_type": "code",
   "execution_count": 16,
   "metadata": {},
   "outputs": [
    {
     "data": {
      "text/plain": [
       "<matplotlib.axes._subplots.AxesSubplot at 0x7f2f5d31df50>"
      ]
     },
     "execution_count": 16,
     "metadata": {},
     "output_type": "execute_result"
    },
    {
     "data": {
      "image/png": "[encoded data removed]",
      "text/plain": [
       "<Figure size 1152x720 with 1 Axes>"
      ]
     },
     "metadata": {
      "needs_background": "light"
     },
     "output_type": "display_data"
    }
   ],
   "source": [
    "import matplotlib.pyplot as plt\n",
    "import seaborn as sns\n",
    "\n",
    "# fig, ax = plt.subplots(figsize=(12,9))\n",
    "# ax.scatter(tsne_results[0:18, 0], tsne_results[0:18, 1])\n",
    "# plt.show()\n",
    "\n",
    "df_subset = pd.DataFrame()\n",
    "df_subset['tsne-2d-one'] = tsne_results[:,0]\n",
    "df_subset['tsne-2d-two'] = tsne_results[:,1]\n",
    "df_subset['label'] = X['label']\n",
    "\n",
    "plt.figure(figsize=(16,10))\n",
    "sns.scatterplot(\n",
    "    x=\"tsne-2d-one\", y=\"tsne-2d-two\",\n",
    "    hue=\"label\",\n",
    "    palette=sns.color_palette(\"hls\", 9),\n",
    "    data=df_subset,\n",
    "    legend=\"full\",\n",
    "    alpha=1,\n",
    "    s=100\n",
    ")"
   ]
  },
  {
   "cell_type": "markdown",
   "metadata": {},
   "source": [
    "## Modelling"
   ]
  },
  {
   "cell_type": "code",
   "execution_count": 17,
   "metadata": {},
   "outputs": [],
   "source": [
    "# Data Prepraration\n",
    "from sklearn.model_selection import train_test_split\n",
    "from sklearn.preprocessing import LabelEncoder\n",
    "\n",
    "y = X['label']\n",
    "X = X.drop(columns=['label'], axis=1)\n",
    "\n",
    "X_train, X_test, y_train, y_test = train_test_split(X, y, test_size = 0.2, random_state=10)\n",
    "le = LabelEncoder()\n",
    "y_train = le.fit_transform(y_train)\n",
    "y_test = le.transform(y_test)"
   ]
  },
  {
   "cell_type": "code",
   "execution_count": 18,
   "metadata": {},
   "outputs": [
    {
     "data": {
      "text/plain": [
       "set()"
      ]
     },
     "execution_count": 18,
     "metadata": {},
     "output_type": "execute_result"
    }
   ],
   "source": [
    "set(X_train.index).intersection(set(X_test.index))"
   ]
  },
  {
   "cell_type": "markdown",
   "metadata": {},
   "source": [
    "So an empty intersection set of both sets proves that there is no observation common in train and test data"
   ]
  },
  {
   "cell_type": "code",
   "execution_count": 19,
   "metadata": {},
   "outputs": [],
   "source": [
    "# Load the TensorBoard notebook extension\n",
    "%load_ext tensorboard"
   ]
  },
  {
   "cell_type": "code",
   "execution_count": 20,
   "metadata": {},
   "outputs": [],
   "source": [
    "# Clear any logs from previous runs\n",
    "!rm -rf ./logs/ "
   ]
  },
  {
   "cell_type": "code",
   "execution_count": 21,
   "metadata": {},
   "outputs": [],
   "source": [
    "# Building Neural network\n",
    "import tensorflow as tf\n",
    "\n",
    "from tensorflow.keras.models import Sequential\n",
    "from tensorflow.keras.layers import Dense, Dropout, Activation, Flatten, Conv2D, MaxPooling2D\n",
    "import datetime\n",
    "\n",
    "log_dir = \"logs/fit/\" + datetime.datetime.now().strftime(\"%Y%m%d-%H%M%S\")\n",
    "tensorboard_callback = tf.keras.callbacks.TensorBoard(log_dir=log_dir, histogram_freq=1)\n",
    "\n",
    "model = Sequential()\n",
    "model.add(Dense(64, input_shape=(512,)))\n",
    "model.add(Dense(100))\n",
    "model.add(Dense(1000))\n",
    "model.add(Dense(100))\n",
    "model.add(Dense(len(set(y_train))))\n",
    "model.add(Activation('softmax'))"
   ]
  },
  {
   "cell_type": "code",
   "execution_count": 22,
   "metadata": {},
   "outputs": [
    {
     "name": "stdout",
     "output_type": "stream",
     "text": [
      "Model: \"sequential\"\n",
      "_________________________________________________________________\n",
      "Layer (type)                 Output Shape              Param #   \n",
      "=================================================================\n",
      "dense (Dense)                (None, 64)                32832     \n",
      "_________________________________________________________________\n",
      "dense_1 (Dense)              (None, 100)               6500      \n",
      "_________________________________________________________________\n",
      "dense_2 (Dense)              (None, 1000)              101000    \n",
      "_________________________________________________________________\n",
      "dense_3 (Dense)              (None, 100)               100100    \n",
      "_________________________________________________________________\n",
      "dense_4 (Dense)              (None, 9)                 909       \n",
      "_________________________________________________________________\n",
      "activation (Activation)      (None, 9)                 0         \n",
      "=================================================================\n",
      "Total params: 241,341\n",
      "Trainable params: 241,341\n",
      "Non-trainable params: 0\n",
      "_________________________________________________________________\n"
     ]
    }
   ],
   "source": [
    "model.summary()"
   ]
  },
  {
   "cell_type": "code",
   "execution_count": 23,
   "metadata": {},
   "outputs": [],
   "source": [
    "model.compile(loss=\"sparse_categorical_crossentropy\", optimizer='adam', metrics=[tf.keras.metrics.SparseCategoricalAccuracy()])"
   ]
  },
  {
   "cell_type": "code",
   "execution_count": 24,
   "metadata": {},
   "outputs": [
    {
     "data": {
      "image/png": "[encoded data removed]",
      "text/plain": [
       "<IPython.core.display.Image object>"
      ]
     },
     "execution_count": 24,
     "metadata": {},
     "output_type": "execute_result"
    }
   ],
   "source": [
    "from tensorflow import keras\n",
    "keras.utils.plot_model(model)"
   ]
  },
  {
   "cell_type": "code",
   "execution_count": 25,
   "metadata": {},
   "outputs": [
    {
     "name": "stdout",
     "output_type": "stream",
     "text": [
      "Epoch 1/10\n",
      "4/4 [==============================] - 0s 61ms/step - loss: 2.1036 - sparse_categorical_accuracy: 0.3704 - val_loss: 1.8347 - val_sparse_categorical_accuracy: 0.7778\n",
      "Epoch 2/10\n",
      "4/4 [==============================] - 0s 14ms/step - loss: 1.6036 - sparse_categorical_accuracy: 0.8426 - val_loss: 1.2194 - val_sparse_categorical_accuracy: 0.8889\n",
      "Epoch 3/10\n",
      "4/4 [==============================] - 0s 14ms/step - loss: 0.9388 - sparse_categorical_accuracy: 0.9074 - val_loss: 0.5925 - val_sparse_categorical_accuracy: 1.0000\n",
      "Epoch 4/10\n",
      "4/4 [==============================] - 0s 15ms/step - loss: 0.4022 - sparse_categorical_accuracy: 0.9815 - val_loss: 0.1803 - val_sparse_categorical_accuracy: 1.0000\n",
      "Epoch 5/10\n",
      "4/4 [==============================] - 0s 14ms/step - loss: 0.1178 - sparse_categorical_accuracy: 1.0000 - val_loss: 0.0489 - val_sparse_categorical_accuracy: 1.0000\n",
      "Epoch 6/10\n",
      "4/4 [==============================] - 0s 14ms/step - loss: 0.0301 - sparse_categorical_accuracy: 1.0000 - val_loss: 0.0145 - val_sparse_categorical_accuracy: 1.0000\n",
      "Epoch 7/10\n",
      "4/4 [==============================] - 0s 14ms/step - loss: 0.0083 - sparse_categorical_accuracy: 1.0000 - val_loss: 0.0027 - val_sparse_categorical_accuracy: 1.0000\n",
      "Epoch 8/10\n",
      "4/4 [==============================] - 0s 14ms/step - loss: 0.0020 - sparse_categorical_accuracy: 1.0000 - val_loss: 0.0012 - val_sparse_categorical_accuracy: 1.0000\n",
      "Epoch 9/10\n",
      "4/4 [==============================] - 0s 15ms/step - loss: 8.1723e-04 - sparse_categorical_accuracy: 1.0000 - val_loss: 8.0191e-04 - val_sparse_categorical_accuracy: 1.0000\n",
      "Epoch 10/10\n",
      "4/4 [==============================] - 0s 16ms/step - loss: 4.6350e-04 - sparse_categorical_accuracy: 1.0000 - val_loss: 5.6187e-04 - val_sparse_categorical_accuracy: 1.0000\n"
     ]
    }
   ],
   "source": [
    "history = model.fit(X_train, y_train, epochs=10,\n",
    "                    validation_data=(X_test, y_test))"
   ]
  },
  {
   "cell_type": "code",
   "execution_count": 26,
   "metadata": {},
   "outputs": [],
   "source": [
    "#%tensorboard --logdir logs/fit"
   ]
  },
  {
   "cell_type": "code",
   "execution_count": 27,
   "metadata": {},
   "outputs": [],
   "source": [
    "# gcloud compute ssh python-nlp-document-finder --project nlp-document-finder --zone us-west1-b -- -L 2222:localhost:6007 "
   ]
  },
  {
   "cell_type": "markdown",
   "metadata": {},
   "source": [
    "### Prediction "
   ]
  },
  {
   "cell_type": "code",
   "execution_count": 28,
   "metadata": {},
   "outputs": [],
   "source": [
    "y_proba = model.predict(X_test)"
   ]
  },
  {
   "cell_type": "code",
   "execution_count": 29,
   "metadata": {},
   "outputs": [],
   "source": [
    "y_pred = y_proba.argmax(axis=1)"
   ]
  },
  {
   "cell_type": "code",
   "execution_count": 30,
   "metadata": {},
   "outputs": [
    {
     "data": {
      "text/plain": [
       "array([[4.50560833e-09, 1.87532281e-11, 2.53639696e-11, 2.03921038e-04,\n",
       "        6.70649979e-06, 9.99784768e-01, 1.70230995e-12, 2.76210617e-11,\n",
       "        4.64130335e-06],\n",
       "       [8.62039086e-12, 2.13654424e-11, 3.72873688e-13, 9.99759614e-01,\n",
       "        3.88827721e-06, 2.01769843e-04, 6.03467797e-13, 2.66361955e-09,\n",
       "        3.46261695e-05],\n",
       "       [2.20626171e-05, 4.96955981e-05, 6.96994589e-12, 1.27651738e-05,\n",
       "        9.99886870e-01, 2.86534105e-05, 1.09460139e-08, 1.80480427e-14,\n",
       "        2.92081248e-09],\n",
       "       [2.33688180e-10, 6.02878858e-11, 3.91351604e-11, 1.79767259e-03,\n",
       "        5.47226955e-06, 9.98182952e-01, 5.72962337e-12, 5.16662213e-10,\n",
       "        1.38971009e-05],\n",
       "       [9.99996424e-01, 3.54694816e-06, 4.52651570e-08, 5.78376661e-14,\n",
       "        5.76576511e-08, 4.91453536e-12, 2.97876064e-11, 3.21273191e-16,\n",
       "        9.49226795e-14],\n",
       "       [1.31223175e-11, 1.97768704e-10, 8.06135540e-13, 9.99899626e-01,\n",
       "        7.82883126e-06, 8.05292875e-05, 1.23383270e-12, 1.82182747e-09,\n",
       "        1.19124988e-05],\n",
       "       [1.00406662e-12, 1.50987655e-14, 7.98710446e-17, 1.43161151e-06,\n",
       "        5.03551245e-09, 3.94155037e-08, 3.44340059e-08, 3.47639826e-07,\n",
       "        9.99998093e-01],\n",
       "       [9.99985218e-01, 1.45460690e-05, 6.92698734e-08, 1.72508051e-14,\n",
       "        8.58369447e-08, 6.06424589e-12, 4.41600402e-12, 6.42986267e-18,\n",
       "        8.29842625e-16],\n",
       "       [9.99976516e-01, 2.31129598e-05, 2.89408064e-07, 2.06947578e-13,\n",
       "        1.63366394e-07, 1.48851487e-11, 4.66136366e-11, 4.96861321e-16,\n",
       "        3.97219252e-14],\n",
       "       [3.68030689e-10, 4.11655293e-11, 3.85040680e-11, 3.59754520e-03,\n",
       "        6.71671887e-06, 9.96338725e-01, 8.84471836e-12, 1.32749245e-09,\n",
       "        5.70520533e-05],\n",
       "       [2.85616465e-04, 9.99620914e-01, 9.18707883e-05, 2.42922515e-10,\n",
       "        1.42499619e-06, 2.49743611e-11, 8.99566857e-08, 8.75850260e-12,\n",
       "        7.19489911e-14],\n",
       "       [1.93092972e-03, 9.97955799e-01, 9.61017868e-05, 8.18281665e-10,\n",
       "        1.64595422e-05, 2.42699277e-10, 6.96587620e-07, 2.20146696e-11,\n",
       "        7.52985998e-13],\n",
       "       [2.27547473e-12, 1.55280344e-10, 8.58060530e-13, 9.99959707e-01,\n",
       "        2.58058412e-06, 2.12204341e-05, 4.06761343e-12, 1.13441514e-08,\n",
       "        1.65057609e-05],\n",
       "       [6.66118983e-12, 1.49490076e-09, 4.48431165e-05, 6.07994877e-10,\n",
       "        1.02436633e-14, 8.10248570e-13, 7.12388157e-07, 9.99953389e-01,\n",
       "        1.10869280e-06],\n",
       "       [7.23188731e-11, 3.27167248e-13, 1.37912179e-15, 1.69235250e-06,\n",
       "        3.03852801e-08, 2.89017397e-08, 2.01667888e-07, 4.40090986e-07,\n",
       "        9.99997616e-01],\n",
       "       [3.31754454e-13, 5.89909843e-10, 8.25468578e-06, 1.65213476e-09,\n",
       "        5.40803982e-15, 1.28828794e-12, 2.05106602e-07, 9.99989986e-01,\n",
       "        1.59324520e-06],\n",
       "       [1.30473063e-06, 3.73446033e-04, 1.29023485e-08, 4.07261391e-10,\n",
       "        1.62276194e-06, 4.75789755e-11, 9.99613702e-01, 5.04638956e-06,\n",
       "        4.90980347e-06],\n",
       "       [4.92861716e-07, 1.49375686e-04, 9.99780476e-01, 2.77942842e-11,\n",
       "        6.40545505e-13, 3.56454883e-12, 1.50622199e-08, 6.96960778e-05,\n",
       "        6.66017762e-12],\n",
       "       [1.21280800e-05, 1.77070004e-04, 3.95563617e-11, 8.55724720e-05,\n",
       "        9.99689341e-01, 3.57951067e-05, 7.70465149e-08, 7.23930952e-13,\n",
       "        3.60869450e-08],\n",
       "       [1.20156801e-05, 3.16705336e-05, 6.64219276e-13, 1.18832604e-05,\n",
       "        9.99932170e-01, 1.21836983e-05, 1.51521007e-09, 1.30766948e-15,\n",
       "        1.32522704e-09],\n",
       "       [4.90390509e-03, 9.95044470e-01, 4.72283973e-05, 2.15115634e-11,\n",
       "        4.31850913e-06, 2.50636560e-11, 7.01235976e-08, 6.57699047e-13,\n",
       "        2.69213075e-14],\n",
       "       [4.49245884e-11, 4.19220675e-13, 4.59277866e-15, 3.60747481e-06,\n",
       "        3.49481439e-08, 1.31705107e-07, 1.47755031e-07, 1.23013535e-06,\n",
       "        9.99994874e-01],\n",
       "       [5.32113546e-12, 4.26096387e-13, 1.76358053e-14, 5.81690711e-06,\n",
       "        6.69661349e-09, 8.10630780e-08, 9.11804392e-08, 8.35410447e-06,\n",
       "        9.99985695e-01],\n",
       "       [2.67353522e-12, 5.95713479e-11, 4.31333219e-13, 9.99887228e-01,\n",
       "        2.87757052e-06, 3.74795709e-05, 4.16039078e-12, 1.62091958e-08,\n",
       "        7.24870333e-05],\n",
       "       [2.95232505e-10, 4.97280906e-12, 4.08821536e-14, 4.17769297e-06,\n",
       "        4.61861198e-08, 6.13481674e-08, 4.44406766e-07, 2.52055156e-06,\n",
       "        9.99992728e-01],\n",
       "       [2.10353573e-06, 5.93760269e-05, 2.11056648e-08, 5.06149150e-11,\n",
       "        2.63184432e-07, 1.13128153e-11, 9.99924541e-01, 8.64484446e-06,\n",
       "        5.02351395e-06],\n",
       "       [2.45507364e-11, 4.28258845e-10, 3.14967085e-12, 9.99721110e-01,\n",
       "        1.26201876e-05, 2.44449446e-04, 1.28610109e-11, 1.02315916e-08,\n",
       "        2.18621572e-05]], dtype=float32)"
      ]
     },
     "execution_count": 30,
     "metadata": {},
     "output_type": "execute_result"
    }
   ],
   "source": [
    "y_proba"
   ]
  },
  {
   "cell_type": "code",
   "execution_count": 31,
   "metadata": {},
   "outputs": [
    {
     "data": {
      "text/plain": [
       "array(['marketing_google-home', 'marketing_kaggle', 'marketing_pixel',\n",
       "       'research_computer_vision', 'research_nlp',\n",
       "       'research_quantum_computing', 'sales_ad_words', 'sales_pixel',\n",
       "       'sales_search_history'], dtype=object)"
      ]
     },
     "execution_count": 31,
     "metadata": {},
     "output_type": "execute_result"
    }
   ],
   "source": [
    "le.classes_"
   ]
  },
  {
   "cell_type": "code",
   "execution_count": 32,
   "metadata": {},
   "outputs": [
    {
     "data": {
      "text/plain": [
       "'give me nlp research document'"
      ]
     },
     "execution_count": 32,
     "metadata": {},
     "output_type": "execute_result"
    }
   ],
   "source": [
    "rows[X_test.index[2]]"
   ]
  },
  {
   "cell_type": "code",
   "execution_count": 33,
   "metadata": {},
   "outputs": [],
   "source": [
    "from operator import itemgetter\n",
    "final_results = pd.DataFrame(data = list(itemgetter(*list(X_test.index))(rows)), index=X_test.index, columns=['inputs'])  "
   ]
  },
  {
   "cell_type": "code",
   "execution_count": 34,
   "metadata": {},
   "outputs": [],
   "source": [
    "final_results['predictions'] = le.inverse_transform(y_pred)\n",
    "final_results['true'] = le.inverse_transform(y_test)"
   ]
  },
  {
   "cell_type": "code",
   "execution_count": 35,
   "metadata": {},
   "outputs": [
    {
     "data": {
      "text/html": [
       "<div>\n",
       "<style scoped>\n",
       "    .dataframe tbody tr th:only-of-type {\n",
       "        vertical-align: middle;\n",
       "    }\n",
       "\n",
       "    .dataframe tbody tr th {\n",
       "        vertical-align: top;\n",
       "    }\n",
       "\n",
       "    .dataframe thead th {\n",
       "        text-align: right;\n",
       "    }\n",
       "</style>\n",
       "<table border=\"1\" class=\"dataframe\">\n",
       "  <thead>\n",
       "    <tr style=\"text-align: right;\">\n",
       "      <th></th>\n",
       "      <th>inputs</th>\n",
       "      <th>predictions</th>\n",
       "      <th>true</th>\n",
       "    </tr>\n",
       "  </thead>\n",
       "  <tbody>\n",
       "    <tr>\n",
       "      <th>60</th>\n",
       "      <td>give me quantum computing research report</td>\n",
       "      <td>research_quantum_computing</td>\n",
       "      <td>research_quantum_computing</td>\n",
       "    </tr>\n",
       "    <tr>\n",
       "      <th>55</th>\n",
       "      <td>give me computer vision research file</td>\n",
       "      <td>research_computer_vision</td>\n",
       "      <td>research_computer_vision</td>\n",
       "    </tr>\n",
       "    <tr>\n",
       "      <th>35</th>\n",
       "      <td>give me nlp research document</td>\n",
       "      <td>research_nlp</td>\n",
       "      <td>research_nlp</td>\n",
       "    </tr>\n",
       "    <tr>\n",
       "      <th>68</th>\n",
       "      <td>display quantum computing research document</td>\n",
       "      <td>research_quantum_computing</td>\n",
       "      <td>research_quantum_computing</td>\n",
       "    </tr>\n",
       "    <tr>\n",
       "      <th>133</th>\n",
       "      <td>display google home marketing file</td>\n",
       "      <td>marketing_google-home</td>\n",
       "      <td>marketing_google-home</td>\n",
       "    </tr>\n",
       "    <tr>\n",
       "      <th>56</th>\n",
       "      <td>open computer vision research file</td>\n",
       "      <td>research_computer_vision</td>\n",
       "      <td>research_computer_vision</td>\n",
       "    </tr>\n",
       "    <tr>\n",
       "      <th>102</th>\n",
       "      <td>show me search history sales file</td>\n",
       "      <td>sales_search_history</td>\n",
       "      <td>sales_search_history</td>\n",
       "    </tr>\n",
       "    <tr>\n",
       "      <th>126</th>\n",
       "      <td>open google home marketing document</td>\n",
       "      <td>marketing_google-home</td>\n",
       "      <td>marketing_google-home</td>\n",
       "    </tr>\n",
       "    <tr>\n",
       "      <th>128</th>\n",
       "      <td>display google home marketing document</td>\n",
       "      <td>marketing_google-home</td>\n",
       "      <td>marketing_google-home</td>\n",
       "    </tr>\n",
       "    <tr>\n",
       "      <th>63</th>\n",
       "      <td>display quantum computing research report</td>\n",
       "      <td>research_quantum_computing</td>\n",
       "      <td>research_quantum_computing</td>\n",
       "    </tr>\n",
       "    <tr>\n",
       "      <th>1</th>\n",
       "      <td>open kaggle marketing report</td>\n",
       "      <td>marketing_kaggle</td>\n",
       "      <td>marketing_kaggle</td>\n",
       "    </tr>\n",
       "    <tr>\n",
       "      <th>2</th>\n",
       "      <td>show me kaggle marketing report</td>\n",
       "      <td>marketing_kaggle</td>\n",
       "      <td>marketing_kaggle</td>\n",
       "    </tr>\n",
       "    <tr>\n",
       "      <th>53</th>\n",
       "      <td>display computer vision research document</td>\n",
       "      <td>research_computer_vision</td>\n",
       "      <td>research_computer_vision</td>\n",
       "    </tr>\n",
       "    <tr>\n",
       "      <th>105</th>\n",
       "      <td>give me pixel sales report</td>\n",
       "      <td>sales_pixel</td>\n",
       "      <td>sales_pixel</td>\n",
       "    </tr>\n",
       "    <tr>\n",
       "      <th>94</th>\n",
       "      <td>please open search history sales report</td>\n",
       "      <td>sales_search_history</td>\n",
       "      <td>sales_search_history</td>\n",
       "    </tr>\n",
       "    <tr>\n",
       "      <th>116</th>\n",
       "      <td>open pixel sales file</td>\n",
       "      <td>sales_pixel</td>\n",
       "      <td>sales_pixel</td>\n",
       "    </tr>\n",
       "    <tr>\n",
       "      <th>81</th>\n",
       "      <td>open ad words sales document</td>\n",
       "      <td>sales_ad_words</td>\n",
       "      <td>sales_ad_words</td>\n",
       "    </tr>\n",
       "    <tr>\n",
       "      <th>26</th>\n",
       "      <td>open pixel marketing file</td>\n",
       "      <td>marketing_pixel</td>\n",
       "      <td>marketing_pixel</td>\n",
       "    </tr>\n",
       "    <tr>\n",
       "      <th>38</th>\n",
       "      <td>display nlp research document</td>\n",
       "      <td>research_nlp</td>\n",
       "      <td>research_nlp</td>\n",
       "    </tr>\n",
       "    <tr>\n",
       "      <th>41</th>\n",
       "      <td>open nlp research file</td>\n",
       "      <td>research_nlp</td>\n",
       "      <td>research_nlp</td>\n",
       "    </tr>\n",
       "    <tr>\n",
       "      <th>10</th>\n",
       "      <td>give me kaggle marketing file</td>\n",
       "      <td>marketing_kaggle</td>\n",
       "      <td>marketing_kaggle</td>\n",
       "    </tr>\n",
       "    <tr>\n",
       "      <th>95</th>\n",
       "      <td>give me search history sales document</td>\n",
       "      <td>sales_search_history</td>\n",
       "      <td>sales_search_history</td>\n",
       "    </tr>\n",
       "    <tr>\n",
       "      <th>98</th>\n",
       "      <td>display search history sales document</td>\n",
       "      <td>sales_search_history</td>\n",
       "      <td>sales_search_history</td>\n",
       "    </tr>\n",
       "    <tr>\n",
       "      <th>58</th>\n",
       "      <td>display computer vision research file</td>\n",
       "      <td>research_computer_vision</td>\n",
       "      <td>research_computer_vision</td>\n",
       "    </tr>\n",
       "    <tr>\n",
       "      <th>91</th>\n",
       "      <td>open search history sales report</td>\n",
       "      <td>sales_search_history</td>\n",
       "      <td>sales_search_history</td>\n",
       "    </tr>\n",
       "    <tr>\n",
       "      <th>75</th>\n",
       "      <td>give me ad words sales report</td>\n",
       "      <td>sales_ad_words</td>\n",
       "      <td>sales_ad_words</td>\n",
       "    </tr>\n",
       "    <tr>\n",
       "      <th>52</th>\n",
       "      <td>show me computer vision research document</td>\n",
       "      <td>research_computer_vision</td>\n",
       "      <td>research_computer_vision</td>\n",
       "    </tr>\n",
       "  </tbody>\n",
       "</table>\n",
       "</div>"
      ],
      "text/plain": [
       "                                          inputs                 predictions  \\\n",
       "60     give me quantum computing research report  research_quantum_computing   \n",
       "55         give me computer vision research file    research_computer_vision   \n",
       "35                 give me nlp research document                research_nlp   \n",
       "68   display quantum computing research document  research_quantum_computing   \n",
       "133           display google home marketing file       marketing_google-home   \n",
       "56            open computer vision research file    research_computer_vision   \n",
       "102            show me search history sales file        sales_search_history   \n",
       "126          open google home marketing document       marketing_google-home   \n",
       "128       display google home marketing document       marketing_google-home   \n",
       "63     display quantum computing research report  research_quantum_computing   \n",
       "1                   open kaggle marketing report            marketing_kaggle   \n",
       "2                show me kaggle marketing report            marketing_kaggle   \n",
       "53     display computer vision research document    research_computer_vision   \n",
       "105                   give me pixel sales report                 sales_pixel   \n",
       "94       please open search history sales report        sales_search_history   \n",
       "116                        open pixel sales file                 sales_pixel   \n",
       "81                  open ad words sales document              sales_ad_words   \n",
       "26                     open pixel marketing file             marketing_pixel   \n",
       "38                 display nlp research document                research_nlp   \n",
       "41                        open nlp research file                research_nlp   \n",
       "10                 give me kaggle marketing file            marketing_kaggle   \n",
       "95         give me search history sales document        sales_search_history   \n",
       "98         display search history sales document        sales_search_history   \n",
       "58         display computer vision research file    research_computer_vision   \n",
       "91              open search history sales report        sales_search_history   \n",
       "75                 give me ad words sales report              sales_ad_words   \n",
       "52     show me computer vision research document    research_computer_vision   \n",
       "\n",
       "                           true  \n",
       "60   research_quantum_computing  \n",
       "55     research_computer_vision  \n",
       "35                 research_nlp  \n",
       "68   research_quantum_computing  \n",
       "133       marketing_google-home  \n",
       "56     research_computer_vision  \n",
       "102        sales_search_history  \n",
       "126       marketing_google-home  \n",
       "128       marketing_google-home  \n",
       "63   research_quantum_computing  \n",
       "1              marketing_kaggle  \n",
       "2              marketing_kaggle  \n",
       "53     research_computer_vision  \n",
       "105                 sales_pixel  \n",
       "94         sales_search_history  \n",
       "116                 sales_pixel  \n",
       "81               sales_ad_words  \n",
       "26              marketing_pixel  \n",
       "38                 research_nlp  \n",
       "41                 research_nlp  \n",
       "10             marketing_kaggle  \n",
       "95         sales_search_history  \n",
       "98         sales_search_history  \n",
       "58     research_computer_vision  \n",
       "91         sales_search_history  \n",
       "75               sales_ad_words  \n",
       "52     research_computer_vision  "
      ]
     },
     "execution_count": 35,
     "metadata": {},
     "output_type": "execute_result"
    }
   ],
   "source": [
    "final_results"
   ]
  },
  {
   "cell_type": "code",
   "execution_count": 36,
   "metadata": {},
   "outputs": [],
   "source": [
    "for index in final_results.index:\n",
    "    for intent in data['intents']:\n",
    "        if intent['label'] == final_results.loc[index, 'predictions']:\n",
    "            final_results.loc[index, 'query_search'] = intent['responses']"
   ]
  },
  {
   "cell_type": "code",
   "execution_count": 37,
   "metadata": {},
   "outputs": [
    {
     "data": {
      "text/html": [
       "<div>\n",
       "<style scoped>\n",
       "    .dataframe tbody tr th:only-of-type {\n",
       "        vertical-align: middle;\n",
       "    }\n",
       "\n",
       "    .dataframe tbody tr th {\n",
       "        vertical-align: top;\n",
       "    }\n",
       "\n",
       "    .dataframe thead th {\n",
       "        text-align: right;\n",
       "    }\n",
       "</style>\n",
       "<table border=\"1\" class=\"dataframe\">\n",
       "  <thead>\n",
       "    <tr style=\"text-align: right;\">\n",
       "      <th></th>\n",
       "      <th>inputs</th>\n",
       "      <th>predictions</th>\n",
       "      <th>true</th>\n",
       "      <th>query_search</th>\n",
       "    </tr>\n",
       "  </thead>\n",
       "  <tbody>\n",
       "    <tr>\n",
       "      <th>60</th>\n",
       "      <td>give me quantum computing research report</td>\n",
       "      <td>research_quantum_computing</td>\n",
       "      <td>research_quantum_computing</td>\n",
       "      <td>/home/jupyter/Google/research/quantum_computin...</td>\n",
       "    </tr>\n",
       "    <tr>\n",
       "      <th>55</th>\n",
       "      <td>give me computer vision research file</td>\n",
       "      <td>research_computer_vision</td>\n",
       "      <td>research_computer_vision</td>\n",
       "      <td>[/home/jupyter/Google/research/computer_vision...</td>\n",
       "    </tr>\n",
       "    <tr>\n",
       "      <th>35</th>\n",
       "      <td>give me nlp research document</td>\n",
       "      <td>research_nlp</td>\n",
       "      <td>research_nlp</td>\n",
       "      <td>[/home/jupyter/Google/research/nlp.pdf]</td>\n",
       "    </tr>\n",
       "    <tr>\n",
       "      <th>68</th>\n",
       "      <td>display quantum computing research document</td>\n",
       "      <td>research_quantum_computing</td>\n",
       "      <td>research_quantum_computing</td>\n",
       "      <td>[/home/jupyter/Google/research/quantum_computi...</td>\n",
       "    </tr>\n",
       "    <tr>\n",
       "      <th>133</th>\n",
       "      <td>display google home marketing file</td>\n",
       "      <td>marketing_google-home</td>\n",
       "      <td>marketing_google-home</td>\n",
       "      <td>[/home/jupyter/Google/marketing/google-home.pdf]</td>\n",
       "    </tr>\n",
       "    <tr>\n",
       "      <th>56</th>\n",
       "      <td>open computer vision research file</td>\n",
       "      <td>research_computer_vision</td>\n",
       "      <td>research_computer_vision</td>\n",
       "      <td>[/home/jupyter/Google/research/computer_vision...</td>\n",
       "    </tr>\n",
       "    <tr>\n",
       "      <th>102</th>\n",
       "      <td>show me search history sales file</td>\n",
       "      <td>sales_search_history</td>\n",
       "      <td>sales_search_history</td>\n",
       "      <td>[/home/jupyter/Google/sales/search_history.pdf]</td>\n",
       "    </tr>\n",
       "    <tr>\n",
       "      <th>126</th>\n",
       "      <td>open google home marketing document</td>\n",
       "      <td>marketing_google-home</td>\n",
       "      <td>marketing_google-home</td>\n",
       "      <td>[/home/jupyter/Google/marketing/google-home.pdf]</td>\n",
       "    </tr>\n",
       "    <tr>\n",
       "      <th>128</th>\n",
       "      <td>display google home marketing document</td>\n",
       "      <td>marketing_google-home</td>\n",
       "      <td>marketing_google-home</td>\n",
       "      <td>[/home/jupyter/Google/marketing/google-home.pdf]</td>\n",
       "    </tr>\n",
       "    <tr>\n",
       "      <th>63</th>\n",
       "      <td>display quantum computing research report</td>\n",
       "      <td>research_quantum_computing</td>\n",
       "      <td>research_quantum_computing</td>\n",
       "      <td>[/home/jupyter/Google/research/quantum_computi...</td>\n",
       "    </tr>\n",
       "    <tr>\n",
       "      <th>1</th>\n",
       "      <td>open kaggle marketing report</td>\n",
       "      <td>marketing_kaggle</td>\n",
       "      <td>marketing_kaggle</td>\n",
       "      <td>[/home/jupyter/Google/marketing/kaggle.pdf]</td>\n",
       "    </tr>\n",
       "    <tr>\n",
       "      <th>2</th>\n",
       "      <td>show me kaggle marketing report</td>\n",
       "      <td>marketing_kaggle</td>\n",
       "      <td>marketing_kaggle</td>\n",
       "      <td>[/home/jupyter/Google/marketing/kaggle.pdf]</td>\n",
       "    </tr>\n",
       "    <tr>\n",
       "      <th>53</th>\n",
       "      <td>display computer vision research document</td>\n",
       "      <td>research_computer_vision</td>\n",
       "      <td>research_computer_vision</td>\n",
       "      <td>[/home/jupyter/Google/research/computer_vision...</td>\n",
       "    </tr>\n",
       "    <tr>\n",
       "      <th>105</th>\n",
       "      <td>give me pixel sales report</td>\n",
       "      <td>sales_pixel</td>\n",
       "      <td>sales_pixel</td>\n",
       "      <td>[/home/jupyter/Google/sales/pixel.pdf]</td>\n",
       "    </tr>\n",
       "    <tr>\n",
       "      <th>94</th>\n",
       "      <td>please open search history sales report</td>\n",
       "      <td>sales_search_history</td>\n",
       "      <td>sales_search_history</td>\n",
       "      <td>[/home/jupyter/Google/sales/search_history.pdf]</td>\n",
       "    </tr>\n",
       "    <tr>\n",
       "      <th>116</th>\n",
       "      <td>open pixel sales file</td>\n",
       "      <td>sales_pixel</td>\n",
       "      <td>sales_pixel</td>\n",
       "      <td>[/home/jupyter/Google/sales/pixel.pdf]</td>\n",
       "    </tr>\n",
       "    <tr>\n",
       "      <th>81</th>\n",
       "      <td>open ad words sales document</td>\n",
       "      <td>sales_ad_words</td>\n",
       "      <td>sales_ad_words</td>\n",
       "      <td>[/home/jupyter/Google/sales/ad_words.pdf]</td>\n",
       "    </tr>\n",
       "    <tr>\n",
       "      <th>26</th>\n",
       "      <td>open pixel marketing file</td>\n",
       "      <td>marketing_pixel</td>\n",
       "      <td>marketing_pixel</td>\n",
       "      <td>[/home/jupyter/Google/marketing/pixel.pdf]</td>\n",
       "    </tr>\n",
       "    <tr>\n",
       "      <th>38</th>\n",
       "      <td>display nlp research document</td>\n",
       "      <td>research_nlp</td>\n",
       "      <td>research_nlp</td>\n",
       "      <td>[/home/jupyter/Google/research/nlp.pdf]</td>\n",
       "    </tr>\n",
       "    <tr>\n",
       "      <th>41</th>\n",
       "      <td>open nlp research file</td>\n",
       "      <td>research_nlp</td>\n",
       "      <td>research_nlp</td>\n",
       "      <td>[/home/jupyter/Google/research/nlp.pdf]</td>\n",
       "    </tr>\n",
       "    <tr>\n",
       "      <th>10</th>\n",
       "      <td>give me kaggle marketing file</td>\n",
       "      <td>marketing_kaggle</td>\n",
       "      <td>marketing_kaggle</td>\n",
       "      <td>[/home/jupyter/Google/marketing/kaggle.pdf]</td>\n",
       "    </tr>\n",
       "    <tr>\n",
       "      <th>95</th>\n",
       "      <td>give me search history sales document</td>\n",
       "      <td>sales_search_history</td>\n",
       "      <td>sales_search_history</td>\n",
       "      <td>[/home/jupyter/Google/sales/search_history.pdf]</td>\n",
       "    </tr>\n",
       "    <tr>\n",
       "      <th>98</th>\n",
       "      <td>display search history sales document</td>\n",
       "      <td>sales_search_history</td>\n",
       "      <td>sales_search_history</td>\n",
       "      <td>[/home/jupyter/Google/sales/search_history.pdf]</td>\n",
       "    </tr>\n",
       "    <tr>\n",
       "      <th>58</th>\n",
       "      <td>display computer vision research file</td>\n",
       "      <td>research_computer_vision</td>\n",
       "      <td>research_computer_vision</td>\n",
       "      <td>[/home/jupyter/Google/research/computer_vision...</td>\n",
       "    </tr>\n",
       "    <tr>\n",
       "      <th>91</th>\n",
       "      <td>open search history sales report</td>\n",
       "      <td>sales_search_history</td>\n",
       "      <td>sales_search_history</td>\n",
       "      <td>[/home/jupyter/Google/sales/search_history.pdf]</td>\n",
       "    </tr>\n",
       "    <tr>\n",
       "      <th>75</th>\n",
       "      <td>give me ad words sales report</td>\n",
       "      <td>sales_ad_words</td>\n",
       "      <td>sales_ad_words</td>\n",
       "      <td>[/home/jupyter/Google/sales/ad_words.pdf]</td>\n",
       "    </tr>\n",
       "    <tr>\n",
       "      <th>52</th>\n",
       "      <td>show me computer vision research document</td>\n",
       "      <td>research_computer_vision</td>\n",
       "      <td>research_computer_vision</td>\n",
       "      <td>[/home/jupyter/Google/research/computer_vision...</td>\n",
       "    </tr>\n",
       "  </tbody>\n",
       "</table>\n",
       "</div>"
      ],
      "text/plain": [
       "                                          inputs                 predictions  \\\n",
       "60     give me quantum computing research report  research_quantum_computing   \n",
       "55         give me computer vision research file    research_computer_vision   \n",
       "35                 give me nlp research document                research_nlp   \n",
       "68   display quantum computing research document  research_quantum_computing   \n",
       "133           display google home marketing file       marketing_google-home   \n",
       "56            open computer vision research file    research_computer_vision   \n",
       "102            show me search history sales file        sales_search_history   \n",
       "126          open google home marketing document       marketing_google-home   \n",
       "128       display google home marketing document       marketing_google-home   \n",
       "63     display quantum computing research report  research_quantum_computing   \n",
       "1                   open kaggle marketing report            marketing_kaggle   \n",
       "2                show me kaggle marketing report            marketing_kaggle   \n",
       "53     display computer vision research document    research_computer_vision   \n",
       "105                   give me pixel sales report                 sales_pixel   \n",
       "94       please open search history sales report        sales_search_history   \n",
       "116                        open pixel sales file                 sales_pixel   \n",
       "81                  open ad words sales document              sales_ad_words   \n",
       "26                     open pixel marketing file             marketing_pixel   \n",
       "38                 display nlp research document                research_nlp   \n",
       "41                        open nlp research file                research_nlp   \n",
       "10                 give me kaggle marketing file            marketing_kaggle   \n",
       "95         give me search history sales document        sales_search_history   \n",
       "98         display search history sales document        sales_search_history   \n",
       "58         display computer vision research file    research_computer_vision   \n",
       "91              open search history sales report        sales_search_history   \n",
       "75                 give me ad words sales report              sales_ad_words   \n",
       "52     show me computer vision research document    research_computer_vision   \n",
       "\n",
       "                           true  \\\n",
       "60   research_quantum_computing   \n",
       "55     research_computer_vision   \n",
       "35                 research_nlp   \n",
       "68   research_quantum_computing   \n",
       "133       marketing_google-home   \n",
       "56     research_computer_vision   \n",
       "102        sales_search_history   \n",
       "126       marketing_google-home   \n",
       "128       marketing_google-home   \n",
       "63   research_quantum_computing   \n",
       "1              marketing_kaggle   \n",
       "2              marketing_kaggle   \n",
       "53     research_computer_vision   \n",
       "105                 sales_pixel   \n",
       "94         sales_search_history   \n",
       "116                 sales_pixel   \n",
       "81               sales_ad_words   \n",
       "26              marketing_pixel   \n",
       "38                 research_nlp   \n",
       "41                 research_nlp   \n",
       "10             marketing_kaggle   \n",
       "95         sales_search_history   \n",
       "98         sales_search_history   \n",
       "58     research_computer_vision   \n",
       "91         sales_search_history   \n",
       "75               sales_ad_words   \n",
       "52     research_computer_vision   \n",
       "\n",
       "                                          query_search  \n",
       "60   /home/jupyter/Google/research/quantum_computin...  \n",
       "55   [/home/jupyter/Google/research/computer_vision...  \n",
       "35             [/home/jupyter/Google/research/nlp.pdf]  \n",
       "68   [/home/jupyter/Google/research/quantum_computi...  \n",
       "133   [/home/jupyter/Google/marketing/google-home.pdf]  \n",
       "56   [/home/jupyter/Google/research/computer_vision...  \n",
       "102    [/home/jupyter/Google/sales/search_history.pdf]  \n",
       "126   [/home/jupyter/Google/marketing/google-home.pdf]  \n",
       "128   [/home/jupyter/Google/marketing/google-home.pdf]  \n",
       "63   [/home/jupyter/Google/research/quantum_computi...  \n",
       "1          [/home/jupyter/Google/marketing/kaggle.pdf]  \n",
       "2          [/home/jupyter/Google/marketing/kaggle.pdf]  \n",
       "53   [/home/jupyter/Google/research/computer_vision...  \n",
       "105             [/home/jupyter/Google/sales/pixel.pdf]  \n",
       "94     [/home/jupyter/Google/sales/search_history.pdf]  \n",
       "116             [/home/jupyter/Google/sales/pixel.pdf]  \n",
       "81           [/home/jupyter/Google/sales/ad_words.pdf]  \n",
       "26          [/home/jupyter/Google/marketing/pixel.pdf]  \n",
       "38             [/home/jupyter/Google/research/nlp.pdf]  \n",
       "41             [/home/jupyter/Google/research/nlp.pdf]  \n",
       "10         [/home/jupyter/Google/marketing/kaggle.pdf]  \n",
       "95     [/home/jupyter/Google/sales/search_history.pdf]  \n",
       "98     [/home/jupyter/Google/sales/search_history.pdf]  \n",
       "58   [/home/jupyter/Google/research/computer_vision...  \n",
       "91     [/home/jupyter/Google/sales/search_history.pdf]  \n",
       "75           [/home/jupyter/Google/sales/ad_words.pdf]  \n",
       "52   [/home/jupyter/Google/research/computer_vision...  "
      ]
     },
     "execution_count": 37,
     "metadata": {},
     "output_type": "execute_result"
    }
   ],
   "source": [
    "final_results"
   ]
  },
  {
   "cell_type": "code",
   "execution_count": null,
   "metadata": {},
   "outputs": [],
   "source": []
  },
  {
   "cell_type": "markdown",
   "metadata": {},
   "source": [
    "## User Input Test"
   ]
  },
  {
   "cell_type": "code",
   "execution_count": 38,
   "metadata": {},
   "outputs": [
    {
     "data": {
      "text/plain": [
       "array(['marketing_google-home', 'marketing_kaggle', 'marketing_pixel',\n",
       "       'research_computer_vision', 'research_nlp',\n",
       "       'research_quantum_computing', 'sales_ad_words', 'sales_pixel',\n",
       "       'sales_search_history'], dtype=object)"
      ]
     },
     "execution_count": 38,
     "metadata": {},
     "output_type": "execute_result"
    }
   ],
   "source": [
    "le.classes_"
   ]
  },
  {
   "cell_type": "markdown",
   "metadata": {},
   "source": [
    "#### Test1: Asking with document name and folder name"
   ]
  },
  {
   "cell_type": "code",
   "execution_count": 39,
   "metadata": {},
   "outputs": [],
   "source": [
    "user_input = [\"Hi open the sales google home document please\"]\n",
    "\n",
    "embedding = embed(user_input)\n",
    "X_user = pd.DataFrame(data=embedding.numpy())"
   ]
  },
  {
   "cell_type": "code",
   "execution_count": 40,
   "metadata": {},
   "outputs": [
    {
     "name": "stdout",
     "output_type": "stream",
     "text": [
      "label predicted: ['marketing_google-home']\n",
      "Query search: ['/home/jupyter/Google/marketing/google-home.pdf']\n"
     ]
    }
   ],
   "source": [
    "y_proba = model.predict(X_user)\n",
    "y_pred = y_proba.argmax(axis=1)\n",
    "print(f\"label predicted: {le.inverse_transform(y_pred)}\")\n",
    "for intent in data['intents']:\n",
    "    if intent['label'] == le.inverse_transform(y_pred):\n",
    "        print(f\"Query search: {intent['responses']}\")"
   ]
  },
  {
   "cell_type": "code",
   "execution_count": 41,
   "metadata": {},
   "outputs": [
    {
     "data": {
      "text/plain": [
       "array([[9.9927598e-01, 2.0691135e-05, 2.5231722e-07, 4.8950788e-08,\n",
       "        4.5657865e-04, 3.1020115e-06, 1.1976007e-04, 2.2085912e-08,\n",
       "        1.2364265e-04]], dtype=float32)"
      ]
     },
     "execution_count": 41,
     "metadata": {},
     "output_type": "execute_result"
    }
   ],
   "source": [
    "(y_proba)"
   ]
  },
  {
   "cell_type": "markdown",
   "metadata": {},
   "source": [
    "#### Result: The user made a mistake. google home document is in marketing folder"
   ]
  },
  {
   "cell_type": "code",
   "execution_count": null,
   "metadata": {},
   "outputs": [],
   "source": []
  },
  {
   "cell_type": "markdown",
   "metadata": {},
   "source": [
    "#### Test2: Asking with document name and folder name but _'can you get me'_ this is not used in training data so far "
   ]
  },
  {
   "cell_type": "code",
   "execution_count": 42,
   "metadata": {},
   "outputs": [],
   "source": [
    "user_input = [\"Hi can you get me sales pixel document\"]\n",
    "\n",
    "embedding = embed(user_input)\n",
    "X_user = pd.DataFrame(data=embedding.numpy())"
   ]
  },
  {
   "cell_type": "code",
   "execution_count": 43,
   "metadata": {},
   "outputs": [
    {
     "name": "stdout",
     "output_type": "stream",
     "text": [
      "label predicted: ['sales_pixel']\n",
      "Query search: ['/home/jupyter/Google/sales/pixel.pdf']\n"
     ]
    }
   ],
   "source": [
    "y_proba = model.predict(X_user)\n",
    "y_pred = y_proba.argmax(axis=1)\n",
    "print(f\"label predicted: {le.inverse_transform(y_pred)}\")\n",
    "for intent in data['intents']:\n",
    "    if intent['label'] == le.inverse_transform(y_pred):\n",
    "        print(f\"Query search: {intent['responses']}\")"
   ]
  },
  {
   "cell_type": "code",
   "execution_count": 44,
   "metadata": {},
   "outputs": [
    {
     "data": {
      "text/plain": [
       "array([[1.7510706e-12, 4.4751547e-10, 8.1811055e-07, 1.1716607e-07,\n",
       "        1.0745482e-12, 1.2895698e-10, 1.5166588e-06, 9.9989641e-01,\n",
       "        1.0104504e-04]], dtype=float32)"
      ]
     },
     "execution_count": 44,
     "metadata": {},
     "output_type": "execute_result"
    }
   ],
   "source": [
    "y_proba"
   ]
  },
  {
   "cell_type": "markdown",
   "metadata": {},
   "source": [
    "#### Result: The user asked for correct document from correct folder and model answer is correct."
   ]
  },
  {
   "cell_type": "code",
   "execution_count": null,
   "metadata": {},
   "outputs": [],
   "source": []
  },
  {
   "cell_type": "markdown",
   "metadata": {},
   "source": [
    "#### Test3: Asking with document name but no folder name"
   ]
  },
  {
   "cell_type": "code",
   "execution_count": 45,
   "metadata": {},
   "outputs": [],
   "source": [
    "user_input = [\"Hi can you get me pixel document\"]\n",
    "\n",
    "embedding = embed(user_input)\n",
    "X_user = pd.DataFrame(data=embedding.numpy())"
   ]
  },
  {
   "cell_type": "code",
   "execution_count": 46,
   "metadata": {},
   "outputs": [
    {
     "name": "stdout",
     "output_type": "stream",
     "text": [
      "label predicted: ['sales_pixel']\n",
      "Query search: ['/home/jupyter/Google/sales/pixel.pdf']\n"
     ]
    }
   ],
   "source": [
    "y_proba = model.predict(X_user)\n",
    "y_pred = y_proba.argmax(axis=1)\n",
    "print(f\"label predicted: {le.inverse_transform(y_pred)}\")\n",
    "for intent in data['intents']:\n",
    "    if intent['label'] == le.inverse_transform(y_pred):\n",
    "        print(f\"Query search: {intent['responses']}\")"
   ]
  },
  {
   "cell_type": "code",
   "execution_count": null,
   "metadata": {},
   "outputs": [],
   "source": []
  },
  {
   "cell_type": "markdown",
   "metadata": {},
   "source": [
    "#### Result: The user asked for correct document but did not specify and folder. Model gave just one correct result"
   ]
  },
  {
   "cell_type": "code",
   "execution_count": 47,
   "metadata": {},
   "outputs": [
    {
     "data": {
      "text/plain": [
       "array([[1.8323473e-10, 2.3759307e-08, 5.7553545e-05, 6.3327920e-05,\n",
       "        4.0684592e-10, 2.0165464e-07, 1.0885701e-06, 9.9962115e-01,\n",
       "        2.5666188e-04]], dtype=float32)"
      ]
     },
     "execution_count": 47,
     "metadata": {},
     "output_type": "execute_result"
    }
   ],
   "source": [
    "# Lets y_proba\n",
    "\n",
    "y_proba"
   ]
  },
  {
   "cell_type": "markdown",
   "metadata": {},
   "source": [
    "So here is one room for improvement. The model should also give high probability to second element of the above list sonce that corresponds to 'marketing_pixel' <br>\n",
    "May be we can add few more such statements in training data itself."
   ]
  },
  {
   "cell_type": "code",
   "execution_count": null,
   "metadata": {},
   "outputs": [],
   "source": []
  },
  {
   "cell_type": "markdown",
   "metadata": {},
   "source": [
    "#### Test4: Asking document created on a date"
   ]
  },
  {
   "cell_type": "code",
   "execution_count": 48,
   "metadata": {},
   "outputs": [],
   "source": [
    "user_input = [\"Please open kaggle marketing document created on 15 July\"]"
   ]
  },
  {
   "cell_type": "code",
   "execution_count": 49,
   "metadata": {},
   "outputs": [],
   "source": [
    "query_date = {}\n",
    "for idx, row in enumerate(user_input):\n",
    "    date_occurences = [(ent.text.strip(), ent.label_) for ent in sp_lg(row).ents if ent.label_ == 'DATE']\n",
    "    query_date[row] = []\n",
    "    \n",
    "    for date in date_occurences:\n",
    "        try:\n",
    "            date_token = re.split('\\s+|/|-|:',date[0])\n",
    "            day, month, year = decode_date(date_token)\n",
    "            query_date[row].append((day, month, year))\n",
    "            row = row.replace(date[0], \"\", 1)\n",
    "            user_input[idx] = row\n",
    "        except:\n",
    "            pass"
   ]
  },
  {
   "cell_type": "code",
   "execution_count": 50,
   "metadata": {},
   "outputs": [],
   "source": [
    "embedding = embed(user_input)\n",
    "X_user = pd.DataFrame(data=embedding.numpy())"
   ]
  },
  {
   "cell_type": "code",
   "execution_count": 51,
   "metadata": {},
   "outputs": [
    {
     "name": "stdout",
     "output_type": "stream",
     "text": [
      "label predicted: ['marketing_kaggle']\n",
      "Query search: ['/home/jupyter/Google/marketing/kaggle.pdf']\n"
     ]
    }
   ],
   "source": [
    "y_proba = model.predict(X_user)\n",
    "y_pred = y_proba.argmax(axis=1)\n",
    "print(f\"label predicted: {le.inverse_transform(y_pred)}\")\n",
    "for intent in data['intents']:\n",
    "    if intent['label'] == le.inverse_transform(y_pred):\n",
    "        print(f\"Query search: {intent['responses']}\")"
   ]
  },
  {
   "cell_type": "code",
   "execution_count": 52,
   "metadata": {},
   "outputs": [
    {
     "data": {
      "text/plain": [
       "array([[4.7124736e-03, 9.9515152e-01, 6.5741748e-05, 2.8523854e-09,\n",
       "        6.9341309e-05, 6.1435448e-09, 9.2629330e-07, 1.6663716e-11,\n",
       "        3.2090680e-12]], dtype=float32)"
      ]
     },
     "execution_count": 52,
     "metadata": {},
     "output_type": "execute_result"
    }
   ],
   "source": [
    "# Lets y_proba\n",
    "\n",
    "y_proba"
   ]
  },
  {
   "cell_type": "code",
   "execution_count": 53,
   "metadata": {},
   "outputs": [
    {
     "data": {
      "text/plain": [
       "{'Please open kaggle marketing document created on 15 July': [(15, 7, 2020)]}"
      ]
     },
     "execution_count": 53,
     "metadata": {},
     "output_type": "execute_result"
    }
   ],
   "source": [
    "query_date"
   ]
  },
  {
   "cell_type": "code",
   "execution_count": null,
   "metadata": {},
   "outputs": [],
   "source": []
  },
  {
   "cell_type": "markdown",
   "metadata": {},
   "source": [
    "#### Test5: Asking document created on a date"
   ]
  },
  {
   "cell_type": "code",
   "execution_count": 54,
   "metadata": {},
   "outputs": [],
   "source": [
    "user_input = [\"Please open computer vision document created on 1/6/2019\", \"Please open computer vision document created on 1-6-2019\", \n",
    "              \"Give me google home document from 14/07\", \"Give me google home document from 14-07\", \"Give me google home document made 14 Jan\", \"Give me nlp document made on March 12\"]"
   ]
  },
  {
   "cell_type": "code",
   "execution_count": 55,
   "metadata": {},
   "outputs": [],
   "source": [
    "query_date = {}\n",
    "for idx, row in enumerate(user_input):\n",
    "    date_occurences = [(ent.text.strip(), ent.label_) for ent in sp_lg(row).ents if ent.label_ == 'DATE']\n",
    "    query_date[row] = []\n",
    "    for date in date_occurences:\n",
    "        try:\n",
    "            date_token = re.split('\\s+|/|-|:',date[0])\n",
    "            day, month, year = decode_date(date_token)\n",
    "            query_date[row].append((day, month, year))\n",
    "            row = row.replace(date[0], \"\", 1)\n",
    "            user_input[idx] = row\n",
    "        except:\n",
    "            pass"
   ]
  },
  {
   "cell_type": "code",
   "execution_count": 56,
   "metadata": {},
   "outputs": [],
   "source": [
    "embedding = embed(user_input)\n",
    "X_user = pd.DataFrame(data=embedding.numpy())"
   ]
  },
  {
   "cell_type": "code",
   "execution_count": 57,
   "metadata": {},
   "outputs": [],
   "source": [
    "y_proba = model.predict(X_user)\n",
    "y_pred = y_proba.argmax(axis=1)"
   ]
  },
  {
   "cell_type": "code",
   "execution_count": 58,
   "metadata": {},
   "outputs": [
    {
     "name": "stdout",
     "output_type": "stream",
     "text": [
      "label predicted: ['research_computer_vision' 'research_computer_vision'\n",
      " 'marketing_google-home' 'marketing_google-home' 'marketing_google-home'\n",
      " 'research_nlp']\n",
      "Query search: ['/home/jupyter/Google/research/computer_vision.pdf']\n",
      "Query search: ['/home/jupyter/Google/research/computer_vision.pdf']\n",
      "Query search: ['/home/jupyter/Google/marketing/google-home.pdf']\n",
      "Query search: ['/home/jupyter/Google/marketing/google-home.pdf']\n",
      "Query search: ['/home/jupyter/Google/marketing/google-home.pdf']\n",
      "Query search: ['/home/jupyter/Google/research/nlp.pdf']\n"
     ]
    }
   ],
   "source": [
    "y_proba = model.predict(X_user)\n",
    "y_pred = y_proba.argmax(axis=1)\n",
    "print(f\"label predicted: {le.inverse_transform(y_pred)}\")\n",
    "for pred in y_pred:\n",
    "    for intent in data['intents']:\n",
    "        if intent['label'] == le.inverse_transform(pred.reshape(1,)):\n",
    "            print(f\"Query search: {intent['responses']}\")"
   ]
  },
  {
   "cell_type": "code",
   "execution_count": 59,
   "metadata": {},
   "outputs": [
    {
     "data": {
      "text/plain": [
       "array([[1.43045781e-07, 1.30969211e-05, 4.50551795e-07, 9.99006927e-01,\n",
       "        1.30508459e-04, 5.15326916e-04, 1.25726586e-07, 4.20276192e-05,\n",
       "        2.91398319e-04],\n",
       "       [8.21622859e-09, 2.11856195e-06, 4.15883150e-08, 9.99201715e-01,\n",
       "        5.68256582e-05, 3.07709415e-04, 9.82938033e-08, 4.10964130e-05,\n",
       "        3.90456873e-04],\n",
       "       [9.99626398e-01, 8.41447047e-07, 1.70786478e-08, 2.70669265e-08,\n",
       "        3.55902943e-04, 1.67826220e-05, 4.38307113e-10, 1.09428010e-13,\n",
       "        7.58621166e-09],\n",
       "       [9.99327064e-01, 7.38338827e-07, 5.21993160e-09, 2.49912127e-08,\n",
       "        6.64595340e-04, 7.59911836e-06, 1.44254730e-09, 1.53637153e-13,\n",
       "        1.96580388e-08],\n",
       "       [9.99705732e-01, 1.36418430e-06, 3.26001981e-08, 4.64173695e-08,\n",
       "        2.86088645e-04, 6.61003560e-06, 4.88240826e-09, 2.45789738e-12,\n",
       "        7.23886657e-08],\n",
       "       [3.26342357e-04, 2.02032328e-02, 4.74862194e-09, 1.15677885e-05,\n",
       "        9.79437172e-01, 4.54298151e-06, 1.71059655e-05, 2.39241352e-11,\n",
       "        1.70134822e-08]], dtype=float32)"
      ]
     },
     "execution_count": 59,
     "metadata": {},
     "output_type": "execute_result"
    }
   ],
   "source": [
    "# Lets y_proba\n",
    "y_proba"
   ]
  },
  {
   "cell_type": "code",
   "execution_count": 60,
   "metadata": {},
   "outputs": [
    {
     "data": {
      "text/plain": [
       "{'Please open computer vision document created on 1/6/2019': [],\n",
       " 'Please open computer vision document created on 1-6-2019': [(1, 6, 2020)],\n",
       " 'Give me google home document from 14/07': [],\n",
       " 'Give me google home document from 14-07': [(14, 7, 2020)],\n",
       " 'Give me google home document made 14 Jan': [(14, 1, 2020)],\n",
       " 'Give me nlp document made on March 12': [(12, 3, 2020)]}"
      ]
     },
     "execution_count": 60,
     "metadata": {},
     "output_type": "execute_result"
    }
   ],
   "source": [
    "query_date"
   ]
  },
  {
   "cell_type": "code",
   "execution_count": null,
   "metadata": {},
   "outputs": [],
   "source": []
  }
 ],
 "metadata": {
  "environment": {
   "name": "common-cpu.m49",
   "type": "gcloud",
   "uri": "gcr.io/deeplearning-platform-release/base-cpu:m49"
  },
  "kernelspec": {
   "display_name": "Python 3",
   "language": "python",
   "name": "python3"
  },
  "language_info": {
   "codemirror_mode": {
    "name": "ipython",
    "version": 3
   },
   "file_extension": ".py",
   "mimetype": "text/x-python",
   "name": "python",
   "nbconvert_exporter": "python",
   "pygments_lexer": "ipython3",
   "version": "3.7.6"
  }
 },
 "nbformat": 4,
 "nbformat_minor": 4
}
