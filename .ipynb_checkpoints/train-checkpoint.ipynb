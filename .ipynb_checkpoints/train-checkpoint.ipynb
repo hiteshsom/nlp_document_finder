{
 "cells": [
  {
   "cell_type": "markdown",
   "metadata": {},
   "source": [
    "# NLP Document Locator"
   ]
  },
  {
   "cell_type": "markdown",
   "metadata": {},
   "source": [
    "## Import statements"
   ]
  },
  {
   "cell_type": "code",
   "execution_count": 1,
   "metadata": {},
   "outputs": [
    {
     "name": "stderr",
     "output_type": "stream",
     "text": [
      "[nltk_data] Downloading package punkt to C:\\Users\\Hitesh\n",
      "[nltk_data]     Somani\\AppData\\Roaming\\nltk_data...\n",
      "[nltk_data]   Package punkt is already up-to-date!\n",
      "[nltk_data] Downloading package stopwords to C:\\Users\\Hitesh\n",
      "[nltk_data]     Somani\\AppData\\Roaming\\nltk_data...\n",
      "[nltk_data]   Package stopwords is already up-to-date!\n"
     ]
    }
   ],
   "source": [
    "import os\n",
    "import nltk\n",
    "nltk.download('punkt')\n",
    "nltk.download('stopwords')\n",
    "from nltk.stem.snowball import SnowballStemmer\n",
    "stemmer = SnowballStemmer(\"english\")\n",
    "\n",
    "import pandas as pd\n",
    "import numpy as np\n",
    "import random\n",
    "from datetime import datetime"
   ]
  },
  {
   "cell_type": "markdown",
   "metadata": {},
   "source": [
    "## Load data"
   ]
  },
  {
   "cell_type": "code",
   "execution_count": 2,
   "metadata": {},
   "outputs": [],
   "source": [
    "import json\n",
    "with open(os.path.join(os.getcwd(), 'data', 'train2.json')) as file:\n",
    "    data = json.load(file)"
   ]
  },
  {
   "cell_type": "markdown",
   "metadata": {},
   "source": [
    "## Preprocessing"
   ]
  },
  {
   "cell_type": "code",
   "execution_count": 3,
   "metadata": {},
   "outputs": [],
   "source": [
    "# words = []\n",
    "# labels = []\n",
    "# docs_x = []\n",
    "# docs_y = []\n",
    "\n",
    "# # ------------------- TOKENIZE ----------------- #\n",
    "# for intent in data['intents']:\n",
    "#     for pattern in intent['patterns']:\n",
    "#         wrds = nltk.word_tokenize(pattern)\n",
    "#         words.extend(wrds)\n",
    "#         docs_x.append(wrds)\n",
    "#         docs_y.append(intent[\"tag\"])\n",
    "        \n",
    "#     if intent['tag'] not in labels:\n",
    "#         labels.append(intent['tag'])\n",
    "       "
   ]
  },
  {
   "cell_type": "code",
   "execution_count": 4,
   "metadata": {},
   "outputs": [],
   "source": [
    "# # --------------------STOP WORD REMOVAL ----------#\n",
    "# from nltk.corpus import stopwords\n",
    "# stop_words = list(set(stopwords.words('english'))) \n",
    "\n",
    "# for word in words:\n",
    "#     if word in stop_words:\n",
    "#         words.remove(word)\n",
    "\n",
    "# for wrd in docs_x:\n",
    "#     for word in wrd:\n",
    "#         if word in stop_words:\n",
    "#             wrd.remove(word)"
   ]
  },
  {
   "cell_type": "code",
   "execution_count": 5,
   "metadata": {},
   "outputs": [],
   "source": [
    "# # ------------------ REMOVE PUNCTUATION ----------- #\n",
    "# import string\n",
    "# for word in words:\n",
    "#     word = word.translate(str.maketrans('', '', string.punctuation))\n",
    "#     word = word.strip()\n",
    "\n",
    "\n",
    "# for wrd in docs_x:\n",
    "#     for word in wrd:\n",
    "#         word = word.translate(str.maketrans('', '', string.punctuation))\n",
    "#         word = word.strip()"
   ]
  },
  {
   "cell_type": "code",
   "execution_count": 6,
   "metadata": {},
   "outputs": [],
   "source": [
    "# # ---------------- STEMMING ------------------ #\n",
    "# words = [stemmer.stem(w.lower()) for w in words if w != \"?\"]\n",
    "# words = sorted(list(set(words)))\n",
    "\n",
    "# labels = sorted(labels)"
   ]
  },
  {
   "cell_type": "code",
   "execution_count": 7,
   "metadata": {},
   "outputs": [],
   "source": [
    "rows = []\n",
    "labels = []\n",
    "for intent in data['intents']:\n",
    "    rows.extend(intent['train_data'])\n",
    "    label = []\n",
    "    label.append(intent['label'])\n",
    "    labels.extend(label*len(intent['train_data']))"
   ]
  },
  {
   "cell_type": "markdown",
   "metadata": {},
   "source": [
    "### Date Recognition"
   ]
  },
  {
   "cell_type": "code",
   "execution_count": 8,
   "metadata": {},
   "outputs": [],
   "source": [
    "from datetime import datetime\n",
    "\n",
    "def decode_date(tokens):\n",
    "\n",
    "    months_fullform = ['january', 'february', 'march', 'april', 'may', 'june', 'july', 'august', 'september', 'october', 'november', 'decemeber']\n",
    "    months_shortform = ['jan', 'feb', 'mar', 'apr', 'may', 'jun', 'jul', 'aug', 'sep', 'oct', 'nov', 'dec']\n",
    "    month = 0\n",
    "    for token in tokens:\n",
    "        try:\n",
    "            int(token)\n",
    "        except:\n",
    "            if token.lower() in months_fullform:\n",
    "                month = months_fullform.index(token.lower()) + 1\n",
    "            elif token.lower() in months_shortform:\n",
    "                month = months_shortform.index(token.lower()) + 1\n",
    "            tokens.remove(token)\n",
    "        \n",
    "    if len(tokens) > 2:\n",
    "        if month:\n",
    "            day = int(tokens[0])\n",
    "            year = int(tokens[2])\n",
    "        else:\n",
    "            day = int(tokens[0])\n",
    "            month = int(tokens[1])\n",
    "            year = int(tokens[2])\n",
    "    elif len(tokens) > 1:\n",
    "        if month:\n",
    "            day = int(tokens[0])\n",
    "            year = 2020\n",
    "        else:\n",
    "            day = int(tokens[0])\n",
    "            month = int(tokens[1])\n",
    "            year = 2020\n",
    "    elif len(tokens)==1:\n",
    "        day = int(tokens[0])\n",
    "        year = 2020\n",
    "    return (day, month, year)"
   ]
  },
  {
   "cell_type": "code",
   "execution_count": 9,
   "metadata": {},
   "outputs": [],
   "source": [
    "# !python3 -m spacy download en_core_web_lg\n",
    "import spacy\n",
    "sp_lg = spacy.load('en_core_web_lg')\n",
    "import nltk\n",
    "import re\n",
    "\n",
    "query_date = {}\n",
    "for idx, row in enumerate(rows):\n",
    "    date_occurences = [(ent.text.strip(), ent.label_) for ent in sp_lg(row).ents if ent.label_ == 'DATE']\n",
    "    query_date[row] = []\n",
    "    \n",
    "    for date in date_occurences:\n",
    "        try:\n",
    "            date_token = re.split('\\s+|/|-|:',date[0])\n",
    "            day, month, year = decode_date(date_token)\n",
    "            query_date[row].append((f'{year}-{month}-{day}'))\n",
    "            row = row.replace(date[0], \"\", 1)\n",
    "            rows[idx] = row\n",
    "        except:\n",
    "            pass"
   ]
  },
  {
   "cell_type": "markdown",
   "metadata": {},
   "source": [
    "### Universal Sentence Encoder"
   ]
  },
  {
   "cell_type": "code",
   "execution_count": 10,
   "metadata": {},
   "outputs": [],
   "source": [
    "import tensorflow_hub as hub\n",
    "embed = hub.load(\"https://tfhub.dev/google/universal-sentence-encoder/4\")"
   ]
  },
  {
   "cell_type": "code",
   "execution_count": 11,
   "metadata": {},
   "outputs": [],
   "source": [
    "embedding = embed(rows)\n",
    "\n",
    "X = pd.DataFrame(data=embedding.numpy())\n",
    "X['label'] = labels"
   ]
  },
  {
   "cell_type": "code",
   "execution_count": 12,
   "metadata": {},
   "outputs": [
    {
     "data": {
      "text/html": [
       "<div>\n",
       "<style scoped>\n",
       "    .dataframe tbody tr th:only-of-type {\n",
       "        vertical-align: middle;\n",
       "    }\n",
       "\n",
       "    .dataframe tbody tr th {\n",
       "        vertical-align: top;\n",
       "    }\n",
       "\n",
       "    .dataframe thead th {\n",
       "        text-align: right;\n",
       "    }\n",
       "</style>\n",
       "<table border=\"1\" class=\"dataframe\">\n",
       "  <thead>\n",
       "    <tr style=\"text-align: right;\">\n",
       "      <th></th>\n",
       "      <th>0</th>\n",
       "      <th>1</th>\n",
       "      <th>2</th>\n",
       "      <th>3</th>\n",
       "      <th>4</th>\n",
       "      <th>5</th>\n",
       "      <th>6</th>\n",
       "      <th>7</th>\n",
       "      <th>8</th>\n",
       "      <th>9</th>\n",
       "      <th>...</th>\n",
       "      <th>503</th>\n",
       "      <th>504</th>\n",
       "      <th>505</th>\n",
       "      <th>506</th>\n",
       "      <th>507</th>\n",
       "      <th>508</th>\n",
       "      <th>509</th>\n",
       "      <th>510</th>\n",
       "      <th>511</th>\n",
       "      <th>label</th>\n",
       "    </tr>\n",
       "  </thead>\n",
       "  <tbody>\n",
       "    <tr>\n",
       "      <th>0</th>\n",
       "      <td>-0.004851</td>\n",
       "      <td>-0.041964</td>\n",
       "      <td>-0.051808</td>\n",
       "      <td>0.019784</td>\n",
       "      <td>0.021853</td>\n",
       "      <td>0.021047</td>\n",
       "      <td>0.043125</td>\n",
       "      <td>-0.001204</td>\n",
       "      <td>0.022696</td>\n",
       "      <td>-0.077722</td>\n",
       "      <td>...</td>\n",
       "      <td>0.039908</td>\n",
       "      <td>0.052083</td>\n",
       "      <td>0.001058</td>\n",
       "      <td>0.065795</td>\n",
       "      <td>0.020701</td>\n",
       "      <td>-0.016375</td>\n",
       "      <td>-0.004406</td>\n",
       "      <td>-0.080554</td>\n",
       "      <td>-0.008480</td>\n",
       "      <td>marketing_google-home</td>\n",
       "    </tr>\n",
       "    <tr>\n",
       "      <th>1</th>\n",
       "      <td>0.010735</td>\n",
       "      <td>0.001598</td>\n",
       "      <td>-0.069327</td>\n",
       "      <td>0.045384</td>\n",
       "      <td>0.010653</td>\n",
       "      <td>0.049769</td>\n",
       "      <td>0.043490</td>\n",
       "      <td>0.014172</td>\n",
       "      <td>0.046780</td>\n",
       "      <td>-0.072827</td>\n",
       "      <td>...</td>\n",
       "      <td>-0.025100</td>\n",
       "      <td>0.028380</td>\n",
       "      <td>-0.019510</td>\n",
       "      <td>0.065093</td>\n",
       "      <td>0.041348</td>\n",
       "      <td>-0.048325</td>\n",
       "      <td>0.043596</td>\n",
       "      <td>-0.082165</td>\n",
       "      <td>0.022102</td>\n",
       "      <td>marketing_google-home</td>\n",
       "    </tr>\n",
       "    <tr>\n",
       "      <th>2</th>\n",
       "      <td>0.008150</td>\n",
       "      <td>-0.025516</td>\n",
       "      <td>-0.051825</td>\n",
       "      <td>0.018839</td>\n",
       "      <td>-0.011497</td>\n",
       "      <td>0.000663</td>\n",
       "      <td>0.038303</td>\n",
       "      <td>0.017663</td>\n",
       "      <td>0.018018</td>\n",
       "      <td>-0.060026</td>\n",
       "      <td>...</td>\n",
       "      <td>0.040483</td>\n",
       "      <td>0.025089</td>\n",
       "      <td>-0.002037</td>\n",
       "      <td>0.066990</td>\n",
       "      <td>0.038984</td>\n",
       "      <td>-0.020493</td>\n",
       "      <td>0.034859</td>\n",
       "      <td>-0.082567</td>\n",
       "      <td>-0.016747</td>\n",
       "      <td>marketing_google-home</td>\n",
       "    </tr>\n",
       "    <tr>\n",
       "      <th>3</th>\n",
       "      <td>-0.002875</td>\n",
       "      <td>0.017606</td>\n",
       "      <td>-0.065296</td>\n",
       "      <td>0.043215</td>\n",
       "      <td>-0.054827</td>\n",
       "      <td>0.022873</td>\n",
       "      <td>-0.023303</td>\n",
       "      <td>0.021275</td>\n",
       "      <td>0.003382</td>\n",
       "      <td>-0.069676</td>\n",
       "      <td>...</td>\n",
       "      <td>-0.022157</td>\n",
       "      <td>0.063531</td>\n",
       "      <td>0.023405</td>\n",
       "      <td>0.070117</td>\n",
       "      <td>0.007039</td>\n",
       "      <td>-0.045061</td>\n",
       "      <td>0.043073</td>\n",
       "      <td>-0.077875</td>\n",
       "      <td>0.045327</td>\n",
       "      <td>marketing_google-home</td>\n",
       "    </tr>\n",
       "    <tr>\n",
       "      <th>4</th>\n",
       "      <td>0.001530</td>\n",
       "      <td>-0.010831</td>\n",
       "      <td>-0.072277</td>\n",
       "      <td>0.053805</td>\n",
       "      <td>-0.000521</td>\n",
       "      <td>0.038126</td>\n",
       "      <td>0.050321</td>\n",
       "      <td>0.012032</td>\n",
       "      <td>0.036074</td>\n",
       "      <td>-0.065149</td>\n",
       "      <td>...</td>\n",
       "      <td>0.040641</td>\n",
       "      <td>0.056175</td>\n",
       "      <td>-0.001573</td>\n",
       "      <td>0.071447</td>\n",
       "      <td>0.020559</td>\n",
       "      <td>-0.032644</td>\n",
       "      <td>0.016579</td>\n",
       "      <td>-0.086796</td>\n",
       "      <td>0.013866</td>\n",
       "      <td>marketing_google-home</td>\n",
       "    </tr>\n",
       "  </tbody>\n",
       "</table>\n",
       "<p>5 rows × 513 columns</p>\n",
       "</div>"
      ],
      "text/plain": [
       "          0         1         2         3         4         5         6  \\\n",
       "0 -0.004851 -0.041964 -0.051808  0.019784  0.021853  0.021047  0.043125   \n",
       "1  0.010735  0.001598 -0.069327  0.045384  0.010653  0.049769  0.043490   \n",
       "2  0.008150 -0.025516 -0.051825  0.018839 -0.011497  0.000663  0.038303   \n",
       "3 -0.002875  0.017606 -0.065296  0.043215 -0.054827  0.022873 -0.023303   \n",
       "4  0.001530 -0.010831 -0.072277  0.053805 -0.000521  0.038126  0.050321   \n",
       "\n",
       "          7         8         9  ...       503       504       505       506  \\\n",
       "0 -0.001204  0.022696 -0.077722  ...  0.039908  0.052083  0.001058  0.065795   \n",
       "1  0.014172  0.046780 -0.072827  ... -0.025100  0.028380 -0.019510  0.065093   \n",
       "2  0.017663  0.018018 -0.060026  ...  0.040483  0.025089 -0.002037  0.066990   \n",
       "3  0.021275  0.003382 -0.069676  ... -0.022157  0.063531  0.023405  0.070117   \n",
       "4  0.012032  0.036074 -0.065149  ...  0.040641  0.056175 -0.001573  0.071447   \n",
       "\n",
       "        507       508       509       510       511                  label  \n",
       "0  0.020701 -0.016375 -0.004406 -0.080554 -0.008480  marketing_google-home  \n",
       "1  0.041348 -0.048325  0.043596 -0.082165  0.022102  marketing_google-home  \n",
       "2  0.038984 -0.020493  0.034859 -0.082567 -0.016747  marketing_google-home  \n",
       "3  0.007039 -0.045061  0.043073 -0.077875  0.045327  marketing_google-home  \n",
       "4  0.020559 -0.032644  0.016579 -0.086796  0.013866  marketing_google-home  \n",
       "\n",
       "[5 rows x 513 columns]"
      ]
     },
     "execution_count": 12,
     "metadata": {},
     "output_type": "execute_result"
    }
   ],
   "source": [
    "X.head()"
   ]
  },
  {
   "cell_type": "code",
   "execution_count": 13,
   "metadata": {},
   "outputs": [],
   "source": [
    "import seaborn as sns\n",
    "import matplotlib.pyplot as plt\n",
    "\n",
    "def plot_similarity(labels, features, rotation):\n",
    "    corr = np.inner(features, features)\n",
    "    sns.set(font_scale=1)\n",
    "    fig, ax = plt.subplots(figsize=(18, 18))\n",
    "    g = sns.heatmap(\n",
    "      corr,\n",
    "      xticklabels=labels,\n",
    "      yticklabels=labels,\n",
    "      vmin=0,\n",
    "      vmax=1,\n",
    "      cmap=\"YlOrRd\", \n",
    "      ax=ax)\n",
    "    g.set_xticklabels(labels, rotation=rotation)\n",
    "    g.set_title(\"Semantic Textual Similarity\")\n",
    "\n",
    "def run_and_plot(messages_):\n",
    "    message_embeddings_ = embed(messages_)\n",
    "    plot_similarity(messages_, message_embeddings_, 90)\n",
    "\n",
    "\n",
    "messages = rows\n",
    "\n",
    "# run_and_plot(messages)\n",
    "               "
   ]
  },
  {
   "cell_type": "markdown",
   "metadata": {},
   "source": [
    "### t-SNE"
   ]
  },
  {
   "cell_type": "code",
   "execution_count": 14,
   "metadata": {},
   "outputs": [
    {
     "name": "stdout",
     "output_type": "stream",
     "text": [
      "[t-SNE] Computing 31 nearest neighbors...\n",
      "[t-SNE] Indexed 210 samples in 0.023s...\n",
      "[t-SNE] Computed neighbors for 210 samples in 0.094s...\n",
      "[t-SNE] Computed conditional probabilities for sample 210 / 210\n",
      "[t-SNE] Mean sigma: 0.317312\n",
      "[t-SNE] KL divergence after 250 iterations with early exaggeration: 58.041050\n",
      "[t-SNE] KL divergence after 300 iterations: 0.433612\n",
      "t-SNE done! Time elapsed: 0.5489387512207031 seconds\n"
     ]
    }
   ],
   "source": [
    "from sklearn.manifold import TSNE\n",
    "import time\n",
    "\n",
    "time_start = time.time()\n",
    "tsne = TSNE(n_components=2, verbose=1, perplexity=10, n_iter=300)\n",
    "tsne_results = tsne.fit_transform(X.drop(columns=['label']))\n",
    "print('t-SNE done! Time elapsed: {} seconds'.format(time.time()-time_start))"
   ]
  },
  {
   "cell_type": "code",
   "execution_count": 15,
   "metadata": {},
   "outputs": [
    {
     "data": {
      "text/plain": [
       "array([-20.778887, -22.42348 , -20.544104, -19.543053, -22.060957,\n",
       "       -20.619453, -22.049269, -20.498922, -19.5721  ], dtype=float32)"
      ]
     },
     "execution_count": 15,
     "metadata": {},
     "output_type": "execute_result"
    }
   ],
   "source": [
    "tsne_results[0:9, 0]"
   ]
  },
  {
   "cell_type": "code",
   "execution_count": 17,
   "metadata": {},
   "outputs": [
    {
     "data": {
      "text/plain": [
       "<AxesSubplot:xlabel='tsne-2d-one', ylabel='tsne-2d-two'>"
      ]
     },
     "execution_count": 17,
     "metadata": {},
     "output_type": "execute_result"
    },
    {
     "data": {
      "image/png": "[encoded data removed]",
      "text/plain": [
       "<Figure size 1152x720 with 1 Axes>"
      ]
     },
     "metadata": {
      "needs_background": "light"
     },
     "output_type": "display_data"
    }
   ],
   "source": [
    "import matplotlib.pyplot as plt\n",
    "import seaborn as sns\n",
    "\n",
    "# fig, ax = plt.subplots(figsize=(12,9))\n",
    "# ax.scatter(tsne_results[0:18, 0], tsne_results[0:18, 1])\n",
    "# plt.show()\n",
    "\n",
    "df_subset = pd.DataFrame()\n",
    "df_subset['tsne-2d-one'] = tsne_results[:,0]\n",
    "df_subset['tsne-2d-two'] = tsne_results[:,1]\n",
    "df_subset['label'] = X['label']\n",
    "\n",
    "plt.figure(figsize=(16,10))\n",
    "sns.scatterplot(\n",
    "    x=\"tsne-2d-one\", y=\"tsne-2d-two\",\n",
    "    hue=\"label\",\n",
    "    palette=sns.color_palette(\"hls\", 14),\n",
    "    data=df_subset,\n",
    "    legend=\"full\",\n",
    "    alpha=1,\n",
    "    s=100\n",
    ")"
   ]
  },
  {
   "cell_type": "markdown",
   "metadata": {},
   "source": [
    "## Modelling"
   ]
  },
  {
   "cell_type": "code",
   "execution_count": 18,
   "metadata": {},
   "outputs": [],
   "source": [
    "# Data Prepraration\n",
    "from sklearn.model_selection import train_test_split\n",
    "from sklearn.preprocessing import LabelEncoder\n",
    "\n",
    "y = X['label']\n",
    "X = X.drop(columns=['label'], axis=1)\n",
    "\n",
    "X_train, X_test, y_train, y_test = train_test_split(X, y, test_size = 0.2, random_state=10)\n",
    "le = LabelEncoder()\n",
    "y_train = le.fit_transform(y_train)\n",
    "y_test = le.transform(y_test)"
   ]
  },
  {
   "cell_type": "code",
   "execution_count": 19,
   "metadata": {},
   "outputs": [
    {
     "data": {
      "text/plain": [
       "set()"
      ]
     },
     "execution_count": 19,
     "metadata": {},
     "output_type": "execute_result"
    }
   ],
   "source": [
    "set(X_train.index).intersection(set(X_test.index))"
   ]
  },
  {
   "cell_type": "markdown",
   "metadata": {},
   "source": [
    "So an empty intersection set of both sets proves that there is no observation common in train and test data"
   ]
  },
  {
   "cell_type": "code",
   "execution_count": 20,
   "metadata": {},
   "outputs": [],
   "source": [
    "# Load the TensorBoard notebook extension\n",
    "%load_ext tensorboard"
   ]
  },
  {
   "cell_type": "code",
   "execution_count": 21,
   "metadata": {},
   "outputs": [],
   "source": [
    "# Clear any logs from previous runs\n",
    "!rm -rf ./logs/ "
   ]
  },
  {
   "cell_type": "code",
   "execution_count": 22,
   "metadata": {},
   "outputs": [],
   "source": [
    "# Building Neural network\n",
    "import tensorflow as tf\n",
    "\n",
    "from tensorflow.keras.models import Sequential\n",
    "from tensorflow.keras.layers import Dense, Dropout, Activation, Flatten, Conv2D, MaxPooling2D\n",
    "import datetime\n",
    "\n",
    "log_dir = \"logs/fit/\" + datetime.datetime.now().strftime(\"%Y%m%d-%H%M%S\")\n",
    "tensorboard_callback = tf.keras.callbacks.TensorBoard(log_dir=log_dir, histogram_freq=1)\n",
    "\n",
    "model = Sequential()\n",
    "model.add(Dense(64, input_shape=(512,)))\n",
    "model.add(Dense(100))\n",
    "model.add(Dense(1000))\n",
    "model.add(Dense(100))\n",
    "model.add(Dense(len(set(y_train))))\n",
    "model.add(Activation('softmax'))"
   ]
  },
  {
   "cell_type": "code",
   "execution_count": 23,
   "metadata": {},
   "outputs": [
    {
     "name": "stdout",
     "output_type": "stream",
     "text": [
      "Model: \"sequential\"\n",
      "_________________________________________________________________\n",
      "Layer (type)                 Output Shape              Param #   \n",
      "=================================================================\n",
      "dense (Dense)                (None, 64)                32832     \n",
      "_________________________________________________________________\n",
      "dense_1 (Dense)              (None, 100)               6500      \n",
      "_________________________________________________________________\n",
      "dense_2 (Dense)              (None, 1000)              101000    \n",
      "_________________________________________________________________\n",
      "dense_3 (Dense)              (None, 100)               100100    \n",
      "_________________________________________________________________\n",
      "dense_4 (Dense)              (None, 14)                1414      \n",
      "_________________________________________________________________\n",
      "activation (Activation)      (None, 14)                0         \n",
      "=================================================================\n",
      "Total params: 241,846\n",
      "Trainable params: 241,846\n",
      "Non-trainable params: 0\n",
      "_________________________________________________________________\n"
     ]
    }
   ],
   "source": [
    "model.summary()"
   ]
  },
  {
   "cell_type": "code",
   "execution_count": 24,
   "metadata": {},
   "outputs": [],
   "source": [
    "model.compile(loss=\"sparse_categorical_crossentropy\", optimizer='adam', metrics=[tf.keras.metrics.SparseCategoricalAccuracy()])"
   ]
  },
  {
   "cell_type": "code",
   "execution_count": 25,
   "metadata": {},
   "outputs": [
    {
     "name": "stdout",
     "output_type": "stream",
     "text": [
      "('Failed to import pydot. You must `pip install pydot` and install graphviz (https://graphviz.gitlab.io/download/), ', 'for `pydotprint` to work.')\n"
     ]
    }
   ],
   "source": [
    "from tensorflow import keras\n",
    "keras.utils.plot_model(model)"
   ]
  },
  {
   "cell_type": "code",
   "execution_count": 26,
   "metadata": {},
   "outputs": [
    {
     "name": "stdout",
     "output_type": "stream",
     "text": [
      "Epoch 1/10\n",
      "6/6 [==============================] - 0s 71ms/step - loss: 2.4940 - sparse_categorical_accuracy: 0.2679 - val_loss: 2.1997 - val_sparse_categorical_accuracy: 0.4524\n",
      "Epoch 2/10\n",
      "6/6 [==============================] - 0s 9ms/step - loss: 1.8049 - sparse_categorical_accuracy: 0.6548 - val_loss: 1.4847 - val_sparse_categorical_accuracy: 0.6905\n",
      "Epoch 3/10\n",
      "6/6 [==============================] - 0s 12ms/step - loss: 1.0421 - sparse_categorical_accuracy: 0.7381 - val_loss: 0.7915 - val_sparse_categorical_accuracy: 0.7619\n",
      "Epoch 4/10\n",
      "6/6 [==============================] - 0s 11ms/step - loss: 0.5971 - sparse_categorical_accuracy: 0.7976 - val_loss: 0.4476 - val_sparse_categorical_accuracy: 0.8810\n",
      "Epoch 5/10\n",
      "6/6 [==============================] - 0s 8ms/step - loss: 0.3626 - sparse_categorical_accuracy: 0.8690 - val_loss: 0.2296 - val_sparse_categorical_accuracy: 0.9286\n",
      "Epoch 6/10\n",
      "6/6 [==============================] - 0s 8ms/step - loss: 0.2900 - sparse_categorical_accuracy: 0.8690 - val_loss: 0.2065 - val_sparse_categorical_accuracy: 0.9048\n",
      "Epoch 7/10\n",
      "6/6 [==============================] - 0s 10ms/step - loss: 0.2290 - sparse_categorical_accuracy: 0.8988 - val_loss: 0.1097 - val_sparse_categorical_accuracy: 0.9762\n",
      "Epoch 8/10\n",
      "6/6 [==============================] - 0s 10ms/step - loss: 0.2255 - sparse_categorical_accuracy: 0.8988 - val_loss: 0.0891 - val_sparse_categorical_accuracy: 0.9762\n",
      "Epoch 9/10\n",
      "6/6 [==============================] - 0s 11ms/step - loss: 0.1604 - sparse_categorical_accuracy: 0.9048 - val_loss: 0.0794 - val_sparse_categorical_accuracy: 0.9762\n",
      "Epoch 10/10\n",
      "6/6 [==============================] - 0s 11ms/step - loss: 0.1384 - sparse_categorical_accuracy: 0.9286 - val_loss: 0.0672 - val_sparse_categorical_accuracy: 0.9762\n"
     ]
    }
   ],
   "source": [
    "history = model.fit(X_train, y_train, epochs=10,\n",
    "                    validation_data=(X_test, y_test))"
   ]
  },
  {
   "cell_type": "code",
   "execution_count": 27,
   "metadata": {},
   "outputs": [],
   "source": [
    "#%tensorboard --logdir logs/fit"
   ]
  },
  {
   "cell_type": "code",
   "execution_count": 28,
   "metadata": {},
   "outputs": [],
   "source": [
    "# gcloud compute ssh python-nlp-document-finder --project nlp-document-finder --zone us-west1-b -- -L 2222:localhost:6007 "
   ]
  },
  {
   "cell_type": "markdown",
   "metadata": {},
   "source": [
    "### Prediction "
   ]
  },
  {
   "cell_type": "code",
   "execution_count": 29,
   "metadata": {},
   "outputs": [],
   "source": [
    "y_proba = model.predict(X_test)"
   ]
  },
  {
   "cell_type": "code",
   "execution_count": 30,
   "metadata": {},
   "outputs": [],
   "source": [
    "y_pred = y_proba.argmax(axis=1)"
   ]
  },
  {
   "cell_type": "code",
   "execution_count": 31,
   "metadata": {},
   "outputs": [
    {
     "data": {
      "text/plain": [
       "array([[3.33089475e-03, 9.88176405e-01, 3.87622531e-05, 6.48884708e-03,\n",
       "        5.84847257e-05, 1.20912055e-05, 7.16042725e-10, 2.22999438e-06,\n",
       "        3.22597771e-04, 3.88115950e-05, 8.23997439e-08, 9.96908275e-05,\n",
       "        1.46731236e-06, 1.42964313e-03],\n",
       "       [3.68684250e-12, 2.43363329e-10, 1.36126499e-10, 1.04821256e-05,\n",
       "        6.57941257e-10, 1.58549145e-01, 8.41440082e-01, 2.96596255e-07,\n",
       "        1.12327037e-08, 4.34956817e-08, 3.95460713e-11, 2.62856295e-12,\n",
       "        1.59934531e-11, 9.84929261e-13],\n",
       "       [8.90828123e-12, 1.95054931e-10, 3.70000801e-11, 4.33017476e-06,\n",
       "        1.31115396e-10, 4.84959409e-02, 9.51499164e-01, 5.90224204e-07,\n",
       "        3.69480198e-08, 1.87229166e-08, 1.57916014e-10, 7.31216682e-13,\n",
       "        2.49118504e-11, 1.40734830e-12],\n",
       "       [2.48978927e-06, 5.56615703e-07, 3.50548735e-12, 1.08207887e-12,\n",
       "        4.19984035e-13, 3.23306411e-14, 3.90282945e-12, 6.53995400e-11,\n",
       "        8.48887837e-04, 5.20240656e-06, 9.99037504e-01, 1.95869942e-09,\n",
       "        3.71944999e-08, 1.05354673e-04],\n",
       "       [3.60356993e-04, 3.97541523e-02, 6.56661694e-04, 9.38987494e-01,\n",
       "        1.51291827e-03, 1.85530484e-02, 3.89097892e-07, 3.40588394e-06,\n",
       "        6.80445082e-05, 7.32000044e-05, 1.73650871e-08, 1.43788284e-05,\n",
       "        2.62795563e-08, 1.61606768e-05],\n",
       "       [4.90419279e-06, 4.95810164e-05, 3.41294527e-01, 1.21938530e-04,\n",
       "        6.52633369e-01, 3.02645526e-06, 3.55155350e-10, 5.67115173e-08,\n",
       "        2.74921264e-09, 2.24692667e-06, 3.12772719e-09, 5.88860223e-03,\n",
       "        2.01994609e-07, 1.36868323e-06],\n",
       "       [2.13563675e-04, 2.69808271e-03, 4.23827189e-11, 1.37038345e-08,\n",
       "        1.87772523e-11, 3.51712409e-11, 1.46662728e-12, 5.93128524e-09,\n",
       "        9.95160162e-01, 8.79902746e-06, 1.13432980e-04, 1.31548159e-08,\n",
       "        4.05310260e-07, 1.80562749e-03],\n",
       "       [3.50807351e-03, 1.69103988e-03, 9.14098450e-08, 5.59793807e-06,\n",
       "        5.39044045e-08, 5.33841238e-08, 4.23643982e-08, 9.82713997e-01,\n",
       "        1.01579782e-04, 5.21293009e-11, 3.69658126e-09, 1.47777399e-08,\n",
       "        1.19630443e-02, 1.64240646e-05],\n",
       "       [3.37472866e-12, 9.36943370e-11, 1.93617119e-11, 3.36589983e-06,\n",
       "        7.57772040e-11, 5.60397618e-02, 9.43956375e-01, 4.33804473e-07,\n",
       "        8.39474357e-09, 6.86939838e-09, 2.30178324e-11, 3.97101893e-13,\n",
       "        1.33201236e-11, 4.86597850e-13],\n",
       "       [2.58897169e-04, 4.37435956e-04, 3.48630294e-07, 2.70701985e-05,\n",
       "        3.60098909e-07, 7.87980355e-07, 2.18039546e-07, 9.93055999e-01,\n",
       "        1.66843529e-05, 7.11163628e-11, 3.32758737e-10, 2.04261834e-08,\n",
       "        6.19939715e-03, 2.84249336e-06],\n",
       "       [2.76063438e-05, 5.85904019e-03, 3.36275145e-04, 8.88037026e-01,\n",
       "        1.07260456e-03, 1.04603507e-01, 3.49589618e-06, 2.82685164e-06,\n",
       "        7.66172889e-06, 3.99475612e-05, 1.68678538e-09, 7.61747606e-06,\n",
       "        1.30038069e-08, 2.58063415e-06],\n",
       "       [1.50837775e-04, 4.93779720e-04, 7.52038362e-12, 4.71869033e-09,\n",
       "        2.67613102e-12, 5.05372827e-11, 2.79967750e-11, 1.27367468e-08,\n",
       "        9.98063385e-01, 7.20097614e-06, 5.03903895e-04, 1.60732871e-09,\n",
       "        2.90996070e-07, 7.80655944e-04],\n",
       "       [5.11821527e-05, 2.03316733e-02, 2.03761912e-04, 9.56892848e-01,\n",
       "        6.91538560e-04, 2.18001306e-02, 1.89205736e-07, 5.04875698e-06,\n",
       "        8.99896622e-06, 6.11214318e-06, 1.61019448e-10, 4.21639106e-06,\n",
       "        2.21489191e-08, 4.20180822e-06],\n",
       "       [3.50548994e-08, 2.95239465e-06, 2.52089279e-07, 1.13801518e-02,\n",
       "        8.97329755e-07, 9.25013721e-01, 6.35632873e-02, 3.41426676e-05,\n",
       "        2.73290743e-06, 1.71312524e-06, 1.18627763e-09, 2.78109957e-09,\n",
       "        4.07801837e-09, 3.77989728e-09],\n",
       "       [2.74725444e-05, 4.88496735e-05, 1.36787266e-08, 4.77126516e-09,\n",
       "        1.11032401e-08, 2.35849222e-11, 5.72018578e-11, 6.24456722e-03,\n",
       "        2.27654527e-06, 6.21839646e-12, 2.87011126e-09, 4.93447988e-06,\n",
       "        9.93395507e-01, 2.76397477e-04],\n",
       "       [3.60361114e-03, 5.14399726e-04, 1.01265712e-07, 6.79202913e-06,\n",
       "        7.00670242e-08, 4.76979665e-08, 2.50025192e-08, 9.87765789e-01,\n",
       "        1.65288657e-05, 1.02438865e-11, 4.65959271e-10, 9.08233133e-09,\n",
       "        8.08747485e-03, 5.16709315e-06],\n",
       "       [2.85335466e-09, 2.78215930e-06, 3.06655011e-07, 1.61603841e-09,\n",
       "        1.15140767e-06, 8.56305651e-11, 1.54973893e-13, 6.58711887e-12,\n",
       "        1.78408588e-09, 1.81152734e-06, 5.22912780e-09, 9.99822557e-01,\n",
       "        1.82278909e-05, 1.53118861e-04],\n",
       "       [4.38690329e-08, 4.00455428e-06, 1.64081840e-07, 1.02921771e-02,\n",
       "        5.50416530e-07, 9.26228821e-01, 6.34449795e-02, 1.73776480e-05,\n",
       "        7.39879579e-06, 4.55258350e-06, 4.31925073e-09, 2.99293079e-09,\n",
       "        2.88065682e-09, 5.67821967e-09],\n",
       "       [2.38338325e-04, 4.27590832e-02, 9.83083737e-05, 9.44394290e-01,\n",
       "        2.32626786e-04, 1.22340396e-02, 1.95531811e-07, 1.05841036e-05,\n",
       "        2.09277659e-05, 3.62773903e-06, 3.70162928e-10, 1.42871511e-06,\n",
       "        1.98916066e-08, 6.53912275e-06],\n",
       "       [6.86484855e-04, 1.64373976e-03, 9.89449061e-12, 1.41677037e-09,\n",
       "        2.61078073e-12, 2.09466255e-12, 3.56508334e-13, 2.06867545e-09,\n",
       "        9.94271159e-01, 3.85187013e-06, 6.59719692e-04, 5.12539433e-09,\n",
       "        2.63998828e-07, 2.73484271e-03],\n",
       "       [1.15073635e-03, 1.83565973e-03, 2.74024171e-11, 5.29054001e-09,\n",
       "        8.50980137e-12, 7.50204239e-12, 6.89982143e-13, 2.68397504e-09,\n",
       "        9.94422138e-01, 4.63024844e-06, 3.44231346e-04, 5.71479930e-09,\n",
       "        1.95490301e-07, 2.24241964e-03],\n",
       "       [9.97033715e-01, 2.64708535e-03, 5.55578765e-07, 1.29242238e-04,\n",
       "        2.78264110e-07, 9.43976417e-08, 5.39563560e-10, 1.26789664e-05,\n",
       "        1.64612560e-04, 4.12358112e-08, 1.17952155e-07, 1.11830616e-08,\n",
       "        5.42288952e-08, 1.16450638e-05],\n",
       "       [7.93657091e-04, 9.82225776e-01, 7.26818553e-06, 1.52129950e-02,\n",
       "        1.09705734e-05, 1.37680516e-04, 1.36723495e-08, 3.84876057e-06,\n",
       "        1.08294061e-03, 1.81597075e-04, 1.59888586e-07, 7.21465767e-06,\n",
       "        2.48973720e-07, 3.35568300e-04],\n",
       "       [1.66228911e-05, 1.46489592e-05, 5.13355802e-09, 5.70222924e-10,\n",
       "        4.30373737e-09, 1.66293335e-12, 4.12676490e-12, 1.42510422e-03,\n",
       "        4.31779313e-07, 1.03230640e-12, 7.25241034e-10, 4.83301801e-06,\n",
       "        9.98336673e-01, 2.01563380e-04],\n",
       "       [2.22265662e-05, 4.59723233e-05, 4.28630909e-09, 8.12173440e-10,\n",
       "        3.16780469e-09, 3.44640137e-12, 1.10453261e-11, 1.51966140e-03,\n",
       "        3.10025234e-06, 7.97260175e-12, 6.00429795e-09, 6.74503872e-06,\n",
       "        9.97875214e-01, 5.27107273e-04],\n",
       "       [1.47519685e-07, 2.40833775e-04, 2.27155894e-09, 1.70792323e-08,\n",
       "        2.03246020e-09, 7.55826013e-10, 9.62714392e-13, 3.23293557e-13,\n",
       "        1.23413818e-04, 9.99521494e-01, 4.31312510e-05, 5.65277287e-06,\n",
       "        1.11433099e-10, 6.53951065e-05],\n",
       "       [3.33089475e-03, 9.88176405e-01, 3.87622531e-05, 6.48884708e-03,\n",
       "        5.84847257e-05, 1.20912055e-05, 7.16042725e-10, 2.22999438e-06,\n",
       "        3.22597771e-04, 3.88115950e-05, 8.23997439e-08, 9.96908275e-05,\n",
       "        1.46731236e-06, 1.42964313e-03],\n",
       "       [3.82425151e-06, 5.07402583e-05, 2.96795189e-01, 9.29404981e-04,\n",
       "        6.98900640e-01, 1.01114230e-04, 2.09276507e-08, 1.24440419e-07,\n",
       "        1.48356527e-08, 1.86261968e-05, 2.02457020e-08, 3.19923717e-03,\n",
       "        1.13807438e-07, 1.03956370e-06],\n",
       "       [9.38949015e-05, 3.03206332e-02, 1.66503873e-04, 9.51094091e-01,\n",
       "        5.08346711e-04, 1.77929997e-02, 9.35447559e-08, 2.31759759e-06,\n",
       "        8.93533525e-06, 5.71523378e-06, 1.17991922e-10, 2.89404784e-06,\n",
       "        8.07933009e-09, 3.61038792e-06],\n",
       "       [1.28891726e-03, 9.94314611e-01, 1.38556470e-05, 3.12731625e-03,\n",
       "        2.15530381e-05, 6.77172102e-06, 1.74222733e-10, 4.56841207e-07,\n",
       "        3.22292501e-04, 4.32450215e-05, 2.78701773e-08, 4.90542297e-05,\n",
       "        4.07467326e-07, 8.11441452e-04],\n",
       "       [9.95700777e-01, 4.18636901e-03, 1.21592507e-06, 4.61154086e-05,\n",
       "        6.70494273e-07, 5.88099525e-09, 7.53240526e-12, 1.10907740e-05,\n",
       "        2.88960455e-05, 3.05583092e-09, 5.16004306e-09, 5.15266940e-08,\n",
       "        2.89691883e-07, 2.47135267e-05],\n",
       "       [9.97045696e-01, 2.86425441e-03, 3.53476054e-07, 2.07077574e-05,\n",
       "        1.47330098e-07, 2.51262566e-09, 8.50686969e-12, 9.74935392e-06,\n",
       "        4.09244458e-05, 2.45578824e-09, 1.59817439e-08, 1.17107497e-08,\n",
       "        1.38641994e-07, 1.81780633e-05],\n",
       "       [9.88241663e-05, 2.65234639e-03, 3.30924899e-10, 7.73540676e-10,\n",
       "        1.76475431e-10, 1.80844949e-13, 2.70931281e-15, 1.92311292e-10,\n",
       "        9.23102256e-04, 6.61645402e-07, 1.85588269e-05, 2.01342089e-04,\n",
       "        1.30605607e-04, 9.95974600e-01],\n",
       "       [4.78171547e-09, 3.43709780e-06, 3.70292895e-07, 6.54771792e-10,\n",
       "        1.15082469e-06, 5.03871380e-12, 4.09636060e-15, 3.87976803e-12,\n",
       "        6.21258323e-10, 1.71367006e-07, 1.31564537e-09, 9.99706209e-01,\n",
       "        2.26872708e-05, 2.65943061e-04],\n",
       "       [9.98584270e-01, 1.34502468e-03, 2.74668253e-07, 2.81825069e-05,\n",
       "        1.20996049e-07, 8.20052470e-09, 3.48616656e-11, 7.15778060e-06,\n",
       "        2.85855331e-05, 2.81681811e-09, 9.87042448e-09, 4.37894654e-09,\n",
       "        4.16683434e-08, 6.46862509e-06],\n",
       "       [9.96154606e-01, 3.71731282e-03, 8.09734956e-07, 4.38369643e-05,\n",
       "        4.03996381e-07, 8.01645683e-09, 1.13186769e-11, 3.69845270e-06,\n",
       "        6.54395844e-05, 1.06326041e-08, 2.23985577e-08, 2.28964225e-08,\n",
       "        5.67590845e-08, 1.39984195e-05],\n",
       "       [1.37307768e-04, 1.52443480e-02, 1.66069542e-04, 9.53109920e-01,\n",
       "        5.17484441e-04, 3.07825245e-02, 7.62127172e-07, 6.83272310e-06,\n",
       "        1.60083328e-05, 8.08636560e-06, 5.99602312e-10, 4.72398779e-06,\n",
       "        3.09578319e-08, 5.86965189e-06],\n",
       "       [3.93213370e-12, 2.08078818e-10, 4.40385020e-11, 1.10620185e-05,\n",
       "        2.08510265e-10, 1.95317432e-01, 8.04671288e-01, 1.45541918e-07,\n",
       "        1.33275257e-08, 3.55905350e-08, 2.21712509e-11, 9.12171705e-13,\n",
       "        5.33939993e-12, 6.35789978e-13],\n",
       "       [7.55180226e-05, 2.36482266e-03, 3.77859133e-10, 1.60568303e-09,\n",
       "        2.37800613e-10, 2.93010191e-13, 2.99525080e-15, 6.84565626e-10,\n",
       "        4.10338776e-04, 6.38984829e-08, 1.71942895e-06, 2.41837493e-04,\n",
       "        4.68801270e-04, 9.96436954e-01],\n",
       "       [3.98067584e-07, 1.01950209e-04, 1.77945181e-09, 1.56261404e-08,\n",
       "        1.27732014e-09, 9.77520842e-10, 4.96235041e-12, 3.92066154e-13,\n",
       "        1.23008969e-04, 9.99522090e-01, 2.01690753e-04, 2.13180692e-06,\n",
       "        6.09810813e-11, 4.86175741e-05],\n",
       "       [8.86840629e-04, 2.61293841e-03, 6.52265603e-11, 8.92386076e-09,\n",
       "        2.04404133e-11, 2.73290904e-11, 3.58850428e-12, 5.28696020e-09,\n",
       "        9.93298352e-01, 2.63016154e-05, 1.24478200e-03, 1.48105181e-08,\n",
       "        2.31328642e-07, 1.93073426e-03],\n",
       "       [6.89455919e-05, 3.22328345e-03, 1.66419170e-10, 6.65283828e-10,\n",
       "        1.09020099e-10, 4.07743094e-14, 1.02343510e-16, 4.74536209e-11,\n",
       "        3.16127844e-04, 5.73644563e-08, 8.51765549e-07, 1.65451042e-04,\n",
       "        7.20869721e-05, 9.96153176e-01]], dtype=float32)"
      ]
     },
     "execution_count": 31,
     "metadata": {},
     "output_type": "execute_result"
    }
   ],
   "source": [
    "y_proba"
   ]
  },
  {
   "cell_type": "code",
   "execution_count": 32,
   "metadata": {},
   "outputs": [
    {
     "data": {
      "text/plain": [
       "array(['marketing_google-home', 'marketing_kaggle',\n",
       "       'marketing_marketing apple', 'marketing_marketing_1',\n",
       "       'marketing_marketing_apple', 'marketing_marketing_copy',\n",
       "       'marketing_marketing_copy_copy', 'marketing_pixel',\n",
       "       'research_computer_vision', 'research_nlp',\n",
       "       'research_quantum_computing', 'sales_ad_words', 'sales_pixel',\n",
       "       'sales_search_history'], dtype=object)"
      ]
     },
     "execution_count": 32,
     "metadata": {},
     "output_type": "execute_result"
    }
   ],
   "source": [
    "le.classes_"
   ]
  },
  {
   "cell_type": "code",
   "execution_count": 33,
   "metadata": {},
   "outputs": [
    {
     "data": {
      "text/plain": [
       "'display marketing copy copy marketing document'"
      ]
     },
     "execution_count": 33,
     "metadata": {},
     "output_type": "execute_result"
    }
   ],
   "source": [
    "rows[X_test.index[2]]"
   ]
  },
  {
   "cell_type": "code",
   "execution_count": 34,
   "metadata": {},
   "outputs": [],
   "source": [
    "from operator import itemgetter\n",
    "final_results = pd.DataFrame(data = list(itemgetter(*list(X_test.index))(rows)), index=X_test.index, columns=['inputs'])  "
   ]
  },
  {
   "cell_type": "code",
   "execution_count": 35,
   "metadata": {},
   "outputs": [],
   "source": [
    "final_results['predictions'] = le.inverse_transform(y_pred)\n",
    "final_results['true'] = le.inverse_transform(y_test)\n",
    "final_results['query_search'] = \"\""
   ]
  },
  {
   "cell_type": "code",
   "execution_count": 36,
   "metadata": {},
   "outputs": [
    {
     "data": {
      "text/html": [
       "<div>\n",
       "<style scoped>\n",
       "    .dataframe tbody tr th:only-of-type {\n",
       "        vertical-align: middle;\n",
       "    }\n",
       "\n",
       "    .dataframe tbody tr th {\n",
       "        vertical-align: top;\n",
       "    }\n",
       "\n",
       "    .dataframe thead th {\n",
       "        text-align: right;\n",
       "    }\n",
       "</style>\n",
       "<table border=\"1\" class=\"dataframe\">\n",
       "  <thead>\n",
       "    <tr style=\"text-align: right;\">\n",
       "      <th></th>\n",
       "      <th>inputs</th>\n",
       "      <th>predictions</th>\n",
       "      <th>true</th>\n",
       "      <th>query_search</th>\n",
       "    </tr>\n",
       "  </thead>\n",
       "  <tbody>\n",
       "    <tr>\n",
       "      <th>24</th>\n",
       "      <td>please open kaggle marketing report</td>\n",
       "      <td>marketing_kaggle</td>\n",
       "      <td>marketing_kaggle</td>\n",
       "      <td></td>\n",
       "    </tr>\n",
       "    <tr>\n",
       "      <th>91</th>\n",
       "      <td>open marketing copy copy marketing report</td>\n",
       "      <td>marketing_marketing_copy_copy</td>\n",
       "      <td>marketing_marketing_copy_copy</td>\n",
       "      <td></td>\n",
       "    </tr>\n",
       "    <tr>\n",
       "      <th>98</th>\n",
       "      <td>display marketing copy copy marketing document</td>\n",
       "      <td>marketing_marketing_copy_copy</td>\n",
       "      <td>marketing_marketing_copy_copy</td>\n",
       "      <td></td>\n",
       "    </tr>\n",
       "    <tr>\n",
       "      <th>163</th>\n",
       "      <td>display quantum computing research file</td>\n",
       "      <td>research_quantum_computing</td>\n",
       "      <td>research_quantum_computing</td>\n",
       "      <td></td>\n",
       "    </tr>\n",
       "    <tr>\n",
       "      <th>52</th>\n",
       "      <td>show me marketing marketing document</td>\n",
       "      <td>marketing_marketing_1</td>\n",
       "      <td>marketing_marketing_1</td>\n",
       "      <td></td>\n",
       "    </tr>\n",
       "    <tr>\n",
       "      <th>72</th>\n",
       "      <td>show me marketing apple marketing file</td>\n",
       "      <td>marketing_marketing_apple</td>\n",
       "      <td>marketing_marketing_apple</td>\n",
       "      <td></td>\n",
       "    </tr>\n",
       "    <tr>\n",
       "      <th>121</th>\n",
       "      <td>open computer vision research report</td>\n",
       "      <td>research_computer_vision</td>\n",
       "      <td>research_computer_vision</td>\n",
       "      <td></td>\n",
       "    </tr>\n",
       "    <tr>\n",
       "      <th>117</th>\n",
       "      <td>show me pixel marketing file</td>\n",
       "      <td>marketing_pixel</td>\n",
       "      <td>marketing_pixel</td>\n",
       "      <td></td>\n",
       "    </tr>\n",
       "    <tr>\n",
       "      <th>103</th>\n",
       "      <td>display marketing copy copy marketing file</td>\n",
       "      <td>marketing_marketing_copy_copy</td>\n",
       "      <td>marketing_marketing_copy_copy</td>\n",
       "      <td></td>\n",
       "    </tr>\n",
       "    <tr>\n",
       "      <th>106</th>\n",
       "      <td>open pixel marketing report</td>\n",
       "      <td>marketing_pixel</td>\n",
       "      <td>marketing_pixel</td>\n",
       "      <td></td>\n",
       "    </tr>\n",
       "    <tr>\n",
       "      <th>55</th>\n",
       "      <td>give me marketing marketing file</td>\n",
       "      <td>marketing_marketing_1</td>\n",
       "      <td>marketing_marketing_1</td>\n",
       "      <td></td>\n",
       "    </tr>\n",
       "    <tr>\n",
       "      <th>120</th>\n",
       "      <td>give me computer vision research report</td>\n",
       "      <td>research_computer_vision</td>\n",
       "      <td>research_computer_vision</td>\n",
       "      <td></td>\n",
       "    </tr>\n",
       "    <tr>\n",
       "      <th>46</th>\n",
       "      <td>open marketing marketing report</td>\n",
       "      <td>marketing_marketing_1</td>\n",
       "      <td>marketing_marketing_1</td>\n",
       "      <td></td>\n",
       "    </tr>\n",
       "    <tr>\n",
       "      <th>78</th>\n",
       "      <td>display marketing copy marketing report</td>\n",
       "      <td>marketing_marketing_copy</td>\n",
       "      <td>marketing_marketing_copy</td>\n",
       "      <td></td>\n",
       "    </tr>\n",
       "    <tr>\n",
       "      <th>188</th>\n",
       "      <td>display pixel sales document</td>\n",
       "      <td>sales_pixel</td>\n",
       "      <td>sales_pixel</td>\n",
       "      <td></td>\n",
       "    </tr>\n",
       "    <tr>\n",
       "      <th>119</th>\n",
       "      <td>please open pixel marketing file</td>\n",
       "      <td>marketing_pixel</td>\n",
       "      <td>marketing_pixel</td>\n",
       "      <td></td>\n",
       "    </tr>\n",
       "    <tr>\n",
       "      <th>170</th>\n",
       "      <td>give me ad words sales document</td>\n",
       "      <td>sales_ad_words</td>\n",
       "      <td>sales_ad_words</td>\n",
       "      <td></td>\n",
       "    </tr>\n",
       "    <tr>\n",
       "      <th>83</th>\n",
       "      <td>display marketing copy marketing document</td>\n",
       "      <td>marketing_marketing_copy</td>\n",
       "      <td>marketing_marketing_copy</td>\n",
       "      <td></td>\n",
       "    </tr>\n",
       "    <tr>\n",
       "      <th>58</th>\n",
       "      <td>display marketing marketing file</td>\n",
       "      <td>marketing_marketing_1</td>\n",
       "      <td>marketing_marketing_1</td>\n",
       "      <td></td>\n",
       "    </tr>\n",
       "    <tr>\n",
       "      <th>132</th>\n",
       "      <td>show me computer vision research file</td>\n",
       "      <td>research_computer_vision</td>\n",
       "      <td>research_computer_vision</td>\n",
       "      <td></td>\n",
       "    </tr>\n",
       "    <tr>\n",
       "      <th>134</th>\n",
       "      <td>please open computer vision research file</td>\n",
       "      <td>research_computer_vision</td>\n",
       "      <td>research_computer_vision</td>\n",
       "      <td></td>\n",
       "    </tr>\n",
       "    <tr>\n",
       "      <th>5</th>\n",
       "      <td>give me google home marketing document</td>\n",
       "      <td>marketing_google-home</td>\n",
       "      <td>marketing_google-home</td>\n",
       "      <td></td>\n",
       "    </tr>\n",
       "    <tr>\n",
       "      <th>20</th>\n",
       "      <td>give me kaggle marketing document</td>\n",
       "      <td>marketing_kaggle</td>\n",
       "      <td>marketing_kaggle</td>\n",
       "      <td></td>\n",
       "    </tr>\n",
       "    <tr>\n",
       "      <th>184</th>\n",
       "      <td>please open pixel sales report</td>\n",
       "      <td>sales_pixel</td>\n",
       "      <td>sales_pixel</td>\n",
       "      <td></td>\n",
       "    </tr>\n",
       "    <tr>\n",
       "      <th>182</th>\n",
       "      <td>show me pixel sales report</td>\n",
       "      <td>sales_pixel</td>\n",
       "      <td>sales_pixel</td>\n",
       "      <td></td>\n",
       "    </tr>\n",
       "    <tr>\n",
       "      <th>136</th>\n",
       "      <td>open nlp research report</td>\n",
       "      <td>research_nlp</td>\n",
       "      <td>research_nlp</td>\n",
       "      <td></td>\n",
       "    </tr>\n",
       "    <tr>\n",
       "      <th>19</th>\n",
       "      <td>please open kaggle marketing report</td>\n",
       "      <td>marketing_kaggle</td>\n",
       "      <td>marketing_kaggle</td>\n",
       "      <td></td>\n",
       "    </tr>\n",
       "    <tr>\n",
       "      <th>35</th>\n",
       "      <td>give me marketing apple marketing document</td>\n",
       "      <td>marketing_marketing_apple</td>\n",
       "      <td>marketing_marketing apple</td>\n",
       "      <td></td>\n",
       "    </tr>\n",
       "    <tr>\n",
       "      <th>56</th>\n",
       "      <td>open marketing marketing file</td>\n",
       "      <td>marketing_marketing_1</td>\n",
       "      <td>marketing_marketing_1</td>\n",
       "      <td></td>\n",
       "    </tr>\n",
       "    <tr>\n",
       "      <th>26</th>\n",
       "      <td>open kaggle marketing file</td>\n",
       "      <td>marketing_kaggle</td>\n",
       "      <td>marketing_kaggle</td>\n",
       "      <td></td>\n",
       "    </tr>\n",
       "    <tr>\n",
       "      <th>1</th>\n",
       "      <td>open google home marketing report</td>\n",
       "      <td>marketing_google-home</td>\n",
       "      <td>marketing_google-home</td>\n",
       "      <td></td>\n",
       "    </tr>\n",
       "    <tr>\n",
       "      <th>2</th>\n",
       "      <td>show me google home marketing report</td>\n",
       "      <td>marketing_google-home</td>\n",
       "      <td>marketing_google-home</td>\n",
       "      <td></td>\n",
       "    </tr>\n",
       "    <tr>\n",
       "      <th>202</th>\n",
       "      <td>show me search history sales document</td>\n",
       "      <td>sales_search_history</td>\n",
       "      <td>sales_search_history</td>\n",
       "      <td></td>\n",
       "    </tr>\n",
       "    <tr>\n",
       "      <th>167</th>\n",
       "      <td>show me ad words sales report</td>\n",
       "      <td>sales_ad_words</td>\n",
       "      <td>sales_ad_words</td>\n",
       "      <td></td>\n",
       "    </tr>\n",
       "    <tr>\n",
       "      <th>10</th>\n",
       "      <td>give me google home marketing file</td>\n",
       "      <td>marketing_google-home</td>\n",
       "      <td>marketing_google-home</td>\n",
       "      <td></td>\n",
       "    </tr>\n",
       "    <tr>\n",
       "      <th>6</th>\n",
       "      <td>open google home marketing document</td>\n",
       "      <td>marketing_google-home</td>\n",
       "      <td>marketing_google-home</td>\n",
       "      <td></td>\n",
       "    </tr>\n",
       "    <tr>\n",
       "      <th>49</th>\n",
       "      <td>please open marketing marketing report</td>\n",
       "      <td>marketing_marketing_1</td>\n",
       "      <td>marketing_marketing_1</td>\n",
       "      <td></td>\n",
       "    </tr>\n",
       "    <tr>\n",
       "      <th>101</th>\n",
       "      <td>open marketing copy copy marketing file</td>\n",
       "      <td>marketing_marketing_copy_copy</td>\n",
       "      <td>marketing_marketing_copy_copy</td>\n",
       "      <td></td>\n",
       "    </tr>\n",
       "    <tr>\n",
       "      <th>208</th>\n",
       "      <td>display search history sales file</td>\n",
       "      <td>sales_search_history</td>\n",
       "      <td>sales_search_history</td>\n",
       "      <td></td>\n",
       "    </tr>\n",
       "    <tr>\n",
       "      <th>144</th>\n",
       "      <td>please open nlp research report</td>\n",
       "      <td>research_nlp</td>\n",
       "      <td>research_nlp</td>\n",
       "      <td></td>\n",
       "    </tr>\n",
       "    <tr>\n",
       "      <th>127</th>\n",
       "      <td>show me computer vision research document</td>\n",
       "      <td>research_computer_vision</td>\n",
       "      <td>research_computer_vision</td>\n",
       "      <td></td>\n",
       "    </tr>\n",
       "    <tr>\n",
       "      <th>196</th>\n",
       "      <td>open search history sales report</td>\n",
       "      <td>sales_search_history</td>\n",
       "      <td>sales_search_history</td>\n",
       "      <td></td>\n",
       "    </tr>\n",
       "  </tbody>\n",
       "</table>\n",
       "</div>"
      ],
      "text/plain": [
       "                                             inputs  \\\n",
       "24              please open kaggle marketing report   \n",
       "91        open marketing copy copy marketing report   \n",
       "98   display marketing copy copy marketing document   \n",
       "163         display quantum computing research file   \n",
       "52             show me marketing marketing document   \n",
       "72           show me marketing apple marketing file   \n",
       "121            open computer vision research report   \n",
       "117                    show me pixel marketing file   \n",
       "103      display marketing copy copy marketing file   \n",
       "106                     open pixel marketing report   \n",
       "55                 give me marketing marketing file   \n",
       "120         give me computer vision research report   \n",
       "46                  open marketing marketing report   \n",
       "78          display marketing copy marketing report   \n",
       "188                    display pixel sales document   \n",
       "119                please open pixel marketing file   \n",
       "170                 give me ad words sales document   \n",
       "83        display marketing copy marketing document   \n",
       "58                 display marketing marketing file   \n",
       "132           show me computer vision research file   \n",
       "134       please open computer vision research file   \n",
       "5            give me google home marketing document   \n",
       "20                give me kaggle marketing document   \n",
       "184                  please open pixel sales report   \n",
       "182                      show me pixel sales report   \n",
       "136                        open nlp research report   \n",
       "19              please open kaggle marketing report   \n",
       "35       give me marketing apple marketing document   \n",
       "56                    open marketing marketing file   \n",
       "26                       open kaggle marketing file   \n",
       "1                 open google home marketing report   \n",
       "2              show me google home marketing report   \n",
       "202           show me search history sales document   \n",
       "167                   show me ad words sales report   \n",
       "10               give me google home marketing file   \n",
       "6               open google home marketing document   \n",
       "49           please open marketing marketing report   \n",
       "101         open marketing copy copy marketing file   \n",
       "208               display search history sales file   \n",
       "144                 please open nlp research report   \n",
       "127       show me computer vision research document   \n",
       "196                open search history sales report   \n",
       "\n",
       "                       predictions                           true query_search  \n",
       "24                marketing_kaggle               marketing_kaggle               \n",
       "91   marketing_marketing_copy_copy  marketing_marketing_copy_copy               \n",
       "98   marketing_marketing_copy_copy  marketing_marketing_copy_copy               \n",
       "163     research_quantum_computing     research_quantum_computing               \n",
       "52           marketing_marketing_1          marketing_marketing_1               \n",
       "72       marketing_marketing_apple      marketing_marketing_apple               \n",
       "121       research_computer_vision       research_computer_vision               \n",
       "117                marketing_pixel                marketing_pixel               \n",
       "103  marketing_marketing_copy_copy  marketing_marketing_copy_copy               \n",
       "106                marketing_pixel                marketing_pixel               \n",
       "55           marketing_marketing_1          marketing_marketing_1               \n",
       "120       research_computer_vision       research_computer_vision               \n",
       "46           marketing_marketing_1          marketing_marketing_1               \n",
       "78        marketing_marketing_copy       marketing_marketing_copy               \n",
       "188                    sales_pixel                    sales_pixel               \n",
       "119                marketing_pixel                marketing_pixel               \n",
       "170                 sales_ad_words                 sales_ad_words               \n",
       "83        marketing_marketing_copy       marketing_marketing_copy               \n",
       "58           marketing_marketing_1          marketing_marketing_1               \n",
       "132       research_computer_vision       research_computer_vision               \n",
       "134       research_computer_vision       research_computer_vision               \n",
       "5            marketing_google-home          marketing_google-home               \n",
       "20                marketing_kaggle               marketing_kaggle               \n",
       "184                    sales_pixel                    sales_pixel               \n",
       "182                    sales_pixel                    sales_pixel               \n",
       "136                   research_nlp                   research_nlp               \n",
       "19                marketing_kaggle               marketing_kaggle               \n",
       "35       marketing_marketing_apple      marketing_marketing apple               \n",
       "56           marketing_marketing_1          marketing_marketing_1               \n",
       "26                marketing_kaggle               marketing_kaggle               \n",
       "1            marketing_google-home          marketing_google-home               \n",
       "2            marketing_google-home          marketing_google-home               \n",
       "202           sales_search_history           sales_search_history               \n",
       "167                 sales_ad_words                 sales_ad_words               \n",
       "10           marketing_google-home          marketing_google-home               \n",
       "6            marketing_google-home          marketing_google-home               \n",
       "49           marketing_marketing_1          marketing_marketing_1               \n",
       "101  marketing_marketing_copy_copy  marketing_marketing_copy_copy               \n",
       "208           sales_search_history           sales_search_history               \n",
       "144                   research_nlp                   research_nlp               \n",
       "127       research_computer_vision       research_computer_vision               \n",
       "196           sales_search_history           sales_search_history               "
      ]
     },
     "execution_count": 36,
     "metadata": {},
     "output_type": "execute_result"
    }
   ],
   "source": [
    "final_results"
   ]
  },
  {
   "cell_type": "code",
   "execution_count": 37,
   "metadata": {},
   "outputs": [
    {
     "name": "stdout",
     "output_type": "stream",
     "text": [
      "['C:\\\\Users\\\\Hitesh Somani\\\\Documents\\\\hobby_projects\\\\nlp_document_finder\\\\nlp_document_finder\\\\Google\\\\marketing\\\\kaggle.docx']\n",
      "['C:\\\\Users\\\\Hitesh Somani\\\\Documents\\\\hobby_projects\\\\nlp_document_finder\\\\nlp_document_finder\\\\Google\\\\marketing\\\\marketing_copy_copy.docx']\n",
      "['C:\\\\Users\\\\Hitesh Somani\\\\Documents\\\\hobby_projects\\\\nlp_document_finder\\\\nlp_document_finder\\\\Google\\\\marketing\\\\marketing_copy_copy.docx']\n",
      "['C:\\\\Users\\\\Hitesh Somani\\\\Documents\\\\hobby_projects\\\\nlp_document_finder\\\\nlp_document_finder\\\\Google\\\\research\\\\quantum_computing.pdf']\n",
      "['C:\\\\Users\\\\Hitesh Somani\\\\Documents\\\\hobby_projects\\\\nlp_document_finder\\\\nlp_document_finder\\\\Google\\\\marketing\\\\marketing_1.docx']\n",
      "['C:\\\\Users\\\\Hitesh Somani\\\\Documents\\\\hobby_projects\\\\nlp_document_finder\\\\nlp_document_finder\\\\Google\\\\marketing\\\\marketing_apple.docx']\n",
      "['C:\\\\Users\\\\Hitesh Somani\\\\Documents\\\\hobby_projects\\\\nlp_document_finder\\\\nlp_document_finder\\\\Google\\\\research\\\\computer_vision.pdf']\n",
      "['C:\\\\Users\\\\Hitesh Somani\\\\Documents\\\\hobby_projects\\\\nlp_document_finder\\\\nlp_document_finder\\\\Google\\\\marketing\\\\pixel.docx']\n",
      "['C:\\\\Users\\\\Hitesh Somani\\\\Documents\\\\hobby_projects\\\\nlp_document_finder\\\\nlp_document_finder\\\\Google\\\\marketing\\\\marketing_copy_copy.docx']\n",
      "['C:\\\\Users\\\\Hitesh Somani\\\\Documents\\\\hobby_projects\\\\nlp_document_finder\\\\nlp_document_finder\\\\Google\\\\marketing\\\\pixel.docx']\n",
      "['C:\\\\Users\\\\Hitesh Somani\\\\Documents\\\\hobby_projects\\\\nlp_document_finder\\\\nlp_document_finder\\\\Google\\\\marketing\\\\marketing_1.docx']\n",
      "['C:\\\\Users\\\\Hitesh Somani\\\\Documents\\\\hobby_projects\\\\nlp_document_finder\\\\nlp_document_finder\\\\Google\\\\research\\\\computer_vision.pdf']\n",
      "['C:\\\\Users\\\\Hitesh Somani\\\\Documents\\\\hobby_projects\\\\nlp_document_finder\\\\nlp_document_finder\\\\Google\\\\marketing\\\\marketing_1.docx']\n",
      "['C:\\\\Users\\\\Hitesh Somani\\\\Documents\\\\hobby_projects\\\\nlp_document_finder\\\\nlp_document_finder\\\\Google\\\\marketing\\\\marketing_copy.docx']\n",
      "['C:\\\\Users\\\\Hitesh Somani\\\\Documents\\\\hobby_projects\\\\nlp_document_finder\\\\nlp_document_finder\\\\Google\\\\sales\\\\pixel.xlsx']\n",
      "['C:\\\\Users\\\\Hitesh Somani\\\\Documents\\\\hobby_projects\\\\nlp_document_finder\\\\nlp_document_finder\\\\Google\\\\marketing\\\\pixel.docx']\n",
      "['C:\\\\Users\\\\Hitesh Somani\\\\Documents\\\\hobby_projects\\\\nlp_document_finder\\\\nlp_document_finder\\\\Google\\\\sales\\\\ad_words.xlsx']\n",
      "['C:\\\\Users\\\\Hitesh Somani\\\\Documents\\\\hobby_projects\\\\nlp_document_finder\\\\nlp_document_finder\\\\Google\\\\marketing\\\\marketing_copy.docx']\n",
      "['C:\\\\Users\\\\Hitesh Somani\\\\Documents\\\\hobby_projects\\\\nlp_document_finder\\\\nlp_document_finder\\\\Google\\\\marketing\\\\marketing_1.docx']\n",
      "['C:\\\\Users\\\\Hitesh Somani\\\\Documents\\\\hobby_projects\\\\nlp_document_finder\\\\nlp_document_finder\\\\Google\\\\research\\\\computer_vision.pdf']\n",
      "['C:\\\\Users\\\\Hitesh Somani\\\\Documents\\\\hobby_projects\\\\nlp_document_finder\\\\nlp_document_finder\\\\Google\\\\research\\\\computer_vision.pdf']\n",
      "['C:\\\\Users\\\\Hitesh Somani\\\\Documents\\\\hobby_projects\\\\nlp_document_finder\\\\nlp_document_finder\\\\Google\\\\marketing\\\\google-home.docx']\n",
      "['C:\\\\Users\\\\Hitesh Somani\\\\Documents\\\\hobby_projects\\\\nlp_document_finder\\\\nlp_document_finder\\\\Google\\\\marketing\\\\kaggle.docx']\n",
      "['C:\\\\Users\\\\Hitesh Somani\\\\Documents\\\\hobby_projects\\\\nlp_document_finder\\\\nlp_document_finder\\\\Google\\\\sales\\\\pixel.xlsx']\n",
      "['C:\\\\Users\\\\Hitesh Somani\\\\Documents\\\\hobby_projects\\\\nlp_document_finder\\\\nlp_document_finder\\\\Google\\\\sales\\\\pixel.xlsx']\n",
      "['C:\\\\Users\\\\Hitesh Somani\\\\Documents\\\\hobby_projects\\\\nlp_document_finder\\\\nlp_document_finder\\\\Google\\\\research\\\\nlp.pdf']\n",
      "['C:\\\\Users\\\\Hitesh Somani\\\\Documents\\\\hobby_projects\\\\nlp_document_finder\\\\nlp_document_finder\\\\Google\\\\marketing\\\\kaggle.docx']\n",
      "['C:\\\\Users\\\\Hitesh Somani\\\\Documents\\\\hobby_projects\\\\nlp_document_finder\\\\nlp_document_finder\\\\Google\\\\marketing\\\\marketing_apple.docx']\n",
      "['C:\\\\Users\\\\Hitesh Somani\\\\Documents\\\\hobby_projects\\\\nlp_document_finder\\\\nlp_document_finder\\\\Google\\\\marketing\\\\marketing_1.docx']\n",
      "['C:\\\\Users\\\\Hitesh Somani\\\\Documents\\\\hobby_projects\\\\nlp_document_finder\\\\nlp_document_finder\\\\Google\\\\marketing\\\\kaggle.docx']\n",
      "['C:\\\\Users\\\\Hitesh Somani\\\\Documents\\\\hobby_projects\\\\nlp_document_finder\\\\nlp_document_finder\\\\Google\\\\marketing\\\\google-home.docx']\n",
      "['C:\\\\Users\\\\Hitesh Somani\\\\Documents\\\\hobby_projects\\\\nlp_document_finder\\\\nlp_document_finder\\\\Google\\\\marketing\\\\google-home.docx']\n",
      "['C:\\\\Users\\\\Hitesh Somani\\\\Documents\\\\hobby_projects\\\\nlp_document_finder\\\\nlp_document_finder\\\\Google\\\\sales\\\\search_history.xlsx']\n",
      "['C:\\\\Users\\\\Hitesh Somani\\\\Documents\\\\hobby_projects\\\\nlp_document_finder\\\\nlp_document_finder\\\\Google\\\\sales\\\\ad_words.xlsx']\n",
      "['C:\\\\Users\\\\Hitesh Somani\\\\Documents\\\\hobby_projects\\\\nlp_document_finder\\\\nlp_document_finder\\\\Google\\\\marketing\\\\google-home.docx']\n",
      "['C:\\\\Users\\\\Hitesh Somani\\\\Documents\\\\hobby_projects\\\\nlp_document_finder\\\\nlp_document_finder\\\\Google\\\\marketing\\\\google-home.docx']\n",
      "['C:\\\\Users\\\\Hitesh Somani\\\\Documents\\\\hobby_projects\\\\nlp_document_finder\\\\nlp_document_finder\\\\Google\\\\marketing\\\\marketing_1.docx']\n",
      "['C:\\\\Users\\\\Hitesh Somani\\\\Documents\\\\hobby_projects\\\\nlp_document_finder\\\\nlp_document_finder\\\\Google\\\\marketing\\\\marketing_copy_copy.docx']\n",
      "['C:\\\\Users\\\\Hitesh Somani\\\\Documents\\\\hobby_projects\\\\nlp_document_finder\\\\nlp_document_finder\\\\Google\\\\sales\\\\search_history.xlsx']\n",
      "['C:\\\\Users\\\\Hitesh Somani\\\\Documents\\\\hobby_projects\\\\nlp_document_finder\\\\nlp_document_finder\\\\Google\\\\research\\\\nlp.pdf']\n",
      "['C:\\\\Users\\\\Hitesh Somani\\\\Documents\\\\hobby_projects\\\\nlp_document_finder\\\\nlp_document_finder\\\\Google\\\\research\\\\computer_vision.pdf']\n",
      "['C:\\\\Users\\\\Hitesh Somani\\\\Documents\\\\hobby_projects\\\\nlp_document_finder\\\\nlp_document_finder\\\\Google\\\\sales\\\\search_history.xlsx']\n"
     ]
    }
   ],
   "source": [
    "for index in final_results.index:\n",
    "    for intent in data['intents']:\n",
    "        if intent['label'] == final_results.loc[index, 'predictions']:\n",
    "            final_results.loc[index, 'query_search'] = intent['responses']\n",
    "            print(intent['responses'])"
   ]
  },
  {
   "cell_type": "code",
   "execution_count": 40,
   "metadata": {},
   "outputs": [
    {
     "data": {
      "text/html": [
       "<div>\n",
       "<style scoped>\n",
       "    .dataframe tbody tr th:only-of-type {\n",
       "        vertical-align: middle;\n",
       "    }\n",
       "\n",
       "    .dataframe tbody tr th {\n",
       "        vertical-align: top;\n",
       "    }\n",
       "\n",
       "    .dataframe thead th {\n",
       "        text-align: right;\n",
       "    }\n",
       "</style>\n",
       "<table border=\"1\" class=\"dataframe\">\n",
       "  <thead>\n",
       "    <tr style=\"text-align: right;\">\n",
       "      <th></th>\n",
       "      <th>inputs</th>\n",
       "      <th>predictions</th>\n",
       "      <th>true</th>\n",
       "      <th>query_search</th>\n",
       "    </tr>\n",
       "  </thead>\n",
       "  <tbody>\n",
       "    <tr>\n",
       "      <th>24</th>\n",
       "      <td>please open kaggle marketing report</td>\n",
       "      <td>marketing_kaggle</td>\n",
       "      <td>marketing_kaggle</td>\n",
       "      <td>[C:\\Users\\Hitesh Somani\\Documents\\hobby_projec...</td>\n",
       "    </tr>\n",
       "    <tr>\n",
       "      <th>91</th>\n",
       "      <td>open marketing copy copy marketing report</td>\n",
       "      <td>marketing_marketing_copy_copy</td>\n",
       "      <td>marketing_marketing_copy_copy</td>\n",
       "      <td>[C:\\Users\\Hitesh Somani\\Documents\\hobby_projec...</td>\n",
       "    </tr>\n",
       "    <tr>\n",
       "      <th>98</th>\n",
       "      <td>display marketing copy copy marketing document</td>\n",
       "      <td>marketing_marketing_copy_copy</td>\n",
       "      <td>marketing_marketing_copy_copy</td>\n",
       "      <td>[C:\\Users\\Hitesh Somani\\Documents\\hobby_projec...</td>\n",
       "    </tr>\n",
       "    <tr>\n",
       "      <th>163</th>\n",
       "      <td>display quantum computing research file</td>\n",
       "      <td>research_quantum_computing</td>\n",
       "      <td>research_quantum_computing</td>\n",
       "      <td>[C:\\Users\\Hitesh Somani\\Documents\\hobby_projec...</td>\n",
       "    </tr>\n",
       "    <tr>\n",
       "      <th>52</th>\n",
       "      <td>show me marketing marketing document</td>\n",
       "      <td>marketing_marketing_1</td>\n",
       "      <td>marketing_marketing_1</td>\n",
       "      <td>[C:\\Users\\Hitesh Somani\\Documents\\hobby_projec...</td>\n",
       "    </tr>\n",
       "    <tr>\n",
       "      <th>72</th>\n",
       "      <td>show me marketing apple marketing file</td>\n",
       "      <td>marketing_marketing_apple</td>\n",
       "      <td>marketing_marketing_apple</td>\n",
       "      <td>[C:\\Users\\Hitesh Somani\\Documents\\hobby_projec...</td>\n",
       "    </tr>\n",
       "    <tr>\n",
       "      <th>121</th>\n",
       "      <td>open computer vision research report</td>\n",
       "      <td>research_computer_vision</td>\n",
       "      <td>research_computer_vision</td>\n",
       "      <td>[C:\\Users\\Hitesh Somani\\Documents\\hobby_projec...</td>\n",
       "    </tr>\n",
       "    <tr>\n",
       "      <th>117</th>\n",
       "      <td>show me pixel marketing file</td>\n",
       "      <td>marketing_pixel</td>\n",
       "      <td>marketing_pixel</td>\n",
       "      <td>[C:\\Users\\Hitesh Somani\\Documents\\hobby_projec...</td>\n",
       "    </tr>\n",
       "    <tr>\n",
       "      <th>103</th>\n",
       "      <td>display marketing copy copy marketing file</td>\n",
       "      <td>marketing_marketing_copy_copy</td>\n",
       "      <td>marketing_marketing_copy_copy</td>\n",
       "      <td>[C:\\Users\\Hitesh Somani\\Documents\\hobby_projec...</td>\n",
       "    </tr>\n",
       "    <tr>\n",
       "      <th>106</th>\n",
       "      <td>open pixel marketing report</td>\n",
       "      <td>marketing_pixel</td>\n",
       "      <td>marketing_pixel</td>\n",
       "      <td>[C:\\Users\\Hitesh Somani\\Documents\\hobby_projec...</td>\n",
       "    </tr>\n",
       "    <tr>\n",
       "      <th>55</th>\n",
       "      <td>give me marketing marketing file</td>\n",
       "      <td>marketing_marketing_1</td>\n",
       "      <td>marketing_marketing_1</td>\n",
       "      <td>[C:\\Users\\Hitesh Somani\\Documents\\hobby_projec...</td>\n",
       "    </tr>\n",
       "    <tr>\n",
       "      <th>120</th>\n",
       "      <td>give me computer vision research report</td>\n",
       "      <td>research_computer_vision</td>\n",
       "      <td>research_computer_vision</td>\n",
       "      <td>[C:\\Users\\Hitesh Somani\\Documents\\hobby_projec...</td>\n",
       "    </tr>\n",
       "    <tr>\n",
       "      <th>46</th>\n",
       "      <td>open marketing marketing report</td>\n",
       "      <td>marketing_marketing_1</td>\n",
       "      <td>marketing_marketing_1</td>\n",
       "      <td>[C:\\Users\\Hitesh Somani\\Documents\\hobby_projec...</td>\n",
       "    </tr>\n",
       "    <tr>\n",
       "      <th>78</th>\n",
       "      <td>display marketing copy marketing report</td>\n",
       "      <td>marketing_marketing_copy</td>\n",
       "      <td>marketing_marketing_copy</td>\n",
       "      <td>[C:\\Users\\Hitesh Somani\\Documents\\hobby_projec...</td>\n",
       "    </tr>\n",
       "    <tr>\n",
       "      <th>188</th>\n",
       "      <td>display pixel sales document</td>\n",
       "      <td>sales_pixel</td>\n",
       "      <td>sales_pixel</td>\n",
       "      <td>[C:\\Users\\Hitesh Somani\\Documents\\hobby_projec...</td>\n",
       "    </tr>\n",
       "    <tr>\n",
       "      <th>119</th>\n",
       "      <td>please open pixel marketing file</td>\n",
       "      <td>marketing_pixel</td>\n",
       "      <td>marketing_pixel</td>\n",
       "      <td>[C:\\Users\\Hitesh Somani\\Documents\\hobby_projec...</td>\n",
       "    </tr>\n",
       "    <tr>\n",
       "      <th>170</th>\n",
       "      <td>give me ad words sales document</td>\n",
       "      <td>sales_ad_words</td>\n",
       "      <td>sales_ad_words</td>\n",
       "      <td>[C:\\Users\\Hitesh Somani\\Documents\\hobby_projec...</td>\n",
       "    </tr>\n",
       "    <tr>\n",
       "      <th>83</th>\n",
       "      <td>display marketing copy marketing document</td>\n",
       "      <td>marketing_marketing_copy</td>\n",
       "      <td>marketing_marketing_copy</td>\n",
       "      <td>[C:\\Users\\Hitesh Somani\\Documents\\hobby_projec...</td>\n",
       "    </tr>\n",
       "    <tr>\n",
       "      <th>58</th>\n",
       "      <td>display marketing marketing file</td>\n",
       "      <td>marketing_marketing_1</td>\n",
       "      <td>marketing_marketing_1</td>\n",
       "      <td>[C:\\Users\\Hitesh Somani\\Documents\\hobby_projec...</td>\n",
       "    </tr>\n",
       "    <tr>\n",
       "      <th>132</th>\n",
       "      <td>show me computer vision research file</td>\n",
       "      <td>research_computer_vision</td>\n",
       "      <td>research_computer_vision</td>\n",
       "      <td>[C:\\Users\\Hitesh Somani\\Documents\\hobby_projec...</td>\n",
       "    </tr>\n",
       "    <tr>\n",
       "      <th>134</th>\n",
       "      <td>please open computer vision research file</td>\n",
       "      <td>research_computer_vision</td>\n",
       "      <td>research_computer_vision</td>\n",
       "      <td>[C:\\Users\\Hitesh Somani\\Documents\\hobby_projec...</td>\n",
       "    </tr>\n",
       "    <tr>\n",
       "      <th>5</th>\n",
       "      <td>give me google home marketing document</td>\n",
       "      <td>marketing_google-home</td>\n",
       "      <td>marketing_google-home</td>\n",
       "      <td>[C:\\Users\\Hitesh Somani\\Documents\\hobby_projec...</td>\n",
       "    </tr>\n",
       "    <tr>\n",
       "      <th>20</th>\n",
       "      <td>give me kaggle marketing document</td>\n",
       "      <td>marketing_kaggle</td>\n",
       "      <td>marketing_kaggle</td>\n",
       "      <td>[C:\\Users\\Hitesh Somani\\Documents\\hobby_projec...</td>\n",
       "    </tr>\n",
       "    <tr>\n",
       "      <th>184</th>\n",
       "      <td>please open pixel sales report</td>\n",
       "      <td>sales_pixel</td>\n",
       "      <td>sales_pixel</td>\n",
       "      <td>[C:\\Users\\Hitesh Somani\\Documents\\hobby_projec...</td>\n",
       "    </tr>\n",
       "    <tr>\n",
       "      <th>182</th>\n",
       "      <td>show me pixel sales report</td>\n",
       "      <td>sales_pixel</td>\n",
       "      <td>sales_pixel</td>\n",
       "      <td>[C:\\Users\\Hitesh Somani\\Documents\\hobby_projec...</td>\n",
       "    </tr>\n",
       "    <tr>\n",
       "      <th>136</th>\n",
       "      <td>open nlp research report</td>\n",
       "      <td>research_nlp</td>\n",
       "      <td>research_nlp</td>\n",
       "      <td>[C:\\Users\\Hitesh Somani\\Documents\\hobby_projec...</td>\n",
       "    </tr>\n",
       "    <tr>\n",
       "      <th>19</th>\n",
       "      <td>please open kaggle marketing report</td>\n",
       "      <td>marketing_kaggle</td>\n",
       "      <td>marketing_kaggle</td>\n",
       "      <td>[C:\\Users\\Hitesh Somani\\Documents\\hobby_projec...</td>\n",
       "    </tr>\n",
       "    <tr>\n",
       "      <th>35</th>\n",
       "      <td>give me marketing apple marketing document</td>\n",
       "      <td>marketing_marketing_apple</td>\n",
       "      <td>marketing_marketing apple</td>\n",
       "      <td>[C:\\Users\\Hitesh Somani\\Documents\\hobby_projec...</td>\n",
       "    </tr>\n",
       "    <tr>\n",
       "      <th>56</th>\n",
       "      <td>open marketing marketing file</td>\n",
       "      <td>marketing_marketing_1</td>\n",
       "      <td>marketing_marketing_1</td>\n",
       "      <td>[C:\\Users\\Hitesh Somani\\Documents\\hobby_projec...</td>\n",
       "    </tr>\n",
       "    <tr>\n",
       "      <th>26</th>\n",
       "      <td>open kaggle marketing file</td>\n",
       "      <td>marketing_kaggle</td>\n",
       "      <td>marketing_kaggle</td>\n",
       "      <td>[C:\\Users\\Hitesh Somani\\Documents\\hobby_projec...</td>\n",
       "    </tr>\n",
       "    <tr>\n",
       "      <th>1</th>\n",
       "      <td>open google home marketing report</td>\n",
       "      <td>marketing_google-home</td>\n",
       "      <td>marketing_google-home</td>\n",
       "      <td>[C:\\Users\\Hitesh Somani\\Documents\\hobby_projec...</td>\n",
       "    </tr>\n",
       "    <tr>\n",
       "      <th>2</th>\n",
       "      <td>show me google home marketing report</td>\n",
       "      <td>marketing_google-home</td>\n",
       "      <td>marketing_google-home</td>\n",
       "      <td>[C:\\Users\\Hitesh Somani\\Documents\\hobby_projec...</td>\n",
       "    </tr>\n",
       "    <tr>\n",
       "      <th>202</th>\n",
       "      <td>show me search history sales document</td>\n",
       "      <td>sales_search_history</td>\n",
       "      <td>sales_search_history</td>\n",
       "      <td>[C:\\Users\\Hitesh Somani\\Documents\\hobby_projec...</td>\n",
       "    </tr>\n",
       "    <tr>\n",
       "      <th>167</th>\n",
       "      <td>show me ad words sales report</td>\n",
       "      <td>sales_ad_words</td>\n",
       "      <td>sales_ad_words</td>\n",
       "      <td>[C:\\Users\\Hitesh Somani\\Documents\\hobby_projec...</td>\n",
       "    </tr>\n",
       "    <tr>\n",
       "      <th>10</th>\n",
       "      <td>give me google home marketing file</td>\n",
       "      <td>marketing_google-home</td>\n",
       "      <td>marketing_google-home</td>\n",
       "      <td>[C:\\Users\\Hitesh Somani\\Documents\\hobby_projec...</td>\n",
       "    </tr>\n",
       "    <tr>\n",
       "      <th>6</th>\n",
       "      <td>open google home marketing document</td>\n",
       "      <td>marketing_google-home</td>\n",
       "      <td>marketing_google-home</td>\n",
       "      <td>[C:\\Users\\Hitesh Somani\\Documents\\hobby_projec...</td>\n",
       "    </tr>\n",
       "    <tr>\n",
       "      <th>49</th>\n",
       "      <td>please open marketing marketing report</td>\n",
       "      <td>marketing_marketing_1</td>\n",
       "      <td>marketing_marketing_1</td>\n",
       "      <td>[C:\\Users\\Hitesh Somani\\Documents\\hobby_projec...</td>\n",
       "    </tr>\n",
       "    <tr>\n",
       "      <th>101</th>\n",
       "      <td>open marketing copy copy marketing file</td>\n",
       "      <td>marketing_marketing_copy_copy</td>\n",
       "      <td>marketing_marketing_copy_copy</td>\n",
       "      <td>[C:\\Users\\Hitesh Somani\\Documents\\hobby_projec...</td>\n",
       "    </tr>\n",
       "    <tr>\n",
       "      <th>208</th>\n",
       "      <td>display search history sales file</td>\n",
       "      <td>sales_search_history</td>\n",
       "      <td>sales_search_history</td>\n",
       "      <td>[C:\\Users\\Hitesh Somani\\Documents\\hobby_projec...</td>\n",
       "    </tr>\n",
       "    <tr>\n",
       "      <th>144</th>\n",
       "      <td>please open nlp research report</td>\n",
       "      <td>research_nlp</td>\n",
       "      <td>research_nlp</td>\n",
       "      <td>[C:\\Users\\Hitesh Somani\\Documents\\hobby_projec...</td>\n",
       "    </tr>\n",
       "    <tr>\n",
       "      <th>127</th>\n",
       "      <td>show me computer vision research document</td>\n",
       "      <td>research_computer_vision</td>\n",
       "      <td>research_computer_vision</td>\n",
       "      <td>[C:\\Users\\Hitesh Somani\\Documents\\hobby_projec...</td>\n",
       "    </tr>\n",
       "    <tr>\n",
       "      <th>196</th>\n",
       "      <td>open search history sales report</td>\n",
       "      <td>sales_search_history</td>\n",
       "      <td>sales_search_history</td>\n",
       "      <td>[C:\\Users\\Hitesh Somani\\Documents\\hobby_projec...</td>\n",
       "    </tr>\n",
       "  </tbody>\n",
       "</table>\n",
       "</div>"
      ],
      "text/plain": [
       "                                             inputs  \\\n",
       "24              please open kaggle marketing report   \n",
       "91        open marketing copy copy marketing report   \n",
       "98   display marketing copy copy marketing document   \n",
       "163         display quantum computing research file   \n",
       "52             show me marketing marketing document   \n",
       "72           show me marketing apple marketing file   \n",
       "121            open computer vision research report   \n",
       "117                    show me pixel marketing file   \n",
       "103      display marketing copy copy marketing file   \n",
       "106                     open pixel marketing report   \n",
       "55                 give me marketing marketing file   \n",
       "120         give me computer vision research report   \n",
       "46                  open marketing marketing report   \n",
       "78          display marketing copy marketing report   \n",
       "188                    display pixel sales document   \n",
       "119                please open pixel marketing file   \n",
       "170                 give me ad words sales document   \n",
       "83        display marketing copy marketing document   \n",
       "58                 display marketing marketing file   \n",
       "132           show me computer vision research file   \n",
       "134       please open computer vision research file   \n",
       "5            give me google home marketing document   \n",
       "20                give me kaggle marketing document   \n",
       "184                  please open pixel sales report   \n",
       "182                      show me pixel sales report   \n",
       "136                        open nlp research report   \n",
       "19              please open kaggle marketing report   \n",
       "35       give me marketing apple marketing document   \n",
       "56                    open marketing marketing file   \n",
       "26                       open kaggle marketing file   \n",
       "1                 open google home marketing report   \n",
       "2              show me google home marketing report   \n",
       "202           show me search history sales document   \n",
       "167                   show me ad words sales report   \n",
       "10               give me google home marketing file   \n",
       "6               open google home marketing document   \n",
       "49           please open marketing marketing report   \n",
       "101         open marketing copy copy marketing file   \n",
       "208               display search history sales file   \n",
       "144                 please open nlp research report   \n",
       "127       show me computer vision research document   \n",
       "196                open search history sales report   \n",
       "\n",
       "                       predictions                           true  \\\n",
       "24                marketing_kaggle               marketing_kaggle   \n",
       "91   marketing_marketing_copy_copy  marketing_marketing_copy_copy   \n",
       "98   marketing_marketing_copy_copy  marketing_marketing_copy_copy   \n",
       "163     research_quantum_computing     research_quantum_computing   \n",
       "52           marketing_marketing_1          marketing_marketing_1   \n",
       "72       marketing_marketing_apple      marketing_marketing_apple   \n",
       "121       research_computer_vision       research_computer_vision   \n",
       "117                marketing_pixel                marketing_pixel   \n",
       "103  marketing_marketing_copy_copy  marketing_marketing_copy_copy   \n",
       "106                marketing_pixel                marketing_pixel   \n",
       "55           marketing_marketing_1          marketing_marketing_1   \n",
       "120       research_computer_vision       research_computer_vision   \n",
       "46           marketing_marketing_1          marketing_marketing_1   \n",
       "78        marketing_marketing_copy       marketing_marketing_copy   \n",
       "188                    sales_pixel                    sales_pixel   \n",
       "119                marketing_pixel                marketing_pixel   \n",
       "170                 sales_ad_words                 sales_ad_words   \n",
       "83        marketing_marketing_copy       marketing_marketing_copy   \n",
       "58           marketing_marketing_1          marketing_marketing_1   \n",
       "132       research_computer_vision       research_computer_vision   \n",
       "134       research_computer_vision       research_computer_vision   \n",
       "5            marketing_google-home          marketing_google-home   \n",
       "20                marketing_kaggle               marketing_kaggle   \n",
       "184                    sales_pixel                    sales_pixel   \n",
       "182                    sales_pixel                    sales_pixel   \n",
       "136                   research_nlp                   research_nlp   \n",
       "19                marketing_kaggle               marketing_kaggle   \n",
       "35       marketing_marketing_apple      marketing_marketing apple   \n",
       "56           marketing_marketing_1          marketing_marketing_1   \n",
       "26                marketing_kaggle               marketing_kaggle   \n",
       "1            marketing_google-home          marketing_google-home   \n",
       "2            marketing_google-home          marketing_google-home   \n",
       "202           sales_search_history           sales_search_history   \n",
       "167                 sales_ad_words                 sales_ad_words   \n",
       "10           marketing_google-home          marketing_google-home   \n",
       "6            marketing_google-home          marketing_google-home   \n",
       "49           marketing_marketing_1          marketing_marketing_1   \n",
       "101  marketing_marketing_copy_copy  marketing_marketing_copy_copy   \n",
       "208           sales_search_history           sales_search_history   \n",
       "144                   research_nlp                   research_nlp   \n",
       "127       research_computer_vision       research_computer_vision   \n",
       "196           sales_search_history           sales_search_history   \n",
       "\n",
       "                                          query_search  \n",
       "24   [C:\\Users\\Hitesh Somani\\Documents\\hobby_projec...  \n",
       "91   [C:\\Users\\Hitesh Somani\\Documents\\hobby_projec...  \n",
       "98   [C:\\Users\\Hitesh Somani\\Documents\\hobby_projec...  \n",
       "163  [C:\\Users\\Hitesh Somani\\Documents\\hobby_projec...  \n",
       "52   [C:\\Users\\Hitesh Somani\\Documents\\hobby_projec...  \n",
       "72   [C:\\Users\\Hitesh Somani\\Documents\\hobby_projec...  \n",
       "121  [C:\\Users\\Hitesh Somani\\Documents\\hobby_projec...  \n",
       "117  [C:\\Users\\Hitesh Somani\\Documents\\hobby_projec...  \n",
       "103  [C:\\Users\\Hitesh Somani\\Documents\\hobby_projec...  \n",
       "106  [C:\\Users\\Hitesh Somani\\Documents\\hobby_projec...  \n",
       "55   [C:\\Users\\Hitesh Somani\\Documents\\hobby_projec...  \n",
       "120  [C:\\Users\\Hitesh Somani\\Documents\\hobby_projec...  \n",
       "46   [C:\\Users\\Hitesh Somani\\Documents\\hobby_projec...  \n",
       "78   [C:\\Users\\Hitesh Somani\\Documents\\hobby_projec...  \n",
       "188  [C:\\Users\\Hitesh Somani\\Documents\\hobby_projec...  \n",
       "119  [C:\\Users\\Hitesh Somani\\Documents\\hobby_projec...  \n",
       "170  [C:\\Users\\Hitesh Somani\\Documents\\hobby_projec...  \n",
       "83   [C:\\Users\\Hitesh Somani\\Documents\\hobby_projec...  \n",
       "58   [C:\\Users\\Hitesh Somani\\Documents\\hobby_projec...  \n",
       "132  [C:\\Users\\Hitesh Somani\\Documents\\hobby_projec...  \n",
       "134  [C:\\Users\\Hitesh Somani\\Documents\\hobby_projec...  \n",
       "5    [C:\\Users\\Hitesh Somani\\Documents\\hobby_projec...  \n",
       "20   [C:\\Users\\Hitesh Somani\\Documents\\hobby_projec...  \n",
       "184  [C:\\Users\\Hitesh Somani\\Documents\\hobby_projec...  \n",
       "182  [C:\\Users\\Hitesh Somani\\Documents\\hobby_projec...  \n",
       "136  [C:\\Users\\Hitesh Somani\\Documents\\hobby_projec...  \n",
       "19   [C:\\Users\\Hitesh Somani\\Documents\\hobby_projec...  \n",
       "35   [C:\\Users\\Hitesh Somani\\Documents\\hobby_projec...  \n",
       "56   [C:\\Users\\Hitesh Somani\\Documents\\hobby_projec...  \n",
       "26   [C:\\Users\\Hitesh Somani\\Documents\\hobby_projec...  \n",
       "1    [C:\\Users\\Hitesh Somani\\Documents\\hobby_projec...  \n",
       "2    [C:\\Users\\Hitesh Somani\\Documents\\hobby_projec...  \n",
       "202  [C:\\Users\\Hitesh Somani\\Documents\\hobby_projec...  \n",
       "167  [C:\\Users\\Hitesh Somani\\Documents\\hobby_projec...  \n",
       "10   [C:\\Users\\Hitesh Somani\\Documents\\hobby_projec...  \n",
       "6    [C:\\Users\\Hitesh Somani\\Documents\\hobby_projec...  \n",
       "49   [C:\\Users\\Hitesh Somani\\Documents\\hobby_projec...  \n",
       "101  [C:\\Users\\Hitesh Somani\\Documents\\hobby_projec...  \n",
       "208  [C:\\Users\\Hitesh Somani\\Documents\\hobby_projec...  \n",
       "144  [C:\\Users\\Hitesh Somani\\Documents\\hobby_projec...  \n",
       "127  [C:\\Users\\Hitesh Somani\\Documents\\hobby_projec...  \n",
       "196  [C:\\Users\\Hitesh Somani\\Documents\\hobby_projec...  "
      ]
     },
     "execution_count": 40,
     "metadata": {},
     "output_type": "execute_result"
    }
   ],
   "source": [
    "final_results"
   ]
  },
  {
   "cell_type": "markdown",
   "metadata": {},
   "source": [
    "## User Input Test"
   ]
  },
  {
   "cell_type": "code",
   "execution_count": 41,
   "metadata": {},
   "outputs": [
    {
     "data": {
      "text/plain": [
       "array(['marketing_google-home', 'marketing_kaggle',\n",
       "       'marketing_marketing apple', 'marketing_marketing_1',\n",
       "       'marketing_marketing_apple', 'marketing_marketing_copy',\n",
       "       'marketing_marketing_copy_copy', 'marketing_pixel',\n",
       "       'research_computer_vision', 'research_nlp',\n",
       "       'research_quantum_computing', 'sales_ad_words', 'sales_pixel',\n",
       "       'sales_search_history'], dtype=object)"
      ]
     },
     "execution_count": 41,
     "metadata": {},
     "output_type": "execute_result"
    }
   ],
   "source": [
    "le.classes_"
   ]
  },
  {
   "cell_type": "code",
   "execution_count": 42,
   "metadata": {},
   "outputs": [
    {
     "data": {
      "text/plain": [
       "['le.joblib']"
      ]
     },
     "execution_count": 42,
     "metadata": {},
     "output_type": "execute_result"
    }
   ],
   "source": [
    "import joblib\n",
    "\n",
    "joblib.dump(le, 'le.joblib')"
   ]
  },
  {
   "cell_type": "markdown",
   "metadata": {},
   "source": [
    "#### Test1: Asking with document name and folder name"
   ]
  },
  {
   "cell_type": "code",
   "execution_count": 43,
   "metadata": {},
   "outputs": [],
   "source": [
    "user_input = [\"Hi open the sales google home document please\"]\n",
    "\n",
    "embedding = embed(user_input)\n",
    "X_user = pd.DataFrame(data=embedding.numpy())"
   ]
  },
  {
   "cell_type": "code",
   "execution_count": 44,
   "metadata": {},
   "outputs": [
    {
     "name": "stdout",
     "output_type": "stream",
     "text": [
      "label predicted: ['marketing_google-home']\n",
      "Query search: ['C:\\\\Users\\\\Hitesh Somani\\\\Documents\\\\hobby_projects\\\\nlp_document_finder\\\\nlp_document_finder\\\\Google\\\\marketing\\\\google-home.docx']\n"
     ]
    }
   ],
   "source": [
    "y_proba = model.predict(X_user)\n",
    "y_pred = y_proba.argmax(axis=1)\n",
    "print(f\"label predicted: {le.inverse_transform(y_pred)}\")\n",
    "for intent in data['intents']:\n",
    "    if intent['label'] == le.inverse_transform(y_pred):\n",
    "        print(f\"Query search: {intent['responses']}\")"
   ]
  },
  {
   "cell_type": "code",
   "execution_count": 45,
   "metadata": {},
   "outputs": [
    {
     "data": {
      "text/plain": [
       "array([[9.1507983e-01, 9.9203689e-03, 1.1941350e-05, 1.3952540e-06,\n",
       "        6.9343428e-06, 7.9608153e-10, 2.7948860e-11, 2.7517540e-06,\n",
       "        5.8065332e-04, 1.1724525e-06, 6.8040703e-05, 3.7181308e-03,\n",
       "        2.0058653e-03, 6.8602845e-02]], dtype=float32)"
      ]
     },
     "execution_count": 45,
     "metadata": {},
     "output_type": "execute_result"
    }
   ],
   "source": [
    "(y_proba)"
   ]
  },
  {
   "cell_type": "markdown",
   "metadata": {},
   "source": [
    "#### Result: The user made a mistake. google home document is in marketing folder"
   ]
  },
  {
   "cell_type": "code",
   "execution_count": null,
   "metadata": {},
   "outputs": [],
   "source": []
  },
  {
   "cell_type": "markdown",
   "metadata": {},
   "source": [
    "#### Test2: Asking with document name and folder name but _'can you get me'_ this is not used in training data so far "
   ]
  },
  {
   "cell_type": "code",
   "execution_count": 46,
   "metadata": {},
   "outputs": [],
   "source": [
    "user_input = [\"Hi can you get me sales pixel document\"]\n",
    "\n",
    "embedding = embed(user_input)\n",
    "X_user = pd.DataFrame(data=embedding.numpy())"
   ]
  },
  {
   "cell_type": "code",
   "execution_count": 47,
   "metadata": {},
   "outputs": [
    {
     "name": "stdout",
     "output_type": "stream",
     "text": [
      "label predicted: ['sales_pixel']\n",
      "Query search: ['C:\\\\Users\\\\Hitesh Somani\\\\Documents\\\\hobby_projects\\\\nlp_document_finder\\\\nlp_document_finder\\\\Google\\\\sales\\\\pixel.xlsx']\n"
     ]
    }
   ],
   "source": [
    "y_proba = model.predict(X_user)\n",
    "y_pred = y_proba.argmax(axis=1)\n",
    "print(f\"label predicted: {le.inverse_transform(y_pred)}\")\n",
    "for intent in data['intents']:\n",
    "    if intent['label'] == le.inverse_transform(y_pred):\n",
    "        print(f\"Query search: {intent['responses']}\")"
   ]
  },
  {
   "cell_type": "code",
   "execution_count": 48,
   "metadata": {},
   "outputs": [
    {
     "data": {
      "text/plain": [
       "array([[1.0827328e-05, 1.9613932e-05, 4.5282423e-08, 6.1806404e-09,\n",
       "        4.7304837e-08, 6.5127692e-10, 9.8753361e-09, 2.4645131e-03,\n",
       "        1.3154176e-05, 7.9702722e-10, 2.1197361e-07, 3.7453035e-05,\n",
       "        9.9707282e-01, 3.8128975e-04]], dtype=float32)"
      ]
     },
     "execution_count": 48,
     "metadata": {},
     "output_type": "execute_result"
    }
   ],
   "source": [
    "y_proba"
   ]
  },
  {
   "cell_type": "markdown",
   "metadata": {},
   "source": [
    "#### Result: The user asked for correct document from correct folder and model answer is correct."
   ]
  },
  {
   "cell_type": "code",
   "execution_count": null,
   "metadata": {},
   "outputs": [],
   "source": []
  },
  {
   "cell_type": "markdown",
   "metadata": {},
   "source": [
    "#### Test3: Asking with document name but no folder name"
   ]
  },
  {
   "cell_type": "code",
   "execution_count": 49,
   "metadata": {},
   "outputs": [],
   "source": [
    "user_input = [\"Hi can you get me pixel document\"]\n",
    "\n",
    "embedding = embed(user_input)\n",
    "X_user = pd.DataFrame(data=embedding.numpy())"
   ]
  },
  {
   "cell_type": "code",
   "execution_count": 50,
   "metadata": {},
   "outputs": [
    {
     "name": "stdout",
     "output_type": "stream",
     "text": [
      "label predicted: ['sales_pixel']\n",
      "Query search: ['C:\\\\Users\\\\Hitesh Somani\\\\Documents\\\\hobby_projects\\\\nlp_document_finder\\\\nlp_document_finder\\\\Google\\\\sales\\\\pixel.xlsx']\n"
     ]
    }
   ],
   "source": [
    "y_proba = model.predict(X_user)\n",
    "y_pred = y_proba.argmax(axis=1)\n",
    "print(f\"label predicted: {le.inverse_transform(y_pred)}\")\n",
    "for intent in data['intents']:\n",
    "    if intent['label'] == le.inverse_transform(y_pred):\n",
    "        print(f\"Query search: {intent['responses']}\")"
   ]
  },
  {
   "cell_type": "code",
   "execution_count": null,
   "metadata": {},
   "outputs": [],
   "source": []
  },
  {
   "cell_type": "markdown",
   "metadata": {},
   "source": [
    "#### Result: The user asked for correct document but did not specify and folder. Model gave just one correct result"
   ]
  },
  {
   "cell_type": "code",
   "execution_count": 51,
   "metadata": {},
   "outputs": [
    {
     "data": {
      "text/plain": [
       "array([[3.44714063e-04, 7.71545019e-05, 1.02195024e-07, 4.52147226e-08,\n",
       "        6.94204445e-08, 1.23928157e-08, 1.44374440e-06, 9.51916873e-02,\n",
       "        5.22558345e-04, 2.57312411e-08, 1.54179852e-05, 4.83454778e-06,\n",
       "        9.03470576e-01, 3.71331495e-04]], dtype=float32)"
      ]
     },
     "execution_count": 51,
     "metadata": {},
     "output_type": "execute_result"
    }
   ],
   "source": [
    "# Lets y_proba\n",
    "\n",
    "y_proba"
   ]
  },
  {
   "cell_type": "markdown",
   "metadata": {},
   "source": [
    "So here is one room for improvement. The model should also give high probability to second element of the above list sonce that corresponds to 'marketing_pixel' <br>\n",
    "May be we can add few more such statements in training data itself."
   ]
  },
  {
   "cell_type": "code",
   "execution_count": null,
   "metadata": {},
   "outputs": [],
   "source": []
  },
  {
   "cell_type": "markdown",
   "metadata": {},
   "source": [
    "#### Test4: Asking document created on a date"
   ]
  },
  {
   "cell_type": "code",
   "execution_count": 52,
   "metadata": {},
   "outputs": [],
   "source": [
    "user_input = [\"Please open kaggle marketing document created on 15 July\"]"
   ]
  },
  {
   "cell_type": "code",
   "execution_count": 53,
   "metadata": {},
   "outputs": [],
   "source": [
    "query_date = {}\n",
    "for idx, row in enumerate(user_input):\n",
    "    date_occurences = [(ent.text.strip(), ent.label_) for ent in sp_lg(row).ents if ent.label_ == 'DATE']\n",
    "    query_date[row] = []\n",
    "    \n",
    "    for date in date_occurences:\n",
    "        try:\n",
    "            date_token = re.split('\\s+|/|-|:',date[0])\n",
    "            day, month, year = decode_date(date_token)\n",
    "            query_date[row].append((day, month, year))\n",
    "            row = row.replace(date[0], \"\", 1)\n",
    "            user_input[idx] = row\n",
    "        except:\n",
    "            pass"
   ]
  },
  {
   "cell_type": "code",
   "execution_count": 54,
   "metadata": {},
   "outputs": [],
   "source": [
    "embedding = embed(user_input)\n",
    "X_user = pd.DataFrame(data=embedding.numpy())"
   ]
  },
  {
   "cell_type": "code",
   "execution_count": 55,
   "metadata": {},
   "outputs": [
    {
     "name": "stdout",
     "output_type": "stream",
     "text": [
      "label predicted: ['marketing_kaggle']\n",
      "Query search: ['C:\\\\Users\\\\Hitesh Somani\\\\Documents\\\\hobby_projects\\\\nlp_document_finder\\\\nlp_document_finder\\\\Google\\\\marketing\\\\kaggle.docx']\n"
     ]
    }
   ],
   "source": [
    "y_proba = model.predict(X_user)\n",
    "y_pred = y_proba.argmax(axis=1)\n",
    "print(f\"label predicted: {le.inverse_transform(y_pred)}\")\n",
    "for intent in data['intents']:\n",
    "    if intent['label'] == le.inverse_transform(y_pred):\n",
    "        print(f\"Query search: {intent['responses']}\")"
   ]
  },
  {
   "cell_type": "code",
   "execution_count": 56,
   "metadata": {},
   "outputs": [
    {
     "data": {
      "text/plain": [
       "array([[1.0701958e-02, 9.7616142e-01, 9.6004806e-05, 6.5424815e-03,\n",
       "        1.1217111e-04, 3.1797277e-05, 1.0575756e-08, 4.8472452e-06,\n",
       "        1.4182862e-03, 2.7363628e-04, 5.6755821e-06, 2.9773440e-04,\n",
       "        4.3969571e-06, 4.3494315e-03]], dtype=float32)"
      ]
     },
     "execution_count": 56,
     "metadata": {},
     "output_type": "execute_result"
    }
   ],
   "source": [
    "# Lets y_proba\n",
    "\n",
    "y_proba"
   ]
  },
  {
   "cell_type": "code",
   "execution_count": 57,
   "metadata": {},
   "outputs": [
    {
     "data": {
      "text/plain": [
       "{'Please open kaggle marketing document created on 15 July': [(15, 7, 2020)]}"
      ]
     },
     "execution_count": 57,
     "metadata": {},
     "output_type": "execute_result"
    }
   ],
   "source": [
    "query_date"
   ]
  },
  {
   "cell_type": "code",
   "execution_count": null,
   "metadata": {},
   "outputs": [],
   "source": []
  },
  {
   "cell_type": "markdown",
   "metadata": {},
   "source": [
    "#### Test5: Asking document created on a date"
   ]
  },
  {
   "cell_type": "code",
   "execution_count": 58,
   "metadata": {},
   "outputs": [],
   "source": [
    "user_input = [\"Please open computer vision document created on 1/6/2019\", \"Please open computer vision document created on 1-6-2019\", \n",
    "              \"Give me google home document from 14/07\", \"Give me google home document from 14-07\", \"Give me google home document made 14 Jan\", \n",
    "              \"Give me nlp document made on March 12\", \"Give me quantum computing document\"]"
   ]
  },
  {
   "cell_type": "code",
   "execution_count": 59,
   "metadata": {},
   "outputs": [],
   "source": [
    "query_date = {}\n",
    "for idx, row in enumerate(user_input):\n",
    "    date_occurences = [(ent.text.strip(), ent.label_) for ent in sp_lg(row).ents if ent.label_ == 'DATE']\n",
    "    query_date[row] = []\n",
    "    for date in date_occurences:\n",
    "        try:\n",
    "            date_token = re.split('\\s+|/|-|:',date[0])\n",
    "            day, month, year = decode_date(date_token)\n",
    "            query_date[row].append((f'{year}-{month}-{day}'))\n",
    "            datetime.strptime(f'{year}-{month}-{day}', '%Y-%m-%d %H:%M:%S.%f')\n",
    "            row = row.replace(date[0], \"\", 1)\n",
    "            user_input[idx] = row\n",
    "        except:\n",
    "            pass"
   ]
  },
  {
   "cell_type": "code",
   "execution_count": 60,
   "metadata": {},
   "outputs": [],
   "source": [
    "embedding = embed(user_input)\n",
    "X_user = pd.DataFrame(data=embedding.numpy())"
   ]
  },
  {
   "cell_type": "code",
   "execution_count": 61,
   "metadata": {},
   "outputs": [],
   "source": [
    "y_proba = model.predict(X_user)\n",
    "y_pred = y_proba.argmax(axis=1)"
   ]
  },
  {
   "cell_type": "code",
   "execution_count": 62,
   "metadata": {},
   "outputs": [
    {
     "data": {
      "text/plain": [
       "array([ 8,  8,  0,  0,  0,  9, 10], dtype=int64)"
      ]
     },
     "execution_count": 62,
     "metadata": {},
     "output_type": "execute_result"
    }
   ],
   "source": [
    "y_pred"
   ]
  },
  {
   "cell_type": "code",
   "execution_count": 63,
   "metadata": {},
   "outputs": [
    {
     "name": "stdout",
     "output_type": "stream",
     "text": [
      "label predicted: ['research_computer_vision' 'research_computer_vision'\n",
      " 'marketing_google-home' 'marketing_google-home' 'marketing_google-home'\n",
      " 'research_nlp' 'research_quantum_computing']\n",
      "Query search: ['C:\\\\Users\\\\Hitesh Somani\\\\Documents\\\\hobby_projects\\\\nlp_document_finder\\\\nlp_document_finder\\\\Google\\\\research\\\\computer_vision.pdf']\n",
      "Query search: ['C:\\\\Users\\\\Hitesh Somani\\\\Documents\\\\hobby_projects\\\\nlp_document_finder\\\\nlp_document_finder\\\\Google\\\\research\\\\computer_vision.pdf']\n",
      "Query search: ['C:\\\\Users\\\\Hitesh Somani\\\\Documents\\\\hobby_projects\\\\nlp_document_finder\\\\nlp_document_finder\\\\Google\\\\marketing\\\\google-home.docx']\n",
      "Query search: ['C:\\\\Users\\\\Hitesh Somani\\\\Documents\\\\hobby_projects\\\\nlp_document_finder\\\\nlp_document_finder\\\\Google\\\\marketing\\\\google-home.docx']\n",
      "Query search: ['C:\\\\Users\\\\Hitesh Somani\\\\Documents\\\\hobby_projects\\\\nlp_document_finder\\\\nlp_document_finder\\\\Google\\\\marketing\\\\google-home.docx']\n",
      "Query search: ['C:\\\\Users\\\\Hitesh Somani\\\\Documents\\\\hobby_projects\\\\nlp_document_finder\\\\nlp_document_finder\\\\Google\\\\research\\\\nlp.pdf']\n",
      "Query search: ['C:\\\\Users\\\\Hitesh Somani\\\\Documents\\\\hobby_projects\\\\nlp_document_finder\\\\nlp_document_finder\\\\Google\\\\research\\\\quantum_computing.pdf']\n"
     ]
    }
   ],
   "source": [
    "y_proba = model.predict(X_user)\n",
    "y_pred = y_proba.argmax(axis=1)\n",
    "print(f\"label predicted: {le.inverse_transform(y_pred)}\")\n",
    "for pred in y_pred:\n",
    "    for intent in data['intents']:\n",
    "        if intent['label'] == le.inverse_transform(pred.reshape(1,)):\n",
    "            print(f\"Query search: {intent['responses']}\")"
   ]
  },
  {
   "cell_type": "code",
   "execution_count": 64,
   "metadata": {},
   "outputs": [
    {
     "data": {
      "text/plain": [
       "array([[3.69001962e-02, 1.23571068e-01, 1.60890451e-07, 2.24428368e-06,\n",
       "        8.17681425e-08, 8.05807421e-09, 8.73096762e-10, 1.65811598e-05,\n",
       "        7.97115743e-01, 3.64390035e-05, 1.53713208e-03, 1.70945041e-05,\n",
       "        5.82337496e-04, 4.02210280e-02],\n",
       "       [3.69001962e-02, 1.23571068e-01, 1.60890451e-07, 2.24428368e-06,\n",
       "        8.17681425e-08, 8.05807421e-09, 8.73096762e-10, 1.65811598e-05,\n",
       "        7.97115743e-01, 3.64390035e-05, 1.53713208e-03, 1.70945041e-05,\n",
       "        5.82337496e-04, 4.02210280e-02],\n",
       "       [9.99142170e-01, 3.04019952e-04, 2.62682107e-08, 2.85291044e-08,\n",
       "        6.22057961e-09, 1.68365617e-11, 1.16264316e-11, 3.26178542e-06,\n",
       "        4.16752911e-04, 1.64495475e-08, 2.20159491e-05, 3.19826654e-08,\n",
       "        3.37482629e-06, 1.08495980e-04],\n",
       "       [9.99142170e-01, 3.04019952e-04, 2.62682107e-08, 2.85291044e-08,\n",
       "        6.22057961e-09, 1.68365617e-11, 1.16264316e-11, 3.26178542e-06,\n",
       "        4.16752911e-04, 1.64495475e-08, 2.20159491e-05, 3.19826654e-08,\n",
       "        3.37482629e-06, 1.08495980e-04],\n",
       "       [9.94561017e-01, 3.07034259e-03, 7.73112703e-08, 4.97277767e-07,\n",
       "        2.69771192e-08, 4.35637193e-10, 2.03192241e-10, 1.09879024e-04,\n",
       "        1.39433634e-03, 1.56128301e-08, 8.02405793e-06, 2.97856502e-07,\n",
       "        1.34769580e-04, 7.20440352e-04],\n",
       "       [2.09266809e-03, 7.46516436e-02, 8.48874100e-04, 3.36682242e-05,\n",
       "        7.57947390e-04, 7.08314474e-07, 4.08876977e-09, 1.38733952e-07,\n",
       "        7.02703604e-04, 6.69699132e-01, 5.58136823e-03, 2.03049853e-01,\n",
       "        3.97459189e-05, 4.25415151e-02],\n",
       "       [4.74564843e-07, 2.37567605e-07, 2.80293271e-11, 5.48368772e-12,\n",
       "        5.39823871e-12, 1.87070520e-12, 7.13023640e-10, 1.05732001e-09,\n",
       "        1.13490110e-04, 1.28095435e-05, 9.99852896e-01, 1.29858568e-08,\n",
       "        2.10139888e-07, 1.97277368e-05]], dtype=float32)"
      ]
     },
     "execution_count": 64,
     "metadata": {},
     "output_type": "execute_result"
    }
   ],
   "source": [
    "# Lets y_proba\n",
    "y_proba"
   ]
  },
  {
   "cell_type": "code",
   "execution_count": 65,
   "metadata": {},
   "outputs": [
    {
     "data": {
      "text/plain": [
       "{'Please open computer vision document created on 1/6/2019': [],\n",
       " 'Please open computer vision document created on 1-6-2019': ['2019-6-1'],\n",
       " 'Give me google home document from 14/07': [],\n",
       " 'Give me google home document from 14-07': ['2020-7-14'],\n",
       " 'Give me google home document made 14 Jan': ['2020-1-14'],\n",
       " 'Give me nlp document made on March 12': ['2020-3-12'],\n",
       " 'Give me quantum computing document': []}"
      ]
     },
     "execution_count": 65,
     "metadata": {},
     "output_type": "execute_result"
    }
   ],
   "source": [
    "query_date"
   ]
  },
  {
   "cell_type": "markdown",
   "metadata": {},
   "source": [
    "### Save model"
   ]
  },
  {
   "cell_type": "code",
   "execution_count": 66,
   "metadata": {},
   "outputs": [
    {
     "name": "stdout",
     "output_type": "stream",
     "text": [
      "WARNING:tensorflow:From c:\\users\\hitesh somani\\documents\\hobby_projects\\nlp_document_finder\\nlp_document_finder_venv\\lib\\site-packages\\tensorflow\\python\\training\\tracking\\tracking.py:111: Model.state_updates (from tensorflow.python.keras.engine.training) is deprecated and will be removed in a future version.\n",
      "Instructions for updating:\n",
      "This property should not be used in TensorFlow 2.0, as updates are applied automatically.\n"
     ]
    },
    {
     "name": "stderr",
     "output_type": "stream",
     "text": [
      "WARNING:tensorflow:From c:\\users\\hitesh somani\\documents\\hobby_projects\\nlp_document_finder\\nlp_document_finder_venv\\lib\\site-packages\\tensorflow\\python\\training\\tracking\\tracking.py:111: Model.state_updates (from tensorflow.python.keras.engine.training) is deprecated and will be removed in a future version.\n",
      "Instructions for updating:\n",
      "This property should not be used in TensorFlow 2.0, as updates are applied automatically.\n"
     ]
    },
    {
     "name": "stdout",
     "output_type": "stream",
     "text": [
      "WARNING:tensorflow:From c:\\users\\hitesh somani\\documents\\hobby_projects\\nlp_document_finder\\nlp_document_finder_venv\\lib\\site-packages\\tensorflow\\python\\training\\tracking\\tracking.py:111: Layer.updates (from tensorflow.python.keras.engine.base_layer) is deprecated and will be removed in a future version.\n",
      "Instructions for updating:\n",
      "This property should not be used in TensorFlow 2.0, as updates are applied automatically.\n"
     ]
    },
    {
     "name": "stderr",
     "output_type": "stream",
     "text": [
      "WARNING:tensorflow:From c:\\users\\hitesh somani\\documents\\hobby_projects\\nlp_document_finder\\nlp_document_finder_venv\\lib\\site-packages\\tensorflow\\python\\training\\tracking\\tracking.py:111: Layer.updates (from tensorflow.python.keras.engine.base_layer) is deprecated and will be removed in a future version.\n",
      "Instructions for updating:\n",
      "This property should not be used in TensorFlow 2.0, as updates are applied automatically.\n"
     ]
    },
    {
     "name": "stdout",
     "output_type": "stream",
     "text": [
      "INFO:tensorflow:Assets written to: model\\assets\n"
     ]
    },
    {
     "name": "stderr",
     "output_type": "stream",
     "text": [
      "INFO:tensorflow:Assets written to: model\\assets\n"
     ]
    }
   ],
   "source": [
    "model.save('model')"
   ]
  },
  {
   "cell_type": "code",
   "execution_count": null,
   "metadata": {},
   "outputs": [],
   "source": []
  }
 ],
 "metadata": {
  "environment": {
   "name": "common-cpu.m49",
   "type": "gcloud",
   "uri": "gcr.io/deeplearning-platform-release/base-cpu:m49"
  },
  "kernelspec": {
   "display_name": "Python 3",
   "language": "python",
   "name": "python3"
  },
  "language_info": {
   "codemirror_mode": {
    "name": "ipython",
    "version": 3
   },
   "file_extension": ".py",
   "mimetype": "text/x-python",
   "name": "python",
   "nbconvert_exporter": "python",
   "pygments_lexer": "ipython3",
   "version": "3.8.4"
  }
 },
 "nbformat": 4,
 "nbformat_minor": 4
}
