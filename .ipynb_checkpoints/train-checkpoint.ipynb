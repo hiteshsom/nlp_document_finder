{
 "cells": [
  {
   "cell_type": "markdown",
   "metadata": {},
   "source": [
    "# NLP Document Locator"
   ]
  },
  {
   "cell_type": "markdown",
   "metadata": {},
   "source": [
    "## Import statements"
   ]
  },
  {
   "cell_type": "code",
   "execution_count": 1,
   "metadata": {},
   "outputs": [
    {
     "name": "stderr",
     "output_type": "stream",
     "text": [
      "[nltk_data] Downloading package punkt to /home/jupyter/nltk_data...\n",
      "[nltk_data]   Package punkt is already up-to-date!\n",
      "[nltk_data] Downloading package stopwords to\n",
      "[nltk_data]     /home/jupyter/nltk_data...\n",
      "[nltk_data]   Package stopwords is already up-to-date!\n"
     ]
    }
   ],
   "source": [
    "import nltk\n",
    "nltk.download('punkt')\n",
    "nltk.download('stopwords')\n",
    "from nltk.stem.snowball import SnowballStemmer\n",
    "stemmer = SnowballStemmer(\"english\")\n",
    "\n",
    "import pandas as pd\n",
    "import numpy as np\n",
    "import random\n",
    "from datetime import datetime"
   ]
  },
  {
   "cell_type": "markdown",
   "metadata": {},
   "source": [
    "## Load data"
   ]
  },
  {
   "cell_type": "code",
   "execution_count": 2,
   "metadata": {},
   "outputs": [],
   "source": [
    "import json\n",
    "with open('/home/jupyter/nlp_document_finder/data/train2.json') as file:\n",
    "    data = json.load(file)"
   ]
  },
  {
   "cell_type": "markdown",
   "metadata": {},
   "source": [
    "## Preprocessing"
   ]
  },
  {
   "cell_type": "code",
   "execution_count": 3,
   "metadata": {},
   "outputs": [],
   "source": [
    "# words = []\n",
    "# labels = []\n",
    "# docs_x = []\n",
    "# docs_y = []\n",
    "\n",
    "# # ------------------- TOKENIZE ----------------- #\n",
    "# for intent in data['intents']:\n",
    "#     for pattern in intent['patterns']:\n",
    "#         wrds = nltk.word_tokenize(pattern)\n",
    "#         words.extend(wrds)\n",
    "#         docs_x.append(wrds)\n",
    "#         docs_y.append(intent[\"tag\"])\n",
    "        \n",
    "#     if intent['tag'] not in labels:\n",
    "#         labels.append(intent['tag'])\n",
    "       "
   ]
  },
  {
   "cell_type": "code",
   "execution_count": 4,
   "metadata": {},
   "outputs": [],
   "source": [
    "# # --------------------STOP WORD REMOVAL ----------#\n",
    "# from nltk.corpus import stopwords\n",
    "# stop_words = list(set(stopwords.words('english'))) \n",
    "\n",
    "# for word in words:\n",
    "#     if word in stop_words:\n",
    "#         words.remove(word)\n",
    "\n",
    "# for wrd in docs_x:\n",
    "#     for word in wrd:\n",
    "#         if word in stop_words:\n",
    "#             wrd.remove(word)"
   ]
  },
  {
   "cell_type": "code",
   "execution_count": 5,
   "metadata": {},
   "outputs": [],
   "source": [
    "# # ------------------ REMOVE PUNCTUATION ----------- #\n",
    "# import string\n",
    "# for word in words:\n",
    "#     word = word.translate(str.maketrans('', '', string.punctuation))\n",
    "#     word = word.strip()\n",
    "\n",
    "\n",
    "# for wrd in docs_x:\n",
    "#     for word in wrd:\n",
    "#         word = word.translate(str.maketrans('', '', string.punctuation))\n",
    "#         word = word.strip()"
   ]
  },
  {
   "cell_type": "code",
   "execution_count": 6,
   "metadata": {},
   "outputs": [],
   "source": [
    "# # ---------------- STEMMING ------------------ #\n",
    "# words = [stemmer.stem(w.lower()) for w in words if w != \"?\"]\n",
    "# words = sorted(list(set(words)))\n",
    "\n",
    "# labels = sorted(labels)"
   ]
  },
  {
   "cell_type": "code",
   "execution_count": 7,
   "metadata": {},
   "outputs": [],
   "source": [
    "rows = []\n",
    "labels = []\n",
    "for intent in data['intents']:\n",
    "    rows.extend(intent['train_data'])\n",
    "    label = []\n",
    "    label.append(intent['label'])\n",
    "    labels.extend(label*len(intent['train_data']))"
   ]
  },
  {
   "cell_type": "markdown",
   "metadata": {},
   "source": [
    "### Date Recognition"
   ]
  },
  {
   "cell_type": "code",
   "execution_count": 8,
   "metadata": {},
   "outputs": [],
   "source": [
    "from datetime import datetime\n",
    "\n",
    "def decode_date(tokens):\n",
    "\n",
    "    months_fullform = ['january', 'february', 'march', 'april', 'may', 'june', 'july', 'august', 'september', 'october', 'november', 'decemeber']\n",
    "    months_shortform = ['jan', 'feb', 'mar', 'apr', 'may', 'jun', 'jul', 'aug', 'sep', 'oct', 'nov', 'dec']\n",
    "    month = 0\n",
    "    for token in tokens:\n",
    "        try:\n",
    "            int(token)\n",
    "        except:\n",
    "            if token.lower() in months_fullform:\n",
    "                month = months_fullform.index(token.lower()) + 1\n",
    "            elif token.lower() in months_shortform:\n",
    "                month = months_shortform.index(token.lower()) + 1\n",
    "            tokens.remove(token)\n",
    "        \n",
    "    if len(tokens) > 2:\n",
    "        if month:\n",
    "            day = int(tokens[0])\n",
    "            year = int(tokens[2])\n",
    "        else:\n",
    "            day = int(tokens[0])\n",
    "            month = int(tokens[1])\n",
    "            year = int(tokens[2])\n",
    "    elif len(tokens) > 1:\n",
    "        if month:\n",
    "            day = int(tokens[0])\n",
    "            year = 2020\n",
    "        else:\n",
    "            day = int(tokens[0])\n",
    "            month = int(tokens[1])\n",
    "            year = 2020\n",
    "    elif len(tokens)==1:\n",
    "        day = int(tokens[0])\n",
    "        year = 2020\n",
    "    return (day, month, year)"
   ]
  },
  {
   "cell_type": "code",
   "execution_count": 9,
   "metadata": {},
   "outputs": [],
   "source": [
    "# !python3 -m spacy download en_core_web_lg\n",
    "import spacy\n",
    "sp_lg = spacy.load('en_core_web_lg')\n",
    "import nltk\n",
    "import re\n",
    "\n",
    "query_date = {}\n",
    "for idx, row in enumerate(rows):\n",
    "    date_occurences = [(ent.text.strip(), ent.label_) for ent in sp_lg(row).ents if ent.label_ == 'DATE']\n",
    "    query_date[row] = []\n",
    "    \n",
    "    for date in date_occurences:\n",
    "        try:\n",
    "            date_token = re.split('\\s+|/|-|:',date[0])\n",
    "            day, month, year = decode_date(date_token)\n",
    "            query_date[row].append((f'{year}-{month}-{day}'))\n",
    "            row = row.replace(date[0], \"\", 1)\n",
    "            rows[idx] = row\n",
    "        except:\n",
    "            pass"
   ]
  },
  {
   "cell_type": "markdown",
   "metadata": {},
   "source": [
    "### Universal Sentence Encoder"
   ]
  },
  {
   "cell_type": "code",
   "execution_count": 10,
   "metadata": {},
   "outputs": [],
   "source": [
    "import tensorflow_hub as hub\n",
    "embed = hub.load(\"https://tfhub.dev/google/universal-sentence-encoder/4\")"
   ]
  },
  {
   "cell_type": "code",
   "execution_count": 11,
   "metadata": {},
   "outputs": [],
   "source": [
    "embedding = embed(rows)\n",
    "\n",
    "X = pd.DataFrame(data=embedding.numpy())\n",
    "X['label'] = labels"
   ]
  },
  {
   "cell_type": "code",
   "execution_count": 12,
   "metadata": {},
   "outputs": [
    {
     "data": {
      "text/html": [
       "<div>\n",
       "<style scoped>\n",
       "    .dataframe tbody tr th:only-of-type {\n",
       "        vertical-align: middle;\n",
       "    }\n",
       "\n",
       "    .dataframe tbody tr th {\n",
       "        vertical-align: top;\n",
       "    }\n",
       "\n",
       "    .dataframe thead th {\n",
       "        text-align: right;\n",
       "    }\n",
       "</style>\n",
       "<table border=\"1\" class=\"dataframe\">\n",
       "  <thead>\n",
       "    <tr style=\"text-align: right;\">\n",
       "      <th></th>\n",
       "      <th>0</th>\n",
       "      <th>1</th>\n",
       "      <th>2</th>\n",
       "      <th>3</th>\n",
       "      <th>4</th>\n",
       "      <th>5</th>\n",
       "      <th>6</th>\n",
       "      <th>7</th>\n",
       "      <th>8</th>\n",
       "      <th>9</th>\n",
       "      <th>...</th>\n",
       "      <th>503</th>\n",
       "      <th>504</th>\n",
       "      <th>505</th>\n",
       "      <th>506</th>\n",
       "      <th>507</th>\n",
       "      <th>508</th>\n",
       "      <th>509</th>\n",
       "      <th>510</th>\n",
       "      <th>511</th>\n",
       "      <th>label</th>\n",
       "    </tr>\n",
       "  </thead>\n",
       "  <tbody>\n",
       "    <tr>\n",
       "      <th>0</th>\n",
       "      <td>-0.023522</td>\n",
       "      <td>-0.027589</td>\n",
       "      <td>-0.015897</td>\n",
       "      <td>0.021743</td>\n",
       "      <td>0.027776</td>\n",
       "      <td>0.011346</td>\n",
       "      <td>0.018255</td>\n",
       "      <td>0.028732</td>\n",
       "      <td>0.064652</td>\n",
       "      <td>-0.080686</td>\n",
       "      <td>...</td>\n",
       "      <td>-0.007931</td>\n",
       "      <td>0.055987</td>\n",
       "      <td>-0.059289</td>\n",
       "      <td>0.028541</td>\n",
       "      <td>0.001592</td>\n",
       "      <td>0.027852</td>\n",
       "      <td>0.019604</td>\n",
       "      <td>-0.089315</td>\n",
       "      <td>-0.069819</td>\n",
       "      <td>marketing_kaggle</td>\n",
       "    </tr>\n",
       "    <tr>\n",
       "      <th>1</th>\n",
       "      <td>-0.002800</td>\n",
       "      <td>0.004039</td>\n",
       "      <td>-0.036565</td>\n",
       "      <td>0.020619</td>\n",
       "      <td>0.035993</td>\n",
       "      <td>0.022251</td>\n",
       "      <td>0.032340</td>\n",
       "      <td>0.029259</td>\n",
       "      <td>0.028480</td>\n",
       "      <td>-0.077354</td>\n",
       "      <td>...</td>\n",
       "      <td>-0.054188</td>\n",
       "      <td>0.007662</td>\n",
       "      <td>-0.061701</td>\n",
       "      <td>0.016212</td>\n",
       "      <td>0.016110</td>\n",
       "      <td>-0.020822</td>\n",
       "      <td>0.069056</td>\n",
       "      <td>-0.080873</td>\n",
       "      <td>-0.054029</td>\n",
       "      <td>marketing_kaggle</td>\n",
       "    </tr>\n",
       "    <tr>\n",
       "      <th>2</th>\n",
       "      <td>-0.002595</td>\n",
       "      <td>0.013395</td>\n",
       "      <td>-0.015542</td>\n",
       "      <td>0.005902</td>\n",
       "      <td>0.001254</td>\n",
       "      <td>-0.000004</td>\n",
       "      <td>0.021245</td>\n",
       "      <td>0.037117</td>\n",
       "      <td>0.044805</td>\n",
       "      <td>-0.054018</td>\n",
       "      <td>...</td>\n",
       "      <td>0.008258</td>\n",
       "      <td>0.023106</td>\n",
       "      <td>-0.071179</td>\n",
       "      <td>0.041438</td>\n",
       "      <td>0.027743</td>\n",
       "      <td>0.039953</td>\n",
       "      <td>0.066588</td>\n",
       "      <td>-0.090802</td>\n",
       "      <td>-0.061921</td>\n",
       "      <td>marketing_kaggle</td>\n",
       "    </tr>\n",
       "    <tr>\n",
       "      <th>3</th>\n",
       "      <td>-0.015161</td>\n",
       "      <td>0.060924</td>\n",
       "      <td>-0.015563</td>\n",
       "      <td>0.015570</td>\n",
       "      <td>-0.048320</td>\n",
       "      <td>0.004806</td>\n",
       "      <td>-0.049353</td>\n",
       "      <td>0.021348</td>\n",
       "      <td>0.012264</td>\n",
       "      <td>-0.068966</td>\n",
       "      <td>...</td>\n",
       "      <td>-0.057275</td>\n",
       "      <td>0.052424</td>\n",
       "      <td>-0.049835</td>\n",
       "      <td>0.037803</td>\n",
       "      <td>0.001642</td>\n",
       "      <td>0.005462</td>\n",
       "      <td>0.065089</td>\n",
       "      <td>-0.069093</td>\n",
       "      <td>-0.014209</td>\n",
       "      <td>marketing_kaggle</td>\n",
       "    </tr>\n",
       "    <tr>\n",
       "      <th>4</th>\n",
       "      <td>0.014937</td>\n",
       "      <td>-0.008112</td>\n",
       "      <td>-0.049251</td>\n",
       "      <td>0.030344</td>\n",
       "      <td>0.047071</td>\n",
       "      <td>0.008654</td>\n",
       "      <td>0.033338</td>\n",
       "      <td>0.037916</td>\n",
       "      <td>0.021403</td>\n",
       "      <td>-0.069347</td>\n",
       "      <td>...</td>\n",
       "      <td>0.030978</td>\n",
       "      <td>0.054777</td>\n",
       "      <td>-0.049153</td>\n",
       "      <td>0.032623</td>\n",
       "      <td>-0.000436</td>\n",
       "      <td>0.013973</td>\n",
       "      <td>0.050768</td>\n",
       "      <td>-0.090002</td>\n",
       "      <td>-0.052556</td>\n",
       "      <td>marketing_kaggle</td>\n",
       "    </tr>\n",
       "  </tbody>\n",
       "</table>\n",
       "<p>5 rows × 513 columns</p>\n",
       "</div>"
      ],
      "text/plain": [
       "          0         1         2         3         4         5         6  \\\n",
       "0 -0.023522 -0.027589 -0.015897  0.021743  0.027776  0.011346  0.018255   \n",
       "1 -0.002800  0.004039 -0.036565  0.020619  0.035993  0.022251  0.032340   \n",
       "2 -0.002595  0.013395 -0.015542  0.005902  0.001254 -0.000004  0.021245   \n",
       "3 -0.015161  0.060924 -0.015563  0.015570 -0.048320  0.004806 -0.049353   \n",
       "4  0.014937 -0.008112 -0.049251  0.030344  0.047071  0.008654  0.033338   \n",
       "\n",
       "          7         8         9  ...       503       504       505       506  \\\n",
       "0  0.028732  0.064652 -0.080686  ... -0.007931  0.055987 -0.059289  0.028541   \n",
       "1  0.029259  0.028480 -0.077354  ... -0.054188  0.007662 -0.061701  0.016212   \n",
       "2  0.037117  0.044805 -0.054018  ...  0.008258  0.023106 -0.071179  0.041438   \n",
       "3  0.021348  0.012264 -0.068966  ... -0.057275  0.052424 -0.049835  0.037803   \n",
       "4  0.037916  0.021403 -0.069347  ...  0.030978  0.054777 -0.049153  0.032623   \n",
       "\n",
       "        507       508       509       510       511             label  \n",
       "0  0.001592  0.027852  0.019604 -0.089315 -0.069819  marketing_kaggle  \n",
       "1  0.016110 -0.020822  0.069056 -0.080873 -0.054029  marketing_kaggle  \n",
       "2  0.027743  0.039953  0.066588 -0.090802 -0.061921  marketing_kaggle  \n",
       "3  0.001642  0.005462  0.065089 -0.069093 -0.014209  marketing_kaggle  \n",
       "4 -0.000436  0.013973  0.050768 -0.090002 -0.052556  marketing_kaggle  \n",
       "\n",
       "[5 rows x 513 columns]"
      ]
     },
     "execution_count": 12,
     "metadata": {},
     "output_type": "execute_result"
    }
   ],
   "source": [
    "X.head()"
   ]
  },
  {
   "cell_type": "code",
   "execution_count": 13,
   "metadata": {},
   "outputs": [],
   "source": [
    "import seaborn as sns\n",
    "import matplotlib.pyplot as plt\n",
    "\n",
    "def plot_similarity(labels, features, rotation):\n",
    "    corr = np.inner(features, features)\n",
    "    sns.set(font_scale=1)\n",
    "    fig, ax = plt.subplots(figsize=(18, 18))\n",
    "    g = sns.heatmap(\n",
    "      corr,\n",
    "      xticklabels=labels,\n",
    "      yticklabels=labels,\n",
    "      vmin=0,\n",
    "      vmax=1,\n",
    "      cmap=\"YlOrRd\", \n",
    "      ax=ax)\n",
    "    g.set_xticklabels(labels, rotation=rotation)\n",
    "    g.set_title(\"Semantic Textual Similarity\")\n",
    "\n",
    "def run_and_plot(messages_):\n",
    "    message_embeddings_ = embed(messages_)\n",
    "    plot_similarity(messages_, message_embeddings_, 90)\n",
    "\n",
    "\n",
    "messages = rows\n",
    "\n",
    "# run_and_plot(messages)\n",
    "               "
   ]
  },
  {
   "cell_type": "markdown",
   "metadata": {},
   "source": [
    "### t-SNE"
   ]
  },
  {
   "cell_type": "code",
   "execution_count": 14,
   "metadata": {},
   "outputs": [
    {
     "name": "stdout",
     "output_type": "stream",
     "text": [
      "[t-SNE] Computing 31 nearest neighbors...\n",
      "[t-SNE] Indexed 135 samples in 0.003s...\n",
      "[t-SNE] Computed neighbors for 135 samples in 0.019s...\n",
      "[t-SNE] Computed conditional probabilities for sample 135 / 135\n",
      "[t-SNE] Mean sigma: 0.366267\n",
      "[t-SNE] KL divergence after 250 iterations with early exaggeration: 56.549149\n",
      "[t-SNE] KL divergence after 300 iterations: 0.360559\n",
      "t-SNE done! Time elapsed: 0.23712587356567383 seconds\n"
     ]
    }
   ],
   "source": [
    "from sklearn.manifold import TSNE\n",
    "import time\n",
    "\n",
    "time_start = time.time()\n",
    "tsne = TSNE(n_components=2, verbose=1, perplexity=10, n_iter=300)\n",
    "tsne_results = tsne.fit_transform(X.drop(columns=['label']))\n",
    "print('t-SNE done! Time elapsed: {} seconds'.format(time.time()-time_start))"
   ]
  },
  {
   "cell_type": "code",
   "execution_count": 15,
   "metadata": {},
   "outputs": [
    {
     "data": {
      "text/plain": [
       "array([-19.609856, -18.722076, -20.740673, -21.176867, -19.294296,\n",
       "       -18.108225, -18.85968 , -18.26906 , -20.637896], dtype=float32)"
      ]
     },
     "execution_count": 15,
     "metadata": {},
     "output_type": "execute_result"
    }
   ],
   "source": [
    "tsne_results[0:9, 0]"
   ]
  },
  {
   "cell_type": "code",
   "execution_count": 16,
   "metadata": {},
   "outputs": [
    {
     "data": {
      "text/plain": [
       "<matplotlib.axes._subplots.AxesSubplot at 0x7fed18327210>"
      ]
     },
     "execution_count": 16,
     "metadata": {},
     "output_type": "execute_result"
    },
    {
     "data": {
      "image/png": "[encoded data removed]",
      "text/plain": [
       "<Figure size 1152x720 with 1 Axes>"
      ]
     },
     "metadata": {
      "needs_background": "light"
     },
     "output_type": "display_data"
    }
   ],
   "source": [
    "import matplotlib.pyplot as plt\n",
    "import seaborn as sns\n",
    "\n",
    "# fig, ax = plt.subplots(figsize=(12,9))\n",
    "# ax.scatter(tsne_results[0:18, 0], tsne_results[0:18, 1])\n",
    "# plt.show()\n",
    "\n",
    "df_subset = pd.DataFrame()\n",
    "df_subset['tsne-2d-one'] = tsne_results[:,0]\n",
    "df_subset['tsne-2d-two'] = tsne_results[:,1]\n",
    "df_subset['label'] = X['label']\n",
    "\n",
    "plt.figure(figsize=(16,10))\n",
    "sns.scatterplot(\n",
    "    x=\"tsne-2d-one\", y=\"tsne-2d-two\",\n",
    "    hue=\"label\",\n",
    "    palette=sns.color_palette(\"hls\", 9),\n",
    "    data=df_subset,\n",
    "    legend=\"full\",\n",
    "    alpha=1,\n",
    "    s=100\n",
    ")"
   ]
  },
  {
   "cell_type": "markdown",
   "metadata": {},
   "source": [
    "## Modelling"
   ]
  },
  {
   "cell_type": "code",
   "execution_count": 17,
   "metadata": {},
   "outputs": [],
   "source": [
    "# Data Prepraration\n",
    "from sklearn.model_selection import train_test_split\n",
    "from sklearn.preprocessing import LabelEncoder\n",
    "\n",
    "y = X['label']\n",
    "X = X.drop(columns=['label'], axis=1)\n",
    "\n",
    "X_train, X_test, y_train, y_test = train_test_split(X, y, test_size = 0.2, random_state=10)\n",
    "le = LabelEncoder()\n",
    "y_train = le.fit_transform(y_train)\n",
    "y_test = le.transform(y_test)"
   ]
  },
  {
   "cell_type": "code",
   "execution_count": 18,
   "metadata": {},
   "outputs": [
    {
     "data": {
      "text/plain": [
       "set()"
      ]
     },
     "execution_count": 18,
     "metadata": {},
     "output_type": "execute_result"
    }
   ],
   "source": [
    "set(X_train.index).intersection(set(X_test.index))"
   ]
  },
  {
   "cell_type": "markdown",
   "metadata": {},
   "source": [
    "So an empty intersection set of both sets proves that there is no observation common in train and test data"
   ]
  },
  {
   "cell_type": "code",
   "execution_count": 19,
   "metadata": {},
   "outputs": [],
   "source": [
    "# Load the TensorBoard notebook extension\n",
    "%load_ext tensorboard"
   ]
  },
  {
   "cell_type": "code",
   "execution_count": 20,
   "metadata": {},
   "outputs": [],
   "source": [
    "# Clear any logs from previous runs\n",
    "!rm -rf ./logs/ "
   ]
  },
  {
   "cell_type": "code",
   "execution_count": 21,
   "metadata": {},
   "outputs": [],
   "source": [
    "# Building Neural network\n",
    "import tensorflow as tf\n",
    "\n",
    "from tensorflow.keras.models import Sequential\n",
    "from tensorflow.keras.layers import Dense, Dropout, Activation, Flatten, Conv2D, MaxPooling2D\n",
    "import datetime\n",
    "\n",
    "log_dir = \"logs/fit/\" + datetime.datetime.now().strftime(\"%Y%m%d-%H%M%S\")\n",
    "tensorboard_callback = tf.keras.callbacks.TensorBoard(log_dir=log_dir, histogram_freq=1)\n",
    "\n",
    "model = Sequential()\n",
    "model.add(Dense(64, input_shape=(512,)))\n",
    "model.add(Dense(100))\n",
    "model.add(Dense(1000))\n",
    "model.add(Dense(100))\n",
    "model.add(Dense(len(set(y_train))))\n",
    "model.add(Activation('softmax'))"
   ]
  },
  {
   "cell_type": "code",
   "execution_count": 22,
   "metadata": {},
   "outputs": [
    {
     "name": "stdout",
     "output_type": "stream",
     "text": [
      "Model: \"sequential\"\n",
      "_________________________________________________________________\n",
      "Layer (type)                 Output Shape              Param #   \n",
      "=================================================================\n",
      "dense (Dense)                (None, 64)                32832     \n",
      "_________________________________________________________________\n",
      "dense_1 (Dense)              (None, 100)               6500      \n",
      "_________________________________________________________________\n",
      "dense_2 (Dense)              (None, 1000)              101000    \n",
      "_________________________________________________________________\n",
      "dense_3 (Dense)              (None, 100)               100100    \n",
      "_________________________________________________________________\n",
      "dense_4 (Dense)              (None, 9)                 909       \n",
      "_________________________________________________________________\n",
      "activation (Activation)      (None, 9)                 0         \n",
      "=================================================================\n",
      "Total params: 241,341\n",
      "Trainable params: 241,341\n",
      "Non-trainable params: 0\n",
      "_________________________________________________________________\n"
     ]
    }
   ],
   "source": [
    "model.summary()"
   ]
  },
  {
   "cell_type": "code",
   "execution_count": 23,
   "metadata": {},
   "outputs": [],
   "source": [
    "model.compile(loss=\"sparse_categorical_crossentropy\", optimizer='adam', metrics=[tf.keras.metrics.SparseCategoricalAccuracy()])"
   ]
  },
  {
   "cell_type": "code",
   "execution_count": 24,
   "metadata": {},
   "outputs": [
    {
     "data": {
      "image/png": "[encoded data removed]",
      "text/plain": [
       "<IPython.core.display.Image object>"
      ]
     },
     "execution_count": 24,
     "metadata": {},
     "output_type": "execute_result"
    }
   ],
   "source": [
    "from tensorflow import keras\n",
    "keras.utils.plot_model(model)"
   ]
  },
  {
   "cell_type": "code",
   "execution_count": 25,
   "metadata": {},
   "outputs": [
    {
     "name": "stdout",
     "output_type": "stream",
     "text": [
      "Epoch 1/10\n",
      "4/4 [==============================] - 0s 61ms/step - loss: 2.0937 - sparse_categorical_accuracy: 0.3519 - val_loss: 1.7908 - val_sparse_categorical_accuracy: 0.8889\n",
      "Epoch 2/10\n",
      "4/4 [==============================] - 0s 14ms/step - loss: 1.5478 - sparse_categorical_accuracy: 0.9815 - val_loss: 1.2052 - val_sparse_categorical_accuracy: 0.9630\n",
      "Epoch 3/10\n",
      "4/4 [==============================] - 0s 14ms/step - loss: 0.8652 - sparse_categorical_accuracy: 0.9722 - val_loss: 0.5783 - val_sparse_categorical_accuracy: 0.9630\n",
      "Epoch 4/10\n",
      "4/4 [==============================] - 0s 14ms/step - loss: 0.3638 - sparse_categorical_accuracy: 1.0000 - val_loss: 0.1448 - val_sparse_categorical_accuracy: 1.0000\n",
      "Epoch 5/10\n",
      "4/4 [==============================] - 0s 14ms/step - loss: 0.1005 - sparse_categorical_accuracy: 1.0000 - val_loss: 0.0317 - val_sparse_categorical_accuracy: 1.0000\n",
      "Epoch 6/10\n",
      "4/4 [==============================] - 0s 14ms/step - loss: 0.0260 - sparse_categorical_accuracy: 1.0000 - val_loss: 0.0088 - val_sparse_categorical_accuracy: 1.0000\n",
      "Epoch 7/10\n",
      "4/4 [==============================] - 0s 14ms/step - loss: 0.0063 - sparse_categorical_accuracy: 1.0000 - val_loss: 0.0019 - val_sparse_categorical_accuracy: 1.0000\n",
      "Epoch 8/10\n",
      "4/4 [==============================] - 0s 13ms/step - loss: 0.0016 - sparse_categorical_accuracy: 1.0000 - val_loss: 7.1980e-04 - val_sparse_categorical_accuracy: 1.0000\n",
      "Epoch 9/10\n",
      "4/4 [==============================] - 0s 14ms/step - loss: 6.1776e-04 - sparse_categorical_accuracy: 1.0000 - val_loss: 3.9690e-04 - val_sparse_categorical_accuracy: 1.0000\n",
      "Epoch 10/10\n",
      "4/4 [==============================] - 0s 14ms/step - loss: 3.0010e-04 - sparse_categorical_accuracy: 1.0000 - val_loss: 2.7848e-04 - val_sparse_categorical_accuracy: 1.0000\n"
     ]
    }
   ],
   "source": [
    "history = model.fit(X_train, y_train, epochs=10,\n",
    "                    validation_data=(X_test, y_test))"
   ]
  },
  {
   "cell_type": "code",
   "execution_count": 26,
   "metadata": {},
   "outputs": [],
   "source": [
    "#%tensorboard --logdir logs/fit"
   ]
  },
  {
   "cell_type": "code",
   "execution_count": 27,
   "metadata": {},
   "outputs": [],
   "source": [
    "# gcloud compute ssh python-nlp-document-finder --project nlp-document-finder --zone us-west1-b -- -L 2222:localhost:6007 "
   ]
  },
  {
   "cell_type": "markdown",
   "metadata": {},
   "source": [
    "### Prediction "
   ]
  },
  {
   "cell_type": "code",
   "execution_count": 28,
   "metadata": {},
   "outputs": [],
   "source": [
    "y_proba = model.predict(X_test)"
   ]
  },
  {
   "cell_type": "code",
   "execution_count": 29,
   "metadata": {},
   "outputs": [],
   "source": [
    "y_pred = y_proba.argmax(axis=1)"
   ]
  },
  {
   "cell_type": "code",
   "execution_count": 30,
   "metadata": {},
   "outputs": [
    {
     "data": {
      "text/plain": [
       "array([[3.53716487e-08, 1.31077237e-13, 1.01154525e-08, 2.94695019e-05,\n",
       "        7.82919827e-08, 9.99970436e-01, 1.44442604e-13, 6.87802766e-12,\n",
       "        2.16012586e-09],\n",
       "       [1.47815721e-04, 1.17654678e-10, 1.81643557e-07, 9.99155998e-01,\n",
       "        5.97742610e-06, 6.58319681e-04, 3.46731428e-11, 1.78931384e-10,\n",
       "        3.16894111e-05],\n",
       "       [1.91128902e-06, 4.28053318e-05, 2.84619078e-10, 1.61772805e-05,\n",
       "        9.99924183e-01, 1.44287415e-05, 5.51138202e-09, 1.16705648e-14,\n",
       "        5.03561637e-07],\n",
       "       [3.51348817e-08, 5.40607446e-12, 8.00427316e-08, 8.82872846e-05,\n",
       "        4.28328207e-07, 9.99911070e-01, 2.29510920e-12, 6.84797427e-11,\n",
       "        6.38459108e-09],\n",
       "       [9.99874115e-01, 1.77588900e-05, 8.14509767e-05, 2.54836450e-05,\n",
       "        9.30448607e-07, 4.46113404e-08, 4.19487986e-11, 5.25200022e-12,\n",
       "        2.88926458e-07],\n",
       "       [1.25569248e-04, 1.70291359e-09, 7.11359178e-07, 9.99645710e-01,\n",
       "        1.03264683e-05, 1.98366164e-04, 5.54271767e-11, 2.04729123e-10,\n",
       "        1.92634452e-05],\n",
       "       [3.68046678e-08, 3.46097664e-11, 6.95620514e-16, 1.48970503e-09,\n",
       "        2.30111097e-10, 1.37822618e-11, 1.58819773e-06, 6.03122032e-08,\n",
       "        9.99998331e-01],\n",
       "       [9.99067008e-01, 1.26248851e-04, 5.80777647e-04, 2.19006834e-04,\n",
       "        6.92471440e-06, 1.85388487e-07, 1.19351204e-11, 3.87854272e-13,\n",
       "        1.87521643e-08],\n",
       "       [9.99353111e-01, 1.80460178e-04, 3.79962934e-04, 8.01540518e-05,\n",
       "        5.80682172e-06, 1.26488018e-07, 2.98514158e-10, 1.45749610e-11,\n",
       "        3.36737656e-07],\n",
       "       [1.27359442e-07, 3.38021928e-12, 1.36129728e-07, 2.53289472e-04,\n",
       "        4.91182334e-07, 9.99746025e-01, 5.65442485e-12, 4.79004614e-10,\n",
       "        4.45897186e-08],\n",
       "       [2.38739197e-08, 9.99993086e-01, 6.50810534e-06, 1.07813938e-10,\n",
       "        1.12840247e-07, 7.34819811e-13, 2.32630740e-07, 5.28361177e-09,\n",
       "        1.19987409e-09],\n",
       "       [1.69997264e-07, 9.99993205e-01, 5.34818628e-06, 2.89333529e-10,\n",
       "        6.11062546e-07, 4.13188624e-12, 6.21870413e-07, 5.42708678e-09,\n",
       "        8.87663187e-09],\n",
       "       [1.00898367e-04, 7.18999127e-09, 9.24098458e-07, 9.99437630e-01,\n",
       "        2.83708341e-05, 3.48088070e-04, 7.83515919e-10, 1.52888535e-09,\n",
       "        8.39765999e-05],\n",
       "       [3.18669119e-10, 7.74390756e-08, 2.34077834e-05, 8.60798152e-12,\n",
       "        2.77487265e-14, 5.11599920e-12, 2.03913055e-06, 9.99974489e-01,\n",
       "        2.89354887e-08],\n",
       "       [4.81057540e-08, 2.92847309e-11, 3.54909822e-16, 9.93394034e-10,\n",
       "        3.03585879e-10, 4.03463244e-12, 2.72492593e-06, 3.60830512e-08,\n",
       "        9.99997139e-01],\n",
       "       [4.10743037e-11, 7.57848397e-07, 4.01258476e-05, 6.40265879e-12,\n",
       "        3.08581489e-14, 1.63045998e-12, 1.62344247e-06, 9.99957561e-01,\n",
       "        8.62614158e-09],\n",
       "       [2.73101281e-11, 1.94666165e-04, 2.45015325e-14, 3.39554265e-14,\n",
       "        4.53034277e-10, 1.96960105e-15, 9.99749601e-01, 2.08477377e-06,\n",
       "        5.36037041e-05],\n",
       "       [8.47149284e-09, 1.37342766e-04, 9.99773324e-01, 3.14351267e-10,\n",
       "        1.67850933e-12, 3.87741887e-11, 1.66999428e-10, 8.93040124e-05,\n",
       "        9.54832784e-13],\n",
       "       [2.08970437e-06, 3.52512579e-04, 3.12093218e-09, 2.53570870e-05,\n",
       "        9.99599993e-01, 1.75530204e-05, 4.58946694e-08, 5.78337454e-13,\n",
       "        2.48885453e-06],\n",
       "       [4.91278388e-06, 1.54010195e-04, 5.80063164e-10, 3.53473224e-05,\n",
       "        9.99798954e-01, 5.66699055e-06, 7.14348092e-09, 1.74916911e-14,\n",
       "        1.20186564e-06],\n",
       "       [8.40444159e-08, 9.99997377e-01, 1.97209079e-06, 4.06768334e-11,\n",
       "        4.73440394e-07, 3.65421799e-12, 5.40360361e-08, 1.11335281e-10,\n",
       "        3.23151367e-10],\n",
       "       [4.32265388e-08, 1.33860409e-10, 1.08788867e-15, 1.32337030e-09,\n",
       "        7.36263162e-10, 2.31840259e-11, 4.81490270e-06, 9.35357178e-08,\n",
       "        9.99994993e-01],\n",
       "       [2.29857058e-08, 1.06679743e-09, 5.82005689e-14, 2.12281037e-09,\n",
       "        1.03743247e-09, 1.15701684e-10, 3.67828106e-05, 1.00355610e-05,\n",
       "        9.99953151e-01],\n",
       "       [2.07731675e-04, 2.23423080e-09, 1.00811883e-06, 9.99191582e-01,\n",
       "        1.32715240e-05, 3.21509229e-04, 7.62168051e-10, 7.28774241e-09,\n",
       "        2.64965114e-04],\n",
       "       [1.21710613e-07, 1.02618347e-09, 1.25939603e-14, 2.97789060e-09,\n",
       "        1.19844468e-09, 1.11753246e-11, 8.28043176e-06, 2.58625960e-07,\n",
       "        9.99991298e-01],\n",
       "       [4.62963036e-11, 6.12971280e-06, 3.13006181e-15, 2.67016074e-14,\n",
       "        2.49720911e-10, 1.22361014e-15, 9.99783099e-01, 2.34212871e-06,\n",
       "        2.08417187e-04],\n",
       "       [1.20314158e-04, 2.84937585e-09, 4.66841726e-07, 9.98651206e-01,\n",
       "        3.29035756e-05, 1.15955749e-03, 2.61869582e-10, 2.48622650e-10,\n",
       "        3.56133642e-05]], dtype=float32)"
      ]
     },
     "execution_count": 30,
     "metadata": {},
     "output_type": "execute_result"
    }
   ],
   "source": [
    "y_proba"
   ]
  },
  {
   "cell_type": "code",
   "execution_count": 31,
   "metadata": {},
   "outputs": [
    {
     "data": {
      "text/plain": [
       "array(['marketing_google-home', 'marketing_kaggle', 'marketing_pixel',\n",
       "       'research_computer_vision', 'research_nlp',\n",
       "       'research_quantum_computing', 'sales_ad_words', 'sales_pixel',\n",
       "       'sales_search_history'], dtype=object)"
      ]
     },
     "execution_count": 31,
     "metadata": {},
     "output_type": "execute_result"
    }
   ],
   "source": [
    "le.classes_"
   ]
  },
  {
   "cell_type": "code",
   "execution_count": 32,
   "metadata": {},
   "outputs": [
    {
     "data": {
      "text/plain": [
       "'give me nlp research document'"
      ]
     },
     "execution_count": 32,
     "metadata": {},
     "output_type": "execute_result"
    }
   ],
   "source": [
    "rows[X_test.index[2]]"
   ]
  },
  {
   "cell_type": "code",
   "execution_count": 33,
   "metadata": {},
   "outputs": [],
   "source": [
    "from operator import itemgetter\n",
    "final_results = pd.DataFrame(data = list(itemgetter(*list(X_test.index))(rows)), index=X_test.index, columns=['inputs'])  "
   ]
  },
  {
   "cell_type": "code",
   "execution_count": 34,
   "metadata": {},
   "outputs": [],
   "source": [
    "final_results['predictions'] = le.inverse_transform(y_pred)\n",
    "final_results['true'] = le.inverse_transform(y_test)"
   ]
  },
  {
   "cell_type": "code",
   "execution_count": 35,
   "metadata": {},
   "outputs": [
    {
     "data": {
      "text/html": [
       "<div>\n",
       "<style scoped>\n",
       "    .dataframe tbody tr th:only-of-type {\n",
       "        vertical-align: middle;\n",
       "    }\n",
       "\n",
       "    .dataframe tbody tr th {\n",
       "        vertical-align: top;\n",
       "    }\n",
       "\n",
       "    .dataframe thead th {\n",
       "        text-align: right;\n",
       "    }\n",
       "</style>\n",
       "<table border=\"1\" class=\"dataframe\">\n",
       "  <thead>\n",
       "    <tr style=\"text-align: right;\">\n",
       "      <th></th>\n",
       "      <th>inputs</th>\n",
       "      <th>predictions</th>\n",
       "      <th>true</th>\n",
       "    </tr>\n",
       "  </thead>\n",
       "  <tbody>\n",
       "    <tr>\n",
       "      <th>60</th>\n",
       "      <td>give me quantum computing research report</td>\n",
       "      <td>research_quantum_computing</td>\n",
       "      <td>research_quantum_computing</td>\n",
       "    </tr>\n",
       "    <tr>\n",
       "      <th>55</th>\n",
       "      <td>give me computer vision research file</td>\n",
       "      <td>research_computer_vision</td>\n",
       "      <td>research_computer_vision</td>\n",
       "    </tr>\n",
       "    <tr>\n",
       "      <th>35</th>\n",
       "      <td>give me nlp research document</td>\n",
       "      <td>research_nlp</td>\n",
       "      <td>research_nlp</td>\n",
       "    </tr>\n",
       "    <tr>\n",
       "      <th>68</th>\n",
       "      <td>display quantum computing research document</td>\n",
       "      <td>research_quantum_computing</td>\n",
       "      <td>research_quantum_computing</td>\n",
       "    </tr>\n",
       "    <tr>\n",
       "      <th>133</th>\n",
       "      <td>display google home marketing file</td>\n",
       "      <td>marketing_google-home</td>\n",
       "      <td>marketing_google-home</td>\n",
       "    </tr>\n",
       "    <tr>\n",
       "      <th>56</th>\n",
       "      <td>open computer vision research file</td>\n",
       "      <td>research_computer_vision</td>\n",
       "      <td>research_computer_vision</td>\n",
       "    </tr>\n",
       "    <tr>\n",
       "      <th>102</th>\n",
       "      <td>show me search history sales file</td>\n",
       "      <td>sales_search_history</td>\n",
       "      <td>sales_search_history</td>\n",
       "    </tr>\n",
       "    <tr>\n",
       "      <th>126</th>\n",
       "      <td>open google home marketing document</td>\n",
       "      <td>marketing_google-home</td>\n",
       "      <td>marketing_google-home</td>\n",
       "    </tr>\n",
       "    <tr>\n",
       "      <th>128</th>\n",
       "      <td>display google home marketing document</td>\n",
       "      <td>marketing_google-home</td>\n",
       "      <td>marketing_google-home</td>\n",
       "    </tr>\n",
       "    <tr>\n",
       "      <th>63</th>\n",
       "      <td>display quantum computing research report</td>\n",
       "      <td>research_quantum_computing</td>\n",
       "      <td>research_quantum_computing</td>\n",
       "    </tr>\n",
       "    <tr>\n",
       "      <th>1</th>\n",
       "      <td>open kaggle marketing report</td>\n",
       "      <td>marketing_kaggle</td>\n",
       "      <td>marketing_kaggle</td>\n",
       "    </tr>\n",
       "    <tr>\n",
       "      <th>2</th>\n",
       "      <td>show me kaggle marketing report</td>\n",
       "      <td>marketing_kaggle</td>\n",
       "      <td>marketing_kaggle</td>\n",
       "    </tr>\n",
       "    <tr>\n",
       "      <th>53</th>\n",
       "      <td>display computer vision research document</td>\n",
       "      <td>research_computer_vision</td>\n",
       "      <td>research_computer_vision</td>\n",
       "    </tr>\n",
       "    <tr>\n",
       "      <th>105</th>\n",
       "      <td>give me pixel sales report</td>\n",
       "      <td>sales_pixel</td>\n",
       "      <td>sales_pixel</td>\n",
       "    </tr>\n",
       "    <tr>\n",
       "      <th>94</th>\n",
       "      <td>please open search history sales report</td>\n",
       "      <td>sales_search_history</td>\n",
       "      <td>sales_search_history</td>\n",
       "    </tr>\n",
       "    <tr>\n",
       "      <th>116</th>\n",
       "      <td>open pixel sales file</td>\n",
       "      <td>sales_pixel</td>\n",
       "      <td>sales_pixel</td>\n",
       "    </tr>\n",
       "    <tr>\n",
       "      <th>81</th>\n",
       "      <td>open ad words sales document</td>\n",
       "      <td>sales_ad_words</td>\n",
       "      <td>sales_ad_words</td>\n",
       "    </tr>\n",
       "    <tr>\n",
       "      <th>26</th>\n",
       "      <td>open pixel marketing file</td>\n",
       "      <td>marketing_pixel</td>\n",
       "      <td>marketing_pixel</td>\n",
       "    </tr>\n",
       "    <tr>\n",
       "      <th>38</th>\n",
       "      <td>display nlp research document</td>\n",
       "      <td>research_nlp</td>\n",
       "      <td>research_nlp</td>\n",
       "    </tr>\n",
       "    <tr>\n",
       "      <th>41</th>\n",
       "      <td>open nlp research file</td>\n",
       "      <td>research_nlp</td>\n",
       "      <td>research_nlp</td>\n",
       "    </tr>\n",
       "    <tr>\n",
       "      <th>10</th>\n",
       "      <td>give me kaggle marketing file</td>\n",
       "      <td>marketing_kaggle</td>\n",
       "      <td>marketing_kaggle</td>\n",
       "    </tr>\n",
       "    <tr>\n",
       "      <th>95</th>\n",
       "      <td>give me search history sales document</td>\n",
       "      <td>sales_search_history</td>\n",
       "      <td>sales_search_history</td>\n",
       "    </tr>\n",
       "    <tr>\n",
       "      <th>98</th>\n",
       "      <td>display search history sales document</td>\n",
       "      <td>sales_search_history</td>\n",
       "      <td>sales_search_history</td>\n",
       "    </tr>\n",
       "    <tr>\n",
       "      <th>58</th>\n",
       "      <td>display computer vision research file</td>\n",
       "      <td>research_computer_vision</td>\n",
       "      <td>research_computer_vision</td>\n",
       "    </tr>\n",
       "    <tr>\n",
       "      <th>91</th>\n",
       "      <td>open search history sales report</td>\n",
       "      <td>sales_search_history</td>\n",
       "      <td>sales_search_history</td>\n",
       "    </tr>\n",
       "    <tr>\n",
       "      <th>75</th>\n",
       "      <td>give me ad words sales report</td>\n",
       "      <td>sales_ad_words</td>\n",
       "      <td>sales_ad_words</td>\n",
       "    </tr>\n",
       "    <tr>\n",
       "      <th>52</th>\n",
       "      <td>show me computer vision research document</td>\n",
       "      <td>research_computer_vision</td>\n",
       "      <td>research_computer_vision</td>\n",
       "    </tr>\n",
       "  </tbody>\n",
       "</table>\n",
       "</div>"
      ],
      "text/plain": [
       "                                          inputs                 predictions  \\\n",
       "60     give me quantum computing research report  research_quantum_computing   \n",
       "55         give me computer vision research file    research_computer_vision   \n",
       "35                 give me nlp research document                research_nlp   \n",
       "68   display quantum computing research document  research_quantum_computing   \n",
       "133           display google home marketing file       marketing_google-home   \n",
       "56            open computer vision research file    research_computer_vision   \n",
       "102            show me search history sales file        sales_search_history   \n",
       "126          open google home marketing document       marketing_google-home   \n",
       "128       display google home marketing document       marketing_google-home   \n",
       "63     display quantum computing research report  research_quantum_computing   \n",
       "1                   open kaggle marketing report            marketing_kaggle   \n",
       "2                show me kaggle marketing report            marketing_kaggle   \n",
       "53     display computer vision research document    research_computer_vision   \n",
       "105                   give me pixel sales report                 sales_pixel   \n",
       "94       please open search history sales report        sales_search_history   \n",
       "116                        open pixel sales file                 sales_pixel   \n",
       "81                  open ad words sales document              sales_ad_words   \n",
       "26                     open pixel marketing file             marketing_pixel   \n",
       "38                 display nlp research document                research_nlp   \n",
       "41                        open nlp research file                research_nlp   \n",
       "10                 give me kaggle marketing file            marketing_kaggle   \n",
       "95         give me search history sales document        sales_search_history   \n",
       "98         display search history sales document        sales_search_history   \n",
       "58         display computer vision research file    research_computer_vision   \n",
       "91              open search history sales report        sales_search_history   \n",
       "75                 give me ad words sales report              sales_ad_words   \n",
       "52     show me computer vision research document    research_computer_vision   \n",
       "\n",
       "                           true  \n",
       "60   research_quantum_computing  \n",
       "55     research_computer_vision  \n",
       "35                 research_nlp  \n",
       "68   research_quantum_computing  \n",
       "133       marketing_google-home  \n",
       "56     research_computer_vision  \n",
       "102        sales_search_history  \n",
       "126       marketing_google-home  \n",
       "128       marketing_google-home  \n",
       "63   research_quantum_computing  \n",
       "1              marketing_kaggle  \n",
       "2              marketing_kaggle  \n",
       "53     research_computer_vision  \n",
       "105                 sales_pixel  \n",
       "94         sales_search_history  \n",
       "116                 sales_pixel  \n",
       "81               sales_ad_words  \n",
       "26              marketing_pixel  \n",
       "38                 research_nlp  \n",
       "41                 research_nlp  \n",
       "10             marketing_kaggle  \n",
       "95         sales_search_history  \n",
       "98         sales_search_history  \n",
       "58     research_computer_vision  \n",
       "91         sales_search_history  \n",
       "75               sales_ad_words  \n",
       "52     research_computer_vision  "
      ]
     },
     "execution_count": 35,
     "metadata": {},
     "output_type": "execute_result"
    }
   ],
   "source": [
    "final_results"
   ]
  },
  {
   "cell_type": "code",
   "execution_count": 36,
   "metadata": {},
   "outputs": [],
   "source": [
    "for index in final_results.index:\n",
    "    for intent in data['intents']:\n",
    "        if intent['label'] == final_results.loc[index, 'predictions']:\n",
    "            final_results.loc[index, 'query_search'] = intent['responses']"
   ]
  },
  {
   "cell_type": "code",
   "execution_count": 37,
   "metadata": {},
   "outputs": [
    {
     "data": {
      "text/html": [
       "<div>\n",
       "<style scoped>\n",
       "    .dataframe tbody tr th:only-of-type {\n",
       "        vertical-align: middle;\n",
       "    }\n",
       "\n",
       "    .dataframe tbody tr th {\n",
       "        vertical-align: top;\n",
       "    }\n",
       "\n",
       "    .dataframe thead th {\n",
       "        text-align: right;\n",
       "    }\n",
       "</style>\n",
       "<table border=\"1\" class=\"dataframe\">\n",
       "  <thead>\n",
       "    <tr style=\"text-align: right;\">\n",
       "      <th></th>\n",
       "      <th>inputs</th>\n",
       "      <th>predictions</th>\n",
       "      <th>true</th>\n",
       "      <th>query_search</th>\n",
       "    </tr>\n",
       "  </thead>\n",
       "  <tbody>\n",
       "    <tr>\n",
       "      <th>60</th>\n",
       "      <td>give me quantum computing research report</td>\n",
       "      <td>research_quantum_computing</td>\n",
       "      <td>research_quantum_computing</td>\n",
       "      <td>/home/jupyter/Google/research/quantum_computin...</td>\n",
       "    </tr>\n",
       "    <tr>\n",
       "      <th>55</th>\n",
       "      <td>give me computer vision research file</td>\n",
       "      <td>research_computer_vision</td>\n",
       "      <td>research_computer_vision</td>\n",
       "      <td>[/home/jupyter/Google/research/computer_vision...</td>\n",
       "    </tr>\n",
       "    <tr>\n",
       "      <th>35</th>\n",
       "      <td>give me nlp research document</td>\n",
       "      <td>research_nlp</td>\n",
       "      <td>research_nlp</td>\n",
       "      <td>[/home/jupyter/Google/research/nlp.pdf]</td>\n",
       "    </tr>\n",
       "    <tr>\n",
       "      <th>68</th>\n",
       "      <td>display quantum computing research document</td>\n",
       "      <td>research_quantum_computing</td>\n",
       "      <td>research_quantum_computing</td>\n",
       "      <td>[/home/jupyter/Google/research/quantum_computi...</td>\n",
       "    </tr>\n",
       "    <tr>\n",
       "      <th>133</th>\n",
       "      <td>display google home marketing file</td>\n",
       "      <td>marketing_google-home</td>\n",
       "      <td>marketing_google-home</td>\n",
       "      <td>[/home/jupyter/Google/marketing/google-home.pdf]</td>\n",
       "    </tr>\n",
       "    <tr>\n",
       "      <th>56</th>\n",
       "      <td>open computer vision research file</td>\n",
       "      <td>research_computer_vision</td>\n",
       "      <td>research_computer_vision</td>\n",
       "      <td>[/home/jupyter/Google/research/computer_vision...</td>\n",
       "    </tr>\n",
       "    <tr>\n",
       "      <th>102</th>\n",
       "      <td>show me search history sales file</td>\n",
       "      <td>sales_search_history</td>\n",
       "      <td>sales_search_history</td>\n",
       "      <td>[/home/jupyter/Google/sales/search_history.pdf]</td>\n",
       "    </tr>\n",
       "    <tr>\n",
       "      <th>126</th>\n",
       "      <td>open google home marketing document</td>\n",
       "      <td>marketing_google-home</td>\n",
       "      <td>marketing_google-home</td>\n",
       "      <td>[/home/jupyter/Google/marketing/google-home.pdf]</td>\n",
       "    </tr>\n",
       "    <tr>\n",
       "      <th>128</th>\n",
       "      <td>display google home marketing document</td>\n",
       "      <td>marketing_google-home</td>\n",
       "      <td>marketing_google-home</td>\n",
       "      <td>[/home/jupyter/Google/marketing/google-home.pdf]</td>\n",
       "    </tr>\n",
       "    <tr>\n",
       "      <th>63</th>\n",
       "      <td>display quantum computing research report</td>\n",
       "      <td>research_quantum_computing</td>\n",
       "      <td>research_quantum_computing</td>\n",
       "      <td>[/home/jupyter/Google/research/quantum_computi...</td>\n",
       "    </tr>\n",
       "    <tr>\n",
       "      <th>1</th>\n",
       "      <td>open kaggle marketing report</td>\n",
       "      <td>marketing_kaggle</td>\n",
       "      <td>marketing_kaggle</td>\n",
       "      <td>[/home/jupyter/Google/marketing/kaggle.pdf]</td>\n",
       "    </tr>\n",
       "    <tr>\n",
       "      <th>2</th>\n",
       "      <td>show me kaggle marketing report</td>\n",
       "      <td>marketing_kaggle</td>\n",
       "      <td>marketing_kaggle</td>\n",
       "      <td>[/home/jupyter/Google/marketing/kaggle.pdf]</td>\n",
       "    </tr>\n",
       "    <tr>\n",
       "      <th>53</th>\n",
       "      <td>display computer vision research document</td>\n",
       "      <td>research_computer_vision</td>\n",
       "      <td>research_computer_vision</td>\n",
       "      <td>[/home/jupyter/Google/research/computer_vision...</td>\n",
       "    </tr>\n",
       "    <tr>\n",
       "      <th>105</th>\n",
       "      <td>give me pixel sales report</td>\n",
       "      <td>sales_pixel</td>\n",
       "      <td>sales_pixel</td>\n",
       "      <td>[/home/jupyter/Google/sales/pixel.pdf]</td>\n",
       "    </tr>\n",
       "    <tr>\n",
       "      <th>94</th>\n",
       "      <td>please open search history sales report</td>\n",
       "      <td>sales_search_history</td>\n",
       "      <td>sales_search_history</td>\n",
       "      <td>[/home/jupyter/Google/sales/search_history.pdf]</td>\n",
       "    </tr>\n",
       "    <tr>\n",
       "      <th>116</th>\n",
       "      <td>open pixel sales file</td>\n",
       "      <td>sales_pixel</td>\n",
       "      <td>sales_pixel</td>\n",
       "      <td>[/home/jupyter/Google/sales/pixel.pdf]</td>\n",
       "    </tr>\n",
       "    <tr>\n",
       "      <th>81</th>\n",
       "      <td>open ad words sales document</td>\n",
       "      <td>sales_ad_words</td>\n",
       "      <td>sales_ad_words</td>\n",
       "      <td>[/home/jupyter/Google/sales/ad_words.pdf]</td>\n",
       "    </tr>\n",
       "    <tr>\n",
       "      <th>26</th>\n",
       "      <td>open pixel marketing file</td>\n",
       "      <td>marketing_pixel</td>\n",
       "      <td>marketing_pixel</td>\n",
       "      <td>[/home/jupyter/Google/marketing/pixel.pdf]</td>\n",
       "    </tr>\n",
       "    <tr>\n",
       "      <th>38</th>\n",
       "      <td>display nlp research document</td>\n",
       "      <td>research_nlp</td>\n",
       "      <td>research_nlp</td>\n",
       "      <td>[/home/jupyter/Google/research/nlp.pdf]</td>\n",
       "    </tr>\n",
       "    <tr>\n",
       "      <th>41</th>\n",
       "      <td>open nlp research file</td>\n",
       "      <td>research_nlp</td>\n",
       "      <td>research_nlp</td>\n",
       "      <td>[/home/jupyter/Google/research/nlp.pdf]</td>\n",
       "    </tr>\n",
       "    <tr>\n",
       "      <th>10</th>\n",
       "      <td>give me kaggle marketing file</td>\n",
       "      <td>marketing_kaggle</td>\n",
       "      <td>marketing_kaggle</td>\n",
       "      <td>[/home/jupyter/Google/marketing/kaggle.pdf]</td>\n",
       "    </tr>\n",
       "    <tr>\n",
       "      <th>95</th>\n",
       "      <td>give me search history sales document</td>\n",
       "      <td>sales_search_history</td>\n",
       "      <td>sales_search_history</td>\n",
       "      <td>[/home/jupyter/Google/sales/search_history.pdf]</td>\n",
       "    </tr>\n",
       "    <tr>\n",
       "      <th>98</th>\n",
       "      <td>display search history sales document</td>\n",
       "      <td>sales_search_history</td>\n",
       "      <td>sales_search_history</td>\n",
       "      <td>[/home/jupyter/Google/sales/search_history.pdf]</td>\n",
       "    </tr>\n",
       "    <tr>\n",
       "      <th>58</th>\n",
       "      <td>display computer vision research file</td>\n",
       "      <td>research_computer_vision</td>\n",
       "      <td>research_computer_vision</td>\n",
       "      <td>[/home/jupyter/Google/research/computer_vision...</td>\n",
       "    </tr>\n",
       "    <tr>\n",
       "      <th>91</th>\n",
       "      <td>open search history sales report</td>\n",
       "      <td>sales_search_history</td>\n",
       "      <td>sales_search_history</td>\n",
       "      <td>[/home/jupyter/Google/sales/search_history.pdf]</td>\n",
       "    </tr>\n",
       "    <tr>\n",
       "      <th>75</th>\n",
       "      <td>give me ad words sales report</td>\n",
       "      <td>sales_ad_words</td>\n",
       "      <td>sales_ad_words</td>\n",
       "      <td>[/home/jupyter/Google/sales/ad_words.pdf]</td>\n",
       "    </tr>\n",
       "    <tr>\n",
       "      <th>52</th>\n",
       "      <td>show me computer vision research document</td>\n",
       "      <td>research_computer_vision</td>\n",
       "      <td>research_computer_vision</td>\n",
       "      <td>[/home/jupyter/Google/research/computer_vision...</td>\n",
       "    </tr>\n",
       "  </tbody>\n",
       "</table>\n",
       "</div>"
      ],
      "text/plain": [
       "                                          inputs                 predictions  \\\n",
       "60     give me quantum computing research report  research_quantum_computing   \n",
       "55         give me computer vision research file    research_computer_vision   \n",
       "35                 give me nlp research document                research_nlp   \n",
       "68   display quantum computing research document  research_quantum_computing   \n",
       "133           display google home marketing file       marketing_google-home   \n",
       "56            open computer vision research file    research_computer_vision   \n",
       "102            show me search history sales file        sales_search_history   \n",
       "126          open google home marketing document       marketing_google-home   \n",
       "128       display google home marketing document       marketing_google-home   \n",
       "63     display quantum computing research report  research_quantum_computing   \n",
       "1                   open kaggle marketing report            marketing_kaggle   \n",
       "2                show me kaggle marketing report            marketing_kaggle   \n",
       "53     display computer vision research document    research_computer_vision   \n",
       "105                   give me pixel sales report                 sales_pixel   \n",
       "94       please open search history sales report        sales_search_history   \n",
       "116                        open pixel sales file                 sales_pixel   \n",
       "81                  open ad words sales document              sales_ad_words   \n",
       "26                     open pixel marketing file             marketing_pixel   \n",
       "38                 display nlp research document                research_nlp   \n",
       "41                        open nlp research file                research_nlp   \n",
       "10                 give me kaggle marketing file            marketing_kaggle   \n",
       "95         give me search history sales document        sales_search_history   \n",
       "98         display search history sales document        sales_search_history   \n",
       "58         display computer vision research file    research_computer_vision   \n",
       "91              open search history sales report        sales_search_history   \n",
       "75                 give me ad words sales report              sales_ad_words   \n",
       "52     show me computer vision research document    research_computer_vision   \n",
       "\n",
       "                           true  \\\n",
       "60   research_quantum_computing   \n",
       "55     research_computer_vision   \n",
       "35                 research_nlp   \n",
       "68   research_quantum_computing   \n",
       "133       marketing_google-home   \n",
       "56     research_computer_vision   \n",
       "102        sales_search_history   \n",
       "126       marketing_google-home   \n",
       "128       marketing_google-home   \n",
       "63   research_quantum_computing   \n",
       "1              marketing_kaggle   \n",
       "2              marketing_kaggle   \n",
       "53     research_computer_vision   \n",
       "105                 sales_pixel   \n",
       "94         sales_search_history   \n",
       "116                 sales_pixel   \n",
       "81               sales_ad_words   \n",
       "26              marketing_pixel   \n",
       "38                 research_nlp   \n",
       "41                 research_nlp   \n",
       "10             marketing_kaggle   \n",
       "95         sales_search_history   \n",
       "98         sales_search_history   \n",
       "58     research_computer_vision   \n",
       "91         sales_search_history   \n",
       "75               sales_ad_words   \n",
       "52     research_computer_vision   \n",
       "\n",
       "                                          query_search  \n",
       "60   /home/jupyter/Google/research/quantum_computin...  \n",
       "55   [/home/jupyter/Google/research/computer_vision...  \n",
       "35             [/home/jupyter/Google/research/nlp.pdf]  \n",
       "68   [/home/jupyter/Google/research/quantum_computi...  \n",
       "133   [/home/jupyter/Google/marketing/google-home.pdf]  \n",
       "56   [/home/jupyter/Google/research/computer_vision...  \n",
       "102    [/home/jupyter/Google/sales/search_history.pdf]  \n",
       "126   [/home/jupyter/Google/marketing/google-home.pdf]  \n",
       "128   [/home/jupyter/Google/marketing/google-home.pdf]  \n",
       "63   [/home/jupyter/Google/research/quantum_computi...  \n",
       "1          [/home/jupyter/Google/marketing/kaggle.pdf]  \n",
       "2          [/home/jupyter/Google/marketing/kaggle.pdf]  \n",
       "53   [/home/jupyter/Google/research/computer_vision...  \n",
       "105             [/home/jupyter/Google/sales/pixel.pdf]  \n",
       "94     [/home/jupyter/Google/sales/search_history.pdf]  \n",
       "116             [/home/jupyter/Google/sales/pixel.pdf]  \n",
       "81           [/home/jupyter/Google/sales/ad_words.pdf]  \n",
       "26          [/home/jupyter/Google/marketing/pixel.pdf]  \n",
       "38             [/home/jupyter/Google/research/nlp.pdf]  \n",
       "41             [/home/jupyter/Google/research/nlp.pdf]  \n",
       "10         [/home/jupyter/Google/marketing/kaggle.pdf]  \n",
       "95     [/home/jupyter/Google/sales/search_history.pdf]  \n",
       "98     [/home/jupyter/Google/sales/search_history.pdf]  \n",
       "58   [/home/jupyter/Google/research/computer_vision...  \n",
       "91     [/home/jupyter/Google/sales/search_history.pdf]  \n",
       "75           [/home/jupyter/Google/sales/ad_words.pdf]  \n",
       "52   [/home/jupyter/Google/research/computer_vision...  "
      ]
     },
     "execution_count": 37,
     "metadata": {},
     "output_type": "execute_result"
    }
   ],
   "source": [
    "final_results"
   ]
  },
  {
   "cell_type": "code",
   "execution_count": null,
   "metadata": {},
   "outputs": [],
   "source": []
  },
  {
   "cell_type": "markdown",
   "metadata": {},
   "source": [
    "## User Input Test"
   ]
  },
  {
   "cell_type": "code",
   "execution_count": 38,
   "metadata": {},
   "outputs": [
    {
     "data": {
      "text/plain": [
       "array(['marketing_google-home', 'marketing_kaggle', 'marketing_pixel',\n",
       "       'research_computer_vision', 'research_nlp',\n",
       "       'research_quantum_computing', 'sales_ad_words', 'sales_pixel',\n",
       "       'sales_search_history'], dtype=object)"
      ]
     },
     "execution_count": 38,
     "metadata": {},
     "output_type": "execute_result"
    }
   ],
   "source": [
    "le.classes_"
   ]
  },
  {
   "cell_type": "markdown",
   "metadata": {},
   "source": [
    "#### Test1: Asking with document name and folder name"
   ]
  },
  {
   "cell_type": "code",
   "execution_count": 39,
   "metadata": {},
   "outputs": [],
   "source": [
    "user_input = [\"Hi open the sales google home document please\"]\n",
    "\n",
    "embedding = embed(user_input)\n",
    "X_user = pd.DataFrame(data=embedding.numpy())"
   ]
  },
  {
   "cell_type": "code",
   "execution_count": 40,
   "metadata": {},
   "outputs": [
    {
     "name": "stdout",
     "output_type": "stream",
     "text": [
      "label predicted: ['marketing_google-home']\n",
      "Query search: ['/home/jupyter/Google/marketing/google-home.pdf']\n"
     ]
    }
   ],
   "source": [
    "y_proba = model.predict(X_user)\n",
    "y_pred = y_proba.argmax(axis=1)\n",
    "print(f\"label predicted: {le.inverse_transform(y_pred)}\")\n",
    "for intent in data['intents']:\n",
    "    if intent['label'] == le.inverse_transform(y_pred):\n",
    "        print(f\"Query search: {intent['responses']}\")"
   ]
  },
  {
   "cell_type": "code",
   "execution_count": 41,
   "metadata": {},
   "outputs": [
    {
     "data": {
      "text/plain": [
       "array([[8.1864816e-01, 3.3571305e-05, 1.1637409e-06, 2.4750968e-04,\n",
       "        3.1494132e-05, 1.6317808e-05, 2.2029632e-04, 7.2034327e-06,\n",
       "        1.8079430e-01]], dtype=float32)"
      ]
     },
     "execution_count": 41,
     "metadata": {},
     "output_type": "execute_result"
    }
   ],
   "source": [
    "(y_proba)"
   ]
  },
  {
   "cell_type": "markdown",
   "metadata": {},
   "source": [
    "#### Result: The user made a mistake. google home document is in marketing folder"
   ]
  },
  {
   "cell_type": "code",
   "execution_count": null,
   "metadata": {},
   "outputs": [],
   "source": []
  },
  {
   "cell_type": "markdown",
   "metadata": {},
   "source": [
    "#### Test2: Asking with document name and folder name but _'can you get me'_ this is not used in training data so far "
   ]
  },
  {
   "cell_type": "code",
   "execution_count": 42,
   "metadata": {},
   "outputs": [],
   "source": [
    "user_input = [\"Hi can you get me sales pixel document\"]\n",
    "\n",
    "embedding = embed(user_input)\n",
    "X_user = pd.DataFrame(data=embedding.numpy())"
   ]
  },
  {
   "cell_type": "code",
   "execution_count": 43,
   "metadata": {},
   "outputs": [
    {
     "name": "stdout",
     "output_type": "stream",
     "text": [
      "label predicted: ['sales_pixel']\n",
      "Query search: ['/home/jupyter/Google/sales/pixel.pdf']\n"
     ]
    }
   ],
   "source": [
    "y_proba = model.predict(X_user)\n",
    "y_pred = y_proba.argmax(axis=1)\n",
    "print(f\"label predicted: {le.inverse_transform(y_pred)}\")\n",
    "for intent in data['intents']:\n",
    "    if intent['label'] == le.inverse_transform(y_pred):\n",
    "        print(f\"Query search: {intent['responses']}\")"
   ]
  },
  {
   "cell_type": "code",
   "execution_count": 44,
   "metadata": {},
   "outputs": [
    {
     "data": {
      "text/plain": [
       "array([[5.3640644e-11, 5.3084189e-08, 4.0256108e-07, 2.2940583e-11,\n",
       "        4.5246649e-13, 1.3061088e-10, 4.2860334e-05, 9.9995613e-01,\n",
       "        5.6454854e-07]], dtype=float32)"
      ]
     },
     "execution_count": 44,
     "metadata": {},
     "output_type": "execute_result"
    }
   ],
   "source": [
    "y_proba"
   ]
  },
  {
   "cell_type": "markdown",
   "metadata": {},
   "source": [
    "#### Result: The user asked for correct document from correct folder and model answer is correct."
   ]
  },
  {
   "cell_type": "code",
   "execution_count": null,
   "metadata": {},
   "outputs": [],
   "source": []
  },
  {
   "cell_type": "markdown",
   "metadata": {},
   "source": [
    "#### Test3: Asking with document name but no folder name"
   ]
  },
  {
   "cell_type": "code",
   "execution_count": 45,
   "metadata": {},
   "outputs": [],
   "source": [
    "user_input = [\"Hi can you get me pixel document\"]\n",
    "\n",
    "embedding = embed(user_input)\n",
    "X_user = pd.DataFrame(data=embedding.numpy())"
   ]
  },
  {
   "cell_type": "code",
   "execution_count": 46,
   "metadata": {},
   "outputs": [
    {
     "name": "stdout",
     "output_type": "stream",
     "text": [
      "label predicted: ['sales_pixel']\n",
      "Query search: ['/home/jupyter/Google/sales/pixel.pdf']\n"
     ]
    }
   ],
   "source": [
    "y_proba = model.predict(X_user)\n",
    "y_pred = y_proba.argmax(axis=1)\n",
    "print(f\"label predicted: {le.inverse_transform(y_pred)}\")\n",
    "for intent in data['intents']:\n",
    "    if intent['label'] == le.inverse_transform(y_pred):\n",
    "        print(f\"Query search: {intent['responses']}\")"
   ]
  },
  {
   "cell_type": "code",
   "execution_count": null,
   "metadata": {},
   "outputs": [],
   "source": []
  },
  {
   "cell_type": "markdown",
   "metadata": {},
   "source": [
    "#### Result: The user asked for correct document but did not specify and folder. Model gave just one correct result"
   ]
  },
  {
   "cell_type": "code",
   "execution_count": 47,
   "metadata": {},
   "outputs": [
    {
     "data": {
      "text/plain": [
       "array([[2.0803468e-07, 2.2740094e-06, 8.0764573e-03, 1.7162929e-06,\n",
       "        6.0539960e-09, 2.9317876e-05, 1.3330267e-05, 9.9187452e-01,\n",
       "        2.0715361e-06]], dtype=float32)"
      ]
     },
     "execution_count": 47,
     "metadata": {},
     "output_type": "execute_result"
    }
   ],
   "source": [
    "# Lets y_proba\n",
    "\n",
    "y_proba"
   ]
  },
  {
   "cell_type": "markdown",
   "metadata": {},
   "source": [
    "So here is one room for improvement. The model should also give high probability to second element of the above list sonce that corresponds to 'marketing_pixel' <br>\n",
    "May be we can add few more such statements in training data itself."
   ]
  },
  {
   "cell_type": "code",
   "execution_count": null,
   "metadata": {},
   "outputs": [],
   "source": []
  },
  {
   "cell_type": "markdown",
   "metadata": {},
   "source": [
    "#### Test4: Asking document created on a date"
   ]
  },
  {
   "cell_type": "code",
   "execution_count": 48,
   "metadata": {},
   "outputs": [],
   "source": [
    "user_input = [\"Please open kaggle marketing document created on 15 July\"]"
   ]
  },
  {
   "cell_type": "code",
   "execution_count": 49,
   "metadata": {},
   "outputs": [],
   "source": [
    "query_date = {}\n",
    "for idx, row in enumerate(user_input):\n",
    "    date_occurences = [(ent.text.strip(), ent.label_) for ent in sp_lg(row).ents if ent.label_ == 'DATE']\n",
    "    query_date[row] = []\n",
    "    \n",
    "    for date in date_occurences:\n",
    "        try:\n",
    "            date_token = re.split('\\s+|/|-|:',date[0])\n",
    "            day, month, year = decode_date(date_token)\n",
    "            query_date[row].append((day, month, year))\n",
    "            row = row.replace(date[0], \"\", 1)\n",
    "            user_input[idx] = row\n",
    "        except:\n",
    "            pass"
   ]
  },
  {
   "cell_type": "code",
   "execution_count": 50,
   "metadata": {},
   "outputs": [],
   "source": [
    "embedding = embed(user_input)\n",
    "X_user = pd.DataFrame(data=embedding.numpy())"
   ]
  },
  {
   "cell_type": "code",
   "execution_count": 51,
   "metadata": {},
   "outputs": [
    {
     "name": "stdout",
     "output_type": "stream",
     "text": [
      "label predicted: ['marketing_kaggle']\n",
      "Query search: ['/home/jupyter/Google/marketing/kaggle.pdf']\n"
     ]
    }
   ],
   "source": [
    "y_proba = model.predict(X_user)\n",
    "y_pred = y_proba.argmax(axis=1)\n",
    "print(f\"label predicted: {le.inverse_transform(y_pred)}\")\n",
    "for intent in data['intents']:\n",
    "    if intent['label'] == le.inverse_transform(y_pred):\n",
    "        print(f\"Query search: {intent['responses']}\")"
   ]
  },
  {
   "cell_type": "code",
   "execution_count": 52,
   "metadata": {},
   "outputs": [
    {
     "data": {
      "text/plain": [
       "array([[2.6675300e-06, 9.9997675e-01, 1.3417527e-05, 1.0469714e-08,\n",
       "        6.9086286e-06, 3.9272419e-10, 2.6754597e-07, 7.3358924e-10,\n",
       "        1.0731927e-08]], dtype=float32)"
      ]
     },
     "execution_count": 52,
     "metadata": {},
     "output_type": "execute_result"
    }
   ],
   "source": [
    "# Lets y_proba\n",
    "\n",
    "y_proba"
   ]
  },
  {
   "cell_type": "code",
   "execution_count": 53,
   "metadata": {},
   "outputs": [
    {
     "data": {
      "text/plain": [
       "{'Please open kaggle marketing document created on 15 July': [(15, 7, 2020)]}"
      ]
     },
     "execution_count": 53,
     "metadata": {},
     "output_type": "execute_result"
    }
   ],
   "source": [
    "query_date"
   ]
  },
  {
   "cell_type": "code",
   "execution_count": null,
   "metadata": {},
   "outputs": [],
   "source": []
  },
  {
   "cell_type": "markdown",
   "metadata": {},
   "source": [
    "#### Test5: Asking document created on a date"
   ]
  },
  {
   "cell_type": "code",
   "execution_count": 54,
   "metadata": {},
   "outputs": [],
   "source": [
    "user_input = [\"Please open computer vision document created on 1/6/2019\", \"Please open computer vision document created on 1-6-2019\", \n",
    "              \"Give me google home document from 14/07\", \"Give me google home document from 14-07\", \"Give me google home document made 14 Jan\", \n",
    "              \"Give me nlp document made on March 12\", \"Give me quantum computing document\"]"
   ]
  },
  {
   "cell_type": "code",
   "execution_count": 55,
   "metadata": {},
   "outputs": [],
   "source": [
    "query_date = {}\n",
    "for idx, row in enumerate(user_input):\n",
    "    date_occurences = [(ent.text.strip(), ent.label_) for ent in sp_lg(row).ents if ent.label_ == 'DATE']\n",
    "    query_date[row] = []\n",
    "    for date in date_occurences:\n",
    "        try:\n",
    "            date_token = re.split('\\s+|/|-|:',date[0])\n",
    "            day, month, year = decode_date(date_token)\n",
    "            query_date[row].append((f'{year}-{month}-{day}'))\n",
    "            datetime.strptime(f'{year}-{month}-{day}', '%Y-%m-%d %H:%M:%S.%f')\n",
    "            row = row.replace(date[0], \"\", 1)\n",
    "            user_input[idx] = row\n",
    "        except:\n",
    "            pass"
   ]
  },
  {
   "cell_type": "code",
   "execution_count": 56,
   "metadata": {},
   "outputs": [],
   "source": [
    "embedding = embed(user_input)\n",
    "X_user = pd.DataFrame(data=embedding.numpy())"
   ]
  },
  {
   "cell_type": "code",
   "execution_count": 57,
   "metadata": {},
   "outputs": [],
   "source": [
    "y_proba = model.predict(X_user)\n",
    "y_pred = y_proba.argmax(axis=1)"
   ]
  },
  {
   "cell_type": "code",
   "execution_count": 58,
   "metadata": {},
   "outputs": [
    {
     "name": "stdout",
     "output_type": "stream",
     "text": [
      "label predicted: ['research_computer_vision' 'research_computer_vision'\n",
      " 'marketing_google-home' 'marketing_google-home' 'marketing_google-home'\n",
      " 'research_nlp' 'research_quantum_computing']\n",
      "Query search: ['/home/jupyter/Google/research/computer_vision.pdf']\n",
      "Query search: ['/home/jupyter/Google/research/computer_vision.pdf']\n",
      "Query search: ['/home/jupyter/Google/marketing/google-home.pdf']\n",
      "Query search: ['/home/jupyter/Google/marketing/google-home.pdf']\n",
      "Query search: ['/home/jupyter/Google/marketing/google-home.pdf']\n",
      "Query search: ['/home/jupyter/Google/research/nlp.pdf']\n",
      "Query search: ['/home/jupyter/Google/research/quantum_computing.pdf']\n"
     ]
    }
   ],
   "source": [
    "y_proba = model.predict(X_user)\n",
    "y_pred = y_proba.argmax(axis=1)\n",
    "print(f\"label predicted: {le.inverse_transform(y_pred)}\")\n",
    "for pred in y_pred:\n",
    "    for intent in data['intents']:\n",
    "        if intent['label'] == le.inverse_transform(pred.reshape(1,)):\n",
    "            print(f\"Query search: {intent['responses']}\")"
   ]
  },
  {
   "cell_type": "code",
   "execution_count": 59,
   "metadata": {},
   "outputs": [
    {
     "data": {
      "text/plain": [
       "array([[2.0720787e-02, 5.7862391e-04, 2.3895646e-03, 9.7173351e-01,\n",
       "        1.7541567e-03, 1.7158028e-03, 7.3847750e-06, 6.9547823e-06,\n",
       "        1.0931632e-03],\n",
       "       [2.0720787e-02, 5.7862391e-04, 2.3895646e-03, 9.7173351e-01,\n",
       "        1.7541567e-03, 1.7158028e-03, 7.3847750e-06, 6.9547823e-06,\n",
       "        1.0931632e-03],\n",
       "       [9.8819321e-01, 1.1850764e-08, 6.5336476e-06, 8.9043081e-03,\n",
       "        5.1803072e-05, 2.8421420e-03, 1.6907713e-11, 3.6536906e-12,\n",
       "        2.0471325e-06],\n",
       "       [9.8819321e-01, 1.1850764e-08, 6.5336476e-06, 8.9043081e-03,\n",
       "        5.1803072e-05, 2.8421420e-03, 1.6907713e-11, 3.6536906e-12,\n",
       "        2.0471325e-06],\n",
       "       [9.9403328e-01, 3.1651764e-06, 1.8811292e-05, 5.1208301e-03,\n",
       "        9.2714981e-05, 1.7723363e-04, 1.0068776e-07, 1.7017978e-08,\n",
       "        5.5390294e-04],\n",
       "       [2.8553043e-04, 5.4642860e-02, 3.4683044e-08, 7.4488007e-06,\n",
       "        9.4488174e-01, 1.4275676e-05, 6.2572755e-05, 2.5225233e-10,\n",
       "        1.0557839e-04],\n",
       "       [4.0012917e-09, 1.2142135e-10, 6.7145226e-07, 8.6976775e-07,\n",
       "        6.0662245e-08, 9.9999845e-01, 6.1551660e-11, 4.6001825e-09,\n",
       "        5.8929295e-10]], dtype=float32)"
      ]
     },
     "execution_count": 59,
     "metadata": {},
     "output_type": "execute_result"
    }
   ],
   "source": [
    "# Lets y_proba\n",
    "y_proba"
   ]
  },
  {
   "cell_type": "code",
   "execution_count": 60,
   "metadata": {},
   "outputs": [
    {
     "data": {
      "text/plain": [
       "{'Please open computer vision document created on 1/6/2019': [],\n",
       " 'Please open computer vision document created on 1-6-2019': ['2019-6-1'],\n",
       " 'Give me google home document from 14/07': [],\n",
       " 'Give me google home document from 14-07': ['2020-7-14'],\n",
       " 'Give me google home document made 14 Jan': ['2020-1-14'],\n",
       " 'Give me nlp document made on March 12': ['2020-3-12'],\n",
       " 'Give me quantum computing document': []}"
      ]
     },
     "execution_count": 60,
     "metadata": {},
     "output_type": "execute_result"
    }
   ],
   "source": [
    "query_date"
   ]
  },
  {
   "cell_type": "code",
   "execution_count": null,
   "metadata": {},
   "outputs": [],
   "source": []
  },
  {
   "cell_type": "code",
   "execution_count": null,
   "metadata": {},
   "outputs": [],
   "source": []
  }
 ],
 "metadata": {
  "environment": {
   "name": "common-cpu.m49",
   "type": "gcloud",
   "uri": "gcr.io/deeplearning-platform-release/base-cpu:m49"
  },
  "kernelspec": {
   "display_name": "Python 3",
   "language": "python",
   "name": "python3"
  },
  "language_info": {
   "codemirror_mode": {
    "name": "ipython",
    "version": 3
   },
   "file_extension": ".py",
   "mimetype": "text/x-python",
   "name": "python",
   "nbconvert_exporter": "python",
   "pygments_lexer": "ipython3",
   "version": "3.7.6"
  }
 },
 "nbformat": 4,
 "nbformat_minor": 4
}
