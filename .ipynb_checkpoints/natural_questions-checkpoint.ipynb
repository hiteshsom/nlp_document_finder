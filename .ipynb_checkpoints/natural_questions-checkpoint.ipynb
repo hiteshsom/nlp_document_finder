{
 "cells": [
  {
   "cell_type": "markdown",
   "metadata": {},
   "source": [
    "# Natural Questions"
   ]
  },
  {
   "cell_type": "markdown",
   "metadata": {},
   "source": [
    "## Import Statements"
   ]
  },
  {
   "cell_type": "code",
   "execution_count": 1,
   "metadata": {},
   "outputs": [],
   "source": [
    "import jsonlines\n",
    "import json\n",
    "import text_utils\n",
    "import re\n",
    "from bs4 import BeautifulSoup"
   ]
  },
  {
   "cell_type": "markdown",
   "metadata": {},
   "source": [
    "## Read simplified Natural Questions data set (4GB one)"
   ]
  },
  {
   "cell_type": "code",
   "execution_count": 66,
   "metadata": {},
   "outputs": [
    {
     "name": "stdout",
     "output_type": "stream",
     "text": [
      "dict_keys(['document_text', 'long_answer_candidates', 'question_text', 'annotations', 'document_url', 'example_id'])\n",
      "dict_keys(['document_text', 'long_answer_candidates', 'question_text', 'annotations', 'document_url', 'example_id'])\n"
     ]
    }
   ],
   "source": [
    "with jsonlines.open('D:\\simplified-nq-train.jsonl') as reader:\n",
    "    i=0\n",
    "    for line in reader.iter():\n",
    "        print(line.keys())\n",
    "        question = line['question_text']\n",
    "        passage = line['document_text']\n",
    "        i+=1\n",
    "        if i>=2:\n",
    "            break"
   ]
  },
  {
   "cell_type": "markdown",
   "metadata": {},
   "source": [
    "## Data Cleaning"
   ]
  },
  {
   "cell_type": "code",
   "execution_count": 78,
   "metadata": {},
   "outputs": [],
   "source": [
    "passage_list = BeautifulSoup(passage).find_all('p')\n",
    "passage_list = [p.text for p in passage_list] \n",
    "passage_list = [p.replace('<P>', '') for p in passage_list]\n",
    "passage_list = [p for p in passage_list if len(p)>2]"
   ]
  },
  {
   "cell_type": "code",
   "execution_count": 79,
   "metadata": {},
   "outputs": [],
   "source": [
    "# tags = ['<P>', '</P>', '<H1>', '</H1>', '<H2>', '</H2>','<H3>', '</H3>', '<H4>', '</H4>', '<H5>', '</H5>', '<H6>', '</H6>', '<Ul>', '</Ul>', '<Li>', '</Li>']"
   ]
  },
  {
   "cell_type": "code",
   "execution_count": 80,
   "metadata": {},
   "outputs": [],
   "source": [
    "# passage_list = [\" \".join([p for p in passage_list[14:20]])]"
   ]
  },
  {
   "cell_type": "code",
   "execution_count": 81,
   "metadata": {},
   "outputs": [
    {
     "data": {
      "text/plain": [
       "['The Mother ( How I Met Your Mother ) - wikipedia ',\n",
       " \" Tracy McConnell , better known as `` The Mother '' , is the title character from the CBS television sitcom How I Met Your Mother . The show , narrated by Future Ted , tells the story of how Ted Mosby met The Mother . Tracy McConnell appears in 8 episodes from `` Lucky Penny '' to `` The Time Travelers '' as an unseen character ; she was first seen fully in `` Something New '' and was promoted to a main character in season 9 . The Mother is played by Cristin Milioti . \",\n",
       " \" The story of how Ted met The Mother is the framing device behind the series ; many facts about her are revealed throughout the series , including the fact that Ted once unwittingly owned her umbrella before accidentally leaving it behind in her apartment . Ted and The Mother meet at the Farhampton train station following Barney Stinson and Robin Scherbatsky 's wedding ; this scene is shown in `` Last Forever '' , the series finale . The Mother 's death from an unspecified terminal illness in 2024 , also revealed in the series finale , received a mixed reaction from fans . \",\n",
       " \" An alternate ending was released in the ninth season DVD . In the alternate ending , Tracy Mosby is still living when Ted is telling the story in 2030 . In the video , future Ted is heard saying , `` ... When I think how lucky I am to wake up next to your mom every morning , I ca n't help but be amazed how easy it all really was ... '' , indirectly stating that The Mother is alive . The video ends right after the train passes at Farhampton station and credits start rolling , implying that Ted never went back to Robin as he lived a successful married life with Tracy Mosby . \",\n",
       " \" During its first eight seasons , the successful sitcom How I Met Your Mother often hinted at the unseen character of The Mother . Well - known actresses often made guest appearances on the show . Many fans expected that another would play one of the most - wanted roles in Hollywood , but creators Carter Bays and Craig Thomas wanted an unknown . Using Anne Hathaway and Amy Adams as examples , Thomas said that `` We did n't want it to be a big famous star because we did n't want the wider audience to have associations with whatever actress this would be ... The whole idea is that Ted 's never seen this woman before , so it better feel that way to the audience '' , similar to how Cobie Smulders being cast as Robin Scherbatsky had `` kept the show alive '' when it began . Bays and Thomas also did not want a large casting call . \",\n",
       " \" They chose Cristin Milioti after seeing her on 30 Rock and Once ; her musical ability was also helpful , as The Mother had been described as a band member . After competing for the role against at least two others , Milioti filmed her first scene -- for the last episode of season 8 -- having never watched How I Met Your Mother ; she recalled , `` I had ignorance on my side . So I did n't know what it meant . '' Milioti learned of the character 's importance only after binge watching the show during the summer . \",\n",
       " ' The Mother was born on September 19 , 1984 . ',\n",
       " \" The Mother , joined by her roommate Kelly awaits the arrival of her boyfriend Max only to receive a call informing her of his death . After the funeral service , she returns to the apartment to open Max 's last gift to her -- a ukulele . The Mother spends the next few years grieving the passing of the man she believes was her one true love . \",\n",
       " \" In `` Wait for It '' , it is revealed that the short story of how they met involved her yellow umbrella . In `` No Tomorrow '' , Ted finds the umbrella at a club and takes it home after attending a St. Patrick 's Day party which she also attended , as it had been two and a half years since the death of Max , her late boyfriend . She is still grieving , but her roommate Kelly encourages her to go out and date again , bringing her to the same bar where Ted and Barney are celebrating . The two women run into Mitch , her old orchestra instructor ; The Mother offers to give Mitch her cello for his work at a school and they head to her apartment . After they start talking , Mitch encourages her to pursue her dreams . The Mother expresses her desire to end poverty by taking up economics in college . \",\n",
       " \" On his first day of teaching as Professor Mosby , as seen in the season 4 finale `` The Leap '' , he is seen in front of the classroom of students , one of which Future Ted says is the titular mother . But in the first episode of season 5 , `` Definitions '' , it is revealed that he was actually in the wrong classroom -- Economics instead of Architecture . At the same time in `` How Your Mother Met Me '' , the Mother sits her first session in Economics 305 and meets another graduate student named Cindy ( Rachel Bilson ) , whom she offers to move in with her as her roommate . They see Ted enter the room , but when he announces the subject , The Mother thinks she is in the wrong room and runs off . She heads back to the room after seeing Ted scramble to his actual classroom . \",\n",
       " \" Later , in `` Girls Versus Suits '' , Ted dates Cindy , not knowing that her roommate is his future wife . Throughout the episode , Ted notes that Cindy had spent most of their first date talking jealously about her roommate . When in Cindy and the mother 's apartment he picks up many of The Mother 's belongings , attempting to show how compatible he and Cindy are ( thinking the items are Cindy 's ) and glimpses the mother 's foot as she disappears into her room after taking a shower . Ted finds out at this time that she plays bass guitar in a band . Ted forgets to take the yellow umbrella with him when he goes out and Future Ted mentions , `` this is how your mother got her yellow umbrella back . '' In `` How Your Mother Met Me '' , it is revealed that , after Ted left the apartment , the Mother had discovered the umbrella and , upon going to question Cindy , finds her in a state . As she tried to console her , Cindy said that she was a much better match for Ted , and began to lovingly list all of the reasons that Ted would find the mother attractive , before spontaneously kissing her , revealing that her jealousy towards her roommate was actually a crush . While this incident made Cindy realise that she is a lesbian , it also made the Mother decide to go back into dating , as the kiss was her first in a long time . \",\n",
       " ' Some time after this , a man named Darren approaches The Mother and is welcomed into her band named Superfreakonomics . Darren gradually takes over the band . ',\n",
       " \" In the season 6 opener `` Big Days '' it is revealed Ted meets his future wife `` the day of '' the wedding at which he is the best man . In the episode `` False Positive '' Robin asks Ted to be her future best man , should she ever get married . In the episode `` Challenge Accepted '' , it is revealed that Ted meets the mother of his children the day of Barney 's wedding . In the last episode of season 7 , `` The Magician 's Code '' it is shown that Barney will marry Robin , and Ted will meet the mother `` the day of '' their wedding . On the premiere of season 8 , Ted 's wife appears after Barney and Robin 's wedding , outside at the `` Farhampton '' station while holding a yellow umbrella and her bass guitar . \",\n",
       " \" In the season 8 episode `` Band or DJ ? , '' Ted runs into Cindy on the subway and tells her that the band Barney and Robin hired to play at their wedding cancelled at the last minute . The end result of the encounter is that Cindy 's ( now ex - ) roommate 's band plays at Barney and Robin 's wedding . \",\n",
       " \" The Mother is first shown meeting Louis in `` How Your Mother Met Me '' as she is left to carry the band equipment while the now - lead band member Darren talks to his fans . Later at MacLaren 's Pub , she tells him she 's not yet ready to date . Louis asks her to give him a call if she changes her mind and they begin dating not long after . \",\n",
       " \" The Mother meets all of Ted 's best friends ( Barney , Lily , Marshall and Robin ) before she meets him . The Mother is responsible for convincing Barney to pursue Robin , as revealed through a flashback in `` Platonish '' . In `` The Locket '' , Tracy meets Lily on a train journey . \",\n",
       " \" In `` Bass Player Wanted '' , the Mother picks up a hitchhiking Marshall , carrying his son Marvin , on her way to Farhampton Inn . On their way , it is revealed that the Mother is a bass player in the band , that is scheduled to play at the wedding reception . But the band 's leader , Darren , forced her to quit . The Mother ultimately decides to confront Darren and retake the band . She ends up alone at the bar , and while practicing a speech to give Darren , Darren walks up to her furious the groom 's best man punched him for `` no reason . '' Amused by this , the Mother laughs , and Darren quits the band in anger . \",\n",
       " \" In `` How Your Mother Met Me '' , it is shown that after this incident , the Mother returns to Louis ' summer cottage not far from the Farhampton Inn where she has been staying for the duration of the wedding weekend . As she walks in the door , Louis proposes to her , but she goes outside to think about it for a few minutes . She declines Louis ' proposal and leaves his cottage , going to check in at Farhampton Inn . On her room 's balcony , she plays the ukulele and sings `` La Vie en Rose '' . Ted hears her singing from his room next door . \",\n",
       " \" In `` Gary Blauman '' , Ted and the Mother are on their first date . Ted picks her up at her New York City apartment and they proceed to walk to a Scottish - Mexican fusion restaurant for dinner . On the way there , Ted is telling her a story when they nearly have a run - in with Louis . She says that she is in the `` weirdest place on earth '' right now and that it is too soon for her to be dating . Ted walks her back to her apartment . They say goodnight and Ted begins to walk away . The Mother then stops him and asks him to finish the story he was telling her . When the story is over , they say goodnight again . The Mother takes a step towards Ted and they kiss for the first time , before deciding to carry on their date . \",\n",
       " \" In a flashforward in `` The Lighthouse '' , Ted proposes to the Mother at the top of the lighthouse near Farhampton Inn . She immediately accepts . In another flashfoward in `` Unpause '' , the Mother is revealed to be pregnant with their second child , Luke , in the year 2017 . She goes into labor while she and Ted are staying at Farhampton . \",\n",
       " \" The Mother 's real name is not revealed until the series finale , `` Last Forever '' . When Ted meets her at the Farhampton train station , she reveals that her name is Tracy McConnell . In the season 1 episode `` Belly Full of Turkey '' , Ted meets a stripper named Tracy and says `` ... that , kids , is the true story of how I met your mother '' . The children react in surprise and appear to believe Ted before he admits he is joking , which led some fans to correctly guess that The Mother 's name is Tracy . \",\n",
       " \" In the series finale , it is revealed that six years prior to Ted telling the story to his children , Tracy died in 2024 from an undisclosed illness . In the finale the characters do not directly state that the mother is dead . Ted says that she `` became sick '' and his children saying that she has been `` gone '' for six years . Many fans expressed considerable disappointment to The Mother 's death . Milioti cried when she learned her character was supposed to die , but came to accept the ending was what the writers had planned from the beginning . Bill Kuchman from Popculturology said that The Mother was `` an amazing character '' and that `` over the course of this final season HIMYM made us care about Tracy . Kuchman said that `` asking fans to drop all of that with a simple line about The Mother getting sick and passing away was a very difficult request '' , that the finale `` advanced too quickly '' and that `` HIMYM was a victim of its own success on this issue '' . \",\n",
       " ' A petition was started , aiming to rewrite and reshoot the finale . The petition has over 20,000 signatures and considerable online news coverage . On April 5 , 2014 , Carter Bays announced on Twitter that an alternate ending would be included on the Season 9 DVD . No new material was shot for this scene . In the alternate ending , the mother is still living when Ted is telling the story in 2030 . ']"
      ]
     },
     "execution_count": 81,
     "metadata": {},
     "output_type": "execute_result"
    }
   ],
   "source": [
    "passage_list"
   ]
  },
  {
   "cell_type": "markdown",
   "metadata": {},
   "source": [
    "## DPR Prediction"
   ]
  },
  {
   "cell_type": "code",
   "execution_count": 82,
   "metadata": {},
   "outputs": [
    {
     "data": {
      "text/plain": [
       "'how i.met your mother who is the mother'"
      ]
     },
     "execution_count": 82,
     "metadata": {},
     "output_type": "execute_result"
    }
   ],
   "source": [
    "question"
   ]
  },
  {
   "cell_type": "code",
   "execution_count": 83,
   "metadata": {},
   "outputs": [],
   "source": [
    "from transformers import DPRReader, DPRReaderTokenizer\n",
    "import pandas as pd\n",
    "import numpy as np"
   ]
  },
  {
   "cell_type": "code",
   "execution_count": 84,
   "metadata": {},
   "outputs": [],
   "source": [
    "tokenizer = DPRReaderTokenizer.from_pretrained('facebook/dpr-reader-single-nq-base')\n",
    "model = DPRReader.from_pretrained('facebook/dpr-reader-single-nq-base')"
   ]
  },
  {
   "cell_type": "code",
   "execution_count": 98,
   "metadata": {},
   "outputs": [],
   "source": [
    "encoded_inputs = tokenizer(\n",
    "        questions=[question]*len(passage_list),\n",
    "        titles = ['how i met your mother']*len(passage_list),\n",
    "        texts=passage_list,\n",
    "        return_tensors='pt',\n",
    "        padding=True,\n",
    "        truncation=True\n",
    "    )\n",
    "\n",
    "outputs = model(**encoded_inputs)"
   ]
  },
  {
   "cell_type": "code",
   "execution_count": 99,
   "metadata": {},
   "outputs": [
    {
     "data": {
      "text/plain": [
       "DPRReaderOutput(start_logits=tensor([[-11.2517, -11.2569, -11.7648,  ..., -12.3165, -12.3479, -12.3350],\n",
       "        [ -2.6579,  -2.6412,  -4.1127,  ..., -11.0648, -11.0491, -11.0992],\n",
       "        [-10.9530, -11.3212, -11.8669,  ..., -12.5459, -12.5538, -12.5226],\n",
       "        ...,\n",
       "        [ -2.3173,  -2.6944,  -3.6812,  ..., -10.4507, -10.4644, -10.4758],\n",
       "        [-10.9288, -11.4342, -11.7679,  ..., -12.7722, -12.7725, -12.7631],\n",
       "        [ -9.8430, -10.3025, -10.9413,  ..., -12.7402, -12.7432, -12.7299]],\n",
       "       grad_fn=<ViewBackward>), end_logits=tensor([[ -9.7660, -11.6347, -11.2809,  ..., -11.9891, -11.9774, -11.9867],\n",
       "        [ -2.1650,  -3.2645,  -3.3525,  ..., -10.2974, -10.2265, -10.2699],\n",
       "        [ -9.8182, -11.0440, -10.5636,  ..., -12.1936, -12.1803, -12.2116],\n",
       "        ...,\n",
       "        [ -2.0251,  -3.0776,  -3.1916,  ...,  -9.0590,  -9.1016,  -9.0203],\n",
       "        [ -9.8338, -11.1324, -10.7488,  ..., -11.9356, -11.9319, -11.9453],\n",
       "        [ -8.5935,  -9.7362,  -9.5746,  ..., -11.9018, -11.8988, -11.9136]],\n",
       "       grad_fn=<ViewBackward>), relevance_logits=tensor([-2.5612, 10.3558, -5.9023, -0.2493, -6.8653,  7.3525, -3.5142, -6.3840,\n",
       "        -8.4394, -6.3961, -6.7382, -6.1543,  0.2131, -7.4879, -5.3181, -6.2264,\n",
       "        -8.7188, -6.7354, -6.9547, -6.6174, 10.3209, -5.7316, -7.2068],\n",
       "       grad_fn=<ViewBackward>), hidden_states=None, attentions=None)"
      ]
     },
     "execution_count": 99,
     "metadata": {},
     "output_type": "execute_result"
    }
   ],
   "source": [
    "outputs"
   ]
  },
  {
   "cell_type": "code",
   "execution_count": 100,
   "metadata": {},
   "outputs": [],
   "source": [
    "tokens = tokenizer.convert_ids_to_tokens(list(encoded_inputs['input_ids'].numpy()[0]))"
   ]
  },
  {
   "cell_type": "code",
   "execution_count": 101,
   "metadata": {},
   "outputs": [
    {
     "data": {
      "text/plain": [
       "['[CLS]',\n",
       " 'how',\n",
       " 'i',\n",
       " '.',\n",
       " 'met',\n",
       " 'your',\n",
       " 'mother',\n",
       " 'who',\n",
       " 'is',\n",
       " 'the',\n",
       " 'mother',\n",
       " '[SEP]',\n",
       " 'how',\n",
       " 'i',\n",
       " 'met',\n",
       " 'your',\n",
       " 'mother',\n",
       " '[SEP]',\n",
       " 'the',\n",
       " 'mother',\n",
       " '(',\n",
       " 'how',\n",
       " 'i',\n",
       " 'met',\n",
       " 'your',\n",
       " 'mother',\n",
       " ')',\n",
       " '-',\n",
       " 'wikipedia',\n",
       " '[PAD]',\n",
       " '[PAD]',\n",
       " '[PAD]',\n",
       " '[PAD]',\n",
       " '[PAD]',\n",
       " '[PAD]',\n",
       " '[PAD]',\n",
       " '[PAD]',\n",
       " '[PAD]',\n",
       " '[PAD]',\n",
       " '[PAD]',\n",
       " '[PAD]',\n",
       " '[PAD]',\n",
       " '[PAD]',\n",
       " '[PAD]',\n",
       " '[PAD]',\n",
       " '[PAD]',\n",
       " '[PAD]',\n",
       " '[PAD]',\n",
       " '[PAD]',\n",
       " '[PAD]',\n",
       " '[PAD]',\n",
       " '[PAD]',\n",
       " '[PAD]',\n",
       " '[PAD]',\n",
       " '[PAD]',\n",
       " '[PAD]',\n",
       " '[PAD]',\n",
       " '[PAD]',\n",
       " '[PAD]',\n",
       " '[PAD]',\n",
       " '[PAD]',\n",
       " '[PAD]',\n",
       " '[PAD]',\n",
       " '[PAD]',\n",
       " '[PAD]',\n",
       " '[PAD]',\n",
       " '[PAD]',\n",
       " '[PAD]',\n",
       " '[PAD]',\n",
       " '[PAD]',\n",
       " '[PAD]',\n",
       " '[PAD]',\n",
       " '[PAD]',\n",
       " '[PAD]',\n",
       " '[PAD]',\n",
       " '[PAD]',\n",
       " '[PAD]',\n",
       " '[PAD]',\n",
       " '[PAD]',\n",
       " '[PAD]',\n",
       " '[PAD]',\n",
       " '[PAD]',\n",
       " '[PAD]',\n",
       " '[PAD]',\n",
       " '[PAD]',\n",
       " '[PAD]',\n",
       " '[PAD]',\n",
       " '[PAD]',\n",
       " '[PAD]',\n",
       " '[PAD]',\n",
       " '[PAD]',\n",
       " '[PAD]',\n",
       " '[PAD]',\n",
       " '[PAD]',\n",
       " '[PAD]',\n",
       " '[PAD]',\n",
       " '[PAD]',\n",
       " '[PAD]',\n",
       " '[PAD]',\n",
       " '[PAD]',\n",
       " '[PAD]',\n",
       " '[PAD]',\n",
       " '[PAD]',\n",
       " '[PAD]',\n",
       " '[PAD]',\n",
       " '[PAD]',\n",
       " '[PAD]',\n",
       " '[PAD]',\n",
       " '[PAD]',\n",
       " '[PAD]',\n",
       " '[PAD]',\n",
       " '[PAD]',\n",
       " '[PAD]',\n",
       " '[PAD]',\n",
       " '[PAD]',\n",
       " '[PAD]',\n",
       " '[PAD]',\n",
       " '[PAD]',\n",
       " '[PAD]',\n",
       " '[PAD]',\n",
       " '[PAD]',\n",
       " '[PAD]',\n",
       " '[PAD]',\n",
       " '[PAD]',\n",
       " '[PAD]',\n",
       " '[PAD]',\n",
       " '[PAD]',\n",
       " '[PAD]',\n",
       " '[PAD]',\n",
       " '[PAD]',\n",
       " '[PAD]',\n",
       " '[PAD]',\n",
       " '[PAD]',\n",
       " '[PAD]',\n",
       " '[PAD]',\n",
       " '[PAD]',\n",
       " '[PAD]',\n",
       " '[PAD]',\n",
       " '[PAD]',\n",
       " '[PAD]',\n",
       " '[PAD]',\n",
       " '[PAD]',\n",
       " '[PAD]',\n",
       " '[PAD]',\n",
       " '[PAD]',\n",
       " '[PAD]',\n",
       " '[PAD]',\n",
       " '[PAD]',\n",
       " '[PAD]',\n",
       " '[PAD]',\n",
       " '[PAD]',\n",
       " '[PAD]',\n",
       " '[PAD]',\n",
       " '[PAD]',\n",
       " '[PAD]',\n",
       " '[PAD]',\n",
       " '[PAD]',\n",
       " '[PAD]',\n",
       " '[PAD]',\n",
       " '[PAD]',\n",
       " '[PAD]',\n",
       " '[PAD]',\n",
       " '[PAD]',\n",
       " '[PAD]',\n",
       " '[PAD]',\n",
       " '[PAD]',\n",
       " '[PAD]',\n",
       " '[PAD]',\n",
       " '[PAD]',\n",
       " '[PAD]',\n",
       " '[PAD]',\n",
       " '[PAD]',\n",
       " '[PAD]',\n",
       " '[PAD]',\n",
       " '[PAD]',\n",
       " '[PAD]',\n",
       " '[PAD]',\n",
       " '[PAD]',\n",
       " '[PAD]',\n",
       " '[PAD]',\n",
       " '[PAD]',\n",
       " '[PAD]',\n",
       " '[PAD]',\n",
       " '[PAD]',\n",
       " '[PAD]',\n",
       " '[PAD]',\n",
       " '[PAD]',\n",
       " '[PAD]',\n",
       " '[PAD]',\n",
       " '[PAD]',\n",
       " '[PAD]',\n",
       " '[PAD]',\n",
       " '[PAD]',\n",
       " '[PAD]',\n",
       " '[PAD]',\n",
       " '[PAD]',\n",
       " '[PAD]',\n",
       " '[PAD]',\n",
       " '[PAD]',\n",
       " '[PAD]',\n",
       " '[PAD]',\n",
       " '[PAD]',\n",
       " '[PAD]',\n",
       " '[PAD]',\n",
       " '[PAD]',\n",
       " '[PAD]',\n",
       " '[PAD]',\n",
       " '[PAD]',\n",
       " '[PAD]',\n",
       " '[PAD]',\n",
       " '[PAD]',\n",
       " '[PAD]',\n",
       " '[PAD]',\n",
       " '[PAD]',\n",
       " '[PAD]',\n",
       " '[PAD]',\n",
       " '[PAD]',\n",
       " '[PAD]',\n",
       " '[PAD]',\n",
       " '[PAD]',\n",
       " '[PAD]',\n",
       " '[PAD]',\n",
       " '[PAD]',\n",
       " '[PAD]',\n",
       " '[PAD]',\n",
       " '[PAD]',\n",
       " '[PAD]',\n",
       " '[PAD]',\n",
       " '[PAD]',\n",
       " '[PAD]',\n",
       " '[PAD]',\n",
       " '[PAD]',\n",
       " '[PAD]',\n",
       " '[PAD]',\n",
       " '[PAD]',\n",
       " '[PAD]',\n",
       " '[PAD]',\n",
       " '[PAD]',\n",
       " '[PAD]',\n",
       " '[PAD]',\n",
       " '[PAD]',\n",
       " '[PAD]',\n",
       " '[PAD]',\n",
       " '[PAD]',\n",
       " '[PAD]',\n",
       " '[PAD]',\n",
       " '[PAD]',\n",
       " '[PAD]',\n",
       " '[PAD]',\n",
       " '[PAD]',\n",
       " '[PAD]',\n",
       " '[PAD]',\n",
       " '[PAD]',\n",
       " '[PAD]',\n",
       " '[PAD]',\n",
       " '[PAD]',\n",
       " '[PAD]',\n",
       " '[PAD]',\n",
       " '[PAD]',\n",
       " '[PAD]',\n",
       " '[PAD]',\n",
       " '[PAD]',\n",
       " '[PAD]',\n",
       " '[PAD]',\n",
       " '[PAD]',\n",
       " '[PAD]',\n",
       " '[PAD]',\n",
       " '[PAD]',\n",
       " '[PAD]',\n",
       " '[PAD]',\n",
       " '[PAD]',\n",
       " '[PAD]',\n",
       " '[PAD]',\n",
       " '[PAD]',\n",
       " '[PAD]',\n",
       " '[PAD]',\n",
       " '[PAD]',\n",
       " '[PAD]',\n",
       " '[PAD]',\n",
       " '[PAD]',\n",
       " '[PAD]',\n",
       " '[PAD]',\n",
       " '[PAD]',\n",
       " '[PAD]',\n",
       " '[PAD]',\n",
       " '[PAD]',\n",
       " '[PAD]',\n",
       " '[PAD]',\n",
       " '[PAD]',\n",
       " '[PAD]',\n",
       " '[PAD]',\n",
       " '[PAD]',\n",
       " '[PAD]',\n",
       " '[PAD]',\n",
       " '[PAD]',\n",
       " '[PAD]',\n",
       " '[PAD]',\n",
       " '[PAD]',\n",
       " '[PAD]',\n",
       " '[PAD]',\n",
       " '[PAD]',\n",
       " '[PAD]']"
      ]
     },
     "execution_count": 101,
     "metadata": {},
     "output_type": "execute_result"
    }
   ],
   "source": [
    "tokens"
   ]
  },
  {
   "cell_type": "code",
   "execution_count": 105,
   "metadata": {},
   "outputs": [
    {
     "name": "stdout",
     "output_type": "stream",
     "text": [
      "Answer not using 'titles' argument in the tokenizer\n",
      "\n",
      "Q1) how i.met your mother who is the mother ?\n",
      "0) \n",
      "\n",
      "1) ur Mot\n",
      "\n",
      "2) eries ; many facts about her are revealed throughout the series \n",
      "\n",
      "3) in \n",
      "\n",
      "4)  appe\n",
      "\n",
      "5) Miliot\n",
      "\n",
      "6) \n",
      "\n",
      "7)  he\n",
      "\n",
      "8) inds the umbrella at a club and takes it \n",
      "\n",
      "9) in\n",
      "\n",
      "10) eir f\n",
      "\n",
      "11) arren\n",
      "\n",
      "12) s\n",
      "\n",
      "13) \n",
      "\n",
      "14) eetin\n",
      "\n",
      "15)  \n",
      "\n",
      "16) y , it \n",
      "\n",
      "17) r Met\n",
      "\n",
      "18) ' , \n",
      "\n",
      "19) he Lighthouse '' , Ted pr\n",
      "\n",
      "20) s \n",
      "\n",
      "21) t\n",
      "\n",
      "22) arted , aiming to rewrite and reshoot\n",
      "\n"
     ]
    }
   ],
   "source": [
    "print(f\"Answer not using 'titles' argument in the tokenizer\\n\")\n",
    "print(f'Q1) {question} ?')\n",
    "for i in range(len(passage_list)):\n",
    "    predicted_span = ''.join(passage_list[i][np.argmax(outputs[0].detach().numpy()[i]) : np.argmax(outputs[1].detach().numpy()[i]) + 1])\n",
    "    print(f\"{i}) {predicted_span}\\n\")"
   ]
  },
  {
   "cell_type": "code",
   "execution_count": null,
   "metadata": {},
   "outputs": [],
   "source": []
  },
  {
   "cell_type": "code",
   "execution_count": null,
   "metadata": {},
   "outputs": [],
   "source": []
  },
  {
   "cell_type": "code",
   "execution_count": null,
   "metadata": {},
   "outputs": [],
   "source": []
  }
 ],
 "metadata": {
  "kernelspec": {
   "display_name": "dpr_env",
   "language": "python",
   "name": "dpr_env"
  },
  "language_info": {
   "codemirror_mode": {
    "name": "ipython",
    "version": 3
   },
   "file_extension": ".py",
   "mimetype": "text/x-python",
   "name": "python",
   "nbconvert_exporter": "python",
   "pygments_lexer": "ipython3",
   "version": "3.8.6"
  }
 },
 "nbformat": 4,
 "nbformat_minor": 4
}
