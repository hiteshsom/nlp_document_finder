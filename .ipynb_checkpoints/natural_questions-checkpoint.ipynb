{
 "cells": [
  {
   "cell_type": "markdown",
   "metadata": {},
   "source": [
    "# Natural Questions"
   ]
  },
  {
   "cell_type": "markdown",
   "metadata": {},
   "source": [
    "## Import Statements"
   ]
  },
  {
   "cell_type": "code",
   "execution_count": 1,
   "metadata": {},
   "outputs": [],
   "source": [
    "import jsonlines\n",
    "import json\n",
    "import text_utils\n",
    "import re\n",
    "from bs4 import BeautifulSoup"
   ]
  },
  {
   "cell_type": "markdown",
   "metadata": {},
   "source": [
    "## Read simplified Natural Questions data set (4GB one)"
   ]
  },
  {
   "cell_type": "code",
   "execution_count": 2,
   "metadata": {},
   "outputs": [
    {
     "name": "stdout",
     "output_type": "stream",
     "text": [
      "dict_keys(['document_text', 'long_answer_candidates', 'question_text', 'annotations', 'document_url', 'example_id'])\n",
      "dict_keys(['document_text', 'long_answer_candidates', 'question_text', 'annotations', 'document_url', 'example_id'])\n",
      "dict_keys(['document_text', 'long_answer_candidates', 'question_text', 'annotations', 'document_url', 'example_id'])\n",
      "dict_keys(['document_text', 'long_answer_candidates', 'question_text', 'annotations', 'document_url', 'example_id'])\n"
     ]
    }
   ],
   "source": [
    "with jsonlines.open('D:\\simplified-nq-train.jsonl') as reader:\n",
    "    i=0\n",
    "    for line in reader.iter():\n",
    "        print(line.keys())\n",
    "        question = line['question_text']\n",
    "        passage = line['document_text']\n",
    "        i+=1\n",
    "        if i>=4:\n",
    "            break"
   ]
  },
  {
   "cell_type": "markdown",
   "metadata": {},
   "source": [
    "## Data Cleaning"
   ]
  },
  {
   "cell_type": "code",
   "execution_count": 3,
   "metadata": {},
   "outputs": [],
   "source": [
    "passage_list = BeautifulSoup(passage).find_all('p')\n",
    "passage_list = [p.text for p in passage_list] \n",
    "passage_list = [p.replace('<P>', '') for p in passage_list]\n",
    "passage_list = [p for p in passage_list if len(p)>2]"
   ]
  },
  {
   "cell_type": "code",
   "execution_count": 4,
   "metadata": {},
   "outputs": [],
   "source": [
    "# tags = ['<P>', '</P>', '<H1>', '</H1>', '<H2>', '</H2>','<H3>', '</H3>', '<H4>', '</H4>', '<H5>', '</H5>', '<H6>', '</H6>', '<Ul>', '</Ul>', '<Li>', '</Li>']"
   ]
  },
  {
   "cell_type": "code",
   "execution_count": 5,
   "metadata": {},
   "outputs": [],
   "source": [
    "# passage_list = [\" \".join([p for p in passage_list[1:]])]"
   ]
  },
  {
   "cell_type": "code",
   "execution_count": 6,
   "metadata": {},
   "outputs": [
    {
     "data": {
      "text/plain": [
       "['List of National Football League career quarterback wins leaders - wikipedia ',\n",
       " ' The following is a list of the top National Football League ( NFL ) quarterbacks in wins . In the NFL , the quarterback is the only position that is credited with records of wins and losses . ',\n",
       " \" Active quarterback Tom Brady holds the records for most wins with 220 , most regular season wins with 195 , and most postseason wins with 25 , as of Week 16 of the 2017 NFL season . Having played the entirety of his career with the New England Patriots , each of Brady 's win records also apply to wins with a single team . \",\n",
       " ' Among retired players , the record for most wins is held by Peyton Manning with 200 . In his final professional game , Manning set the then - record for wins , surpassing Brett Favre who retired with 199 wins . Other previous record - holders include John Elway ( 162 ) , Fran Tarkenton ( 130 ) , and Johnny Unitas ( 124 ) . Otto Graham holds the record for the highest winning percentage with a minimum of 35 wins at . 788 ( 61 wins to 16 losses ) . ',\n",
       " ' This sortable table shows the top 100 NFL quarterbacks in order of total wins , both regular season and playoffs , since the start of the modern era , 1950 . The table also shows every team that a quarterback played for . If two quarterbacks have the same number of wins , the player with the highest winning percentage is ranked first . ',\n",
       " ' When sorting teams : ',\n",
       " ' The following are grouped together ',\n",
       " ' To reset the table to its default sorting settings , simply reload the page . ',\n",
       " ' Updated through the December 31 games . ',\n",
       " ' ^ * Note : Bobby Layne is listed as having started all 12 games for the Bulldogs ( NFL ) in 1949 . The record for that team is 1 -- 10 -- 1 . Combined with his official post -- 1949 won -- loss -- tied record of 80 -- 51 -- 4 ( 0.607 ) , his overall estimated won -- loss -- tied record is 81 -- 61 -- 5 ( 0.568 ) . ',\n",
       " ' ^ † Note : The 1950 Baltimore Colts are a defunct NFL team , not part of the current Colts franchise . ',\n",
       " ' Updated through the 2017 season . ']"
      ]
     },
     "execution_count": 6,
     "metadata": {},
     "output_type": "execute_result"
    }
   ],
   "source": [
    "passage_list"
   ]
  },
  {
   "cell_type": "code",
   "execution_count": 7,
   "metadata": {},
   "outputs": [],
   "source": [
    "# passage_list = ['Tom Brady holds the records for most wins in nfl with 220']"
   ]
  },
  {
   "cell_type": "code",
   "execution_count": 8,
   "metadata": {},
   "outputs": [],
   "source": [
    "# passage_list = [\"'What Is Love' is a song recorded by the artist Haddaway\"]"
   ]
  },
  {
   "cell_type": "markdown",
   "metadata": {},
   "source": [
    "## DPR Prediction"
   ]
  },
  {
   "cell_type": "code",
   "execution_count": 9,
   "metadata": {},
   "outputs": [
    {
     "data": {
      "text/plain": [
       "['who had the most wins in the nfl',\n",
       " 'who had the most wins in the nfl',\n",
       " 'who had the most wins in the nfl',\n",
       " 'who had the most wins in the nfl',\n",
       " 'who had the most wins in the nfl',\n",
       " 'who had the most wins in the nfl',\n",
       " 'who had the most wins in the nfl',\n",
       " 'who had the most wins in the nfl',\n",
       " 'who had the most wins in the nfl',\n",
       " 'who had the most wins in the nfl',\n",
       " 'who had the most wins in the nfl',\n",
       " 'who had the most wins in the nfl']"
      ]
     },
     "execution_count": 9,
     "metadata": {},
     "output_type": "execute_result"
    }
   ],
   "source": [
    "[question]*len(passage_list)"
   ]
  },
  {
   "cell_type": "code",
   "execution_count": 10,
   "metadata": {},
   "outputs": [],
   "source": [
    "# question = 'what is love ?'"
   ]
  },
  {
   "cell_type": "code",
   "execution_count": 11,
   "metadata": {},
   "outputs": [],
   "source": [
    "from transformers import DPRReader, DPRReaderTokenizer\n",
    "import pandas as pd\n",
    "import numpy as np"
   ]
  },
  {
   "cell_type": "code",
   "execution_count": 12,
   "metadata": {},
   "outputs": [],
   "source": [
    "tokenizer = DPRReaderTokenizer.from_pretrained('facebook/dpr-reader-single-nq-base')\n",
    "model = DPRReader.from_pretrained('facebook/dpr-reader-single-nq-base')"
   ]
  },
  {
   "cell_type": "code",
   "execution_count": 13,
   "metadata": {},
   "outputs": [],
   "source": [
    "encoded_inputs = tokenizer(\n",
    "        questions=[question]*len(passage_list),\n",
    "        texts=passage_list,\n",
    "        return_tensors='pt',\n",
    "        padding = 'max_length',\n",
    "        truncation=False,\n",
    "        max_length = 512\n",
    "    )\n",
    "\n",
    "outputs = model(**encoded_inputs)"
   ]
  },
  {
   "cell_type": "code",
   "execution_count": 14,
   "metadata": {},
   "outputs": [],
   "source": [
    "tokens = tokenizer.convert_ids_to_tokens(list(encoded_inputs['input_ids'].numpy()[0]))"
   ]
  },
  {
   "cell_type": "code",
   "execution_count": 15,
   "metadata": {},
   "outputs": [
    {
     "name": "stdout",
     "output_type": "stream",
     "text": [
      "Answer not using 'titles' argument in the tokenizer\n",
      "\n",
      "Q1) who had the most wins in the nfl ?\n",
      "A1) ona\n",
      "\n",
      "A2) \n",
      "\n",
      "A3) te\n",
      "\n",
      "A4)  ,\n",
      "\n",
      "A5) b\n",
      "\n",
      "A6) When sorting t\n",
      "\n",
      "A7) The following a\n",
      "\n",
      "A8)  To reset the table to its\n",
      "\n",
      "A9) g\n",
      "\n",
      "A10) bb\n",
      "\n",
      "A11)  \n",
      "\n",
      "A12)  Updated through \n",
      "\n"
     ]
    }
   ],
   "source": [
    "print(f\"Answer not using 'titles' argument in the tokenizer\\n\")\n",
    "print(f'Q1) {question} ?')\n",
    "for i in range(len(passage_list)):\n",
    "    predicted_span = ''.join(passage_list[i][np.argmax(outputs[0].detach().numpy()[i]) : np.argmax(outputs[1].detach().numpy()[i]) + 1])\n",
    "    print(f\"A{i+1}) {predicted_span}\\n\")"
   ]
  },
  {
   "cell_type": "code",
   "execution_count": 111,
   "metadata": {},
   "outputs": [
    {
     "data": {
      "text/plain": [
       "51"
      ]
     },
     "execution_count": 111,
     "metadata": {},
     "output_type": "execute_result"
    }
   ],
   "source": [
    "np.argmax(outputs[0].detach().numpy()[0])"
   ]
  },
  {
   "cell_type": "code",
   "execution_count": 112,
   "metadata": {},
   "outputs": [
    {
     "data": {
      "text/plain": [
       "52"
      ]
     },
     "execution_count": 112,
     "metadata": {},
     "output_type": "execute_result"
    }
   ],
   "source": [
    "np.argmax(outputs[1].detach().numpy()[0])"
   ]
  },
  {
   "cell_type": "code",
   "execution_count": null,
   "metadata": {},
   "outputs": [],
   "source": []
  }
 ],
 "metadata": {
  "kernelspec": {
   "display_name": "dpr_env",
   "language": "python",
   "name": "dpr_env"
  },
  "language_info": {
   "codemirror_mode": {
    "name": "ipython",
    "version": 3
   },
   "file_extension": ".py",
   "mimetype": "text/x-python",
   "name": "python",
   "nbconvert_exporter": "python",
   "pygments_lexer": "ipython3",
   "version": "3.8.6"
  }
 },
 "nbformat": 4,
 "nbformat_minor": 4
}
