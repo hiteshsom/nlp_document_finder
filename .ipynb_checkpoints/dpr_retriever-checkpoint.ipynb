{
 "cells": [
  {
   "cell_type": "markdown",
   "metadata": {},
   "source": [
    "# DPR Retriever"
   ]
  },
  {
   "cell_type": "code",
   "execution_count": 1,
   "metadata": {},
   "outputs": [],
   "source": [
    "import os\n",
    "import re\n",
    "import glob\n",
    "import json\n",
    "\n",
    "import torch\n",
    "import jsonlines\n",
    "import pandas as pd\n",
    "import numpy as np\n",
    "from tqdm import tqdm\n",
    "from bs4 import BeautifulSoup\n",
    "import tensorflow_hub as hub\n",
    "\n",
    "import text_utils\n",
    "\n",
    "embed = hub.load(\"https://tfhub.dev/google/universal-sentence-encoder/4\")"
   ]
  },
  {
   "cell_type": "code",
   "execution_count": null,
   "metadata": {},
   "outputs": [],
   "source": []
  },
  {
   "cell_type": "markdown",
   "metadata": {},
   "source": [
    "## Read simplified Natural Questions data set (4GB one)"
   ]
  },
  {
   "cell_type": "code",
   "execution_count": 49,
   "metadata": {},
   "outputs": [
    {
     "name": "stdout",
     "output_type": "stream",
     "text": [
      "dict_keys(['document_text', 'long_answer_candidates', 'question_text', 'annotations', 'document_url', 'example_id'])\n",
      "dict_keys(['document_text', 'long_answer_candidates', 'question_text', 'annotations', 'document_url', 'example_id'])\n"
     ]
    }
   ],
   "source": [
    "with jsonlines.open('D:\\simplified-nq-train.jsonl') as reader:\n",
    "    i=0\n",
    "    for line in reader.iter():\n",
    "        print(line.keys())\n",
    "        question = line['question_text']\n",
    "        passage = line['document_text']\n",
    "        long_answer = line['long_answer_candidates']\n",
    "        i+=1\n",
    "        if i>=2:\n",
    "            break"
   ]
  },
  {
   "cell_type": "markdown",
   "metadata": {},
   "source": [
    "## Data Cleaning"
   ]
  },
  {
   "cell_type": "code",
   "execution_count": 50,
   "metadata": {},
   "outputs": [],
   "source": [
    "passage_list = BeautifulSoup(passage).find_all('p')\n",
    "passage_list = [p.text for p in passage_list] \n",
    "passage_list = [p.replace('<P>', '') for p in passage_list]\n",
    "passage_list = [p for p in passage_list if len(p)>2]"
   ]
  },
  {
   "cell_type": "code",
   "execution_count": 51,
   "metadata": {},
   "outputs": [],
   "source": [
    "# tags = ['<P>', '</P>', '<H1>', '</H1>', '<H2>', '</H2>','<H3>', '</H3>', '<H4>', '</H4>', '<H5>', '</H5>', '<H6>', '</H6>', '<Ul>', '</Ul>', '<Li>', '</Li>']"
   ]
  },
  {
   "cell_type": "code",
   "execution_count": 52,
   "metadata": {},
   "outputs": [],
   "source": [
    "passage_list = [\" \".join([p for p in passage_list[1:]])]"
   ]
  },
  {
   "cell_type": "code",
   "execution_count": 53,
   "metadata": {},
   "outputs": [],
   "source": [
    "passage_list = passage_list[0].split(\".\")"
   ]
  },
  {
   "cell_type": "code",
   "execution_count": 60,
   "metadata": {},
   "outputs": [],
   "source": [
    "embedded_passages = embed(passage_list)"
   ]
  },
  {
   "cell_type": "code",
   "execution_count": 61,
   "metadata": {},
   "outputs": [
    {
     "data": {
      "text/plain": [
       "'how i.met your mother who is the mother'"
      ]
     },
     "execution_count": 61,
     "metadata": {},
     "output_type": "execute_result"
    }
   ],
   "source": [
    "question"
   ]
  },
  {
   "cell_type": "code",
   "execution_count": 62,
   "metadata": {},
   "outputs": [],
   "source": [
    "embedded_question = embed([question])"
   ]
  },
  {
   "cell_type": "code",
   "execution_count": 63,
   "metadata": {},
   "outputs": [],
   "source": [
    "data = []\n",
    "for i, p_embeddings in enumerate(embedded_passages):\n",
    "    data.append([question, passage_list[i], np.dot(p_embeddings.numpy(), embedded_question.numpy().flatten())])\n",
    "\n",
    "df_similarity = pd.DataFrame(data=data, columns=['question', 'passage', 'similarity_score'])"
   ]
  },
  {
   "cell_type": "code",
   "execution_count": 64,
   "metadata": {},
   "outputs": [
    {
     "data": {
      "text/html": [
       "<div>\n",
       "<style scoped>\n",
       "    .dataframe tbody tr th:only-of-type {\n",
       "        vertical-align: middle;\n",
       "    }\n",
       "\n",
       "    .dataframe tbody tr th {\n",
       "        vertical-align: top;\n",
       "    }\n",
       "\n",
       "    .dataframe thead th {\n",
       "        text-align: right;\n",
       "    }\n",
       "</style>\n",
       "<table border=\"1\" class=\"dataframe\">\n",
       "  <thead>\n",
       "    <tr style=\"text-align: right;\">\n",
       "      <th></th>\n",
       "      <th>question</th>\n",
       "      <th>passage</th>\n",
       "      <th>similarity_score</th>\n",
       "    </tr>\n",
       "  </thead>\n",
       "  <tbody>\n",
       "    <tr>\n",
       "      <th>0</th>\n",
       "      <td>how i.met your mother who is the mother</td>\n",
       "      <td>'' , indirectly stating that The Mother is al...</td>\n",
       "      <td>0.506906</td>\n",
       "    </tr>\n",
       "    <tr>\n",
       "      <th>1</th>\n",
       "      <td>how i.met your mother who is the mother</td>\n",
       "      <td>'' In `` How Your Mother Met Me '' , it is re...</td>\n",
       "      <td>0.431260</td>\n",
       "    </tr>\n",
       "    <tr>\n",
       "      <th>2</th>\n",
       "      <td>how i.met your mother who is the mother</td>\n",
       "      <td>The Mother is played by Cristin Milioti</td>\n",
       "      <td>0.407675</td>\n",
       "    </tr>\n",
       "    <tr>\n",
       "      <th>3</th>\n",
       "      <td>how i.met your mother who is the mother</td>\n",
       "      <td>that , kids , is the true story of how I met ...</td>\n",
       "      <td>0.372473</td>\n",
       "    </tr>\n",
       "    <tr>\n",
       "      <th>4</th>\n",
       "      <td>how i.met your mother who is the mother</td>\n",
       "      <td>The Mother is first shown meeting Louis in ...</td>\n",
       "      <td>0.372035</td>\n",
       "    </tr>\n",
       "  </tbody>\n",
       "</table>\n",
       "</div>"
      ],
      "text/plain": [
       "                                  question  \\\n",
       "0  how i.met your mother who is the mother   \n",
       "1  how i.met your mother who is the mother   \n",
       "2  how i.met your mother who is the mother   \n",
       "3  how i.met your mother who is the mother   \n",
       "4  how i.met your mother who is the mother   \n",
       "\n",
       "                                             passage  similarity_score  \n",
       "0   '' , indirectly stating that The Mother is al...          0.506906  \n",
       "1   '' In `` How Your Mother Met Me '' , it is re...          0.431260  \n",
       "2           The Mother is played by Cristin Milioti           0.407675  \n",
       "3   that , kids , is the true story of how I met ...          0.372473  \n",
       "4     The Mother is first shown meeting Louis in ...          0.372035  "
      ]
     },
     "execution_count": 64,
     "metadata": {},
     "output_type": "execute_result"
    }
   ],
   "source": [
    "df_similarity = df_similarity.sort_values(by=['similarity_score'], ascending=False).reset_index(drop=True)\n",
    "df_similarity.head()"
   ]
  },
  {
   "cell_type": "code",
   "execution_count": 66,
   "metadata": {},
   "outputs": [
    {
     "name": "stdout",
     "output_type": "stream",
     "text": [
      " '' , indirectly stating that The Mother is alive \n",
      "\n",
      " '' In `` How Your Mother Met Me '' , it is revealed that , after Ted left the apartment , the Mother had discovered the umbrella and , upon going to question Cindy , finds her in a state \n",
      "\n",
      " The Mother is played by Cristin Milioti \n",
      "\n",
      " that , kids , is the true story of how I met your mother '' \n",
      "\n",
      "   The Mother is first shown meeting Louis in `` How Your Mother Met Me '' as she is left to carry the band equipment while the now - lead band member Darren talks to his fans \n",
      "\n",
      "   In `` How Your Mother Met Me '' , it is shown that after this incident , the Mother returns to Louis ' summer cottage not far from the Farhampton Inn where she has been staying for the duration of the wedding weekend \n",
      "\n",
      " At the same time in `` How Your Mother Met Me '' , the Mother sits her first session in Economics 305 and meets another graduate student named Cindy ( Rachel Bilson ) , whom she offers to move in with her as her roommate \n",
      "\n",
      " When I think how lucky I am to wake up next to your mom every morning , I ca n't help but be amazed how easy it all really was \n",
      "\n",
      " Tracy McConnell , better known as `` The Mother '' , is the title character from the CBS television sitcom How I Met Your Mother \n",
      "\n",
      " The Mother spends the next few years grieving the passing of the man she believes was her one true love \n",
      "\n"
     ]
    }
   ],
   "source": [
    "for i in range(10):\n",
    "    print(f\"{df_similarity.loc[i, 'passage']}\\n\")"
   ]
  },
  {
   "cell_type": "code",
   "execution_count": 16,
   "metadata": {},
   "outputs": [],
   "source": []
  },
  {
   "cell_type": "code",
   "execution_count": null,
   "metadata": {},
   "outputs": [],
   "source": []
  }
 ],
 "metadata": {
  "kernelspec": {
   "display_name": "env",
   "language": "python",
   "name": "env"
  },
  "language_info": {
   "codemirror_mode": {
    "name": "ipython",
    "version": 3
   },
   "file_extension": ".py",
   "mimetype": "text/x-python",
   "name": "python",
   "nbconvert_exporter": "python",
   "pygments_lexer": "ipython3",
   "version": "3.8.6"
  }
 },
 "nbformat": 4,
 "nbformat_minor": 4
}
