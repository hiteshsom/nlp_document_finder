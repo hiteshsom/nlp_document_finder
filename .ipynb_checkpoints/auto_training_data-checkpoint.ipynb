{
 "cells": [
  {
   "cell_type": "markdown",
   "metadata": {},
   "source": [
    "# Training data updation "
   ]
  },
  {
   "cell_type": "code",
   "execution_count": 1,
   "metadata": {},
   "outputs": [],
   "source": [
    "import os\n",
    "import pickle\n",
    "import json"
   ]
  },
  {
   "cell_type": "code",
   "execution_count": 2,
   "metadata": {},
   "outputs": [
    {
     "data": {
      "text/plain": [
       "'C:\\\\Users\\\\Hitesh Somani\\\\Documents\\\\hobby_projects\\\\nlp_document_finder\\\\nlp_document_finder'"
      ]
     },
     "execution_count": 2,
     "metadata": {},
     "output_type": "execute_result"
    }
   ],
   "source": [
    "os.getcwd()"
   ]
  },
  {
   "cell_type": "code",
   "execution_count": 3,
   "metadata": {},
   "outputs": [],
   "source": [
    "# Directory of in your PC\n",
    "DIRECTORY = os.getcwd()"
   ]
  },
  {
   "cell_type": "code",
   "execution_count": 4,
   "metadata": {},
   "outputs": [],
   "source": [
    "# Function to find a new create file \n",
    "def absoluteFilePaths(directory):\n",
    "    path = []\n",
    "    files = []\n",
    "    for dirpath, dirname, filenames in os.walk(directory):\n",
    "        for f in filenames:\n",
    "            if not os.path.basename(dirpath).startswith('.'):\n",
    "                path.append(dirpath)\n",
    "                files.append(f)\n",
    "            \n",
    "    return path, files\n",
    "\n",
    "if os.path.exists(os.path.join(DIRECTORY, 'trained_documents.pickle')):\n",
    "    trained_locations = pickle.load(open(os.path.join(DIRECTORY, 'trained_locations.pickle'), \"rb\"))\n",
    "    trained_documents = pickle.load(open(os.path.join(DIRECTORY, 'trained_documents.pickle'), \"rb\"))\n",
    "    trained_paths = [os.path.join(loc, doc) for loc, doc in zip(trained_locations, trained_documents)]\n",
    "else:\n",
    "    trained_locations = []\n",
    "    trained_documents = []\n",
    "    trained_paths = []\n",
    "\n",
    "locations, documents = absoluteFilePaths(os.path.join(DIRECTORY, 'Google'))\n",
    "paths = [os.path.join(loc, doc) for loc, doc in zip(locations, documents)]\n",
    "\n",
    "for doc in documents:\n",
    "    if not doc in trained_documents:\n",
    "        pickle.dump(locations, open(os.path.join(DIRECTORY, 'trained_locations.pickle'),\"wb\"))\n",
    "        pickle.dump(documents, open(os.path.join(DIRECTORY, 'trained_documents.pickle'), \"wb\"))\n",
    "        break;\n",
    "        "
   ]
  },
  {
   "cell_type": "code",
   "execution_count": 5,
   "metadata": {},
   "outputs": [
    {
     "data": {
      "text/plain": [
       "['C:\\\\Users\\\\Hitesh Somani\\\\Documents\\\\hobby_projects\\\\nlp_document_finder\\\\nlp_document_finder\\\\Google\\\\marketing\\\\google-home.docx',\n",
       " 'C:\\\\Users\\\\Hitesh Somani\\\\Documents\\\\hobby_projects\\\\nlp_document_finder\\\\nlp_document_finder\\\\Google\\\\marketing\\\\kaggle.docx',\n",
       " 'C:\\\\Users\\\\Hitesh Somani\\\\Documents\\\\hobby_projects\\\\nlp_document_finder\\\\nlp_document_finder\\\\Google\\\\marketing\\\\marketing apple.docx',\n",
       " 'C:\\\\Users\\\\Hitesh Somani\\\\Documents\\\\hobby_projects\\\\nlp_document_finder\\\\nlp_document_finder\\\\Google\\\\marketing\\\\marketing_1.docx',\n",
       " 'C:\\\\Users\\\\Hitesh Somani\\\\Documents\\\\hobby_projects\\\\nlp_document_finder\\\\nlp_document_finder\\\\Google\\\\marketing\\\\marketing_apple.docx',\n",
       " 'C:\\\\Users\\\\Hitesh Somani\\\\Documents\\\\hobby_projects\\\\nlp_document_finder\\\\nlp_document_finder\\\\Google\\\\marketing\\\\marketing_copy.docx',\n",
       " 'C:\\\\Users\\\\Hitesh Somani\\\\Documents\\\\hobby_projects\\\\nlp_document_finder\\\\nlp_document_finder\\\\Google\\\\marketing\\\\marketing_copy_copy.docx',\n",
       " 'C:\\\\Users\\\\Hitesh Somani\\\\Documents\\\\hobby_projects\\\\nlp_document_finder\\\\nlp_document_finder\\\\Google\\\\marketing\\\\pixel.docx',\n",
       " 'C:\\\\Users\\\\Hitesh Somani\\\\Documents\\\\hobby_projects\\\\nlp_document_finder\\\\nlp_document_finder\\\\Google\\\\research\\\\computer_vision.pdf',\n",
       " 'C:\\\\Users\\\\Hitesh Somani\\\\Documents\\\\hobby_projects\\\\nlp_document_finder\\\\nlp_document_finder\\\\Google\\\\research\\\\nlp.pdf',\n",
       " 'C:\\\\Users\\\\Hitesh Somani\\\\Documents\\\\hobby_projects\\\\nlp_document_finder\\\\nlp_document_finder\\\\Google\\\\research\\\\quantum_computing.pdf',\n",
       " 'C:\\\\Users\\\\Hitesh Somani\\\\Documents\\\\hobby_projects\\\\nlp_document_finder\\\\nlp_document_finder\\\\Google\\\\sales\\\\ad_words.xlsx',\n",
       " 'C:\\\\Users\\\\Hitesh Somani\\\\Documents\\\\hobby_projects\\\\nlp_document_finder\\\\nlp_document_finder\\\\Google\\\\sales\\\\pixel.xlsx',\n",
       " 'C:\\\\Users\\\\Hitesh Somani\\\\Documents\\\\hobby_projects\\\\nlp_document_finder\\\\nlp_document_finder\\\\Google\\\\sales\\\\search_history.xlsx']"
      ]
     },
     "execution_count": 5,
     "metadata": {},
     "output_type": "execute_result"
    }
   ],
   "source": [
    "paths"
   ]
  },
  {
   "cell_type": "code",
   "execution_count": 6,
   "metadata": {},
   "outputs": [
    {
     "data": {
      "text/plain": [
       "['C:\\\\Users\\\\Hitesh Somani\\\\Documents\\\\hobby_projects\\\\nlp_document_finder\\\\nlp_document_finder\\\\Google\\\\marketing',\n",
       " 'C:\\\\Users\\\\Hitesh Somani\\\\Documents\\\\hobby_projects\\\\nlp_document_finder\\\\nlp_document_finder\\\\Google\\\\marketing',\n",
       " 'C:\\\\Users\\\\Hitesh Somani\\\\Documents\\\\hobby_projects\\\\nlp_document_finder\\\\nlp_document_finder\\\\Google\\\\marketing',\n",
       " 'C:\\\\Users\\\\Hitesh Somani\\\\Documents\\\\hobby_projects\\\\nlp_document_finder\\\\nlp_document_finder\\\\Google\\\\marketing',\n",
       " 'C:\\\\Users\\\\Hitesh Somani\\\\Documents\\\\hobby_projects\\\\nlp_document_finder\\\\nlp_document_finder\\\\Google\\\\marketing',\n",
       " 'C:\\\\Users\\\\Hitesh Somani\\\\Documents\\\\hobby_projects\\\\nlp_document_finder\\\\nlp_document_finder\\\\Google\\\\marketing',\n",
       " 'C:\\\\Users\\\\Hitesh Somani\\\\Documents\\\\hobby_projects\\\\nlp_document_finder\\\\nlp_document_finder\\\\Google\\\\marketing',\n",
       " 'C:\\\\Users\\\\Hitesh Somani\\\\Documents\\\\hobby_projects\\\\nlp_document_finder\\\\nlp_document_finder\\\\Google\\\\marketing',\n",
       " 'C:\\\\Users\\\\Hitesh Somani\\\\Documents\\\\hobby_projects\\\\nlp_document_finder\\\\nlp_document_finder\\\\Google\\\\research',\n",
       " 'C:\\\\Users\\\\Hitesh Somani\\\\Documents\\\\hobby_projects\\\\nlp_document_finder\\\\nlp_document_finder\\\\Google\\\\research',\n",
       " 'C:\\\\Users\\\\Hitesh Somani\\\\Documents\\\\hobby_projects\\\\nlp_document_finder\\\\nlp_document_finder\\\\Google\\\\research',\n",
       " 'C:\\\\Users\\\\Hitesh Somani\\\\Documents\\\\hobby_projects\\\\nlp_document_finder\\\\nlp_document_finder\\\\Google\\\\sales',\n",
       " 'C:\\\\Users\\\\Hitesh Somani\\\\Documents\\\\hobby_projects\\\\nlp_document_finder\\\\nlp_document_finder\\\\Google\\\\sales',\n",
       " 'C:\\\\Users\\\\Hitesh Somani\\\\Documents\\\\hobby_projects\\\\nlp_document_finder\\\\nlp_document_finder\\\\Google\\\\sales']"
      ]
     },
     "execution_count": 6,
     "metadata": {},
     "output_type": "execute_result"
    }
   ],
   "source": [
    "locations"
   ]
  },
  {
   "cell_type": "code",
   "execution_count": 7,
   "metadata": {},
   "outputs": [],
   "source": [
    "# This code finds the new files and rewrites the whole training data\n",
    "if os.path.exists(os.path.join(DIRECTORY, 'data','train2.json')):\n",
    "    with open(os.path.join(DIRECTORY, 'data', 'train2.json')) as json_file:\n",
    "        data = json.load(json_file)\n",
    "\n",
    "else:\n",
    "    data = {}\n",
    "    data['intents'] = []\n",
    "\n",
    "\n",
    "\n",
    "for loc, doc, path in zip(locations, documents, paths):\n",
    "    if not path in trained_paths:\n",
    "        data['intents'].append({\n",
    "            \"label\": os.path.basename(loc) + '_' + str(doc).split('.')[0],                                                                   \n",
    "            \"train_data\": [f\"give me {' '.join(''.join((char if char.isalpha() else ' ') for char in doc).split()[:-1])} {os.path.basename(loc)} report\", \n",
    "                           f\"open {' '.join(''.join((char if char.isalpha() else ' ') for char in doc).split()[:-1])} {os.path.basename(loc)} report\", \n",
    "                           f\"show me {' '.join(''.join((char if char.isalpha() else ' ') for char in doc).split()[:-1])} {os.path.basename(loc)} report\", \n",
    "                           f\"display {' '.join(''.join((char if char.isalpha() else ' ') for char in doc).split()[:-1])} {os.path.basename(loc)} report\", \n",
    "                           f\"please open {' '.join(''.join((char if char.isalpha() else ' ') for char in doc).split()[:-1])} {os.path.basename(loc)} report\",\n",
    "                           f\"give me {' '.join(''.join((char if char.isalpha() else ' ') for char in doc).split()[:-1])} {os.path.basename(loc)} document\", \n",
    "                           f\"open {' '.join(''.join((char if char.isalpha() else ' ') for char in doc).split()[:-1])} {os.path.basename(loc)} document\", \n",
    "                           f\"show me {' '.join(''.join((char if char.isalpha() else ' ') for char in doc).split()[:-1])} {os.path.basename(loc)} document\", \n",
    "                           f\"display {' '.join(''.join((char if char.isalpha() else ' ') for char in doc).split()[:-1])} {os.path.basename(loc)} document\", \n",
    "                           f\"please open {' '.join(''.join((char if char.isalpha() else ' ') for char in doc).split()[:-1])} {os.path.basename(loc)} report\",\n",
    "                           f\"give me {' '.join(''.join((char if char.isalpha() else ' ') for char in doc).split()[:-1])} {os.path.basename(loc)} file\", \n",
    "                           f\"open {' '.join(''.join((char if char.isalpha() else ' ') for char in doc).split()[:-1])} {os.path.basename(loc)} file\", \n",
    "                           f\"show me {' '.join(''.join((char if char.isalpha() else ' ') for char in doc).split()[:-1])} {os.path.basename(loc)} file\", \n",
    "                           f\"display {' '.join(''.join((char if char.isalpha() else ' ') for char in doc).split()[:-1])} {os.path.basename(loc)} file\", \n",
    "                           f\"please open {' '.join(''.join((char if char.isalpha() else ' ') for char in doc).split()[:-1])} {os.path.basename(loc)} file\"],\n",
    "            \"responses\": [os.path.join(loc, doc)],\n",
    "            \"context_set\": \"\"\n",
    "            })\n",
    "\n",
    "        \n",
    "with open(os.path.join(DIRECTORY, 'data', 'train2.json'), 'w') as outfile:\n",
    "    json.dump(data, outfile)"
   ]
  },
  {
   "cell_type": "code",
   "execution_count": null,
   "metadata": {},
   "outputs": [],
   "source": []
  },
  {
   "cell_type": "markdown",
   "metadata": {},
   "source": [
    "## After running the above we can run the `train.ipynb` and generate an updated model."
   ]
  },
  {
   "cell_type": "code",
   "execution_count": null,
   "metadata": {},
   "outputs": [],
   "source": []
  }
 ],
 "metadata": {
  "environment": {
   "name": "common-cpu.m49",
   "type": "gcloud",
   "uri": "gcr.io/deeplearning-platform-release/base-cpu:m49"
  },
  "kernelspec": {
   "display_name": "Python 3",
   "language": "python",
   "name": "python3"
  },
  "language_info": {
   "codemirror_mode": {
    "name": "ipython",
    "version": 3
   },
   "file_extension": ".py",
   "mimetype": "text/x-python",
   "name": "python",
   "nbconvert_exporter": "python",
   "pygments_lexer": "ipython3",
   "version": "3.8.4"
  }
 },
 "nbformat": 4,
 "nbformat_minor": 4
}
